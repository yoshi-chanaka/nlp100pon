{
 "cells": [
  {
   "cell_type": "markdown",
   "metadata": {
    "id": "VMWaEVKFhO3e"
   },
   "source": [
    "## 60"
   ]
  },
  {
   "cell_type": "code",
   "execution_count": 1,
   "metadata": {
    "executionInfo": {
     "elapsed": 51310,
     "status": "ok",
     "timestamp": 1645070797823,
     "user": {
      "displayName": "田中義規",
      "photoUrl": "https://lh3.googleusercontent.com/a/default-user=s64",
      "userId": "03358882541309422843"
     },
     "user_tz": -540
    },
    "id": "qJ5S1_hSjyPm"
   },
   "outputs": [
    {
     "ename": "ModuleNotFoundError",
     "evalue": "No module named 'gensim'",
     "output_type": "error",
     "traceback": [
      "\u001b[1;31m---------------------------------------------------------------------------\u001b[0m",
      "\u001b[1;31mModuleNotFoundError\u001b[0m                       Traceback (most recent call last)",
      "\u001b[1;32m~\\AppData\\Local\\Temp/ipykernel_904/4233327867.py\u001b[0m in \u001b[0;36m<module>\u001b[1;34m\u001b[0m\n\u001b[1;32m----> 1\u001b[1;33m \u001b[1;32mfrom\u001b[0m \u001b[0mgensim\u001b[0m\u001b[1;33m.\u001b[0m\u001b[0mmodels\u001b[0m \u001b[1;32mimport\u001b[0m \u001b[0mKeyedVectors\u001b[0m\u001b[1;33m\u001b[0m\u001b[1;33m\u001b[0m\u001b[0m\n\u001b[0m\u001b[0;32m      2\u001b[0m \u001b[0mpath\u001b[0m \u001b[1;33m=\u001b[0m \u001b[1;34m'../data/GoogleNews-vectors-negative300.bin'\u001b[0m\u001b[1;33m\u001b[0m\u001b[1;33m\u001b[0m\u001b[0m\n\u001b[0;32m      3\u001b[0m \u001b[0mmodel\u001b[0m \u001b[1;33m=\u001b[0m \u001b[0mKeyedVectors\u001b[0m\u001b[1;33m.\u001b[0m\u001b[0mload_word2vec_format\u001b[0m\u001b[1;33m(\u001b[0m\u001b[0mpath\u001b[0m\u001b[1;33m,\u001b[0m \u001b[0mbinary\u001b[0m\u001b[1;33m=\u001b[0m\u001b[1;32mTrue\u001b[0m\u001b[1;33m)\u001b[0m\u001b[1;33m\u001b[0m\u001b[1;33m\u001b[0m\u001b[0m\n",
      "\u001b[1;31mModuleNotFoundError\u001b[0m: No module named 'gensim'"
     ]
    }
   ],
   "source": [
    "from gensim.models import KeyedVectors\n",
    "\n",
    "path = '../data/GoogleNews-vectors-negative300.bin'\n",
    "model = KeyedVectors.load_word2vec_format(path, binary=True)"
   ]
  },
  {
   "cell_type": "code",
   "execution_count": 2,
   "metadata": {},
   "outputs": [
    {
     "ename": "ModuleNotFoundError",
     "evalue": "No module named 'gensim'",
     "output_type": "error",
     "traceback": [
      "\u001b[1;31m---------------------------------------------------------------------------\u001b[0m",
      "\u001b[1;31mModuleNotFoundError\u001b[0m                       Traceback (most recent call last)",
      "\u001b[1;32m~\\AppData\\Local\\Temp/ipykernel_904/1427573704.py\u001b[0m in \u001b[0;36m<module>\u001b[1;34m\u001b[0m\n\u001b[1;32m----> 1\u001b[1;33m \u001b[1;32mimport\u001b[0m \u001b[0mgensim\u001b[0m\u001b[1;33m\u001b[0m\u001b[1;33m\u001b[0m\u001b[0m\n\u001b[0m",
      "\u001b[1;31mModuleNotFoundError\u001b[0m: No module named 'gensim'"
     ]
    }
   ],
   "source": [
    "import gensim"
   ]
  },
  {
   "cell_type": "code",
   "execution_count": 5,
   "metadata": {
    "colab": {
     "base_uri": "https://localhost:8080/"
    },
    "executionInfo": {
     "elapsed": 29,
     "status": "ok",
     "timestamp": 1645070797824,
     "user": {
      "displayName": "田中義規",
      "photoUrl": "https://lh3.googleusercontent.com/a/default-user=s64",
      "userId": "03358882541309422843"
     },
     "user_tz": -540
    },
    "id": "l6JPv8aCmhoe",
    "outputId": "05402be0-8388-4c3b-b792-90fa596e03a3"
   },
   "outputs": [
    {
     "name": "stdout",
     "output_type": "stream",
     "text": [
      "[-0.03613 -0.04834  0.23535  0.1748  -0.14648 -0.07422 -0.10156 -0.07715\n",
      "  0.10938 -0.05713 -0.14844 -0.06006  0.1748  -0.07715  0.02588 -0.07666\n",
      " -0.03809  0.13574  0.0376  -0.04199 -0.03564  0.05347  0.00037 -0.16699\n",
      " -0.11719  0.1416  -0.16992 -0.06494 -0.16699  0.10059  0.11572 -0.21875\n",
      " -0.09863 -0.02563  0.12305 -0.0354  -0.1582  -0.16016  0.02942  0.08154\n",
      "  0.06885  0.1875   0.06494  0.11523 -0.02271  0.33203 -0.03271  0.17773\n",
      " -0.20801  0.04541 -0.01239  0.11963  0.00745 -0.00903  0.11426  0.16992\n",
      " -0.23828 -0.02795 -0.12109  0.02478  0.07715 -0.0282  -0.04712  0.01782\n",
      " -0.12305 -0.05322  0.02686 -0.03113 -0.05591 -0.05005 -0.03735  0.12598\n",
      "  0.05615  0.15137  0.04297 -0.20801 -0.04785  0.02783  0.18164  0.2207\n",
      " -0.03613 -0.08398 -0.00004 -0.09521 -0.125   -0.19531 -0.15039 -0.0415\n",
      "  0.13184  0.11768  0.01917  0.05518 -0.09424 -0.10889  0.07324 -0.11523\n",
      "  0.08936 -0.14062  0.14551  0.04492 -0.01105 -0.01624  0.00406  0.0376\n",
      " -0.06982 -0.05469  0.02173 -0.09473  0.04248  0.01819 -0.01733  0.04639\n",
      " -0.14258  0.19922  0.11084  0.02588 -0.0708  -0.05542  0.3457   0.16113\n",
      " -0.24414 -0.25977 -0.09717  0.08008 -0.08789 -0.07227  0.14258 -0.08545\n",
      " -0.31836  0.08301  0.06348  0.16406 -0.19238 -0.11768 -0.0542  -0.15625\n",
      " -0.12158 -0.04956  0.12012 -0.03833  0.05518 -0.00897  0.04321  0.06934\n",
      "  0.08936  0.25391  0.16504  0.16406 -0.1416   0.0459   0.19727 -0.08984\n",
      "  0.03906 -0.15137 -0.00861 -0.11768 -0.19727 -0.11279  0.12988  0.19629\n",
      "  0.00156  0.03931  0.21777 -0.14355  0.0603  -0.13574  0.11621 -0.01599\n",
      "  0.2793   0.14648 -0.11963  0.17676  0.12891 -0.14941  0.06934 -0.17285\n",
      "  0.09229  0.01331 -0.2002  -0.09766 -0.16504 -0.24609 -0.02356 -0.21191\n",
      "  0.18457 -0.01855  0.2168   0.05054  0.02026  0.42578  0.12891 -0.02771\n",
      "  0.12988 -0.11572 -0.02051  0.14941  0.00781 -0.20508 -0.08057 -0.26758\n",
      " -0.02295 -0.08203  0.08643  0.07617 -0.03662  0.05225 -0.12207 -0.0144\n",
      " -0.26953  0.08447 -0.02527 -0.02966 -0.16895  0.19336 -0.1084   0.01941\n",
      " -0.18066  0.19336 -0.0708   0.05859 -0.10156 -0.13184  0.0752  -0.07666\n",
      "  0.00337 -0.08594  0.125    0.0293   0.1709  -0.09375 -0.10938 -0.02502\n",
      "  0.21191 -0.04443  0.06128  0.02625 -0.17773  0.12305 -0.07422 -0.16797\n",
      " -0.10889 -0.0009  -0.07373  0.05493  0.0603   0.08398  0.0918  -0.13281\n",
      "  0.12207 -0.00879  0.11914 -0.19434 -0.06641 -0.20703  0.07373  0.08936\n",
      "  0.01819 -0.12061 -0.02612  0.02673  0.07764 -0.08301  0.06787 -0.0354\n",
      "  0.31055 -0.02429 -0.1416  -0.20801 -0.00458 -0.06543 -0.04956  0.22266\n",
      "  0.15332 -0.13867 -0.05249  0.04248 -0.23828  0.15625  0.00058 -0.12061\n",
      " -0.09229 -0.04443  0.03613 -0.01868 -0.08252 -0.08252 -0.04053  0.0119\n",
      "  0.16992 -0.02808  0.00304  0.09326 -0.08496  0.01575  0.07031  0.01624\n",
      " -0.02271  0.03516  0.24707 -0.02673]\n"
     ]
    }
   ],
   "source": [
    "import numpy as np\n",
    "usa = model['United_States']\n",
    "np.set_printoptions(suppress=True, precision=5)\n",
    "print(usa)"
   ]
  },
  {
   "cell_type": "markdown",
   "metadata": {
    "id": "3xu-jyKR1Zs7"
   },
   "source": [
    "## 61"
   ]
  },
  {
   "cell_type": "code",
   "execution_count": 6,
   "metadata": {
    "colab": {
     "base_uri": "https://localhost:8080/"
    },
    "executionInfo": {
     "elapsed": 25,
     "status": "ok",
     "timestamp": 1645070797824,
     "user": {
      "displayName": "田中義規",
      "photoUrl": "https://lh3.googleusercontent.com/a/default-user=s64",
      "userId": "03358882541309422843"
     },
     "user_tz": -540
    },
    "id": "ZNIMRfiU1OW7",
    "outputId": "4682d3df-939d-4d1d-d274-fa31b5d13279"
   },
   "outputs": [
    {
     "name": "stdout",
     "output_type": "stream",
     "text": [
      "0.73107743\n"
     ]
    }
   ],
   "source": [
    "print(model.similarity('United_States', 'U.S.'))"
   ]
  },
  {
   "cell_type": "markdown",
   "metadata": {
    "id": "jnYJ5LzZ1arZ"
   },
   "source": [
    "## 62"
   ]
  },
  {
   "cell_type": "code",
   "execution_count": 7,
   "metadata": {
    "colab": {
     "base_uri": "https://localhost:8080/",
     "height": 271
    },
    "executionInfo": {
     "elapsed": 12410,
     "status": "ok",
     "timestamp": 1645070810215,
     "user": {
      "displayName": "田中義規",
      "photoUrl": "https://lh3.googleusercontent.com/a/default-user=s64",
      "userId": "03358882541309422843"
     },
     "user_tz": -540
    },
    "id": "wtyi7VPhj7Ms",
    "outputId": "e64f6e47-9841-4004-e3bf-c032e33f0960"
   },
   "outputs": [
    {
     "name": "stdout",
     "output_type": "stream",
     "text": [
      "('Unites_States', 0.7877248525619507)\n",
      "('Untied_States', 0.7541370391845703)\n",
      "('United_Sates', 0.74007248878479)\n",
      "('U.S.', 0.7310774326324463)\n",
      "('theUnited_States', 0.6404393911361694)\n",
      "('America', 0.6178410053253174)\n",
      "('UnitedStates', 0.6167312264442444)\n",
      "('Europe', 0.6132988929748535)\n",
      "('countries', 0.6044804453849792)\n",
      "('Canada', 0.6019070148468018)\n"
     ]
    },
    {
     "data": {
      "application/vnd.google.colaboratory.intrinsic+json": {
       "type": "string"
      },
      "text/plain": [
       "\"\\n('Unites_States', 0.7877248525619507)\\n('Untied_States', 0.7541370391845703)\\n('United_Sates', 0.74007248878479)\\n('U.S.', 0.7310774326324463)\\n('theUnited_States', 0.6404393911361694)\\n('America', 0.6178410053253174)\\n('UnitedStates', 0.6167312264442444)\\n('Europe', 0.6132988929748535)\\n('countries', 0.6044804453849792)\\n('Canada', 0.6019070148468018)\\n\""
      ]
     },
     "execution_count": 7,
     "metadata": {},
     "output_type": "execute_result"
    }
   ],
   "source": [
    "results = model.most_similar(positive=['United_States'], negative=[], topn=10)\n",
    "for result in results:\n",
    "    print(result)\n",
    "\"\"\"\n",
    "('Unites_States', 0.7877248525619507)\n",
    "('Untied_States', 0.7541370391845703)\n",
    "('United_Sates', 0.74007248878479)\n",
    "('U.S.', 0.7310774326324463)\n",
    "('theUnited_States', 0.6404393911361694)\n",
    "('America', 0.6178410053253174)\n",
    "('UnitedStates', 0.6167312264442444)\n",
    "('Europe', 0.6132988929748535)\n",
    "('countries', 0.6044804453849792)\n",
    "('Canada', 0.6019070148468018)\n",
    "\"\"\""
   ]
  },
  {
   "cell_type": "code",
   "execution_count": 7,
   "metadata": {
    "executionInfo": {
     "elapsed": 267,
     "status": "ok",
     "timestamp": 1645070821134,
     "user": {
      "displayName": "田中義規",
      "photoUrl": "https://lh3.googleusercontent.com/a/default-user=s64",
      "userId": "03358882541309422843"
     },
     "user_tz": -540
    },
    "id": "EQqeAEUwjy6c"
   },
   "outputs": [],
   "source": []
  },
  {
   "cell_type": "markdown",
   "metadata": {
    "id": "bkZ-Yq1ruEpl"
   },
   "source": [
    "## 63"
   ]
  },
  {
   "cell_type": "code",
   "execution_count": 8,
   "metadata": {
    "colab": {
     "base_uri": "https://localhost:8080/",
     "height": 271
    },
    "executionInfo": {
     "elapsed": 628,
     "status": "ok",
     "timestamp": 1645070823644,
     "user": {
      "displayName": "田中義規",
      "photoUrl": "https://lh3.googleusercontent.com/a/default-user=s64",
      "userId": "03358882541309422843"
     },
     "user_tz": -540
    },
    "id": "vsfVT27Jjy8-",
    "outputId": "103bb483-37eb-4cf3-9baf-0bf89937100c"
   },
   "outputs": [
    {
     "name": "stdout",
     "output_type": "stream",
     "text": [
      "('Greece', 0.6898481249809265)\n",
      "('Aristeidis_Grigoriadis', 0.5606848001480103)\n",
      "('Ioannis_Drymonakos', 0.5552908778190613)\n",
      "('Greeks', 0.545068621635437)\n",
      "('Ioannis_Christou', 0.5400862693786621)\n",
      "('Hrysopiyi_Devetzi', 0.5248444676399231)\n",
      "('Heraklio', 0.5207759737968445)\n",
      "('Athens_Greece', 0.516880989074707)\n",
      "('Lithuania', 0.5166866183280945)\n",
      "('Iraklion', 0.5146791934967041)\n"
     ]
    },
    {
     "data": {
      "application/vnd.google.colaboratory.intrinsic+json": {
       "type": "string"
      },
      "text/plain": [
       "\"\\n('Greece', 0.6898481249809265)\\n('Aristeidis_Grigoriadis', 0.5606848001480103)\\n('Ioannis_Drymonakos', 0.5552908778190613)\\n('Greeks', 0.545068621635437)\\n('Ioannis_Christou', 0.5400862693786621)\\n('Hrysopiyi_Devetzi', 0.5248444676399231)\\n('Heraklio', 0.5207759737968445)\\n('Athens_Greece', 0.516880989074707)\\n('Lithuania', 0.5166866183280945)\\n('Iraklion', 0.5146791934967041)\\n\""
      ]
     },
     "execution_count": 8,
     "metadata": {},
     "output_type": "execute_result"
    }
   ],
   "source": [
    "results = model.most_similar(positive=['Spain', 'Athens'], negative=['Madrid'], topn=10)\n",
    "for result in results:\n",
    "    print(result)\n",
    "\n",
    "\"\"\"\n",
    "('Greece', 0.6898481249809265)\n",
    "('Aristeidis_Grigoriadis', 0.5606848001480103)\n",
    "('Ioannis_Drymonakos', 0.5552908778190613)\n",
    "('Greeks', 0.545068621635437)\n",
    "('Ioannis_Christou', 0.5400862693786621)\n",
    "('Hrysopiyi_Devetzi', 0.5248444676399231)\n",
    "('Heraklio', 0.5207759737968445)\n",
    "('Athens_Greece', 0.516880989074707)\n",
    "('Lithuania', 0.5166866183280945)\n",
    "('Iraklion', 0.5146791934967041)\n",
    "\"\"\""
   ]
  },
  {
   "cell_type": "markdown",
   "metadata": {
    "id": "7zmQPhETuUnM"
   },
   "source": [
    "## 64"
   ]
  },
  {
   "cell_type": "code",
   "execution_count": 9,
   "metadata": {
    "colab": {
     "base_uri": "https://localhost:8080/"
    },
    "executionInfo": {
     "elapsed": 934,
     "status": "ok",
     "timestamp": 1645070832568,
     "user": {
      "displayName": "田中義規",
      "photoUrl": "https://lh3.googleusercontent.com/a/default-user=s64",
      "userId": "03358882541309422843"
     },
     "user_tz": -540
    },
    "id": "_sSFjZQ3jy_E",
    "outputId": "39ff6348-6c2a-4967-fee0-2673e3211204"
   },
   "outputs": [
    {
     "name": "stdout",
     "output_type": "stream",
     "text": [
      "--2022-02-17 04:07:11--  http://download.tensorflow.org/data/questions-words.txt\n",
      "Resolving download.tensorflow.org (download.tensorflow.org)... 142.250.141.128, 2607:f8b0:4023:c0b::80\n",
      "Connecting to download.tensorflow.org (download.tensorflow.org)|142.250.141.128|:80... connected.\n",
      "HTTP request sent, awaiting response... 200 OK\n",
      "Length: 603955 (590K) [text/plain]\n",
      "Saving to: ‘questions-words.txt’\n",
      "\n",
      "questions-words.txt 100%[===================>] 589.80K  --.-KB/s    in 0.003s  \n",
      "\n",
      "2022-02-17 04:07:11 (224 MB/s) - ‘questions-words.txt’ saved [603955/603955]\n",
      "\n"
     ]
    }
   ],
   "source": [
    "!wget http://download.tensorflow.org/data/questions-words.txt"
   ]
  },
  {
   "cell_type": "code",
   "execution_count": 10,
   "metadata": {
    "colab": {
     "base_uri": "https://localhost:8080/"
    },
    "executionInfo": {
     "elapsed": 618,
     "status": "ok",
     "timestamp": 1645070833184,
     "user": {
      "displayName": "田中義規",
      "photoUrl": "https://lh3.googleusercontent.com/a/default-user=s64",
      "userId": "03358882541309422843"
     },
     "user_tz": -540
    },
    "id": "OW-h1cjHjzIw",
    "outputId": "a557b8ba-4ea3-4450-8fb3-c5c227c38c75"
   },
   "outputs": [
    {
     "name": "stdout",
     "output_type": "stream",
     "text": [
      ": capital-common-countries\n",
      "Athens Greece Baghdad Iraq\n",
      "Athens Greece Bangkok Thailand\n",
      "Athens Greece Beijing China\n",
      "Athens Greece Berlin Germany\n",
      "Athens Greece Bern Switzerland\n",
      "Athens Greece Cairo Egypt\n",
      "Athens Greece Canberra Australia\n",
      "Athens Greece Hanoi Vietnam\n",
      "Athens Greece Havana Cuba\n",
      "19558 questions-words.txt\n"
     ]
    }
   ],
   "source": [
    "!head questions-words.txt\n",
    "!wc -l questions-words.txt"
   ]
  },
  {
   "cell_type": "code",
   "execution_count": 47,
   "metadata": {
    "colab": {
     "base_uri": "https://localhost:8080/"
    },
    "executionInfo": {
     "elapsed": 377,
     "status": "ok",
     "timestamp": 1645078848200,
     "user": {
      "displayName": "田中義規",
      "photoUrl": "https://lh3.googleusercontent.com/a/default-user=s64",
      "userId": "03358882541309422843"
     },
     "user_tz": -540
    },
    "id": "a1VhmVGZSosg",
    "outputId": "a7ecb2e3-19ba-47b7-a9a4-e94a25ddd468"
   },
   "outputs": [
    {
     "name": "stdout",
     "output_type": "stream",
     "text": [
      "capital-common-countries\n",
      "Athens Greece Baghdad Iraq\n",
      "Athens Greece Bangkok Thailand\n",
      "Athens Greece Beijing China\n",
      "Athens Greece Berlin Germany\n",
      "Athens Greece Bern Switzerland\n",
      "\n",
      "capital-world\n",
      "Abuja Nigeria Accra Ghana\n",
      "Abuja Nigeria Algiers Algeria\n",
      "Abuja Nigeria Amman Jordan\n",
      "Abuja Nigeria Ankara Turkey\n",
      "Abuja Nigeria Antananarivo Madagascar\n",
      "\n",
      "currency\n",
      "Algeria dinar Angola kwanza\n",
      "Algeria dinar Argentina peso\n",
      "Algeria dinar Armenia dram\n",
      "Algeria dinar Brazil real\n",
      "Algeria dinar Bulgaria lev\n",
      "\n",
      "city-in-state\n",
      "Chicago Illinois Houston Texas\n",
      "Chicago Illinois Philadelphia Pennsylvania\n",
      "Chicago Illinois Phoenix Arizona\n",
      "Chicago Illinois Dallas Texas\n",
      "Chicago Illinois Jacksonville Florida\n",
      "\n",
      "family\n",
      "boy girl brother sister\n",
      "boy girl brothers sisters\n",
      "boy girl dad mom\n",
      "boy girl father mother\n",
      "boy girl grandfather grandmother\n",
      "\n",
      "gram1-adjective-to-adverb\n",
      "amazing amazingly apparent apparently\n",
      "amazing amazingly calm calmly\n",
      "amazing amazingly cheerful cheerfully\n",
      "amazing amazingly complete completely\n",
      "amazing amazingly efficient efficiently\n",
      "\n",
      "gram2-opposite\n",
      "acceptable unacceptable aware unaware\n",
      "acceptable unacceptable certain uncertain\n",
      "acceptable unacceptable clear unclear\n",
      "acceptable unacceptable comfortable uncomfortable\n",
      "acceptable unacceptable competitive uncompetitive\n",
      "\n",
      "gram3-comparative\n",
      "bad worse big bigger\n",
      "bad worse bright brighter\n",
      "bad worse cheap cheaper\n",
      "bad worse cold colder\n",
      "bad worse cool cooler\n",
      "\n",
      "gram4-superlative\n",
      "bad worst big biggest\n",
      "bad worst bright brightest\n",
      "bad worst cold coldest\n",
      "bad worst cool coolest\n",
      "bad worst dark darkest\n",
      "\n",
      "gram5-present-participle\n",
      "code coding dance dancing\n",
      "code coding debug debugging\n",
      "code coding decrease decreasing\n",
      "code coding describe describing\n",
      "code coding discover discovering\n",
      "\n",
      "gram6-nationality-adjective\n",
      "Albania Albanian Argentina Argentinean\n",
      "Albania Albanian Australia Australian\n",
      "Albania Albanian Austria Austrian\n",
      "Albania Albanian Belarus Belorussian\n",
      "Albania Albanian Brazil Brazilian\n",
      "\n",
      "gram7-past-tense\n",
      "dancing danced decreasing decreased\n",
      "dancing danced describing described\n",
      "dancing danced enhancing enhanced\n",
      "dancing danced falling fell\n",
      "dancing danced feeding fed\n",
      "\n",
      "gram8-plural\n",
      "banana bananas bird birds\n",
      "banana bananas bottle bottles\n",
      "banana bananas building buildings\n",
      "banana bananas car cars\n",
      "banana bananas cat cats\n",
      "\n",
      "gram9-plural-verbs\n",
      "decrease decreases describe describes\n",
      "decrease decreases eat eats\n",
      "decrease decreases enhance enhances\n",
      "decrease decreases estimate estimates\n",
      "decrease decreases find finds\n",
      "\n"
     ]
    }
   ],
   "source": [
    "f = open('questions-words.txt', encoding='utf-8')\n",
    "line = f.readline()\n",
    "cnt = 0\n",
    "while line:\n",
    "  if ':' in line:\n",
    "    print(line.strip()[2:])\n",
    "    cnt = 0\n",
    "  elif cnt < 5:\n",
    "    print(line.strip())\n",
    "    cnt += 1\n",
    "    if cnt == 5:\n",
    "      print('')\n",
    "  line = f.readline()"
   ]
  },
  {
   "cell_type": "markdown",
   "metadata": {
    "id": "Ir4oqkv7ylnu"
   },
   "source": [
    "colabで2時間くらい"
   ]
  },
  {
   "cell_type": "code",
   "execution_count": 63,
   "metadata": {
    "colab": {
     "base_uri": "https://localhost:8080/"
    },
    "executionInfo": {
     "elapsed": 7304429,
     "status": "ok",
     "timestamp": 1645086392391,
     "user": {
      "displayName": "田中義規",
      "photoUrl": "https://lh3.googleusercontent.com/a/default-user=s64",
      "userId": "03358882541309422843"
     },
     "user_tz": -540
    },
    "id": "AkZUnisGeyho",
    "outputId": "65d66fff-86d1-40d6-b7ad-7372158b0dc9"
   },
   "outputs": [
    {
     "name": "stdout",
     "output_type": "stream",
     "text": [
      "1000\n",
      "2000\n",
      "3000\n",
      "4000\n",
      "5000\n",
      "6000\n",
      "7000\n",
      "8000\n",
      "9000\n",
      "10000\n",
      "11000\n",
      "12000\n",
      "13000\n",
      "14000\n",
      "15000\n",
      "16000\n",
      "17000\n",
      "18000\n",
      "19000\n"
     ]
    }
   ],
   "source": [
    "fi = open('questions-words.txt', 'r', encoding='utf-8')\n",
    "fo = open('questions-words_w2v_similarity.txt', 'w', encoding='utf-8')\n",
    "line = fi.readline()\n",
    "\n",
    "cnt = 0\n",
    "while line:\n",
    "  if ':' in line:\n",
    "    fo.write(line)\n",
    "  else:\n",
    "    line = line.strip().split(' ')\n",
    "    res = model.most_similar(positive=[line[1], line[2]], negative=[line[0]], topn=1)[0]\n",
    "    fo.write(' '.join(line + [res[0], str(res[1])]) + '\\n')\n",
    "    cnt += 1\n",
    "    if cnt % 1000 == 0:\n",
    "      print(cnt)\n",
    "  line = fi.readline()\n",
    "\n",
    "fi.close()\n",
    "fo.close()"
   ]
  },
  {
   "cell_type": "code",
   "execution_count": 66,
   "metadata": {
    "colab": {
     "base_uri": "https://localhost:8080/"
    },
    "executionInfo": {
     "elapsed": 609,
     "status": "ok",
     "timestamp": 1645086415613,
     "user": {
      "displayName": "田中義規",
      "photoUrl": "https://lh3.googleusercontent.com/a/default-user=s64",
      "userId": "03358882541309422843"
     },
     "user_tz": -540
    },
    "id": "AN4lCbQIuaJK",
    "outputId": "68e27df4-cce8-4122-dc34-eb7e10788f57"
   },
   "outputs": [
    {
     "name": "stdout",
     "output_type": "stream",
     "text": [
      ": capital-common-countries\n",
      "Athens Greece Baghdad Iraq Iraqi 0.6351870894432068\n",
      "Athens Greece Bangkok Thailand Thailand 0.7137669324874878\n",
      "Athens Greece Beijing China China 0.7235777974128723\n",
      "Athens Greece Berlin Germany Germany 0.6734622120857239\n",
      "Athens Greece Bern Switzerland Switzerland 0.4919748306274414\n",
      "Athens Greece Cairo Egypt Egypt 0.7527809739112854\n",
      "Athens Greece Canberra Australia Australia 0.583732545375824\n",
      "Athens Greece Hanoi Vietnam Viet_Nam 0.6276341676712036\n",
      "Athens Greece Havana Cuba Cuba 0.6460992097854614\n"
     ]
    }
   ],
   "source": [
    "!head questions-words_w2v_similarity.txt"
   ]
  },
  {
   "cell_type": "code",
   "execution_count": 67,
   "metadata": {
    "executionInfo": {
     "elapsed": 616,
     "status": "ok",
     "timestamp": 1645086418590,
     "user": {
      "displayName": "田中義規",
      "photoUrl": "https://lh3.googleusercontent.com/a/default-user=s64",
      "userId": "03358882541309422843"
     },
     "user_tz": -540
    },
    "id": "p4nsgzt8eym9"
   },
   "outputs": [],
   "source": [
    "# !cp ./questions-words_w2v_similarity.txt ./drive/MyDrive/100pon/data/"
   ]
  },
  {
   "cell_type": "code",
   "execution_count": 67,
   "metadata": {
    "executionInfo": {
     "elapsed": 247,
     "status": "ok",
     "timestamp": 1645086420261,
     "user": {
      "displayName": "田中義規",
      "photoUrl": "https://lh3.googleusercontent.com/a/default-user=s64",
      "userId": "03358882541309422843"
     },
     "user_tz": -540
    },
    "id": "a-tVB1lYtDze"
   },
   "outputs": [],
   "source": []
  },
  {
   "cell_type": "code",
   "execution_count": 67,
   "metadata": {
    "executionInfo": {
     "elapsed": 1,
     "status": "ok",
     "timestamp": 1645086420576,
     "user": {
      "displayName": "田中義規",
      "photoUrl": "https://lh3.googleusercontent.com/a/default-user=s64",
      "userId": "03358882541309422843"
     },
     "user_tz": -540
    },
    "id": "oTGcEWzLtD12"
   },
   "outputs": [],
   "source": []
  },
  {
   "cell_type": "markdown",
   "metadata": {
    "id": "FuoUqPaStEWW"
   },
   "source": [
    "## 65"
   ]
  },
  {
   "cell_type": "code",
   "execution_count": 68,
   "metadata": {
    "executionInfo": {
     "elapsed": 307,
     "status": "ok",
     "timestamp": 1645086422601,
     "user": {
      "displayName": "田中義規",
      "photoUrl": "https://lh3.googleusercontent.com/a/default-user=s64",
      "userId": "03358882541309422843"
     },
     "user_tz": -540
    },
    "id": "MEwCDD_EPXnO"
   },
   "outputs": [],
   "source": [
    "import numpy as np\n",
    "\n",
    "def accuracy(y_true, y_pred):\n",
    "  if (len(y_true) == 0) or (len(y_true) != len(y_pred)):\n",
    "    return False\n",
    "  correct = [y_tr == y_pr for y_tr, y_pr in zip(y_true, y_pred)]\n",
    "  return np.sum(correct) / len(y_true)"
   ]
  },
  {
   "cell_type": "code",
   "execution_count": 69,
   "metadata": {
    "executionInfo": {
     "elapsed": 2,
     "status": "ok",
     "timestamp": 1645086423296,
     "user": {
      "displayName": "田中義規",
      "photoUrl": "https://lh3.googleusercontent.com/a/default-user=s64",
      "userId": "03358882541309422843"
     },
     "user_tz": -540
    },
    "id": "FMwgXe_yffR3"
   },
   "outputs": [],
   "source": [
    "f = open('questions-words_w2v_similarity.txt', encoding='utf-8')\n",
    "\n",
    "result = {'semantic': {'true': [], 'pred': []},\n",
    "          'syntactic': {'true': [], 'pred': []}}\n",
    "k = 'semantic'\n",
    "\n",
    "line = f.readline()\n",
    "while k == 'semantic':\n",
    "  if ':' in line:\n",
    "    if line[2:6] == 'gram':\n",
    "      k = 'syntactic'\n",
    "  else:\n",
    "    r = line.strip().split(' ')\n",
    "    result[k]['true'].append(r[3])\n",
    "    result[k]['pred'].append(r[4])\n",
    "  line = f.readline()\n",
    "\n",
    "while line:\n",
    "  if ':' in line:\n",
    "    pass\n",
    "  else:\n",
    "    r = line.strip().split(' ')\n",
    "    result[k]['true'].append(r[3])\n",
    "    result[k]['pred'].append(r[4])\n",
    "  line = f.readline()\n",
    "\n",
    "f.close()"
   ]
  },
  {
   "cell_type": "code",
   "execution_count": 70,
   "metadata": {
    "colab": {
     "base_uri": "https://localhost:8080/"
    },
    "executionInfo": {
     "elapsed": 2,
     "status": "ok",
     "timestamp": 1645086425559,
     "user": {
      "displayName": "田中義規",
      "photoUrl": "https://lh3.googleusercontent.com/a/default-user=s64",
      "userId": "03358882541309422843"
     },
     "user_tz": -540
    },
    "id": "gdxcM8KueypZ",
    "outputId": "f943c540-d4db-4e36-f27c-9eb5ff078e9e"
   },
   "outputs": [
    {
     "name": "stdout",
     "output_type": "stream",
     "text": [
      "意味的アナロジーの正解率: 0.7308602999210734\n",
      "文法的アナロジーの正解率: 0.7400468384074942\n"
     ]
    }
   ],
   "source": [
    "print('意味的アナロジーの正解率:', accuracy(result['semantic']['true'], result['semantic']['pred']))\n",
    "print('文法的アナロジーの正解率:', accuracy(result['syntactic']['true'], result['syntactic']['pred']))"
   ]
  },
  {
   "cell_type": "code",
   "execution_count": null,
   "metadata": {
    "id": "eH-D_Tzveyr-"
   },
   "outputs": [],
   "source": []
  },
  {
   "cell_type": "code",
   "execution_count": null,
   "metadata": {
    "id": "iI5AtK_heyu1"
   },
   "outputs": [],
   "source": []
  },
  {
   "cell_type": "markdown",
   "metadata": {
    "id": "DHOB5PKhhsHm"
   },
   "source": [
    "## 66"
   ]
  },
  {
   "cell_type": "markdown",
   "metadata": {
    "id": "6FtybU_8iJBD"
   },
   "source": [
    "http://www.gabrilovich.com/resources/data/wordsim353/wordsim353.html"
   ]
  },
  {
   "cell_type": "code",
   "execution_count": 71,
   "metadata": {
    "colab": {
     "base_uri": "https://localhost:8080/"
    },
    "executionInfo": {
     "elapsed": 1420,
     "status": "ok",
     "timestamp": 1645086519012,
     "user": {
      "displayName": "田中義規",
      "photoUrl": "https://lh3.googleusercontent.com/a/default-user=s64",
      "userId": "03358882541309422843"
     },
     "user_tz": -540
    },
    "id": "n9MBSMkmeyxD",
    "outputId": "01e384a8-d523-432e-c248-f83d0986baed"
   },
   "outputs": [
    {
     "name": "stdout",
     "output_type": "stream",
     "text": [
      "--2022-02-17 08:28:37--  https://gabrilovich.com/resources/data/wordsim353/wordsim353.zip\n",
      "Resolving gabrilovich.com (gabrilovich.com)... 208.97.177.37\n",
      "Connecting to gabrilovich.com (gabrilovich.com)|208.97.177.37|:443... connected.\n",
      "HTTP request sent, awaiting response... 200 OK\n",
      "Length: 23257 (23K) [application/zip]\n",
      "Saving to: ‘wordsim353.zip’\n",
      "\n",
      "wordsim353.zip      100%[===================>]  22.71K  --.-KB/s    in 0.07s   \n",
      "\n",
      "2022-02-17 08:28:37 (320 KB/s) - ‘wordsim353.zip’ saved [23257/23257]\n",
      "\n",
      "Archive:  wordsim353.zip\n",
      "  inflating: combined.csv            \n",
      "  inflating: set1.csv                \n",
      "  inflating: set2.csv                \n",
      "  inflating: combined.tab            \n",
      "  inflating: set1.tab                \n",
      "  inflating: set2.tab                \n",
      "  inflating: instructions.txt        \n"
     ]
    }
   ],
   "source": [
    "!wget https://gabrilovich.com/resources/data/wordsim353/wordsim353.zip\n",
    "!unzip wordsim353.zip"
   ]
  },
  {
   "cell_type": "code",
   "execution_count": 72,
   "metadata": {
    "colab": {
     "base_uri": "https://localhost:8080/",
     "height": 454
    },
    "executionInfo": {
     "elapsed": 399,
     "status": "ok",
     "timestamp": 1645086519405,
     "user": {
      "displayName": "田中義規",
      "photoUrl": "https://lh3.googleusercontent.com/a/default-user=s64",
      "userId": "03358882541309422843"
     },
     "user_tz": -540
    },
    "id": "wHS1-sLni9UU",
    "outputId": "ef8dfba6-f3d5-4fe1-88ed-97ff62bac841"
   },
   "outputs": [
    {
     "data": {
      "text/html": [
       "\n",
       "  <div id=\"df-a93863fe-cfb5-4744-b1d3-b18a25a3f3bd\">\n",
       "    <div class=\"colab-df-container\">\n",
       "      <div>\n",
       "<style scoped>\n",
       "    .dataframe tbody tr th:only-of-type {\n",
       "        vertical-align: middle;\n",
       "    }\n",
       "\n",
       "    .dataframe tbody tr th {\n",
       "        vertical-align: top;\n",
       "    }\n",
       "\n",
       "    .dataframe thead th {\n",
       "        text-align: right;\n",
       "    }\n",
       "</style>\n",
       "<table border=\"1\" class=\"dataframe\">\n",
       "  <thead>\n",
       "    <tr style=\"text-align: right;\">\n",
       "      <th></th>\n",
       "      <th>word1</th>\n",
       "      <th>word2</th>\n",
       "      <th>human</th>\n",
       "    </tr>\n",
       "  </thead>\n",
       "  <tbody>\n",
       "    <tr>\n",
       "      <th>0</th>\n",
       "      <td>love</td>\n",
       "      <td>sex</td>\n",
       "      <td>6.77</td>\n",
       "    </tr>\n",
       "    <tr>\n",
       "      <th>1</th>\n",
       "      <td>tiger</td>\n",
       "      <td>cat</td>\n",
       "      <td>7.35</td>\n",
       "    </tr>\n",
       "    <tr>\n",
       "      <th>2</th>\n",
       "      <td>tiger</td>\n",
       "      <td>tiger</td>\n",
       "      <td>10.00</td>\n",
       "    </tr>\n",
       "    <tr>\n",
       "      <th>3</th>\n",
       "      <td>book</td>\n",
       "      <td>paper</td>\n",
       "      <td>7.46</td>\n",
       "    </tr>\n",
       "    <tr>\n",
       "      <th>4</th>\n",
       "      <td>computer</td>\n",
       "      <td>keyboard</td>\n",
       "      <td>7.62</td>\n",
       "    </tr>\n",
       "  </tbody>\n",
       "</table>\n",
       "</div>\n",
       "      <button class=\"colab-df-convert\" onclick=\"convertToInteractive('df-a93863fe-cfb5-4744-b1d3-b18a25a3f3bd')\"\n",
       "              title=\"Convert this dataframe to an interactive table.\"\n",
       "              style=\"display:none;\">\n",
       "        \n",
       "  <svg xmlns=\"http://www.w3.org/2000/svg\" height=\"24px\"viewBox=\"0 0 24 24\"\n",
       "       width=\"24px\">\n",
       "    <path d=\"M0 0h24v24H0V0z\" fill=\"none\"/>\n",
       "    <path d=\"M18.56 5.44l.94 2.06.94-2.06 2.06-.94-2.06-.94-.94-2.06-.94 2.06-2.06.94zm-11 1L8.5 8.5l.94-2.06 2.06-.94-2.06-.94L8.5 2.5l-.94 2.06-2.06.94zm10 10l.94 2.06.94-2.06 2.06-.94-2.06-.94-.94-2.06-.94 2.06-2.06.94z\"/><path d=\"M17.41 7.96l-1.37-1.37c-.4-.4-.92-.59-1.43-.59-.52 0-1.04.2-1.43.59L10.3 9.45l-7.72 7.72c-.78.78-.78 2.05 0 2.83L4 21.41c.39.39.9.59 1.41.59.51 0 1.02-.2 1.41-.59l7.78-7.78 2.81-2.81c.8-.78.8-2.07 0-2.86zM5.41 20L4 18.59l7.72-7.72 1.47 1.35L5.41 20z\"/>\n",
       "  </svg>\n",
       "      </button>\n",
       "      \n",
       "  <style>\n",
       "    .colab-df-container {\n",
       "      display:flex;\n",
       "      flex-wrap:wrap;\n",
       "      gap: 12px;\n",
       "    }\n",
       "\n",
       "    .colab-df-convert {\n",
       "      background-color: #E8F0FE;\n",
       "      border: none;\n",
       "      border-radius: 50%;\n",
       "      cursor: pointer;\n",
       "      display: none;\n",
       "      fill: #1967D2;\n",
       "      height: 32px;\n",
       "      padding: 0 0 0 0;\n",
       "      width: 32px;\n",
       "    }\n",
       "\n",
       "    .colab-df-convert:hover {\n",
       "      background-color: #E2EBFA;\n",
       "      box-shadow: 0px 1px 2px rgba(60, 64, 67, 0.3), 0px 1px 3px 1px rgba(60, 64, 67, 0.15);\n",
       "      fill: #174EA6;\n",
       "    }\n",
       "\n",
       "    [theme=dark] .colab-df-convert {\n",
       "      background-color: #3B4455;\n",
       "      fill: #D2E3FC;\n",
       "    }\n",
       "\n",
       "    [theme=dark] .colab-df-convert:hover {\n",
       "      background-color: #434B5C;\n",
       "      box-shadow: 0px 1px 3px 1px rgba(0, 0, 0, 0.15);\n",
       "      filter: drop-shadow(0px 1px 2px rgba(0, 0, 0, 0.3));\n",
       "      fill: #FFFFFF;\n",
       "    }\n",
       "  </style>\n",
       "\n",
       "      <script>\n",
       "        const buttonEl =\n",
       "          document.querySelector('#df-a93863fe-cfb5-4744-b1d3-b18a25a3f3bd button.colab-df-convert');\n",
       "        buttonEl.style.display =\n",
       "          google.colab.kernel.accessAllowed ? 'block' : 'none';\n",
       "\n",
       "        async function convertToInteractive(key) {\n",
       "          const element = document.querySelector('#df-a93863fe-cfb5-4744-b1d3-b18a25a3f3bd');\n",
       "          const dataTable =\n",
       "            await google.colab.kernel.invokeFunction('convertToInteractive',\n",
       "                                                     [key], {});\n",
       "          if (!dataTable) return;\n",
       "\n",
       "          const docLinkHtml = 'Like what you see? Visit the ' +\n",
       "            '<a target=\"_blank\" href=https://colab.research.google.com/notebooks/data_table.ipynb>data table notebook</a>'\n",
       "            + ' to learn more about interactive tables.';\n",
       "          element.innerHTML = '';\n",
       "          dataTable['output_type'] = 'display_data';\n",
       "          await google.colab.output.renderOutput(dataTable, element);\n",
       "          const docLink = document.createElement('div');\n",
       "          docLink.innerHTML = docLinkHtml;\n",
       "          element.appendChild(docLink);\n",
       "        }\n",
       "      </script>\n",
       "    </div>\n",
       "  </div>\n",
       "  "
      ],
      "text/plain": [
       "      word1     word2  human\n",
       "0      love       sex   6.77\n",
       "1     tiger       cat   7.35\n",
       "2     tiger     tiger  10.00\n",
       "3      book     paper   7.46\n",
       "4  computer  keyboard   7.62"
      ]
     },
     "metadata": {},
     "output_type": "display_data"
    },
    {
     "data": {
      "image/png": "[encoded data removed]",
      "text/plain": [
       "<Figure size 432x288 with 1 Axes>"
      ]
     },
     "metadata": {
      "needs_background": "light"
     },
     "output_type": "display_data"
    }
   ],
   "source": [
    "import pandas as pd\n",
    "import numpy as np\n",
    "import matplotlib.pyplot as plt\n",
    "\n",
    "similarity_df = pd.read_csv('combined.csv', header=0, names=('word1', 'word2', 'human'))\n",
    "display(similarity_df.head())\n",
    "plt.hist(similarity_df['human'].values, bins=20)\n",
    "plt.show()"
   ]
  },
  {
   "cell_type": "code",
   "execution_count": 73,
   "metadata": {
    "colab": {
     "base_uri": "https://localhost:8080/",
     "height": 206
    },
    "executionInfo": {
     "elapsed": 314,
     "status": "ok",
     "timestamp": 1645086520708,
     "user": {
      "displayName": "田中義規",
      "photoUrl": "https://lh3.googleusercontent.com/a/default-user=s64",
      "userId": "03358882541309422843"
     },
     "user_tz": -540
    },
    "id": "BrOG1ApwkxnQ",
    "outputId": "367b9b68-56ff-45d3-8216-0ec764ac50ab"
   },
   "outputs": [
    {
     "data": {
      "text/html": [
       "\n",
       "  <div id=\"df-0990fe1f-2757-46d1-b86e-d5776e312ae9\">\n",
       "    <div class=\"colab-df-container\">\n",
       "      <div>\n",
       "<style scoped>\n",
       "    .dataframe tbody tr th:only-of-type {\n",
       "        vertical-align: middle;\n",
       "    }\n",
       "\n",
       "    .dataframe tbody tr th {\n",
       "        vertical-align: top;\n",
       "    }\n",
       "\n",
       "    .dataframe thead th {\n",
       "        text-align: right;\n",
       "    }\n",
       "</style>\n",
       "<table border=\"1\" class=\"dataframe\">\n",
       "  <thead>\n",
       "    <tr style=\"text-align: right;\">\n",
       "      <th></th>\n",
       "      <th>word1</th>\n",
       "      <th>word2</th>\n",
       "      <th>human</th>\n",
       "      <th>word2vec</th>\n",
       "    </tr>\n",
       "  </thead>\n",
       "  <tbody>\n",
       "    <tr>\n",
       "      <th>0</th>\n",
       "      <td>love</td>\n",
       "      <td>sex</td>\n",
       "      <td>6.77</td>\n",
       "      <td>0.263938</td>\n",
       "    </tr>\n",
       "    <tr>\n",
       "      <th>1</th>\n",
       "      <td>tiger</td>\n",
       "      <td>cat</td>\n",
       "      <td>7.35</td>\n",
       "      <td>0.517296</td>\n",
       "    </tr>\n",
       "    <tr>\n",
       "      <th>2</th>\n",
       "      <td>tiger</td>\n",
       "      <td>tiger</td>\n",
       "      <td>10.00</td>\n",
       "      <td>1.000000</td>\n",
       "    </tr>\n",
       "    <tr>\n",
       "      <th>3</th>\n",
       "      <td>book</td>\n",
       "      <td>paper</td>\n",
       "      <td>7.46</td>\n",
       "      <td>0.363463</td>\n",
       "    </tr>\n",
       "    <tr>\n",
       "      <th>4</th>\n",
       "      <td>computer</td>\n",
       "      <td>keyboard</td>\n",
       "      <td>7.62</td>\n",
       "      <td>0.396392</td>\n",
       "    </tr>\n",
       "  </tbody>\n",
       "</table>\n",
       "</div>\n",
       "      <button class=\"colab-df-convert\" onclick=\"convertToInteractive('df-0990fe1f-2757-46d1-b86e-d5776e312ae9')\"\n",
       "              title=\"Convert this dataframe to an interactive table.\"\n",
       "              style=\"display:none;\">\n",
       "        \n",
       "  <svg xmlns=\"http://www.w3.org/2000/svg\" height=\"24px\"viewBox=\"0 0 24 24\"\n",
       "       width=\"24px\">\n",
       "    <path d=\"M0 0h24v24H0V0z\" fill=\"none\"/>\n",
       "    <path d=\"M18.56 5.44l.94 2.06.94-2.06 2.06-.94-2.06-.94-.94-2.06-.94 2.06-2.06.94zm-11 1L8.5 8.5l.94-2.06 2.06-.94-2.06-.94L8.5 2.5l-.94 2.06-2.06.94zm10 10l.94 2.06.94-2.06 2.06-.94-2.06-.94-.94-2.06-.94 2.06-2.06.94z\"/><path d=\"M17.41 7.96l-1.37-1.37c-.4-.4-.92-.59-1.43-.59-.52 0-1.04.2-1.43.59L10.3 9.45l-7.72 7.72c-.78.78-.78 2.05 0 2.83L4 21.41c.39.39.9.59 1.41.59.51 0 1.02-.2 1.41-.59l7.78-7.78 2.81-2.81c.8-.78.8-2.07 0-2.86zM5.41 20L4 18.59l7.72-7.72 1.47 1.35L5.41 20z\"/>\n",
       "  </svg>\n",
       "      </button>\n",
       "      \n",
       "  <style>\n",
       "    .colab-df-container {\n",
       "      display:flex;\n",
       "      flex-wrap:wrap;\n",
       "      gap: 12px;\n",
       "    }\n",
       "\n",
       "    .colab-df-convert {\n",
       "      background-color: #E8F0FE;\n",
       "      border: none;\n",
       "      border-radius: 50%;\n",
       "      cursor: pointer;\n",
       "      display: none;\n",
       "      fill: #1967D2;\n",
       "      height: 32px;\n",
       "      padding: 0 0 0 0;\n",
       "      width: 32px;\n",
       "    }\n",
       "\n",
       "    .colab-df-convert:hover {\n",
       "      background-color: #E2EBFA;\n",
       "      box-shadow: 0px 1px 2px rgba(60, 64, 67, 0.3), 0px 1px 3px 1px rgba(60, 64, 67, 0.15);\n",
       "      fill: #174EA6;\n",
       "    }\n",
       "\n",
       "    [theme=dark] .colab-df-convert {\n",
       "      background-color: #3B4455;\n",
       "      fill: #D2E3FC;\n",
       "    }\n",
       "\n",
       "    [theme=dark] .colab-df-convert:hover {\n",
       "      background-color: #434B5C;\n",
       "      box-shadow: 0px 1px 3px 1px rgba(0, 0, 0, 0.15);\n",
       "      filter: drop-shadow(0px 1px 2px rgba(0, 0, 0, 0.3));\n",
       "      fill: #FFFFFF;\n",
       "    }\n",
       "  </style>\n",
       "\n",
       "      <script>\n",
       "        const buttonEl =\n",
       "          document.querySelector('#df-0990fe1f-2757-46d1-b86e-d5776e312ae9 button.colab-df-convert');\n",
       "        buttonEl.style.display =\n",
       "          google.colab.kernel.accessAllowed ? 'block' : 'none';\n",
       "\n",
       "        async function convertToInteractive(key) {\n",
       "          const element = document.querySelector('#df-0990fe1f-2757-46d1-b86e-d5776e312ae9');\n",
       "          const dataTable =\n",
       "            await google.colab.kernel.invokeFunction('convertToInteractive',\n",
       "                                                     [key], {});\n",
       "          if (!dataTable) return;\n",
       "\n",
       "          const docLinkHtml = 'Like what you see? Visit the ' +\n",
       "            '<a target=\"_blank\" href=https://colab.research.google.com/notebooks/data_table.ipynb>data table notebook</a>'\n",
       "            + ' to learn more about interactive tables.';\n",
       "          element.innerHTML = '';\n",
       "          dataTable['output_type'] = 'display_data';\n",
       "          await google.colab.output.renderOutput(dataTable, element);\n",
       "          const docLink = document.createElement('div');\n",
       "          docLink.innerHTML = docLinkHtml;\n",
       "          element.appendChild(docLink);\n",
       "        }\n",
       "      </script>\n",
       "    </div>\n",
       "  </div>\n",
       "  "
      ],
      "text/plain": [
       "      word1     word2  human  word2vec\n",
       "0      love       sex   6.77  0.263938\n",
       "1     tiger       cat   7.35  0.517296\n",
       "2     tiger     tiger  10.00  1.000000\n",
       "3      book     paper   7.46  0.363463\n",
       "4  computer  keyboard   7.62  0.396392"
      ]
     },
     "metadata": {},
     "output_type": "display_data"
    }
   ],
   "source": [
    "similarity_df['word2vec'] = [model.similarity(w1, w2) for w1, w2 in \n",
    "                             zip(similarity_df['word1'].values, similarity_df['word2'].values)]\n",
    "display(similarity_df.head())"
   ]
  },
  {
   "cell_type": "code",
   "execution_count": 81,
   "metadata": {
    "colab": {
     "base_uri": "https://localhost:8080/",
     "height": 487
    },
    "executionInfo": {
     "elapsed": 385,
     "status": "ok",
     "timestamp": 1645086806970,
     "user": {
      "displayName": "田中義規",
      "photoUrl": "https://lh3.googleusercontent.com/a/default-user=s64",
      "userId": "03358882541309422843"
     },
     "user_tz": -540
    },
    "id": "0FPyWvicmGTA",
    "outputId": "d1f09e04-f7cf-4535-f7a0-a3c207e8fd0f"
   },
   "outputs": [
    {
     "data": {
      "text/html": [
       "\n",
       "  <div id=\"df-7e493faf-4628-4a0f-97c8-6be63d880a53\">\n",
       "    <div class=\"colab-df-container\">\n",
       "      <div>\n",
       "<style scoped>\n",
       "    .dataframe tbody tr th:only-of-type {\n",
       "        vertical-align: middle;\n",
       "    }\n",
       "\n",
       "    .dataframe tbody tr th {\n",
       "        vertical-align: top;\n",
       "    }\n",
       "\n",
       "    .dataframe thead th {\n",
       "        text-align: right;\n",
       "    }\n",
       "</style>\n",
       "<table border=\"1\" class=\"dataframe\">\n",
       "  <thead>\n",
       "    <tr style=\"text-align: right;\">\n",
       "      <th></th>\n",
       "      <th>word1</th>\n",
       "      <th>word2</th>\n",
       "      <th>human</th>\n",
       "      <th>word2vec</th>\n",
       "      <th>rank_human</th>\n",
       "      <th>rank_word2vec</th>\n",
       "      <th>rank_word2vec_min</th>\n",
       "      <th>rank_word2vec_max</th>\n",
       "      <th>rank_word2vec_average</th>\n",
       "      <th>rank_word2vec_first</th>\n",
       "    </tr>\n",
       "  </thead>\n",
       "  <tbody>\n",
       "    <tr>\n",
       "      <th>0</th>\n",
       "      <td>love</td>\n",
       "      <td>sex</td>\n",
       "      <td>6.77</td>\n",
       "      <td>0.263938</td>\n",
       "      <td>210.0</td>\n",
       "      <td>190.0</td>\n",
       "      <td>190.0</td>\n",
       "      <td>190.0</td>\n",
       "      <td>190.0</td>\n",
       "      <td>190.0</td>\n",
       "    </tr>\n",
       "    <tr>\n",
       "      <th>1</th>\n",
       "      <td>tiger</td>\n",
       "      <td>cat</td>\n",
       "      <td>7.35</td>\n",
       "      <td>0.517296</td>\n",
       "      <td>244.0</td>\n",
       "      <td>316.0</td>\n",
       "      <td>316.0</td>\n",
       "      <td>316.0</td>\n",
       "      <td>316.0</td>\n",
       "      <td>316.0</td>\n",
       "    </tr>\n",
       "    <tr>\n",
       "      <th>2</th>\n",
       "      <td>tiger</td>\n",
       "      <td>tiger</td>\n",
       "      <td>10.00</td>\n",
       "      <td>1.000000</td>\n",
       "      <td>353.0</td>\n",
       "      <td>353.0</td>\n",
       "      <td>353.0</td>\n",
       "      <td>353.0</td>\n",
       "      <td>353.0</td>\n",
       "      <td>353.0</td>\n",
       "    </tr>\n",
       "    <tr>\n",
       "      <th>3</th>\n",
       "      <td>book</td>\n",
       "      <td>paper</td>\n",
       "      <td>7.46</td>\n",
       "      <td>0.363463</td>\n",
       "      <td>255.0</td>\n",
       "      <td>259.0</td>\n",
       "      <td>259.0</td>\n",
       "      <td>259.0</td>\n",
       "      <td>259.0</td>\n",
       "      <td>259.0</td>\n",
       "    </tr>\n",
       "    <tr>\n",
       "      <th>4</th>\n",
       "      <td>computer</td>\n",
       "      <td>keyboard</td>\n",
       "      <td>7.62</td>\n",
       "      <td>0.396392</td>\n",
       "      <td>272.0</td>\n",
       "      <td>273.0</td>\n",
       "      <td>273.0</td>\n",
       "      <td>273.0</td>\n",
       "      <td>273.0</td>\n",
       "      <td>273.0</td>\n",
       "    </tr>\n",
       "    <tr>\n",
       "      <th>...</th>\n",
       "      <td>...</td>\n",
       "      <td>...</td>\n",
       "      <td>...</td>\n",
       "      <td>...</td>\n",
       "      <td>...</td>\n",
       "      <td>...</td>\n",
       "      <td>...</td>\n",
       "      <td>...</td>\n",
       "      <td>...</td>\n",
       "      <td>...</td>\n",
       "    </tr>\n",
       "    <tr>\n",
       "      <th>348</th>\n",
       "      <td>shower</td>\n",
       "      <td>flood</td>\n",
       "      <td>6.03</td>\n",
       "      <td>0.129479</td>\n",
       "      <td>160.0</td>\n",
       "      <td>82.0</td>\n",
       "      <td>82.0</td>\n",
       "      <td>82.0</td>\n",
       "      <td>82.0</td>\n",
       "      <td>82.0</td>\n",
       "    </tr>\n",
       "    <tr>\n",
       "      <th>349</th>\n",
       "      <td>weather</td>\n",
       "      <td>forecast</td>\n",
       "      <td>8.34</td>\n",
       "      <td>0.362721</td>\n",
       "      <td>318.0</td>\n",
       "      <td>257.0</td>\n",
       "      <td>257.0</td>\n",
       "      <td>257.0</td>\n",
       "      <td>257.0</td>\n",
       "      <td>257.0</td>\n",
       "    </tr>\n",
       "    <tr>\n",
       "      <th>350</th>\n",
       "      <td>disaster</td>\n",
       "      <td>area</td>\n",
       "      <td>6.25</td>\n",
       "      <td>0.145228</td>\n",
       "      <td>171.0</td>\n",
       "      <td>98.0</td>\n",
       "      <td>98.0</td>\n",
       "      <td>98.0</td>\n",
       "      <td>98.0</td>\n",
       "      <td>98.0</td>\n",
       "    </tr>\n",
       "    <tr>\n",
       "      <th>351</th>\n",
       "      <td>governor</td>\n",
       "      <td>office</td>\n",
       "      <td>6.34</td>\n",
       "      <td>0.296636</td>\n",
       "      <td>179.0</td>\n",
       "      <td>212.0</td>\n",
       "      <td>212.0</td>\n",
       "      <td>212.0</td>\n",
       "      <td>212.0</td>\n",
       "      <td>212.0</td>\n",
       "    </tr>\n",
       "    <tr>\n",
       "      <th>352</th>\n",
       "      <td>architecture</td>\n",
       "      <td>century</td>\n",
       "      <td>3.78</td>\n",
       "      <td>0.143093</td>\n",
       "      <td>73.0</td>\n",
       "      <td>96.0</td>\n",
       "      <td>96.0</td>\n",
       "      <td>96.0</td>\n",
       "      <td>96.0</td>\n",
       "      <td>96.0</td>\n",
       "    </tr>\n",
       "  </tbody>\n",
       "</table>\n",
       "<p>353 rows × 10 columns</p>\n",
       "</div>\n",
       "      <button class=\"colab-df-convert\" onclick=\"convertToInteractive('df-7e493faf-4628-4a0f-97c8-6be63d880a53')\"\n",
       "              title=\"Convert this dataframe to an interactive table.\"\n",
       "              style=\"display:none;\">\n",
       "        \n",
       "  <svg xmlns=\"http://www.w3.org/2000/svg\" height=\"24px\"viewBox=\"0 0 24 24\"\n",
       "       width=\"24px\">\n",
       "    <path d=\"M0 0h24v24H0V0z\" fill=\"none\"/>\n",
       "    <path d=\"M18.56 5.44l.94 2.06.94-2.06 2.06-.94-2.06-.94-.94-2.06-.94 2.06-2.06.94zm-11 1L8.5 8.5l.94-2.06 2.06-.94-2.06-.94L8.5 2.5l-.94 2.06-2.06.94zm10 10l.94 2.06.94-2.06 2.06-.94-2.06-.94-.94-2.06-.94 2.06-2.06.94z\"/><path d=\"M17.41 7.96l-1.37-1.37c-.4-.4-.92-.59-1.43-.59-.52 0-1.04.2-1.43.59L10.3 9.45l-7.72 7.72c-.78.78-.78 2.05 0 2.83L4 21.41c.39.39.9.59 1.41.59.51 0 1.02-.2 1.41-.59l7.78-7.78 2.81-2.81c.8-.78.8-2.07 0-2.86zM5.41 20L4 18.59l7.72-7.72 1.47 1.35L5.41 20z\"/>\n",
       "  </svg>\n",
       "      </button>\n",
       "      \n",
       "  <style>\n",
       "    .colab-df-container {\n",
       "      display:flex;\n",
       "      flex-wrap:wrap;\n",
       "      gap: 12px;\n",
       "    }\n",
       "\n",
       "    .colab-df-convert {\n",
       "      background-color: #E8F0FE;\n",
       "      border: none;\n",
       "      border-radius: 50%;\n",
       "      cursor: pointer;\n",
       "      display: none;\n",
       "      fill: #1967D2;\n",
       "      height: 32px;\n",
       "      padding: 0 0 0 0;\n",
       "      width: 32px;\n",
       "    }\n",
       "\n",
       "    .colab-df-convert:hover {\n",
       "      background-color: #E2EBFA;\n",
       "      box-shadow: 0px 1px 2px rgba(60, 64, 67, 0.3), 0px 1px 3px 1px rgba(60, 64, 67, 0.15);\n",
       "      fill: #174EA6;\n",
       "    }\n",
       "\n",
       "    [theme=dark] .colab-df-convert {\n",
       "      background-color: #3B4455;\n",
       "      fill: #D2E3FC;\n",
       "    }\n",
       "\n",
       "    [theme=dark] .colab-df-convert:hover {\n",
       "      background-color: #434B5C;\n",
       "      box-shadow: 0px 1px 3px 1px rgba(0, 0, 0, 0.15);\n",
       "      filter: drop-shadow(0px 1px 2px rgba(0, 0, 0, 0.3));\n",
       "      fill: #FFFFFF;\n",
       "    }\n",
       "  </style>\n",
       "\n",
       "      <script>\n",
       "        const buttonEl =\n",
       "          document.querySelector('#df-7e493faf-4628-4a0f-97c8-6be63d880a53 button.colab-df-convert');\n",
       "        buttonEl.style.display =\n",
       "          google.colab.kernel.accessAllowed ? 'block' : 'none';\n",
       "\n",
       "        async function convertToInteractive(key) {\n",
       "          const element = document.querySelector('#df-7e493faf-4628-4a0f-97c8-6be63d880a53');\n",
       "          const dataTable =\n",
       "            await google.colab.kernel.invokeFunction('convertToInteractive',\n",
       "                                                     [key], {});\n",
       "          if (!dataTable) return;\n",
       "\n",
       "          const docLinkHtml = 'Like what you see? Visit the ' +\n",
       "            '<a target=\"_blank\" href=https://colab.research.google.com/notebooks/data_table.ipynb>data table notebook</a>'\n",
       "            + ' to learn more about interactive tables.';\n",
       "          element.innerHTML = '';\n",
       "          dataTable['output_type'] = 'display_data';\n",
       "          await google.colab.output.renderOutput(dataTable, element);\n",
       "          const docLink = document.createElement('div');\n",
       "          docLink.innerHTML = docLinkHtml;\n",
       "          element.appendChild(docLink);\n",
       "        }\n",
       "      </script>\n",
       "    </div>\n",
       "  </div>\n",
       "  "
      ],
      "text/plain": [
       "            word1     word2  ...  rank_word2vec_average  rank_word2vec_first\n",
       "0            love       sex  ...                  190.0                190.0\n",
       "1           tiger       cat  ...                  316.0                316.0\n",
       "2           tiger     tiger  ...                  353.0                353.0\n",
       "3            book     paper  ...                  259.0                259.0\n",
       "4        computer  keyboard  ...                  273.0                273.0\n",
       "..            ...       ...  ...                    ...                  ...\n",
       "348        shower     flood  ...                   82.0                 82.0\n",
       "349       weather  forecast  ...                  257.0                257.0\n",
       "350      disaster      area  ...                   98.0                 98.0\n",
       "351      governor    office  ...                  212.0                212.0\n",
       "352  architecture   century  ...                   96.0                 96.0\n",
       "\n",
       "[353 rows x 10 columns]"
      ]
     },
     "execution_count": 81,
     "metadata": {},
     "output_type": "execute_result"
    }
   ],
   "source": [
    "rank_df = similarity_df[['human', 'word2vec']].rank(axis=0, method='min')\n",
    "similarity_df['rank_human'] = rank_df['human'].values\n",
    "similarity_df['rank_word2vec'] = rank_df['word2vec'].values\n",
    "similarity_df"
   ]
  },
  {
   "cell_type": "code",
   "execution_count": 83,
   "metadata": {
    "colab": {
     "base_uri": "https://localhost:8080/"
    },
    "executionInfo": {
     "elapsed": 251,
     "status": "ok",
     "timestamp": 1645086816393,
     "user": {
      "displayName": "田中義規",
      "photoUrl": "https://lh3.googleusercontent.com/a/default-user=s64",
      "userId": "03358882541309422843"
     },
     "user_tz": -540
    },
    "id": "sRwbaFE4jBuY",
    "outputId": "de073a00-2dcd-49e7-ef1d-0cdc7babf5cc"
   },
   "outputs": [
    {
     "name": "stdout",
     "output_type": "stream",
     "text": [
      "0.7000166486272194\n"
     ]
    }
   ],
   "source": [
    "from scipy.stats import spearmanr\n",
    "\n",
    "correlation, _ = spearmanr(similarity_df['rank_human'].values,\n",
    "                           similarity_df['rank_word2vec'].values)\n",
    "print(correlation)"
   ]
  },
  {
   "cell_type": "code",
   "execution_count": null,
   "metadata": {
    "id": "PLjzWN0t29FT"
   },
   "outputs": [],
   "source": []
  },
  {
   "cell_type": "markdown",
   "metadata": {
    "id": "VEws64yk4U7P"
   },
   "source": [
    "## 67"
   ]
  },
  {
   "cell_type": "markdown",
   "metadata": {
    "id": "X_NztP91033O"
   },
   "source": [
    "外務省の国連加盟国一覧から国名を取得"
   ]
  },
  {
   "cell_type": "code",
   "execution_count": 84,
   "metadata": {
    "colab": {
     "base_uri": "https://localhost:8080/"
    },
    "executionInfo": {
     "elapsed": 1581,
     "status": "ok",
     "timestamp": 1645087525318,
     "user": {
      "displayName": "田中義規",
      "photoUrl": "https://lh3.googleusercontent.com/a/default-user=s64",
      "userId": "03358882541309422843"
     },
     "user_tz": -540
    },
    "id": "V30_sG4q4W7u",
    "outputId": "1325208e-0524-4d05-d8a9-f9230d604fb1"
   },
   "outputs": [
    {
     "name": "stdout",
     "output_type": "stream",
     "text": [
      "True\n"
     ]
    }
   ],
   "source": [
    "from urllib.robotparser import RobotFileParser\n",
    "url = \"https://www.mofa.go.jp/mofaj/files/000023536.pdf\"\n",
    "rp = RobotFileParser()\n",
    "rp.set_url(url + '/robots.txt')\n",
    "rp.read()\n",
    "print(rp.can_fetch(\"*\",url))"
   ]
  },
  {
   "cell_type": "code",
   "execution_count": 85,
   "metadata": {
    "colab": {
     "base_uri": "https://localhost:8080/"
    },
    "executionInfo": {
     "elapsed": 702,
     "status": "ok",
     "timestamp": 1645087527103,
     "user": {
      "displayName": "田中義規",
      "photoUrl": "https://lh3.googleusercontent.com/a/default-user=s64",
      "userId": "03358882541309422843"
     },
     "user_tz": -540
    },
    "id": "lgjmmDEgFGu3",
    "outputId": "e9cad86a-f691-4f69-ad27-d7ad2446eeb5"
   },
   "outputs": [
    {
     "name": "stdout",
     "output_type": "stream",
     "text": [
      "--2022-02-17 08:45:26--  https://www.mofa.go.jp/mofaj/files/000023536.pdf\n",
      "Resolving www.mofa.go.jp (www.mofa.go.jp)... 104.101.154.143, 2600:1406:5800:2b2::3ead, 2600:1406:5800:299::3ead\n",
      "Connecting to www.mofa.go.jp (www.mofa.go.jp)|104.101.154.143|:443... connected.\n",
      "HTTP request sent, awaiting response... 200 OK\n",
      "Length: 507914 (496K) [application/pdf]\n",
      "Saving to: ‘000023536.pdf’\n",
      "\n",
      "000023536.pdf       100%[===================>] 496.01K  --.-KB/s    in 0.03s   \n",
      "\n",
      "2022-02-17 08:45:26 (15.1 MB/s) - ‘000023536.pdf’ saved [507914/507914]\n",
      "\n"
     ]
    }
   ],
   "source": [
    "!wget 'https://www.mofa.go.jp/mofaj/files/000023536.pdf'"
   ]
  },
  {
   "cell_type": "markdown",
   "metadata": {
    "id": "49g5VE-hGe4G"
   },
   "source": [
    "PDFからのテキストの取得\n",
    "https://gammasoft.jp/blog/python-parse-pdf-contents/"
   ]
  },
  {
   "cell_type": "code",
   "execution_count": 86,
   "metadata": {
    "colab": {
     "base_uri": "https://localhost:8080/"
    },
    "executionInfo": {
     "elapsed": 6458,
     "status": "ok",
     "timestamp": 1645087534844,
     "user": {
      "displayName": "田中義規",
      "photoUrl": "https://lh3.googleusercontent.com/a/default-user=s64",
      "userId": "03358882541309422843"
     },
     "user_tz": -540
    },
    "id": "PHWxN1RUFKGl",
    "outputId": "b40c126f-5936-4650-f37d-1aa468e5ebbc"
   },
   "outputs": [
    {
     "name": "stdout",
     "output_type": "stream",
     "text": [
      "Collecting tika\n",
      "  Downloading tika-1.24.tar.gz (28 kB)\n",
      "Requirement already satisfied: setuptools in /usr/local/lib/python3.7/dist-packages (from tika) (57.4.0)\n",
      "Requirement already satisfied: requests in /usr/local/lib/python3.7/dist-packages (from tika) (2.23.0)\n",
      "Requirement already satisfied: chardet<4,>=3.0.2 in /usr/local/lib/python3.7/dist-packages (from requests->tika) (3.0.4)\n",
      "Requirement already satisfied: idna<3,>=2.5 in /usr/local/lib/python3.7/dist-packages (from requests->tika) (2.10)\n",
      "Requirement already satisfied: certifi>=2017.4.17 in /usr/local/lib/python3.7/dist-packages (from requests->tika) (2021.10.8)\n",
      "Requirement already satisfied: urllib3!=1.25.0,!=1.25.1,<1.26,>=1.21.1 in /usr/local/lib/python3.7/dist-packages (from requests->tika) (1.24.3)\n",
      "Building wheels for collected packages: tika\n",
      "  Building wheel for tika (setup.py) ... \u001b[?25l\u001b[?25hdone\n",
      "  Created wheel for tika: filename=tika-1.24-py3-none-any.whl size=32893 sha256=4423c9a6858aec7539a9e3d527f85775a21b34556ee97f21c6799652b46ec7c8\n",
      "  Stored in directory: /root/.cache/pip/wheels/ec/2b/38/58ff05467a742e32f67f5d0de048fa046e764e2fbb25ac93f3\n",
      "Successfully built tika\n",
      "Installing collected packages: tika\n",
      "Successfully installed tika-1.24\n"
     ]
    }
   ],
   "source": [
    "!pip install tika"
   ]
  },
  {
   "cell_type": "code",
   "execution_count": 87,
   "metadata": {
    "colab": {
     "base_uri": "https://localhost:8080/"
    },
    "executionInfo": {
     "elapsed": 20537,
     "status": "ok",
     "timestamp": 1645087555355,
     "user": {
      "displayName": "田中義規",
      "photoUrl": "https://lh3.googleusercontent.com/a/default-user=s64",
      "userId": "03358882541309422843"
     },
     "user_tz": -540
    },
    "id": "dbi7B-Q20XMn",
    "outputId": "1a148826-16d6-4c8b-d472-0fe86690b8bc"
   },
   "outputs": [
    {
     "name": "stderr",
     "output_type": "stream",
     "text": [
      "2022-02-17 08:45:34,174 [MainThread  ] [INFO ]  Retrieving http://search.maven.org/remotecontent?filepath=org/apache/tika/tika-server/1.24/tika-server-1.24.jar to /tmp/tika-server.jar.\n",
      "2022-02-17 08:45:34,893 [MainThread  ] [INFO ]  Retrieving http://search.maven.org/remotecontent?filepath=org/apache/tika/tika-server/1.24/tika-server-1.24.jar.md5 to /tmp/tika-server.jar.md5.\n",
      "2022-02-17 08:45:35,948 [MainThread  ] [WARNI]  Failed to see startup log message; retrying...\n"
     ]
    }
   ],
   "source": [
    "from tika import parser\n",
    "\n",
    "file_data = parser.from_file('000023536.pdf')\n",
    "text = file_data[\"content\"]"
   ]
  },
  {
   "cell_type": "code",
   "execution_count": 88,
   "metadata": {
    "colab": {
     "base_uri": "https://localhost:8080/"
    },
    "executionInfo": {
     "elapsed": 13,
     "status": "ok",
     "timestamp": 1645087555355,
     "user": {
      "displayName": "田中義規",
      "photoUrl": "https://lh3.googleusercontent.com/a/default-user=s64",
      "userId": "03358882541309422843"
     },
     "user_tz": -540
    },
    "id": "QEzZ0FYsHsjF",
    "outputId": "d5138160-59a2-4269-aa14-2e0f04848b2b"
   },
   "outputs": [
    {
     "name": "stdout",
     "output_type": "stream",
     "text": [
      "['1 アフガニスタン\\u3000\\u3000Afghanistan', '2 アルバニア\\u3000\\u3000Albania', '3 アルジェリア\\u3000\\u3000Algeria', '4 アンドラ\\u3000\\u3000Andorra', '5 アンゴラ\\u3000\\u3000Angola', '6 アンティグア・バーブーダ\\u3000\\u3000Antigua and Barbuda', '7 アルゼンチン\\u3000\\u3000Argentina', '8 アルメニア\\u3000\\u3000Armenia', '9 オーストラリア\\u3000\\u3000Australia', '10 オーストリア\\u3000\\u3000Austria', '11 アゼルバイジャン\\u3000Azerbaijan', '12 バハマ\\u3000\\u3000Bahamas', '13 バーレーン\\u3000\\u3000Bahrain', '14 バングラデシュ\\u3000\\u3000Bangladesh', '15 バルバドス\\u3000\\u3000Barbados', '16 ベラルーシ\\u3000\\u3000Belarus', '17 ベルギー\\u3000\\u3000Belgium', '18 ベリーズ\\u3000\\u3000Belize', '19 ベナン\\u3000\\u3000Benin', '20 ブータン\\u3000\\u3000Bhutan']\n"
     ]
    }
   ],
   "source": [
    "import re\n",
    "rows = re.findall('([0-9]+ .*\\u3000*.*)', text)\n",
    "print(rows[:20])"
   ]
  },
  {
   "cell_type": "code",
   "execution_count": 89,
   "metadata": {
    "executionInfo": {
     "elapsed": 11,
     "status": "ok",
     "timestamp": 1645087555355,
     "user": {
      "displayName": "田中義規",
      "photoUrl": "https://lh3.googleusercontent.com/a/default-user=s64",
      "userId": "03358882541309422843"
     },
     "user_tz": -540
    },
    "id": "8fH2W86t0XPh"
   },
   "outputs": [],
   "source": [
    "fo = open('countries.txt', 'w')\n",
    "for r in rows:\n",
    "  r = ' '.join(r.split(' ')[1:])\n",
    "  fo.write(re.sub('(\\u3000)+', '\\t', r) + '\\n')\n",
    "fo.close()"
   ]
  },
  {
   "cell_type": "code",
   "execution_count": 90,
   "metadata": {
    "colab": {
     "base_uri": "https://localhost:8080/"
    },
    "executionInfo": {
     "elapsed": 381,
     "status": "ok",
     "timestamp": 1645087555726,
     "user": {
      "displayName": "田中義規",
      "photoUrl": "https://lh3.googleusercontent.com/a/default-user=s64",
      "userId": "03358882541309422843"
     },
     "user_tz": -540
    },
    "id": "U5Y54BRFLvC1",
    "outputId": "75c4a979-b009-4bf3-8c6c-7cf15597c788"
   },
   "outputs": [
    {
     "name": "stdout",
     "output_type": "stream",
     "text": [
      "アフガニスタン\tAfghanistan\n",
      "アルバニア\tAlbania\n",
      "アルジェリア\tAlgeria\n",
      "アンドラ\tAndorra\n",
      "アンゴラ\tAngola\n",
      "アンティグア・バーブーダ\tAntigua and Barbuda\n",
      "アルゼンチン\tArgentina\n",
      "アルメニア\tArmenia\n",
      "オーストラリア\tAustralia\n",
      "オーストリア\tAustria\n"
     ]
    }
   ],
   "source": [
    "!head -10 ./countries.txt"
   ]
  },
  {
   "cell_type": "code",
   "execution_count": 91,
   "metadata": {
    "executionInfo": {
     "elapsed": 4,
     "status": "ok",
     "timestamp": 1645087555726,
     "user": {
      "displayName": "田中義規",
      "photoUrl": "https://lh3.googleusercontent.com/a/default-user=s64",
      "userId": "03358882541309422843"
     },
     "user_tz": -540
    },
    "id": "uqSJ7953JRYf"
   },
   "outputs": [],
   "source": [
    "# !cp ./countries.txt ./drive/MyDrive/100pon/data/"
   ]
  },
  {
   "cell_type": "code",
   "execution_count": 92,
   "metadata": {
    "executionInfo": {
     "elapsed": 265,
     "status": "ok",
     "timestamp": 1645087555987,
     "user": {
      "displayName": "田中義規",
      "photoUrl": "https://lh3.googleusercontent.com/a/default-user=s64",
      "userId": "03358882541309422843"
     },
     "user_tz": -540
    },
    "id": "qZZ0jhz5J69K"
   },
   "outputs": [],
   "source": [
    "countries = []\n",
    "f = open('countries.txt', 'r')\n",
    "line = f.readline()\n",
    "while line:\n",
    "  line = line.replace(' the', '')\n",
    "  line = re.sub('\\(.*\\)', '', line)\n",
    "  country = line.strip().replace(' ', '_').split('\\t')[1]\n",
    "  country_list = country.split('_of_')\n",
    "  countries += country_list\n",
    "  line = f.readline()\n",
    "fo.close()\n",
    "countries = list(set(countries))"
   ]
  },
  {
   "cell_type": "code",
   "execution_count": 93,
   "metadata": {
    "colab": {
     "base_uri": "https://localhost:8080/"
    },
    "executionInfo": {
     "elapsed": 2414,
     "status": "ok",
     "timestamp": 1645087558400,
     "user": {
      "displayName": "田中義規",
      "photoUrl": "https://lh3.googleusercontent.com/a/default-user=s64",
      "userId": "03358882541309422843"
     },
     "user_tz": -540
    },
    "id": "l8KeSCNNN9uK",
    "outputId": "f54f723a-0373-4016-c3c7-3df540369030"
   },
   "outputs": [
    {
     "data": {
      "text/plain": [
       "['</s>', 'in', 'for', 'that', 'is', 'on', '##', 'The', 'with', 'said']"
      ]
     },
     "execution_count": 93,
     "metadata": {},
     "output_type": "execute_result"
    }
   ],
   "source": [
    "w2v_vocab = list(model.vocab.keys())\n",
    "w2v_vocab[:10]"
   ]
  },
  {
   "cell_type": "markdown",
   "metadata": {
    "id": "Ev9SqMAD0_LM"
   },
   "source": [
    "取得した国名のうち，word2vecのvocabにも含まれるもののベクトルを分析対象とする．<br>\n",
    "United_StatesとAmericaなど，同じ国だが別の表記であるものも存在するが，両方とも分析対象とする．"
   ]
  },
  {
   "cell_type": "code",
   "execution_count": 94,
   "metadata": {
    "executionInfo": {
     "elapsed": 80631,
     "status": "ok",
     "timestamp": 1645087639025,
     "user": {
      "displayName": "田中義規",
      "photoUrl": "https://lh3.googleusercontent.com/a/default-user=s64",
      "userId": "03358882541309422843"
     },
     "user_tz": -540
    },
    "id": "wGeaFgdtN-Rr"
   },
   "outputs": [],
   "source": [
    "w2v_countries = {'country': [], \n",
    "                 'vectors': []}\n",
    "w2v_vocab = set(w2v_vocab)\n",
    "for c in countries:\n",
    "  if c in set(w2v_vocab):\n",
    "    w2v_countries['country'].append(c)\n",
    "    w2v_countries['vectors'].append(model[c])\n",
    "w2v_countries['vectors'] = np.array(w2v_countries['vectors'])"
   ]
  },
  {
   "cell_type": "code",
   "execution_count": 95,
   "metadata": {
    "colab": {
     "base_uri": "https://localhost:8080/"
    },
    "executionInfo": {
     "elapsed": 14,
     "status": "ok",
     "timestamp": 1645087639026,
     "user": {
      "displayName": "田中義規",
      "photoUrl": "https://lh3.googleusercontent.com/a/default-user=s64",
      "userId": "03358882541309422843"
     },
     "user_tz": -540
    },
    "id": "UtUYim4pVyk0",
    "outputId": "ea53331c-332e-4ec3-def3-b03b02df4802"
   },
   "outputs": [
    {
     "name": "stdout",
     "output_type": "stream",
     "text": [
      "177 (177, 300)\n"
     ]
    }
   ],
   "source": [
    "print(len(w2v_countries['country']), w2v_countries['vectors'].shape)"
   ]
  },
  {
   "cell_type": "markdown",
   "metadata": {
    "id": "S6gyZLS90N7G"
   },
   "source": [
    "### kmeans法によるクラスタリング"
   ]
  },
  {
   "cell_type": "code",
   "execution_count": 96,
   "metadata": {
    "executionInfo": {
     "elapsed": 1356,
     "status": "ok",
     "timestamp": 1645087640369,
     "user": {
      "displayName": "田中義規",
      "photoUrl": "https://lh3.googleusercontent.com/a/default-user=s64",
      "userId": "03358882541309422843"
     },
     "user_tz": -540
    },
    "id": "naw5Xj9oN-Z2"
   },
   "outputs": [],
   "source": [
    "from sklearn.cluster import KMeans\n",
    "\n",
    "n_clusters = 5\n",
    "kmeans = KMeans(n_clusters=n_clusters, random_state=0)\n",
    "cluster_labels = kmeans.fit_predict(w2v_countries['vectors'])"
   ]
  },
  {
   "cell_type": "code",
   "execution_count": 97,
   "metadata": {
    "colab": {
     "base_uri": "https://localhost:8080/"
    },
    "executionInfo": {
     "elapsed": 5,
     "status": "ok",
     "timestamp": 1645087640370,
     "user": {
      "displayName": "田中義規",
      "photoUrl": "https://lh3.googleusercontent.com/a/default-user=s64",
      "userId": "03358882541309422843"
     },
     "user_tz": -540
    },
    "id": "ncqRu6wbN-cZ",
    "outputId": "a8c8addc-30e5-46f5-edff-cfbfd090bc29"
   },
   "outputs": [
    {
     "name": "stdout",
     "output_type": "stream",
     "text": [
      "cluster label: 0\n",
      "['Fiji', 'Myanmar', 'Malaysia', 'Viet_Nam', 'Brunei_Darussalam', 'Philippines', 'Solomon_Islands', 'Japan', 'Sri_Lanka', 'Korea', 'Micronesia', 'Mongolia', 'Kiribati', 'Bhutan', 'Singapore', 'Palau', 'Nepal', 'China', 'Cambodia', 'Samoa', 'Thailand', 'Bangladesh', 'Nauru', 'New_Zealand', 'India', 'Australia', 'Tonga', 'Indonesia', 'Vanuatu', 'Maldives', 'Tuvalu', 'Marshall_Islands']\n",
      "cluster label: 1\n",
      "['Argentina', 'Ukraine', 'Georgia', 'Switzerland', 'Luxembourg', 'Austria', 'Estonia', 'Republic', 'Germany', 'Sweden', 'Croatia', 'Greece', 'Denmark', 'United_States', 'Romania', 'Andorra', 'Iceland', 'Canada', 'France', 'Ireland', 'Liechtenstein', 'Latvia', 'Monaco', 'Paraguay', 'Albania', 'Belgium', 'Bulgaria', 'Malta', 'Italy', 'Portugal', 'Slovakia', 'Slovenia', 'Hungary', 'Kazakhstan', 'Finland', 'Uruguay', 'San_Marino', 'Moldova', 'Norway', 'United_Kingdom', 'Netherlands', 'Armenia', 'America', 'Serbia', 'Poland', 'Belarus', 'Spain', 'Turkey', 'Cyprus', 'Czech_Republic', 'Lithuania', 'Montenegro']\n",
      "cluster label: 2\n",
      "['Burundi', 'Sierra_Leone', 'Uganda', 'Gambia', 'Ghana', 'Madagascar', 'Guinea', 'Equatorial_Guinea', 'Kenya', 'Nigeria', 'Gabon', 'Tanzania', 'Niger', 'Seychelles', 'Burkina_Faso', 'Malawi', 'Cameroon', 'Rwanda', 'Lesotho', 'Mozambique', 'Comoros', 'Mauritania', 'Mauritius', 'Mali', 'South_Africa', 'Senegal', 'Djibouti', 'Angola', 'Namibia', 'Zimbabwe', 'Ethiopia', 'Benin', 'Togo', 'Liberia', 'Botswana', 'Zambia', 'Congo']\n",
      "cluster label: 3\n",
      "['Algeria', 'Oman', 'Pakistan', 'Tunisia', 'Iraq', 'Turkmenistan', 'Egypt', 'Morocco', 'Israel', 'Libya', 'Afghanistan', 'Iran', 'Saudi_Arabia', 'Eritrea', 'United_Arab_Emirates', 'Somalia', 'Azerbaijan', 'Sudan', 'Uzbekistan', 'Tajikistan', 'Kyrgyzstan', 'Kuwait', 'Yemen', 'Jordan', 'Syria', 'Chad', 'Bahrain', 'Lebanon', 'Qatar']\n",
      "cluster label: 4\n",
      "['Dominica', 'Dominican_Republic', 'Panama', 'Bahamas', 'Ecuador', 'Costa_Rica', 'Belize', 'Guatemala', 'Venezuela', 'Honduras', 'Chile', 'Nicaragua', 'Grenada', 'Brazil', 'Peru', 'Mexico', 'Jamaica', 'Saint_Lucia', 'Colombia', 'Haiti', 'Guyana', 'Suriname', 'El_Salvador', 'Barbados', 'Bolivia', 'Cuba', 'Cabo_Verde']\n"
     ]
    }
   ],
   "source": [
    "for i in range(n_clusters):\n",
    "  print('cluster label:', i)\n",
    "  print(np.array(w2v_countries['country'])[cluster_labels==i].tolist())"
   ]
  },
  {
   "cell_type": "code",
   "execution_count": 97,
   "metadata": {
    "executionInfo": {
     "elapsed": 3,
     "status": "ok",
     "timestamp": 1645087640759,
     "user": {
      "displayName": "田中義規",
      "photoUrl": "https://lh3.googleusercontent.com/a/default-user=s64",
      "userId": "03358882541309422843"
     },
     "user_tz": -540
    },
    "id": "R_hGtIkpXneo"
   },
   "outputs": [],
   "source": []
  },
  {
   "cell_type": "markdown",
   "metadata": {
    "id": "5oeund5fYd9i"
   },
   "source": [
    "## 68"
   ]
  },
  {
   "cell_type": "code",
   "execution_count": 98,
   "metadata": {
    "colab": {
     "base_uri": "https://localhost:8080/"
    },
    "executionInfo": {
     "elapsed": 5476,
     "status": "ok",
     "timestamp": 1645087646233,
     "user": {
      "displayName": "田中義規",
      "photoUrl": "https://lh3.googleusercontent.com/a/default-user=s64",
      "userId": "03358882541309422843"
     },
     "user_tz": -540
    },
    "id": "ffwUaNrCYxXF",
    "outputId": "b984797b-ebb3-4e0c-f658-89f08d3264c0"
   },
   "outputs": [
    {
     "name": "stdout",
     "output_type": "stream",
     "text": [
      "Collecting japanize-matplotlib\n",
      "  Downloading japanize-matplotlib-1.1.3.tar.gz (4.1 MB)\n",
      "\u001b[K     |████████████████████████████████| 4.1 MB 7.6 MB/s \n",
      "\u001b[?25hRequirement already satisfied: matplotlib in /usr/local/lib/python3.7/dist-packages (from japanize-matplotlib) (3.2.2)\n",
      "Requirement already satisfied: cycler>=0.10 in /usr/local/lib/python3.7/dist-packages (from matplotlib->japanize-matplotlib) (0.11.0)\n",
      "Requirement already satisfied: kiwisolver>=1.0.1 in /usr/local/lib/python3.7/dist-packages (from matplotlib->japanize-matplotlib) (1.3.2)\n",
      "Requirement already satisfied: python-dateutil>=2.1 in /usr/local/lib/python3.7/dist-packages (from matplotlib->japanize-matplotlib) (2.8.2)\n",
      "Requirement already satisfied: pyparsing!=2.0.4,!=2.1.2,!=2.1.6,>=2.0.1 in /usr/local/lib/python3.7/dist-packages (from matplotlib->japanize-matplotlib) (3.0.7)\n",
      "Requirement already satisfied: numpy>=1.11 in /usr/local/lib/python3.7/dist-packages (from matplotlib->japanize-matplotlib) (1.21.5)\n",
      "Requirement already satisfied: six>=1.5 in /usr/local/lib/python3.7/dist-packages (from python-dateutil>=2.1->matplotlib->japanize-matplotlib) (1.15.0)\n",
      "Building wheels for collected packages: japanize-matplotlib\n",
      "  Building wheel for japanize-matplotlib (setup.py) ... \u001b[?25l\u001b[?25hdone\n",
      "  Created wheel for japanize-matplotlib: filename=japanize_matplotlib-1.1.3-py3-none-any.whl size=4120275 sha256=5423085106bc501f4e6fac6296cde4ab9b4f5eb8415f75302260365480195c65\n",
      "  Stored in directory: /root/.cache/pip/wheels/83/97/6b/e9e0cde099cc40f972b8dd23367308f7705ae06cd6d4714658\n",
      "Successfully built japanize-matplotlib\n",
      "Installing collected packages: japanize-matplotlib\n",
      "Successfully installed japanize-matplotlib-1.1.3\n"
     ]
    }
   ],
   "source": [
    "!pip install japanize-matplotlib"
   ]
  },
  {
   "cell_type": "markdown",
   "metadata": {
    "id": "Q30yvR7Q0TPh"
   },
   "source": [
    "### Ward法によるクラスタリング"
   ]
  },
  {
   "cell_type": "code",
   "execution_count": 99,
   "metadata": {
    "colab": {
     "base_uri": "https://localhost:8080/",
     "height": 318
    },
    "executionInfo": {
     "elapsed": 10298,
     "status": "ok",
     "timestamp": 1645087656526,
     "user": {
      "displayName": "田中義規",
      "photoUrl": "https://lh3.googleusercontent.com/a/default-user=s64",
      "userId": "03358882541309422843"
     },
     "user_tz": -540
    },
    "id": "258aA5TyYejY",
    "outputId": "90b4523b-2ce0-4549-977b-f321f1df5325"
   },
   "outputs": [
    {
     "data": {
      "image/png": "[encoded data removed]",
      "text/plain": [
       "<Figure size 3600x1080 with 1 Axes>"
      ]
     },
     "metadata": {
      "needs_background": "light"
     },
     "output_type": "display_data"
    }
   ],
   "source": [
    "from matplotlib import pyplot as plt\n",
    "import japanize_matplotlib\n",
    "from scipy.cluster.hierarchy import dendrogram\n",
    "from scipy.cluster.hierarchy import linkage,dendrogram,fcluster\n",
    "\n",
    "X = w2v_countries['vectors']\n",
    "Z = linkage(X, method='ward', metric='euclidean')\n",
    "fig, ax = plt.subplots(figsize=(50,15))\n",
    "ax = dendrogram(Z, labels=np.array(w2v_countries['country']), leaf_font_size=15)\n",
    "fig.show()"
   ]
  },
  {
   "cell_type": "code",
   "execution_count": 99,
   "metadata": {
    "executionInfo": {
     "elapsed": 6,
     "status": "ok",
     "timestamp": 1645087656526,
     "user": {
      "displayName": "田中義規",
      "photoUrl": "https://lh3.googleusercontent.com/a/default-user=s64",
      "userId": "03358882541309422843"
     },
     "user_tz": -540
    },
    "id": "-EUxEGLxYe8A"
   },
   "outputs": [],
   "source": []
  },
  {
   "cell_type": "markdown",
   "metadata": {
    "id": "OIimWEq1aaC-"
   },
   "source": [
    "## 69"
   ]
  },
  {
   "cell_type": "code",
   "execution_count": 100,
   "metadata": {
    "executionInfo": {
     "elapsed": 1591,
     "status": "ok",
     "timestamp": 1645087658112,
     "user": {
      "displayName": "田中義規",
      "photoUrl": "https://lh3.googleusercontent.com/a/default-user=s64",
      "userId": "03358882541309422843"
     },
     "user_tz": -540
    },
    "id": "SZz1l59CYe-Z"
   },
   "outputs": [],
   "source": [
    "from sklearn.manifold import TSNE\n",
    "\n",
    "X = w2v_countries['vectors']\n",
    "tsne = TSNE(n_components=2, learning_rate='auto', init='random', random_state=0).fit_transform(X)"
   ]
  },
  {
   "cell_type": "code",
   "execution_count": 104,
   "metadata": {
    "colab": {
     "base_uri": "https://localhost:8080/",
     "height": 319
    },
    "executionInfo": {
     "elapsed": 794,
     "status": "ok",
     "timestamp": 1645087795127,
     "user": {
      "displayName": "田中義規",
      "photoUrl": "https://lh3.googleusercontent.com/a/default-user=s64",
      "userId": "03358882541309422843"
     },
     "user_tz": -540
    },
    "id": "uSfzjdBnYfA2",
    "outputId": "b53dc1c9-8e9b-4851-91bf-242ed6669e0e"
   },
   "outputs": [
    {
     "data": {
      "image/png": "[encoded data removed]",
      "text/plain": [
       "<Figure size 360x360 with 1 Axes>"
      ]
     },
     "metadata": {
      "needs_background": "light"
     },
     "output_type": "display_data"
    }
   ],
   "source": [
    "plt.figure(figsize=(5, 5))\n",
    "plt.scatter(tsne[:, 0], tsne[:, 1])\n",
    "plt.show()"
   ]
  },
  {
   "cell_type": "code",
   "execution_count": 105,
   "metadata": {
    "colab": {
     "base_uri": "https://localhost:8080/",
     "height": 319
    },
    "executionInfo": {
     "elapsed": 586,
     "status": "ok",
     "timestamp": 1645087796601,
     "user": {
      "displayName": "田中義規",
      "photoUrl": "https://lh3.googleusercontent.com/a/default-user=s64",
      "userId": "03358882541309422843"
     },
     "user_tz": -540
    },
    "id": "booweYY8YfDY",
    "outputId": "231cb8f2-122a-487a-fc3d-b04a90bc23e9"
   },
   "outputs": [
    {
     "data": {
      "image/png": "[encoded data removed]",
      "text/plain": [
       "<Figure size 360x360 with 1 Axes>"
      ]
     },
     "metadata": {
      "needs_background": "light"
     },
     "output_type": "display_data"
    }
   ],
   "source": [
    "# 67のkmeansの結果をもとに色付け\n",
    "import matplotlib.cm as cm\n",
    "\n",
    "plt.figure(figsize=(5, 5))\n",
    "colors = cm.nipy_spectral(cluster_labels.astype(float) / n_clusters)\n",
    "plt.scatter(tsne[:, 0], tsne[:, 1], c=colors)\n",
    "plt.show()"
   ]
  },
  {
   "cell_type": "code",
   "execution_count": 109,
   "metadata": {
    "colab": {
     "base_uri": "https://localhost:8080/",
     "height": 591
    },
    "executionInfo": {
     "elapsed": 3531,
     "status": "ok",
     "timestamp": 1645088119620,
     "user": {
      "displayName": "田中義規",
      "photoUrl": "https://lh3.googleusercontent.com/a/default-user=s64",
      "userId": "03358882541309422843"
     },
     "user_tz": -540
    },
    "id": "DGpYyAxJYfF4",
    "outputId": "48f68833-e18a-49fb-a405-77fbcadca72a"
   },
   "outputs": [
    {
     "data": {
      "image/png": "[encoded data removed]",
      "text/plain": [
       "<Figure size 720x720 with 1 Axes>"
      ]
     },
     "metadata": {
      "needs_background": "light"
     },
     "output_type": "display_data"
    }
   ],
   "source": [
    "plt.figure(figsize=(10, 10))\n",
    "plt.scatter(tsne[:, 0], tsne[:, 1], c='#00000000')\n",
    "for i in range(tsne.shape[0]):\n",
    "  plt.text(tsne[i][0], tsne[i][1], w2v_countries['country'][i] , ha='center', va='center', c=colors[i])\n",
    "\n",
    "plt.savefig('./drive/MyDrive/100pon/materials/clustering.jpg', format=\"jpg\", dpi=300)\n",
    "plt.show()"
   ]
  },
  {
   "cell_type": "code",
   "execution_count": null,
   "metadata": {
    "id": "93hlWVFkYfIV"
   },
   "outputs": [],
   "source": []
  },
  {
   "cell_type": "code",
   "execution_count": null,
   "metadata": {
    "id": "rn8UYWdH5RxA"
   },
   "outputs": [],
   "source": []
  }
 ],
 "metadata": {
  "colab": {
   "authorship_tag": "ABX9TyPpDdLL2n7h573fSVH7PPWj",
   "collapsed_sections": [],
   "mount_file_id": "1qS9exXno-1kmhqbjuAUE2KZ_r9HuBL27",
   "name": "60-69.ipynb",
   "provenance": []
  },
  "kernelspec": {
   "display_name": "Python 3 (ipykernel)",
   "language": "python",
   "name": "python3"
  },
  "language_info": {
   "codemirror_mode": {
    "name": "ipython",
    "version": 3
   },
   "file_extension": ".py",
   "mimetype": "text/x-python",
   "name": "python",
   "nbconvert_exporter": "python",
   "pygments_lexer": "ipython3",
   "version": "3.9.7"
  }
 },
 "nbformat": 4,
 "nbformat_minor": 4
}
