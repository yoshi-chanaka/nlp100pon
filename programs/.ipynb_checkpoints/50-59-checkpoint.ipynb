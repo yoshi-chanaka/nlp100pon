{
 "cells": [
  {
   "cell_type": "markdown",
   "metadata": {
    "id": "2s9qnF7tRGDr"
   },
   "source": [
    "https://archive.ics.uci.edu/ml/datasets/News+Aggregator"
   ]
  },
  {
   "cell_type": "markdown",
   "metadata": {
    "id": "u4E53ug6ofrk"
   },
   "source": [
    "## 50"
   ]
  },
  {
   "cell_type": "code",
   "execution_count": null,
   "metadata": {
    "colab": {
     "base_uri": "https://localhost:8080/"
    },
    "executionInfo": {
     "elapsed": 1654,
     "status": "ok",
     "timestamp": 1645687145977,
     "user": {
      "displayName": "田中義規",
      "photoUrl": "https://lh3.googleusercontent.com/a/default-user=s64",
      "userId": "03358882541309422843"
     },
     "user_tz": -540
    },
    "id": "xsnkCNnMoWNg",
    "outputId": "f2628691-e260-47b6-dc2c-ee90bbf2a503"
   },
   "outputs": [
    {
     "name": "stdout",
     "output_type": "stream",
     "text": [
      "--2022-02-24 07:19:04--  https://archive.ics.uci.edu/ml/machine-learning-databases/00359/NewsAggregatorDataset.zip\n",
      "Resolving archive.ics.uci.edu (archive.ics.uci.edu)... 128.195.10.252\n",
      "Connecting to archive.ics.uci.edu (archive.ics.uci.edu)|128.195.10.252|:443... connected.\n",
      "HTTP request sent, awaiting response... 200 OK\n",
      "Length: 29224203 (28M) [application/x-httpd-php]\n",
      "Saving to: ‘NewsAggregatorDataset.zip’\n",
      "\n",
      "NewsAggregatorDatas 100%[===================>]  27.87M  25.2MB/s    in 1.1s    \n",
      "\n",
      "2022-02-24 07:19:06 (25.2 MB/s) - ‘NewsAggregatorDataset.zip’ saved [29224203/29224203]\n",
      "\n"
     ]
    }
   ],
   "source": [
    "!wget https://archive.ics.uci.edu/ml/machine-learning-databases/00359/NewsAggregatorDataset.zip"
   ]
  },
  {
   "cell_type": "code",
   "execution_count": null,
   "metadata": {
    "colab": {
     "base_uri": "https://localhost:8080/"
    },
    "executionInfo": {
     "elapsed": 1618,
     "status": "ok",
     "timestamp": 1645687147592,
     "user": {
      "displayName": "田中義規",
      "photoUrl": "https://lh3.googleusercontent.com/a/default-user=s64",
      "userId": "03358882541309422843"
     },
     "user_tz": -540
    },
    "id": "HOYECqhloh54",
    "outputId": "392da501-a6c7-408e-cc38-e6a776fa3de1"
   },
   "outputs": [
    {
     "name": "stdout",
     "output_type": "stream",
     "text": [
      "Archive:  NewsAggregatorDataset.zip\n",
      "  inflating: 2pageSessions.csv       \n",
      "   creating: __MACOSX/\n",
      "  inflating: __MACOSX/._2pageSessions.csv  \n",
      "  inflating: newsCorpora.csv         \n",
      "  inflating: __MACOSX/._newsCorpora.csv  \n",
      "  inflating: readme.txt              \n",
      "  inflating: __MACOSX/._readme.txt   \n"
     ]
    }
   ],
   "source": [
    "!unzip NewsAggregatorDataset.zip"
   ]
  },
  {
   "cell_type": "code",
   "execution_count": null,
   "metadata": {
    "colab": {
     "base_uri": "https://localhost:8080/"
    },
    "executionInfo": {
     "elapsed": 408,
     "status": "ok",
     "timestamp": 1645687147988,
     "user": {
      "displayName": "田中義規",
      "photoUrl": "https://lh3.googleusercontent.com/a/default-user=s64",
      "userId": "03358882541309422843"
     },
     "user_tz": -540
    },
    "id": "g0Dmzheooh8Y",
    "outputId": "590387f3-a91d-486e-e528-5c8e69257225"
   },
   "outputs": [
    {
     "name": "stdout",
     "output_type": "stream",
     "text": [
      "1\tFed official says weak data caused by weather, should not slow taper\thttp://www.latimes.com/business/money/la-fi-mo-federal-reserve-plosser-stimulus-economy-20140310,0,1312750.story\\?track=rss\tLos Angeles Times\tb\tddUyU0VZz0BRneMioxUPQVP6sIxvM\twww.latimes.com\t1394470370698\n",
      "2\tFed's Charles Plosser sees high bar for change in pace of tapering\thttp://www.livemint.com/Politics/H2EvwJSK2VE6OF7iK1g3PP/Feds-Charles-Plosser-sees-high-bar-for-change-in-pace-of-ta.html\tLivemint\tb\tddUyU0VZz0BRneMioxUPQVP6sIxvM\twww.livemint.com\t1394470371207\n",
      "3\tUS open: Stocks fall after Fed official hints at accelerated tapering\thttp://www.ifamagazine.com/news/us-open-stocks-fall-after-fed-official-hints-at-accelerated-tapering-294436\tIFA Magazine\tb\tddUyU0VZz0BRneMioxUPQVP6sIxvM\twww.ifamagazine.com\t1394470371550\n",
      "4\tFed risks falling 'behind the curve', Charles Plosser says\thttp://www.ifamagazine.com/news/fed-risks-falling-behind-the-curve-charles-plosser-says-294430\tIFA Magazine\tb\tddUyU0VZz0BRneMioxUPQVP6sIxvM\twww.ifamagazine.com\t1394470371793\n",
      "5\tFed's Plosser: Nasty Weather Has Curbed Job Growth\thttp://www.moneynews.com/Economy/federal-reserve-charles-plosser-weather-job-growth/2014/03/10/id/557011\tMoneynews\tb\tddUyU0VZz0BRneMioxUPQVP6sIxvM\twww.moneynews.com\t1394470372027\n",
      "dxyGGb4iN9Cs9aMZTKQpJeoiQfruM\ttechcrunch.com\tb\thttp://techcrunch.com/ http://techcrunch.com/2014/03/10/ebay-asks-shareholders-to-vote-against-paypal-split-while-icahn-claims-ceo-incompetence-cost-4b/ \n",
      "dxyGGb4iN9Cs9aMZTKQpJeoiQfruM\ttechcrunch.com\tb\thttp://techcrunch.com/ecommerce/ http://techcrunch.com/2014/03/10/ebay-asks-shareholders-to-vote-against-paypal-split-while-icahn-claims-ceo-incompetence-cost-4b/ \n",
      "dxyGGb4iN9Cs9aMZTKQpJeoiQfruM\twww.bnn.ca\tb\thttp://www.bnn.ca/News/2014/ http://www.bnn.ca/News/2014/3/10/EBay-asks-shareholders-to-vote-against-Icahn-board-nominees.aspx \n",
      "dxyGGb4iN9Cs9aMZTKQpJeoiQfruM\twww.bnn.ca\tb\thttp://www.bnn.ca/news http://www.bnn.ca/News/2014/3/10/EBay-asks-shareholders-to-vote-against-Icahn-board-nominees.aspx \n",
      "dxyGGb4iN9Cs9aMZTKQpJeoiQfruM\twww.bnn.ca\tb\thttp://www.bnn.ca/News/News-Listing.aspx?Sector=Investing http://www.bnn.ca/News/2014/3/10/EBay-asks-shareholders-to-vote-against-Icahn-board-nominees.aspx \n",
      "422937 newsCorpora.csv\n",
      "15516 2pageSessions.csv\n"
     ]
    }
   ],
   "source": [
    "!head -n 5 newsCorpora.csv\n",
    "!head -n 5 2pageSessions.csv\n",
    "!wc -l newsCorpora.csv\n",
    "!wc -l 2pageSessions.csv"
   ]
  },
  {
   "cell_type": "code",
   "execution_count": null,
   "metadata": {
    "colab": {
     "base_uri": "https://localhost:8080/",
     "height": 963
    },
    "executionInfo": {
     "elapsed": 3792,
     "status": "ok",
     "timestamp": 1645687151777,
     "user": {
      "displayName": "田中義規",
      "photoUrl": "https://lh3.googleusercontent.com/a/default-user=s64",
      "userId": "03358882541309422843"
     },
     "user_tz": -540
    },
    "id": "SNNtxPODoh_c",
    "outputId": "effaaf43-f89a-41e4-ec13-65135ea4b13b"
   },
   "outputs": [
    {
     "data": {
      "text/html": [
       "\n",
       "  <div id=\"df-ffd66700-746f-4f22-aa51-9ece49d96924\">\n",
       "    <div class=\"colab-df-container\">\n",
       "      <div>\n",
       "<style scoped>\n",
       "    .dataframe tbody tr th:only-of-type {\n",
       "        vertical-align: middle;\n",
       "    }\n",
       "\n",
       "    .dataframe tbody tr th {\n",
       "        vertical-align: top;\n",
       "    }\n",
       "\n",
       "    .dataframe thead th {\n",
       "        text-align: right;\n",
       "    }\n",
       "</style>\n",
       "<table border=\"1\" class=\"dataframe\">\n",
       "  <thead>\n",
       "    <tr style=\"text-align: right;\">\n",
       "      <th></th>\n",
       "      <th>id</th>\n",
       "      <th>title</th>\n",
       "      <th>url</th>\n",
       "      <th>publisher</th>\n",
       "      <th>category</th>\n",
       "      <th>story_id</th>\n",
       "      <th>hostname_url</th>\n",
       "      <th>timestamp</th>\n",
       "    </tr>\n",
       "  </thead>\n",
       "  <tbody>\n",
       "    <tr>\n",
       "      <th>0</th>\n",
       "      <td>1</td>\n",
       "      <td>Fed official says weak data caused by weather,...</td>\n",
       "      <td>http://www.latimes.com/business/money/la-fi-mo...</td>\n",
       "      <td>Los Angeles Times</td>\n",
       "      <td>b</td>\n",
       "      <td>ddUyU0VZz0BRneMioxUPQVP6sIxvM</td>\n",
       "      <td>www.latimes.com</td>\n",
       "      <td>1394470370698</td>\n",
       "    </tr>\n",
       "    <tr>\n",
       "      <th>1</th>\n",
       "      <td>2</td>\n",
       "      <td>Fed's Charles Plosser sees high bar for change...</td>\n",
       "      <td>http://www.livemint.com/Politics/H2EvwJSK2VE6O...</td>\n",
       "      <td>Livemint</td>\n",
       "      <td>b</td>\n",
       "      <td>ddUyU0VZz0BRneMioxUPQVP6sIxvM</td>\n",
       "      <td>www.livemint.com</td>\n",
       "      <td>1394470371207</td>\n",
       "    </tr>\n",
       "    <tr>\n",
       "      <th>2</th>\n",
       "      <td>3</td>\n",
       "      <td>US open: Stocks fall after Fed official hints ...</td>\n",
       "      <td>http://www.ifamagazine.com/news/us-open-stocks...</td>\n",
       "      <td>IFA Magazine</td>\n",
       "      <td>b</td>\n",
       "      <td>ddUyU0VZz0BRneMioxUPQVP6sIxvM</td>\n",
       "      <td>www.ifamagazine.com</td>\n",
       "      <td>1394470371550</td>\n",
       "    </tr>\n",
       "    <tr>\n",
       "      <th>3</th>\n",
       "      <td>4</td>\n",
       "      <td>Fed risks falling 'behind the curve', Charles ...</td>\n",
       "      <td>http://www.ifamagazine.com/news/fed-risks-fall...</td>\n",
       "      <td>IFA Magazine</td>\n",
       "      <td>b</td>\n",
       "      <td>ddUyU0VZz0BRneMioxUPQVP6sIxvM</td>\n",
       "      <td>www.ifamagazine.com</td>\n",
       "      <td>1394470371793</td>\n",
       "    </tr>\n",
       "    <tr>\n",
       "      <th>4</th>\n",
       "      <td>5</td>\n",
       "      <td>Fed's Plosser: Nasty Weather Has Curbed Job Gr...</td>\n",
       "      <td>http://www.moneynews.com/Economy/federal-reser...</td>\n",
       "      <td>Moneynews</td>\n",
       "      <td>b</td>\n",
       "      <td>ddUyU0VZz0BRneMioxUPQVP6sIxvM</td>\n",
       "      <td>www.moneynews.com</td>\n",
       "      <td>1394470372027</td>\n",
       "    </tr>\n",
       "  </tbody>\n",
       "</table>\n",
       "</div>\n",
       "      <button class=\"colab-df-convert\" onclick=\"convertToInteractive('df-ffd66700-746f-4f22-aa51-9ece49d96924')\"\n",
       "              title=\"Convert this dataframe to an interactive table.\"\n",
       "              style=\"display:none;\">\n",
       "        \n",
       "  <svg xmlns=\"http://www.w3.org/2000/svg\" height=\"24px\"viewBox=\"0 0 24 24\"\n",
       "       width=\"24px\">\n",
       "    <path d=\"M0 0h24v24H0V0z\" fill=\"none\"/>\n",
       "    <path d=\"M18.56 5.44l.94 2.06.94-2.06 2.06-.94-2.06-.94-.94-2.06-.94 2.06-2.06.94zm-11 1L8.5 8.5l.94-2.06 2.06-.94-2.06-.94L8.5 2.5l-.94 2.06-2.06.94zm10 10l.94 2.06.94-2.06 2.06-.94-2.06-.94-.94-2.06-.94 2.06-2.06.94z\"/><path d=\"M17.41 7.96l-1.37-1.37c-.4-.4-.92-.59-1.43-.59-.52 0-1.04.2-1.43.59L10.3 9.45l-7.72 7.72c-.78.78-.78 2.05 0 2.83L4 21.41c.39.39.9.59 1.41.59.51 0 1.02-.2 1.41-.59l7.78-7.78 2.81-2.81c.8-.78.8-2.07 0-2.86zM5.41 20L4 18.59l7.72-7.72 1.47 1.35L5.41 20z\"/>\n",
       "  </svg>\n",
       "      </button>\n",
       "      \n",
       "  <style>\n",
       "    .colab-df-container {\n",
       "      display:flex;\n",
       "      flex-wrap:wrap;\n",
       "      gap: 12px;\n",
       "    }\n",
       "\n",
       "    .colab-df-convert {\n",
       "      background-color: #E8F0FE;\n",
       "      border: none;\n",
       "      border-radius: 50%;\n",
       "      cursor: pointer;\n",
       "      display: none;\n",
       "      fill: #1967D2;\n",
       "      height: 32px;\n",
       "      padding: 0 0 0 0;\n",
       "      width: 32px;\n",
       "    }\n",
       "\n",
       "    .colab-df-convert:hover {\n",
       "      background-color: #E2EBFA;\n",
       "      box-shadow: 0px 1px 2px rgba(60, 64, 67, 0.3), 0px 1px 3px 1px rgba(60, 64, 67, 0.15);\n",
       "      fill: #174EA6;\n",
       "    }\n",
       "\n",
       "    [theme=dark] .colab-df-convert {\n",
       "      background-color: #3B4455;\n",
       "      fill: #D2E3FC;\n",
       "    }\n",
       "\n",
       "    [theme=dark] .colab-df-convert:hover {\n",
       "      background-color: #434B5C;\n",
       "      box-shadow: 0px 1px 3px 1px rgba(0, 0, 0, 0.15);\n",
       "      filter: drop-shadow(0px 1px 2px rgba(0, 0, 0, 0.3));\n",
       "      fill: #FFFFFF;\n",
       "    }\n",
       "  </style>\n",
       "\n",
       "      <script>\n",
       "        const buttonEl =\n",
       "          document.querySelector('#df-ffd66700-746f-4f22-aa51-9ece49d96924 button.colab-df-convert');\n",
       "        buttonEl.style.display =\n",
       "          google.colab.kernel.accessAllowed ? 'block' : 'none';\n",
       "\n",
       "        async function convertToInteractive(key) {\n",
       "          const element = document.querySelector('#df-ffd66700-746f-4f22-aa51-9ece49d96924');\n",
       "          const dataTable =\n",
       "            await google.colab.kernel.invokeFunction('convertToInteractive',\n",
       "                                                     [key], {});\n",
       "          if (!dataTable) return;\n",
       "\n",
       "          const docLinkHtml = 'Like what you see? Visit the ' +\n",
       "            '<a target=\"_blank\" href=https://colab.research.google.com/notebooks/data_table.ipynb>data table notebook</a>'\n",
       "            + ' to learn more about interactive tables.';\n",
       "          element.innerHTML = '';\n",
       "          dataTable['output_type'] = 'display_data';\n",
       "          await google.colab.output.renderOutput(dataTable, element);\n",
       "          const docLink = document.createElement('div');\n",
       "          docLink.innerHTML = docLinkHtml;\n",
       "          element.appendChild(docLink);\n",
       "        }\n",
       "      </script>\n",
       "    </div>\n",
       "  </div>\n",
       "  "
      ],
      "text/plain": [
       "   id  ...      timestamp\n",
       "0   1  ...  1394470370698\n",
       "1   2  ...  1394470371207\n",
       "2   3  ...  1394470371550\n",
       "3   4  ...  1394470371793\n",
       "4   5  ...  1394470372027\n",
       "\n",
       "[5 rows x 8 columns]"
      ]
     },
     "metadata": {},
     "output_type": "display_data"
    },
    {
     "data": {
      "text/html": [
       "\n",
       "  <div id=\"df-0f81b215-6c00-4308-bfb4-7887d861c689\">\n",
       "    <div class=\"colab-df-container\">\n",
       "      <div>\n",
       "<style scoped>\n",
       "    .dataframe tbody tr th:only-of-type {\n",
       "        vertical-align: middle;\n",
       "    }\n",
       "\n",
       "    .dataframe tbody tr th {\n",
       "        vertical-align: top;\n",
       "    }\n",
       "\n",
       "    .dataframe thead th {\n",
       "        text-align: right;\n",
       "    }\n",
       "</style>\n",
       "<table border=\"1\" class=\"dataframe\">\n",
       "  <thead>\n",
       "    <tr style=\"text-align: right;\">\n",
       "      <th></th>\n",
       "      <th>story_id</th>\n",
       "      <th>hostname_url</th>\n",
       "      <th>category</th>\n",
       "      <th>space_delimited_url</th>\n",
       "    </tr>\n",
       "  </thead>\n",
       "  <tbody>\n",
       "    <tr>\n",
       "      <th>0</th>\n",
       "      <td>dxyGGb4iN9Cs9aMZTKQpJeoiQfruM</td>\n",
       "      <td>techcrunch.com</td>\n",
       "      <td>b</td>\n",
       "      <td>http://techcrunch.com/ http://techcrunch.com/2...</td>\n",
       "    </tr>\n",
       "    <tr>\n",
       "      <th>1</th>\n",
       "      <td>dxyGGb4iN9Cs9aMZTKQpJeoiQfruM</td>\n",
       "      <td>techcrunch.com</td>\n",
       "      <td>b</td>\n",
       "      <td>http://techcrunch.com/ecommerce/ http://techcr...</td>\n",
       "    </tr>\n",
       "    <tr>\n",
       "      <th>2</th>\n",
       "      <td>dxyGGb4iN9Cs9aMZTKQpJeoiQfruM</td>\n",
       "      <td>www.bnn.ca</td>\n",
       "      <td>b</td>\n",
       "      <td>http://www.bnn.ca/News/2014/ http://www.bnn.ca...</td>\n",
       "    </tr>\n",
       "    <tr>\n",
       "      <th>3</th>\n",
       "      <td>dxyGGb4iN9Cs9aMZTKQpJeoiQfruM</td>\n",
       "      <td>www.bnn.ca</td>\n",
       "      <td>b</td>\n",
       "      <td>http://www.bnn.ca/news http://www.bnn.ca/News/...</td>\n",
       "    </tr>\n",
       "    <tr>\n",
       "      <th>4</th>\n",
       "      <td>dxyGGb4iN9Cs9aMZTKQpJeoiQfruM</td>\n",
       "      <td>www.bnn.ca</td>\n",
       "      <td>b</td>\n",
       "      <td>http://www.bnn.ca/News/News-Listing.aspx?Secto...</td>\n",
       "    </tr>\n",
       "  </tbody>\n",
       "</table>\n",
       "</div>\n",
       "      <button class=\"colab-df-convert\" onclick=\"convertToInteractive('df-0f81b215-6c00-4308-bfb4-7887d861c689')\"\n",
       "              title=\"Convert this dataframe to an interactive table.\"\n",
       "              style=\"display:none;\">\n",
       "        \n",
       "  <svg xmlns=\"http://www.w3.org/2000/svg\" height=\"24px\"viewBox=\"0 0 24 24\"\n",
       "       width=\"24px\">\n",
       "    <path d=\"M0 0h24v24H0V0z\" fill=\"none\"/>\n",
       "    <path d=\"M18.56 5.44l.94 2.06.94-2.06 2.06-.94-2.06-.94-.94-2.06-.94 2.06-2.06.94zm-11 1L8.5 8.5l.94-2.06 2.06-.94-2.06-.94L8.5 2.5l-.94 2.06-2.06.94zm10 10l.94 2.06.94-2.06 2.06-.94-2.06-.94-.94-2.06-.94 2.06-2.06.94z\"/><path d=\"M17.41 7.96l-1.37-1.37c-.4-.4-.92-.59-1.43-.59-.52 0-1.04.2-1.43.59L10.3 9.45l-7.72 7.72c-.78.78-.78 2.05 0 2.83L4 21.41c.39.39.9.59 1.41.59.51 0 1.02-.2 1.41-.59l7.78-7.78 2.81-2.81c.8-.78.8-2.07 0-2.86zM5.41 20L4 18.59l7.72-7.72 1.47 1.35L5.41 20z\"/>\n",
       "  </svg>\n",
       "      </button>\n",
       "      \n",
       "  <style>\n",
       "    .colab-df-container {\n",
       "      display:flex;\n",
       "      flex-wrap:wrap;\n",
       "      gap: 12px;\n",
       "    }\n",
       "\n",
       "    .colab-df-convert {\n",
       "      background-color: #E8F0FE;\n",
       "      border: none;\n",
       "      border-radius: 50%;\n",
       "      cursor: pointer;\n",
       "      display: none;\n",
       "      fill: #1967D2;\n",
       "      height: 32px;\n",
       "      padding: 0 0 0 0;\n",
       "      width: 32px;\n",
       "    }\n",
       "\n",
       "    .colab-df-convert:hover {\n",
       "      background-color: #E2EBFA;\n",
       "      box-shadow: 0px 1px 2px rgba(60, 64, 67, 0.3), 0px 1px 3px 1px rgba(60, 64, 67, 0.15);\n",
       "      fill: #174EA6;\n",
       "    }\n",
       "\n",
       "    [theme=dark] .colab-df-convert {\n",
       "      background-color: #3B4455;\n",
       "      fill: #D2E3FC;\n",
       "    }\n",
       "\n",
       "    [theme=dark] .colab-df-convert:hover {\n",
       "      background-color: #434B5C;\n",
       "      box-shadow: 0px 1px 3px 1px rgba(0, 0, 0, 0.15);\n",
       "      filter: drop-shadow(0px 1px 2px rgba(0, 0, 0, 0.3));\n",
       "      fill: #FFFFFF;\n",
       "    }\n",
       "  </style>\n",
       "\n",
       "      <script>\n",
       "        const buttonEl =\n",
       "          document.querySelector('#df-0f81b215-6c00-4308-bfb4-7887d861c689 button.colab-df-convert');\n",
       "        buttonEl.style.display =\n",
       "          google.colab.kernel.accessAllowed ? 'block' : 'none';\n",
       "\n",
       "        async function convertToInteractive(key) {\n",
       "          const element = document.querySelector('#df-0f81b215-6c00-4308-bfb4-7887d861c689');\n",
       "          const dataTable =\n",
       "            await google.colab.kernel.invokeFunction('convertToInteractive',\n",
       "                                                     [key], {});\n",
       "          if (!dataTable) return;\n",
       "\n",
       "          const docLinkHtml = 'Like what you see? Visit the ' +\n",
       "            '<a target=\"_blank\" href=https://colab.research.google.com/notebooks/data_table.ipynb>data table notebook</a>'\n",
       "            + ' to learn more about interactive tables.';\n",
       "          element.innerHTML = '';\n",
       "          dataTable['output_type'] = 'display_data';\n",
       "          await google.colab.output.renderOutput(dataTable, element);\n",
       "          const docLink = document.createElement('div');\n",
       "          docLink.innerHTML = docLinkHtml;\n",
       "          element.appendChild(docLink);\n",
       "        }\n",
       "      </script>\n",
       "    </div>\n",
       "  </div>\n",
       "  "
      ],
      "text/plain": [
       "                        story_id  ...                                space_delimited_url\n",
       "0  dxyGGb4iN9Cs9aMZTKQpJeoiQfruM  ...  http://techcrunch.com/ http://techcrunch.com/2...\n",
       "1  dxyGGb4iN9Cs9aMZTKQpJeoiQfruM  ...  http://techcrunch.com/ecommerce/ http://techcr...\n",
       "2  dxyGGb4iN9Cs9aMZTKQpJeoiQfruM  ...  http://www.bnn.ca/News/2014/ http://www.bnn.ca...\n",
       "3  dxyGGb4iN9Cs9aMZTKQpJeoiQfruM  ...  http://www.bnn.ca/news http://www.bnn.ca/News/...\n",
       "4  dxyGGb4iN9Cs9aMZTKQpJeoiQfruM  ...  http://www.bnn.ca/News/News-Listing.aspx?Secto...\n",
       "\n",
       "[5 rows x 4 columns]"
      ]
     },
     "metadata": {},
     "output_type": "display_data"
    },
    {
     "name": "stdout",
     "output_type": "stream",
     "text": [
      "(422419, 8) (15516, 4)\n"
     ]
    }
   ],
   "source": [
    "import pandas as pd\n",
    "import numpy as np\n",
    "\n",
    "filename1 = 'newsCorpora.csv'\n",
    "filename2 = '2pageSessions.csv'\n",
    "\n",
    "df1 = pd.read_csv(filename1, sep='\\t', header=None, \n",
    "                  names=('id', 'title', 'url', 'publisher', 'category', \n",
    "                         'story_id', 'hostname_url', 'timestamp'))\n",
    "display(df1.head())\n",
    "df2 = pd.read_csv(filename2, sep='\\t', header=None,\n",
    "                  names=('story_id', 'hostname_url', 'category', 'space_delimited_url'))\n",
    "display(df2.head())\n",
    "print(df1.shape, df2.shape)"
   ]
  },
  {
   "cell_type": "code",
   "execution_count": null,
   "metadata": {
    "colab": {
     "base_uri": "https://localhost:8080/"
    },
    "executionInfo": {
     "elapsed": 424,
     "status": "ok",
     "timestamp": 1645687152199,
     "user": {
      "displayName": "田中義規",
      "photoUrl": "https://lh3.googleusercontent.com/a/default-user=s64",
      "userId": "03358882541309422843"
     },
     "user_tz": -540
    },
    "id": "Gz2XZeNjSWny",
    "outputId": "6f647a9b-45f5-4f35-bd60-1b35a5775b3e"
   },
   "outputs": [
    {
     "name": "stdout",
     "output_type": "stream",
     "text": [
      "(13340, 8)\n"
     ]
    }
   ],
   "source": [
    "df = df1[(df1['publisher'] == 'Reuters') |\n",
    "         (df1['publisher'] == 'Huffington Post') |\n",
    "         (df1['publisher'] == 'Businessweek') |\n",
    "         (df1['publisher'] == 'Contactmusic.com') |\n",
    "         (df1['publisher'] == 'Daily Mail')]\n",
    "print(df.shape)"
   ]
  },
  {
   "cell_type": "code",
   "execution_count": null,
   "metadata": {
    "colab": {
     "base_uri": "https://localhost:8080/"
    },
    "executionInfo": {
     "elapsed": 6,
     "status": "ok",
     "timestamp": 1645687152200,
     "user": {
      "displayName": "田中義規",
      "photoUrl": "https://lh3.googleusercontent.com/a/default-user=s64",
      "userId": "03358882541309422843"
     },
     "user_tz": -540
    },
    "id": "pAWz-JgtZfme",
    "outputId": "9ef25500-bd31-4b8c-b095-8acd049f4d71"
   },
   "outputs": [
    {
     "name": "stdout",
     "output_type": "stream",
     "text": [
      "(10672, 8) (1334, 8) (1334, 8)\n"
     ]
    }
   ],
   "source": [
    "data = df.to_numpy()\n",
    "np.random.seed(0)\n",
    "np.random.shuffle(data)\n",
    "\n",
    "train_size = 0.8\n",
    "valid_size = 0.1\n",
    "test_size = 0.1\n",
    "\n",
    "train = data[:int(train_size*data.shape[0])]\n",
    "valid = data[int(train_size*data.shape[0]):int((train_size+valid_size)*data.shape[0])]\n",
    "test = data[int((train_size+valid_size)*data.shape[0]):]\n",
    "print(train.shape, valid.shape, test.shape)"
   ]
  },
  {
   "cell_type": "markdown",
   "metadata": {
    "id": "RmZFkiUNiHK_"
   },
   "source": [
    "### titleの前処理"
   ]
  },
  {
   "cell_type": "code",
   "execution_count": null,
   "metadata": {
    "colab": {
     "base_uri": "https://localhost:8080/"
    },
    "executionInfo": {
     "elapsed": 2202,
     "status": "ok",
     "timestamp": 1645687154399,
     "user": {
      "displayName": "田中義規",
      "photoUrl": "https://lh3.googleusercontent.com/a/default-user=s64",
      "userId": "03358882541309422843"
     },
     "user_tz": -540
    },
    "id": "eMmYEr_LTI9n",
    "outputId": "08d8ca49-312e-47f7-d559-688c78e4cb1b"
   },
   "outputs": [
    {
     "name": "stdout",
     "output_type": "stream",
     "text": [
      "[nltk_data] Downloading package stopwords to /root/nltk_data...\n",
      "[nltk_data]   Unzipping corpora/stopwords.zip.\n",
      "['i', 'me', 'my', 'myself', 'we', 'our', 'ours', 'ourselves', 'you', \"you're\", \"you've\", \"you'll\", \"you'd\", 'your', 'yours', 'yourself', 'yourselves', 'he', 'him', 'his', 'himself', 'she', \"she's\", 'her', 'hers', 'herself', 'it', \"it's\", 'its', 'itself', 'they', 'them', 'their', 'theirs', 'themselves', 'what', 'which', 'who', 'whom', 'this', 'that', \"that'll\", 'these', 'those', 'am', 'is', 'are', 'was', 'were', 'be', 'been', 'being', 'have', 'has', 'had', 'having', 'do', 'does', 'did', 'doing', 'a', 'an', 'the', 'and', 'but', 'if', 'or', 'because', 'as', 'until', 'while', 'of', 'at', 'by', 'for', 'with', 'about', 'against', 'between', 'into', 'through', 'during', 'before', 'after', 'above', 'below', 'to', 'from', 'up', 'down', 'in', 'out', 'on', 'off', 'over', 'under', 'again', 'further', 'then', 'once', 'here', 'there', 'when', 'where', 'why', 'how', 'all', 'any', 'both', 'each', 'few', 'more', 'most', 'other', 'some', 'such', 'no', 'nor', 'not', 'only', 'own', 'same', 'so', 'than', 'too', 'very', 's', 't', 'can', 'will', 'just', 'don', \"don't\", 'should', \"should've\", 'now', 'd', 'll', 'm', 'o', 're', 've', 'y', 'ain', 'aren', \"aren't\", 'couldn', \"couldn't\", 'didn', \"didn't\", 'doesn', \"doesn't\", 'hadn', \"hadn't\", 'hasn', \"hasn't\", 'haven', \"haven't\", 'isn', \"isn't\", 'ma', 'mightn', \"mightn't\", 'mustn', \"mustn't\", 'needn', \"needn't\", 'shan', \"shan't\", 'shouldn', \"shouldn't\", 'wasn', \"wasn't\", 'weren', \"weren't\", 'won', \"won't\", 'wouldn', \"wouldn't\"]\n"
     ]
    }
   ],
   "source": [
    "# https://nashidos.hatenablog.com/entry/2020/08/12/205119\n",
    "from nltk.corpus import stopwords\n",
    "import nltk\n",
    "\n",
    "nltk.download('stopwords')\n",
    "stop_words = stopwords.words('english')\n",
    "print(stop_words)\n",
    "low_freq_words = []"
   ]
  },
  {
   "cell_type": "code",
   "execution_count": null,
   "metadata": {
    "id": "cAFSpVgVSlqO"
   },
   "outputs": [],
   "source": [
    "import re\n",
    "\n",
    "def preprocessing_title(t, sw=False, lw=False, symbols=False, figure=False):\n",
    "  \n",
    "  global stop_words, low_freq_words\n",
    "\n",
    "  t = ' ' + t + ' '\n",
    "  t_orig = t\n",
    "  t = t.lower()\n",
    "  \n",
    "  if symbols: # その他記号等削除\n",
    "    for sym in [',', '.', ':', ';', '!', '?', '-', '“', '”', '@', '&', '(', ')', \n",
    "                '[', ']', '\\'s', '\\'', '\"', '\\t', '/', '…', '*', '—', '\\n']:\n",
    "      t = t.replace(sym, ' ')\n",
    "      \n",
    "  if figure: # 数字\n",
    "    for i in range(1, 10):\n",
    "      t = t.replace(str(i), '0')\n",
    "    for zero_ in re.findall('0+', t):\n",
    "      t = t.replace(zero_, ' '+zero_+' ')\n",
    "  \n",
    "  if sw: # stop_wordsの削除\n",
    "    for sw in stop_words:\n",
    "      t = t.replace(' ' + sw + ' ', ' ')\n",
    "  \n",
    "  if lw: # 頻度の低い単語の削除\n",
    "    for sw in low_freq_words:\n",
    "      t = t.replace(' ' + sw + ' ', ' ')\n",
    "\n",
    "  t = t.strip()\n",
    "  while '  ' in t:\n",
    "    t = t.replace('  ', ' ')\n",
    "\n",
    "  # 前処理の結果，文字数が0になってしまったものは表示して入力をそのまま返す\n",
    "  if len(t) == 0: \n",
    "    print(t_orig)\n",
    "    return t_orig\n",
    "  return t"
   ]
  },
  {
   "cell_type": "code",
   "execution_count": null,
   "metadata": {
    "id": "rR5Lmf5hSePI"
   },
   "outputs": [],
   "source": [
    "titles_train = [preprocessing_title(t, sw=True, symbols=True, figure=True) for t in train[:, 1].copy()]\n",
    "titles_valid = [preprocessing_title(t, sw=True, symbols=True, figure=True) for t in valid[:, 1].copy()]\n",
    "titles_test = [preprocessing_title(t, sw=True, symbols=True, figure=True) for t in test[:, 1].copy()]"
   ]
  },
  {
   "cell_type": "code",
   "execution_count": null,
   "metadata": {
    "id": "Mldyl9_BU5wU"
   },
   "outputs": [],
   "source": [
    "data_dic = {'train': train.copy(), 'valid': valid.copy(), 'test': test.copy()}\n",
    "for k, titles in zip(['train', 'valid', 'test'], \n",
    "                     [titles_train, titles_valid, titles_test]):\n",
    "  for i in range(len(data_dic[k])):\n",
    "    data_dic[k][i][1] = titles[i]"
   ]
  },
  {
   "cell_type": "code",
   "execution_count": null,
   "metadata": {
    "colab": {
     "base_uri": "https://localhost:8080/"
    },
    "executionInfo": {
     "elapsed": 2,
     "status": "ok",
     "timestamp": 1645687162598,
     "user": {
      "displayName": "田中義規",
      "photoUrl": "https://lh3.googleusercontent.com/a/default-user=s64",
      "userId": "03358882541309422843"
     },
     "user_tz": -540
    },
    "id": "giyEUa0qVegF",
    "outputId": "417bed3e-144a-4d00-91f0-6e1d8679bf47"
   },
   "outputs": [
    {
     "name": "stdout",
     "output_type": "stream",
     "text": [
      "RPT-Fitch Updates EMEA Consumer ABS Rating Criteria & Auto Residual Value  ...\n",
      "rpt fitch updates emea consumer abs rating criteria auto residual value\n",
      "\n",
      "Gurlitt Wants to Return Nazi-Looted Art, Sueddeutsche Reports\n",
      "gurlitt wants return nazi looted art sueddeutsche reports\n",
      "\n",
      "UPDATE 1-Fairfax Financial, CEO probed over possible insider trading\n",
      "update 0 fairfax financial ceo probed possible insider trading\n",
      "\n",
      "Angelina Jolie - Angelina Jolie Will Not Tighten Security After Brad Pitt Prank\n",
      "angelina jolie angelina jolie tighten security brad pitt prank\n",
      "\n",
      "Patent Officials Cancel the Washington Redskins' 'Disparaging' Trademarks\n",
      "patent officials cancel washington redskins disparaging trademarks\n",
      "\n",
      "The End Is Nigh: Monty Python Reunite For Final Round Of Gigs At The O2\n",
      "end nigh monty python reunite final round gigs 0\n",
      "\n",
      "Peaches Geldof - Peaches Geldof's Funeral Planned For Easter Monday\n",
      "peaches geldof peaches geldof funeral planned easter monday\n",
      "\n",
      "CORRECTED-Wells Fargo profit rises 14 pct as costs fall\n",
      "corrected wells fargo profit rises 00 pct costs fall\n",
      "\n",
      "US Bonds Gain for 5th Month Amid ECB Stimulus Bets\n",
      "us bonds gain 0 th month amid ecb stimulus bets\n",
      "\n",
      "US Stocks Rise With Dollar, Treasuries Slide on Prices\n",
      "us stocks rise dollar treasuries slide prices\n",
      "\n"
     ]
    }
   ],
   "source": [
    "for i in range(10):\n",
    "  print(train[i][1]) # 前処理前\n",
    "  print(data_dic['train'][i][1], end='\\n\\n') # 前処理後"
   ]
  },
  {
   "cell_type": "code",
   "execution_count": null,
   "metadata": {
    "id": "21le7oZHdHY5"
   },
   "outputs": [],
   "source": [
    "!mkdir data"
   ]
  },
  {
   "cell_type": "code",
   "execution_count": null,
   "metadata": {
    "id": "6fmks5xCZ672"
   },
   "outputs": [],
   "source": [
    "for k in data_dic.keys():\n",
    "  name = './data/' + k + '.txt'\n",
    "  f = open(name, 'w')\n",
    "  for row in data_dic[k].astype('str'):\n",
    "    f.write(','.join(row) + '\\n')\n",
    "  f.close()"
   ]
  },
  {
   "cell_type": "code",
   "execution_count": null,
   "metadata": {
    "colab": {
     "base_uri": "https://localhost:8080/"
    },
    "executionInfo": {
     "elapsed": 354,
     "status": "ok",
     "timestamp": 1645687166382,
     "user": {
      "displayName": "田中義規",
      "photoUrl": "https://lh3.googleusercontent.com/a/default-user=s64",
      "userId": "03358882541309422843"
     },
     "user_tz": -540
    },
    "id": "I2V7VN7LdQC3",
    "outputId": "2c06767b-ac90-4bd1-c46b-78cd02218afe"
   },
   "outputs": [
    {
     "name": "stdout",
     "output_type": "stream",
     "text": [
      "3.1M\t./data/\n"
     ]
    }
   ],
   "source": [
    "!du -shx ./data/"
   ]
  },
  {
   "cell_type": "code",
   "execution_count": null,
   "metadata": {
    "colab": {
     "base_uri": "https://localhost:8080/"
    },
    "executionInfo": {
     "elapsed": 1801,
     "status": "ok",
     "timestamp": 1645687168945,
     "user": {
      "displayName": "田中義規",
      "photoUrl": "https://lh3.googleusercontent.com/a/default-user=s64",
      "userId": "03358882541309422843"
     },
     "user_tz": -540
    },
    "id": "-XlZrGeFdQC4",
    "outputId": "3ffa8678-ef94-4411-e5c0-9b26c8a9086e"
   },
   "outputs": [
    {
     "name": "stdout",
     "output_type": "stream",
     "text": [
      "./data/\n",
      "./data/valid.txt\n",
      "./data/test.txt\n",
      "./data/train.txt\n"
     ]
    }
   ],
   "source": [
    "!tar -jcvf chap06_data.tar.bz2 ./data/"
   ]
  },
  {
   "cell_type": "code",
   "execution_count": null,
   "metadata": {
    "colab": {
     "base_uri": "https://localhost:8080/"
    },
    "executionInfo": {
     "elapsed": 7,
     "status": "ok",
     "timestamp": 1645687169235,
     "user": {
      "displayName": "田中義規",
      "photoUrl": "https://lh3.googleusercontent.com/a/default-user=s64",
      "userId": "03358882541309422843"
     },
     "user_tz": -540
    },
    "id": "43Asc_tPdQC4",
    "outputId": "df6b2fc8-7342-4500-cb95-6cf9b599d5e7"
   },
   "outputs": [
    {
     "name": "stdout",
     "output_type": "stream",
     "text": [
      "888K\tchap06_data.tar.bz2\n"
     ]
    }
   ],
   "source": [
    "!du -shx chap06_data.tar.bz2"
   ]
  },
  {
   "cell_type": "code",
   "execution_count": null,
   "metadata": {
    "id": "Kss5v2SYdeA2"
   },
   "outputs": [],
   "source": [
    "!cp ./chap06_data.tar.bz2 ./drive/MyDrive/100pon/data/"
   ]
  },
  {
   "cell_type": "code",
   "execution_count": null,
   "metadata": {
    "id": "1sl2due8BJf6"
   },
   "outputs": [],
   "source": []
  },
  {
   "cell_type": "markdown",
   "metadata": {
    "id": "e9wHCMV_BJyV"
   },
   "source": [
    "## 51"
   ]
  },
  {
   "cell_type": "markdown",
   "metadata": {
    "id": "7PsX37n2O7aZ"
   },
   "source": [
    "### 方針\n",
    "---  \n",
    "\n",
    "*   titleのベクトル化\n",
    "*   publisherと hostname_urlをmulti-hot\n",
    "*   urlのhostの後ろにある文字列を取り出し，事例の多いものとそれ以外でmulti-hot\n",
    "\n"
   ]
  },
  {
   "cell_type": "code",
   "execution_count": null,
   "metadata": {
    "id": "fAuCb5n0SeRx"
   },
   "outputs": [],
   "source": [
    "vocab = []\n",
    "for t in titles_train:\n",
    "  vocab += t.split(' ')\n",
    "cnt_dic = {}\n",
    "for w in set(vocab):\n",
    "  cnt_dic[w] = 0\n",
    "for w in vocab:\n",
    "  cnt_dic[w] += 1"
   ]
  },
  {
   "cell_type": "code",
   "execution_count": null,
   "metadata": {
    "colab": {
     "base_uri": "https://localhost:8080/",
     "height": 424
    },
    "executionInfo": {
     "elapsed": 3,
     "status": "ok",
     "timestamp": 1645687172115,
     "user": {
      "displayName": "田中義規",
      "photoUrl": "https://lh3.googleusercontent.com/a/default-user=s64",
      "userId": "03358882541309422843"
     },
     "user_tz": -540
    },
    "id": "nV6Jyg4HSeXi",
    "outputId": "0cefd2fc-ac73-4de1-a78d-abae5b2375d2"
   },
   "outputs": [
    {
     "data": {
      "text/html": [
       "\n",
       "  <div id=\"df-dcfa52e9-ef8d-479e-a2dc-8a5796e42215\">\n",
       "    <div class=\"colab-df-container\">\n",
       "      <div>\n",
       "<style scoped>\n",
       "    .dataframe tbody tr th:only-of-type {\n",
       "        vertical-align: middle;\n",
       "    }\n",
       "\n",
       "    .dataframe tbody tr th {\n",
       "        vertical-align: top;\n",
       "    }\n",
       "\n",
       "    .dataframe thead th {\n",
       "        text-align: right;\n",
       "    }\n",
       "</style>\n",
       "<table border=\"1\" class=\"dataframe\">\n",
       "  <thead>\n",
       "    <tr style=\"text-align: right;\">\n",
       "      <th></th>\n",
       "      <th>word</th>\n",
       "      <th>count</th>\n",
       "    </tr>\n",
       "  </thead>\n",
       "  <tbody>\n",
       "    <tr>\n",
       "      <th>9467</th>\n",
       "      <td>bambas</td>\n",
       "      <td>1</td>\n",
       "    </tr>\n",
       "    <tr>\n",
       "      <th>4522</th>\n",
       "      <td>gestures</td>\n",
       "      <td>1</td>\n",
       "    </tr>\n",
       "    <tr>\n",
       "      <th>12110</th>\n",
       "      <td>perth</td>\n",
       "      <td>1</td>\n",
       "    </tr>\n",
       "    <tr>\n",
       "      <th>4520</th>\n",
       "      <td>transcanada</td>\n",
       "      <td>1</td>\n",
       "    </tr>\n",
       "    <tr>\n",
       "      <th>4519</th>\n",
       "      <td>catwalks</td>\n",
       "      <td>1</td>\n",
       "    </tr>\n",
       "    <tr>\n",
       "      <th>...</th>\n",
       "      <td>...</td>\n",
       "      <td>...</td>\n",
       "    </tr>\n",
       "    <tr>\n",
       "      <th>5954</th>\n",
       "      <td>new</td>\n",
       "      <td>544</td>\n",
       "    </tr>\n",
       "    <tr>\n",
       "      <th>9262</th>\n",
       "      <td>00</td>\n",
       "      <td>608</td>\n",
       "    </tr>\n",
       "    <tr>\n",
       "      <th>8842</th>\n",
       "      <td>us</td>\n",
       "      <td>1054</td>\n",
       "    </tr>\n",
       "    <tr>\n",
       "      <th>8506</th>\n",
       "      <td>update</td>\n",
       "      <td>1062</td>\n",
       "    </tr>\n",
       "    <tr>\n",
       "      <th>3372</th>\n",
       "      <td>0</td>\n",
       "      <td>3968</td>\n",
       "    </tr>\n",
       "  </tbody>\n",
       "</table>\n",
       "<p>12491 rows × 2 columns</p>\n",
       "</div>\n",
       "      <button class=\"colab-df-convert\" onclick=\"convertToInteractive('df-dcfa52e9-ef8d-479e-a2dc-8a5796e42215')\"\n",
       "              title=\"Convert this dataframe to an interactive table.\"\n",
       "              style=\"display:none;\">\n",
       "        \n",
       "  <svg xmlns=\"http://www.w3.org/2000/svg\" height=\"24px\"viewBox=\"0 0 24 24\"\n",
       "       width=\"24px\">\n",
       "    <path d=\"M0 0h24v24H0V0z\" fill=\"none\"/>\n",
       "    <path d=\"M18.56 5.44l.94 2.06.94-2.06 2.06-.94-2.06-.94-.94-2.06-.94 2.06-2.06.94zm-11 1L8.5 8.5l.94-2.06 2.06-.94-2.06-.94L8.5 2.5l-.94 2.06-2.06.94zm10 10l.94 2.06.94-2.06 2.06-.94-2.06-.94-.94-2.06-.94 2.06-2.06.94z\"/><path d=\"M17.41 7.96l-1.37-1.37c-.4-.4-.92-.59-1.43-.59-.52 0-1.04.2-1.43.59L10.3 9.45l-7.72 7.72c-.78.78-.78 2.05 0 2.83L4 21.41c.39.39.9.59 1.41.59.51 0 1.02-.2 1.41-.59l7.78-7.78 2.81-2.81c.8-.78.8-2.07 0-2.86zM5.41 20L4 18.59l7.72-7.72 1.47 1.35L5.41 20z\"/>\n",
       "  </svg>\n",
       "      </button>\n",
       "      \n",
       "  <style>\n",
       "    .colab-df-container {\n",
       "      display:flex;\n",
       "      flex-wrap:wrap;\n",
       "      gap: 12px;\n",
       "    }\n",
       "\n",
       "    .colab-df-convert {\n",
       "      background-color: #E8F0FE;\n",
       "      border: none;\n",
       "      border-radius: 50%;\n",
       "      cursor: pointer;\n",
       "      display: none;\n",
       "      fill: #1967D2;\n",
       "      height: 32px;\n",
       "      padding: 0 0 0 0;\n",
       "      width: 32px;\n",
       "    }\n",
       "\n",
       "    .colab-df-convert:hover {\n",
       "      background-color: #E2EBFA;\n",
       "      box-shadow: 0px 1px 2px rgba(60, 64, 67, 0.3), 0px 1px 3px 1px rgba(60, 64, 67, 0.15);\n",
       "      fill: #174EA6;\n",
       "    }\n",
       "\n",
       "    [theme=dark] .colab-df-convert {\n",
       "      background-color: #3B4455;\n",
       "      fill: #D2E3FC;\n",
       "    }\n",
       "\n",
       "    [theme=dark] .colab-df-convert:hover {\n",
       "      background-color: #434B5C;\n",
       "      box-shadow: 0px 1px 3px 1px rgba(0, 0, 0, 0.15);\n",
       "      filter: drop-shadow(0px 1px 2px rgba(0, 0, 0, 0.3));\n",
       "      fill: #FFFFFF;\n",
       "    }\n",
       "  </style>\n",
       "\n",
       "      <script>\n",
       "        const buttonEl =\n",
       "          document.querySelector('#df-dcfa52e9-ef8d-479e-a2dc-8a5796e42215 button.colab-df-convert');\n",
       "        buttonEl.style.display =\n",
       "          google.colab.kernel.accessAllowed ? 'block' : 'none';\n",
       "\n",
       "        async function convertToInteractive(key) {\n",
       "          const element = document.querySelector('#df-dcfa52e9-ef8d-479e-a2dc-8a5796e42215');\n",
       "          const dataTable =\n",
       "            await google.colab.kernel.invokeFunction('convertToInteractive',\n",
       "                                                     [key], {});\n",
       "          if (!dataTable) return;\n",
       "\n",
       "          const docLinkHtml = 'Like what you see? Visit the ' +\n",
       "            '<a target=\"_blank\" href=https://colab.research.google.com/notebooks/data_table.ipynb>data table notebook</a>'\n",
       "            + ' to learn more about interactive tables.';\n",
       "          element.innerHTML = '';\n",
       "          dataTable['output_type'] = 'display_data';\n",
       "          await google.colab.output.renderOutput(dataTable, element);\n",
       "          const docLink = document.createElement('div');\n",
       "          docLink.innerHTML = docLinkHtml;\n",
       "          element.appendChild(docLink);\n",
       "        }\n",
       "      </script>\n",
       "    </div>\n",
       "  </div>\n",
       "  "
      ],
      "text/plain": [
       "              word  count\n",
       "9467        bambas      1\n",
       "4522      gestures      1\n",
       "12110        perth      1\n",
       "4520   transcanada      1\n",
       "4519      catwalks      1\n",
       "...            ...    ...\n",
       "5954           new    544\n",
       "9262            00    608\n",
       "8842            us   1054\n",
       "8506        update   1062\n",
       "3372             0   3968\n",
       "\n",
       "[12491 rows x 2 columns]"
      ]
     },
     "metadata": {},
     "output_type": "display_data"
    }
   ],
   "source": [
    "words_df = pd.DataFrame({'word': cnt_dic.keys(), 'count': cnt_dic.values()})\n",
    "display(words_df.sort_values('count'))"
   ]
  },
  {
   "cell_type": "code",
   "execution_count": null,
   "metadata": {
    "colab": {
     "base_uri": "https://localhost:8080/"
    },
    "executionInfo": {
     "elapsed": 5,
     "status": "ok",
     "timestamp": 1645687172393,
     "user": {
      "displayName": "田中義規",
      "photoUrl": "https://lh3.googleusercontent.com/a/default-user=s64",
      "userId": "03358882541309422843"
     },
     "user_tz": -540
    },
    "id": "3nujvEMpdn1C",
    "outputId": "c53acd78-5ef1-4e7b-f825-7be8999a5e34"
   },
   "outputs": [
    {
     "name": "stdout",
     "output_type": "stream",
     "text": [
      "5072\n"
     ]
    }
   ],
   "source": [
    "low_freq_words = []\n",
    "low_freq_words += words_df[words_df['count'] <= 1]['word'].values.tolist()\n",
    "print(len(low_freq_words))"
   ]
  },
  {
   "cell_type": "code",
   "execution_count": null,
   "metadata": {
    "colab": {
     "base_uri": "https://localhost:8080/"
    },
    "executionInfo": {
     "elapsed": 23762,
     "status": "ok",
     "timestamp": 1645687196152,
     "user": {
      "displayName": "田中義規",
      "photoUrl": "https://lh3.googleusercontent.com/a/default-user=s64",
      "userId": "03358882541309422843"
     },
     "user_tz": -540
    },
    "id": "hAXUR4qdK3_s",
    "outputId": "7033edb6-b3c1-4cbb-f2d5-101c1045b883"
   },
   "outputs": [
    {
     "name": "stdout",
     "output_type": "stream",
     "text": [
      " timeless gift \n",
      " goop \n"
     ]
    }
   ],
   "source": [
    "titles_train = [preprocessing_title(t, lw=True) for t in titles_train]\n",
    "titles_valid = [preprocessing_title(t, lw=True) for t in titles_valid]\n",
    "titles_test = [preprocessing_title(t, lw=True) for t in titles_test]"
   ]
  },
  {
   "cell_type": "code",
   "execution_count": null,
   "metadata": {
    "colab": {
     "base_uri": "https://localhost:8080/"
    },
    "executionInfo": {
     "elapsed": 359,
     "status": "ok",
     "timestamp": 1645687196508,
     "user": {
      "displayName": "田中義規",
      "photoUrl": "https://lh3.googleusercontent.com/a/default-user=s64",
      "userId": "03358882541309422843"
     },
     "user_tz": -540
    },
    "id": "oLdnP94qG9Wf",
    "outputId": "2d6d129b-1b3e-4d47-d0aa-340670f81ce0"
   },
   "outputs": [
    {
     "name": "stdout",
     "output_type": "stream",
     "text": [
      "<class 'numpy.ndarray'> (10672, 7389) (1334, 7389) (1334, 7389)\n"
     ]
    },
    {
     "name": "stderr",
     "output_type": "stream",
     "text": [
      "/usr/local/lib/python3.7/dist-packages/sklearn/utils/deprecation.py:87: FutureWarning: Function get_feature_names is deprecated; get_feature_names is deprecated in 1.0 and will be removed in 1.2. Please use get_feature_names_out instead.\n",
      "  warnings.warn(msg, category=FutureWarning)\n"
     ]
    }
   ],
   "source": [
    "from sklearn.feature_extraction.text import TfidfVectorizer\n",
    "\n",
    "vectorizer = TfidfVectorizer()\n",
    "tfidf_train = vectorizer.fit_transform(titles_train).toarray()\n",
    "vocab = list(vectorizer.get_feature_names())\n",
    "\n",
    "tfidf_valid = vectorizer.transform(titles_valid).toarray()\n",
    "tfidf_test= vectorizer.transform(titles_test).toarray()\n",
    "print(type(tfidf_train), tfidf_train.shape, tfidf_valid.shape, tfidf_test.shape)"
   ]
  },
  {
   "cell_type": "code",
   "execution_count": null,
   "metadata": {
    "id": "C-ABEb7ISeaA"
   },
   "outputs": [],
   "source": []
  },
  {
   "cell_type": "markdown",
   "metadata": {
    "id": "JNNwaEW_iNhY"
   },
   "source": [
    "### publisher, category"
   ]
  },
  {
   "cell_type": "code",
   "execution_count": null,
   "metadata": {
    "colab": {
     "base_uri": "https://localhost:8080/"
    },
    "executionInfo": {
     "elapsed": 2,
     "status": "ok",
     "timestamp": 1645687197465,
     "user": {
      "displayName": "田中義規",
      "photoUrl": "https://lh3.googleusercontent.com/a/default-user=s64",
      "userId": "03358882541309422843"
     },
     "user_tz": -540
    },
    "id": "rZoqEwhbZ5Bz",
    "outputId": "50c5c85a-aea0-4fe1-ebfb-03c10894f930"
   },
   "outputs": [
    {
     "name": "stdout",
     "output_type": "stream",
     "text": [
      "['Reuters', 'Daily Mail', 'Businessweek', 'Huffington Post', 'Contactmusic.com']\n",
      "['e', 'b', 'm', 't']\n",
      "4578\n"
     ]
    }
   ],
   "source": [
    "publishers = list(set(df['publisher'].values))\n",
    "categories = list(set(df['category'].values))\n",
    "story_id = list(set(df['story_id'].values))\n",
    "print(publishers)\n",
    "print(categories)\n",
    "print(len(story_id))"
   ]
  },
  {
   "cell_type": "code",
   "execution_count": null,
   "metadata": {
    "colab": {
     "base_uri": "https://localhost:8080/",
     "height": 206
    },
    "executionInfo": {
     "elapsed": 300,
     "status": "ok",
     "timestamp": 1645687197763,
     "user": {
      "displayName": "田中義規",
      "photoUrl": "https://lh3.googleusercontent.com/a/default-user=s64",
      "userId": "03358882541309422843"
     },
     "user_tz": -540
    },
    "id": "ATwL0LceCTAl",
    "outputId": "cb8a63f0-e04c-44b5-c9f6-be675221659b"
   },
   "outputs": [
    {
     "data": {
      "text/html": [
       "\n",
       "  <div id=\"df-523c7a9f-b601-4001-afaa-3e6cb3548758\">\n",
       "    <div class=\"colab-df-container\">\n",
       "      <div>\n",
       "<style scoped>\n",
       "    .dataframe tbody tr th:only-of-type {\n",
       "        vertical-align: middle;\n",
       "    }\n",
       "\n",
       "    .dataframe tbody tr th {\n",
       "        vertical-align: top;\n",
       "    }\n",
       "\n",
       "    .dataframe thead th {\n",
       "        text-align: right;\n",
       "    }\n",
       "</style>\n",
       "<table border=\"1\" class=\"dataframe\">\n",
       "  <thead>\n",
       "    <tr style=\"text-align: right;\">\n",
       "      <th></th>\n",
       "      <th>e</th>\n",
       "      <th>b</th>\n",
       "      <th>m</th>\n",
       "      <th>t</th>\n",
       "    </tr>\n",
       "  </thead>\n",
       "  <tbody>\n",
       "    <tr>\n",
       "      <th>Reuters</th>\n",
       "      <td>165.0</td>\n",
       "      <td>2859.0</td>\n",
       "      <td>156.0</td>\n",
       "      <td>336.0</td>\n",
       "    </tr>\n",
       "    <tr>\n",
       "      <th>Daily Mail</th>\n",
       "      <td>1334.0</td>\n",
       "      <td>181.0</td>\n",
       "      <td>234.0</td>\n",
       "      <td>279.0</td>\n",
       "    </tr>\n",
       "    <tr>\n",
       "      <th>Businessweek</th>\n",
       "      <td>80.0</td>\n",
       "      <td>1627.0</td>\n",
       "      <td>122.0</td>\n",
       "      <td>320.0</td>\n",
       "    </tr>\n",
       "    <tr>\n",
       "      <th>Huffington Post</th>\n",
       "      <td>1102.0</td>\n",
       "      <td>395.0</td>\n",
       "      <td>293.0</td>\n",
       "      <td>421.0</td>\n",
       "    </tr>\n",
       "    <tr>\n",
       "      <th>Contactmusic.com</th>\n",
       "      <td>2081.0</td>\n",
       "      <td>1.0</td>\n",
       "      <td>9.0</td>\n",
       "      <td>11.0</td>\n",
       "    </tr>\n",
       "  </tbody>\n",
       "</table>\n",
       "</div>\n",
       "      <button class=\"colab-df-convert\" onclick=\"convertToInteractive('df-523c7a9f-b601-4001-afaa-3e6cb3548758')\"\n",
       "              title=\"Convert this dataframe to an interactive table.\"\n",
       "              style=\"display:none;\">\n",
       "        \n",
       "  <svg xmlns=\"http://www.w3.org/2000/svg\" height=\"24px\"viewBox=\"0 0 24 24\"\n",
       "       width=\"24px\">\n",
       "    <path d=\"M0 0h24v24H0V0z\" fill=\"none\"/>\n",
       "    <path d=\"M18.56 5.44l.94 2.06.94-2.06 2.06-.94-2.06-.94-.94-2.06-.94 2.06-2.06.94zm-11 1L8.5 8.5l.94-2.06 2.06-.94-2.06-.94L8.5 2.5l-.94 2.06-2.06.94zm10 10l.94 2.06.94-2.06 2.06-.94-2.06-.94-.94-2.06-.94 2.06-2.06.94z\"/><path d=\"M17.41 7.96l-1.37-1.37c-.4-.4-.92-.59-1.43-.59-.52 0-1.04.2-1.43.59L10.3 9.45l-7.72 7.72c-.78.78-.78 2.05 0 2.83L4 21.41c.39.39.9.59 1.41.59.51 0 1.02-.2 1.41-.59l7.78-7.78 2.81-2.81c.8-.78.8-2.07 0-2.86zM5.41 20L4 18.59l7.72-7.72 1.47 1.35L5.41 20z\"/>\n",
       "  </svg>\n",
       "      </button>\n",
       "      \n",
       "  <style>\n",
       "    .colab-df-container {\n",
       "      display:flex;\n",
       "      flex-wrap:wrap;\n",
       "      gap: 12px;\n",
       "    }\n",
       "\n",
       "    .colab-df-convert {\n",
       "      background-color: #E8F0FE;\n",
       "      border: none;\n",
       "      border-radius: 50%;\n",
       "      cursor: pointer;\n",
       "      display: none;\n",
       "      fill: #1967D2;\n",
       "      height: 32px;\n",
       "      padding: 0 0 0 0;\n",
       "      width: 32px;\n",
       "    }\n",
       "\n",
       "    .colab-df-convert:hover {\n",
       "      background-color: #E2EBFA;\n",
       "      box-shadow: 0px 1px 2px rgba(60, 64, 67, 0.3), 0px 1px 3px 1px rgba(60, 64, 67, 0.15);\n",
       "      fill: #174EA6;\n",
       "    }\n",
       "\n",
       "    [theme=dark] .colab-df-convert {\n",
       "      background-color: #3B4455;\n",
       "      fill: #D2E3FC;\n",
       "    }\n",
       "\n",
       "    [theme=dark] .colab-df-convert:hover {\n",
       "      background-color: #434B5C;\n",
       "      box-shadow: 0px 1px 3px 1px rgba(0, 0, 0, 0.15);\n",
       "      filter: drop-shadow(0px 1px 2px rgba(0, 0, 0, 0.3));\n",
       "      fill: #FFFFFF;\n",
       "    }\n",
       "  </style>\n",
       "\n",
       "      <script>\n",
       "        const buttonEl =\n",
       "          document.querySelector('#df-523c7a9f-b601-4001-afaa-3e6cb3548758 button.colab-df-convert');\n",
       "        buttonEl.style.display =\n",
       "          google.colab.kernel.accessAllowed ? 'block' : 'none';\n",
       "\n",
       "        async function convertToInteractive(key) {\n",
       "          const element = document.querySelector('#df-523c7a9f-b601-4001-afaa-3e6cb3548758');\n",
       "          const dataTable =\n",
       "            await google.colab.kernel.invokeFunction('convertToInteractive',\n",
       "                                                     [key], {});\n",
       "          if (!dataTable) return;\n",
       "\n",
       "          const docLinkHtml = 'Like what you see? Visit the ' +\n",
       "            '<a target=\"_blank\" href=https://colab.research.google.com/notebooks/data_table.ipynb>data table notebook</a>'\n",
       "            + ' to learn more about interactive tables.';\n",
       "          element.innerHTML = '';\n",
       "          dataTable['output_type'] = 'display_data';\n",
       "          await google.colab.output.renderOutput(dataTable, element);\n",
       "          const docLink = document.createElement('div');\n",
       "          docLink.innerHTML = docLinkHtml;\n",
       "          element.appendChild(docLink);\n",
       "        }\n",
       "      </script>\n",
       "    </div>\n",
       "  </div>\n",
       "  "
      ],
      "text/plain": [
       "                       e       b      m      t\n",
       "Reuters            165.0  2859.0  156.0  336.0\n",
       "Daily Mail        1334.0   181.0  234.0  279.0\n",
       "Businessweek        80.0  1627.0  122.0  320.0\n",
       "Huffington Post   1102.0   395.0  293.0  421.0\n",
       "Contactmusic.com  2081.0     1.0    9.0   11.0"
      ]
     },
     "execution_count": 24,
     "metadata": {},
     "output_type": "execute_result"
    }
   ],
   "source": [
    "cnt_df = pd.DataFrame(np.zeros((len(publishers), len(categories))),\n",
    "                      index=publishers, columns=categories)\n",
    "for d in np.vstack([train, valid])[:, [3, 4]]:\n",
    "  cnt_df[d[1]][d[0]] += 1\n",
    "cnt_df"
   ]
  },
  {
   "cell_type": "markdown",
   "metadata": {
    "id": "jLP3kqF9ZW5q"
   },
   "source": [
    "各々のpublishersで記事のcategoryに偏りがあるので，publishersは良い特徴量になりそう"
   ]
  },
  {
   "cell_type": "markdown",
   "metadata": {
    "id": "RFWtxi4yZwI7"
   },
   "source": [
    "### URLのディレクトリの名称（ドメイン名の一つ後ろの区分）"
   ]
  },
  {
   "cell_type": "markdown",
   "metadata": {
    "id": "GXrmO5PPaN0i"
   },
   "source": [
    "「http://www.livemint.com/Politics/H2EvwJSK2VE6O...」\tのPoliticsの部分"
   ]
  },
  {
   "cell_type": "code",
   "execution_count": null,
   "metadata": {
    "colab": {
     "base_uri": "https://localhost:8080/"
    },
    "executionInfo": {
     "elapsed": 14,
     "status": "ok",
     "timestamp": 1645687197764,
     "user": {
      "displayName": "田中義規",
      "photoUrl": "https://lh3.googleusercontent.com/a/default-user=s64",
      "userId": "03358882541309422843"
     },
     "user_tz": -540
    },
    "id": "-1hxbl_FJDb6",
    "outputId": "bc613e58-71c9-452b-9034-c2fb678e9856"
   },
   "outputs": [
    {
     "data": {
      "text/plain": [
       "{'2014': {'b': 292, 'e': 906, 'm': 253, 't': 332},\n",
       " 'adam-levin': {'b': 0, 'e': 0, 'm': 0, 't': 2},\n",
       " 'adrianna-quintero': {'b': 0, 'e': 0, 'm': 0, 't': 1},\n",
       " 'adrienne-becker': {'b': 0, 'e': 1, 'm': 0, 't': 0},\n",
       " 'aiko-stevenson': {'b': 0, 'e': 0, 'm': 0, 't': 2},\n",
       " 'al-gore': {'b': 0, 'e': 0, 'm': 0, 't': 2},\n",
       " 'alan-robock': {'b': 0, 'e': 0, 'm': 0, 't': 1},\n",
       " 'alanna-vagianos': {'b': 0, 'e': 1, 'm': 0, 't': 0},\n",
       " 'alex-ivanovs': {'b': 0, 'e': 0, 'm': 0, 't': 1},\n",
       " 'alice-carey': {'b': 0, 'e': 1, 'm': 0, 't': 0},\n",
       " 'alice-greenwald': {'b': 0, 'e': 1, 'm': 0, 't': 0},\n",
       " 'aliza-polkes': {'b': 0, 'e': 1, 'm': 0, 't': 0},\n",
       " 'allison-gilbert': {'b': 0, 'e': 1, 'm': 0, 't': 0},\n",
       " 'alvin-bowles': {'b': 1, 'e': 0, 'm': 0, 't': 0},\n",
       " 'amy-traub': {'b': 1, 'e': 0, 'm': 0, 't': 0},\n",
       " 'andrea-smith': {'b': 0, 'e': 1, 'm': 0, 't': 0},\n",
       " 'andy-plesser': {'b': 0, 'e': 0, 'm': 0, 't': 1},\n",
       " 'anne-thornleybrown': {'b': 0, 'e': 1, 'm': 0, 't': 0},\n",
       " 'anthony-w-orlando': {'b': 1, 'e': 0, 'm': 0, 't': 0},\n",
       " 'ap': {'b': 37, 'e': 3, 'm': 2, 't': 9},\n",
       " 'arianna-huffington': {'b': 0, 'e': 2, 'm': 0, 't': 1},\n",
       " 'ariel-mayse': {'b': 0, 'e': 1, 'm': 0, 't': 0},\n",
       " 'article': {'b': 2858, 'e': 1126, 'm': 157, 't': 343},\n",
       " 'articles': {'b': 135, 'e': 24, 'm': 18, 't': 65},\n",
       " 'askmen': {'b': 0, 'e': 1, 'm': 0, 't': 0},\n",
       " 'av-sinensky': {'b': 1, 'e': 0, 'm': 0, 't': 0},\n",
       " 'barbara-brown-taylor': {'b': 0, 'e': 1, 'm': 0, 't': 0},\n",
       " 'barbara-collura': {'b': 0, 'e': 0, 'm': 1, 't': 0},\n",
       " 'barbara-lee': {'b': 0, 'e': 1, 'm': 0, 't': 0},\n",
       " 'bart-motes': {'b': 0, 'e': 0, 'm': 0, 't': 1},\n",
       " 'bartlett-naylor': {'b': 1, 'e': 0, 'm': 0, 't': 0},\n",
       " 'becky-hayes': {'b': 0, 'e': 0, 'm': 0, 't': 1},\n",
       " 'bettina-elias-siegel': {'b': 0, 'e': 0, 'm': 1, 't': 0},\n",
       " 'betty-e-king': {'b': 0, 'e': 0, 'm': 1, 't': 0},\n",
       " 'bill-chameides': {'b': 1, 'e': 0, 'm': 0, 't': 1},\n",
       " 'bill-moyers': {'b': 0, 'e': 0, 'm': 0, 't': 1},\n",
       " 'bizzy-emerson': {'b': 0, 'e': 2, 'm': 0, 't': 0},\n",
       " 'bob-brinkmann': {'b': 0, 'e': 0, 'm': 0, 't': 1},\n",
       " 'bob-swarup': {'b': 1, 'e': 0, 'm': 0, 't': 0},\n",
       " 'bruce-kushnick': {'b': 0, 'e': 0, 'm': 0, 't': 2},\n",
       " 'carole-mallory': {'b': 0, 'e': 2, 'm': 0, 't': 0},\n",
       " 'carrie-goldman': {'b': 0, 'e': 1, 'm': 0, 't': 0},\n",
       " 'celebrity-videos': {'b': 0, 'e': 7, 'm': 0, 't': 0},\n",
       " 'charles-thomson': {'b': 0, 'e': 1, 'm': 0, 't': 0},\n",
       " 'chris-espinosa': {'b': 1, 'e': 0, 'm': 0, 't': 0},\n",
       " 'chris-peak': {'b': 1, 'e': 0, 'm': 0, 't': 0},\n",
       " 'chris-underhill': {'b': 0, 'e': 0, 'm': 1, 't': 0},\n",
       " 'christine-mai': {'b': 1, 'e': 0, 'm': 0, 't': 0},\n",
       " 'christopher-pogue': {'b': 0, 'e': 0, 'm': 0, 't': 1},\n",
       " 'chuck-collins': {'b': 1, 'e': 0, 'm': 0, 't': 0},\n",
       " 'claude-ohanesian': {'b': 1, 'e': 0, 'm': 0, 't': 0},\n",
       " 'collegefashionista': {'b': 0, 'e': 0, 'm': 1, 't': 0},\n",
       " 'common-sense-media': {'b': 0, 'e': 0, 'm': 0, 't': 1},\n",
       " 'courtney-michaluk': {'b': 0, 'e': 0, 'm': 0, 't': 1},\n",
       " 'craftfoxes': {'b': 0, 'e': 1, 'm': 0, 't': 0},\n",
       " 'craig-aaron': {'b': 0, 'e': 0, 'm': 0, 't': 2},\n",
       " 'crystal-duan': {'b': 0, 'e': 1, 'm': 0, 't': 0},\n",
       " 'culture-magazine': {'b': 0, 'e': 0, 'm': 1, 't': 0},\n",
       " 'curtis-ellis': {'b': 0, 'e': 1, 'm': 0, 't': 0},\n",
       " 'dan-arel': {'b': 0, 'e': 0, 'm': 0, 't': 1},\n",
       " 'dan-persons': {'b': 0, 'e': 2, 'm': 0, 't': 0},\n",
       " 'dan-sickles': {'b': 0, 'e': 1, 'm': 0, 't': 0},\n",
       " 'daniel-b-peters-phd': {'b': 0, 'e': 0, 'm': 1, 't': 0},\n",
       " 'daniel-j-schultz': {'b': 1, 'e': 0, 'm': 0, 't': 0},\n",
       " 'daniel-j-solove': {'b': 0, 'e': 0, 'm': 0, 't': 1},\n",
       " 'darryl-woodard': {'b': 0, 'e': 1, 'm': 0, 't': 0},\n",
       " 'david-balto': {'b': 0, 'e': 0, 'm': 0, 't': 1},\n",
       " 'david-finkle': {'b': 0, 'e': 4, 'm': 0, 't': 0},\n",
       " 'david-kanegis': {'b': 0, 'e': 1, 'm': 0, 't': 0},\n",
       " 'david-katz-md': {'b': 0, 'e': 0, 'm': 1, 't': 0},\n",
       " 'david-kessler': {'b': 0, 'e': 1, 'm': 0, 't': 0},\n",
       " 'david-macaray': {'b': 0, 'e': 1, 'm': 0, 't': 0},\n",
       " 'david-meerman-scott': {'b': 0, 'e': 0, 'm': 0, 't': 1},\n",
       " 'david-morris': {'b': 0, 'e': 0, 'm': 0, 't': 1},\n",
       " 'david-palumboliu': {'b': 0, 'e': 1, 'm': 0, 't': 0},\n",
       " 'david-ropeik': {'b': 1, 'e': 0, 'm': 0, 't': 0},\n",
       " 'david-sable': {'b': 1, 'e': 0, 'm': 0, 't': 0},\n",
       " 'david-vienna': {'b': 0, 'e': 1, 'm': 0, 't': 0},\n",
       " 'dean-baker': {'b': 2, 'e': 0, 'm': 0, 't': 0},\n",
       " 'debate': {'b': 1, 'e': 6, 'm': 0, 't': 2},\n",
       " 'dennis-powers': {'b': 0, 'e': 0, 'm': 0, 't': 1},\n",
       " 'devon-corneal': {'b': 0, 'e': 1, 'm': 0, 't': 0},\n",
       " 'dexter-rogers': {'b': 0, 'e': 1, 'm': 0, 't': 0},\n",
       " 'digital-book-world': {'b': 1, 'e': 0, 'm': 0, 't': 0},\n",
       " 'dina-vardouniotis': {'b': 0, 'e': 1, 'm': 0, 't': 0},\n",
       " 'doug-kendall': {'b': 1, 'e': 0, 'm': 0, 't': 0},\n",
       " 'dr-amy-nunn': {'b': 0, 'e': 0, 'm': 1, 't': 0},\n",
       " 'dr-georges-c-benjamin': {'b': 1, 'e': 0, 'm': 0, 't': 0},\n",
       " 'dr-harold-koplewicz': {'b': 0, 'e': 1, 'm': 0, 't': 0},\n",
       " 'dr-howard-k-koh': {'b': 0, 'e': 0, 'm': 1, 't': 0},\n",
       " 'dr-saud-anwar': {'b': 0, 'e': 0, 'm': 1, 't': 0},\n",
       " 'edward-w-felten': {'b': 0, 'e': 0, 'm': 0, 't': 1},\n",
       " 'ellen-kellner': {'b': 0, 'e': 1, 'm': 0, 't': 0},\n",
       " 'ellen-moyer-phd': {'b': 0, 'e': 0, 'm': 0, 't': 1},\n",
       " 'em-and-lo': {'b': 0, 'e': 2, 'm': 0, 't': 0},\n",
       " 'emma-gray': {'b': 0, 'e': 2, 'm': 0, 't': 0},\n",
       " 'emma-walton-hamilton': {'b': 1, 'e': 0, 'm': 0, 't': 0},\n",
       " 'ernest-owens': {'b': 0, 'e': 2, 'm': 0, 't': 0},\n",
       " 'eva-m-clayton': {'b': 1, 'e': 0, 'm': 0, 't': 0},\n",
       " 'evan-ross-katz': {'b': 0, 'e': 1, 'm': 0, 't': 0},\n",
       " 'eve-tahmincioglu': {'b': 0, 'e': 1, 'm': 0, 't': 0},\n",
       " 'femail': {'b': 6, 'e': 38, 'm': 8, 't': 2},\n",
       " 'fern-siegel': {'b': 0, 'e': 1, 'm': 0, 't': 0},\n",
       " 'food-52': {'b': 0, 'e': 2, 'm': 0, 't': 0},\n",
       " 'frank-islam': {'b': 1, 'e': 0, 'm': 0, 't': 0},\n",
       " 'gene-del-vecchio': {'b': 0, 'e': 2, 'm': 0, 't': 0},\n",
       " 'george-sachs-psyd': {'b': 0, 'e': 1, 'm': 0, 't': 0},\n",
       " 'glamour': {'b': 0, 'e': 0, 'm': 1, 't': 0},\n",
       " 'gloria-horsley': {'b': 0, 'e': 1, 'm': 0, 't': 0},\n",
       " 'gov-martin-omalley': {'b': 1, 'e': 0, 'm': 0, 't': 0},\n",
       " 'greg-carey': {'b': 0, 'e': 1, 'm': 0, 't': 0},\n",
       " 'gregory-allen-howard': {'b': 0, 'e': 1, 'm': 0, 't': 0},\n",
       " 'h-a-goodman': {'b': 0, 'e': 0, 'm': 0, 't': 1},\n",
       " 'harlan-green': {'b': 2, 'e': 0, 'm': 0, 't': 0},\n",
       " 'health': {'b': 0, 'e': 0, 'm': 80, 't': 0},\n",
       " 'heidi-hartmann': {'b': 2, 'e': 0, 'm': 0, 't': 0},\n",
       " 'henry-henderson': {'b': 1, 'e': 0, 'm': 0, 't': 0},\n",
       " 'high-times': {'b': 0, 'e': 0, 'm': 1, 't': 0},\n",
       " 'home': {'b': 0, 'e': 4, 'm': 0, 't': 0},\n",
       " 'hoppercom': {'b': 0, 'e': 1, 'm': 0, 't': 0},\n",
       " 'howard-barbanel': {'b': 0, 'e': 1, 'm': 0, 't': 0},\n",
       " 'huff-wires': {'b': 30, 'e': 32, 'm': 3, 't': 13},\n",
       " 'ilene-angel': {'b': 0, 'e': 1, 'm': 0, 't': 0},\n",
       " 'in-depth': {'b': 0, 'e': 55, 'm': 0, 't': 0},\n",
       " 'in-pictures': {'b': 0, 'e': 6, 'm': 0, 't': 0},\n",
       " 'indiahome': {'b': 2, 'e': 11, 'm': 0, 't': 4},\n",
       " 'irene-monroe': {'b': 0, 'e': 1, 'm': 0, 't': 0},\n",
       " 'jack-m-guttentag': {'b': 1, 'e': 0, 'm': 0, 't': 0},\n",
       " 'jack-temple': {'b': 1, 'e': 0, 'm': 0, 't': 0},\n",
       " 'jackie-k-cooper': {'b': 0, 'e': 3, 'm': 0, 't': 0},\n",
       " 'jacobs-matthew': {'b': 0, 'e': 1, 'm': 0, 't': 0},\n",
       " 'james-peron': {'b': 0, 'e': 1, 'm': 0, 't': 0},\n",
       " 'jamie-henn': {'b': 0, 'e': 0, 'm': 0, 't': 1},\n",
       " 'jan-millsapps-phd': {'b': 0, 'e': 0, 'm': 0, 't': 1},\n",
       " 'jared-bernstein': {'b': 1, 'e': 0, 'm': 0, 't': 0},\n",
       " 'jason-gordo': {'b': 1, 'e': 0, 'm': 0, 't': 0},\n",
       " 'jay-scott': {'b': 0, 'e': 0, 'm': 1, 't': 0},\n",
       " 'jeffrey-buchanan': {'b': 1, 'e': 0, 'm': 0, 't': 0},\n",
       " 'jenna-amatulli': {'b': 0, 'e': 1, 'm': 0, 't': 0},\n",
       " 'jenna-tenn-yuk': {'b': 0, 'e': 1, 'm': 0, 't': 0},\n",
       " 'jennifer-tyler-lee': {'b': 0, 'e': 1, 'm': 0, 't': 0},\n",
       " 'jenny-davis': {'b': 0, 'e': 0, 'm': 0, 't': 1},\n",
       " 'jenny-witte': {'b': 0, 'e': 1, 'm': 0, 't': 0},\n",
       " 'jens-martin-skibsted': {'b': 0, 'e': 0, 'm': 0, 't': 1},\n",
       " 'jess-carbino': {'b': 0, 'e': 1, 'm': 0, 't': 0},\n",
       " 'jesse-lawrence': {'b': 0, 'e': 1, 'm': 0, 't': 0},\n",
       " 'jim-goldman': {'b': 0, 'e': 0, 'm': 0, 't': 1},\n",
       " 'jim-joseph': {'b': 0, 'e': 1, 'm': 0, 't': 0},\n",
       " 'jim-monroe': {'b': 0, 'e': 2, 'm': 0, 't': 0},\n",
       " 'jim-wallis': {'b': 0, 'e': 1, 'm': 0, 't': 0},\n",
       " 'joan-gage': {'b': 0, 'e': 0, 'm': 0, 't': 1},\n",
       " 'joan-kelley-weisshaar-walker': {'b': 0, 'e': 1, 'm': 0, 't': 0},\n",
       " 'joe-s-whitworth': {'b': 0, 'e': 0, 'm': 0, 't': 1},\n",
       " 'joel-epstein': {'b': 1, 'e': 0, 'm': 0, 't': 0},\n",
       " 'john-fullerton': {'b': 1, 'e': 0, 'm': 0, 't': 0},\n",
       " 'john-m-eger': {'b': 0, 'e': 0, 'm': 0, 't': 1},\n",
       " 'john-mariani': {'b': 0, 'e': 1, 'm': 0, 't': 0},\n",
       " 'john-shore': {'b': 0, 'e': 1, 'm': 0, 't': 0},\n",
       " 'john-wellington-ennis': {'b': 1, 'e': 0, 'm': 0, 't': 0},\n",
       " 'jonathan-handel': {'b': 0, 'e': 1, 'm': 0, 't': 0},\n",
       " 'jonathan-spalter': {'b': 0, 'e': 0, 'm': 0, 't': 1},\n",
       " 'jonathan-valania': {'b': 0, 'e': 1, 'm': 0, 't': 0},\n",
       " 'jonathan-weiler': {'b': 0, 'e': 0, 'm': 0, 't': 2},\n",
       " 'judith-a-salerno': {'b': 0, 'e': 0, 'm': 1, 't': 0},\n",
       " 'kara-lankford': {'b': 1, 'e': 0, 'm': 0, 't': 0},\n",
       " 'karin-badt': {'b': 0, 'e': 2, 'm': 0, 't': 0},\n",
       " 'kathlyn-and-gay-hendricks': {'b': 0, 'e': 1, 'm': 0, 't': 0},\n",
       " 'kathy-calvin': {'b': 0, 'e': 0, 'm': 0, 't': 1},\n",
       " 'kellie-edwards': {'b': 0, 'e': 1, 'm': 0, 't': 0},\n",
       " 'kelly-rigg': {'b': 0, 'e': 0, 'm': 0, 't': 1},\n",
       " 'kerry-h-mcmanama': {'b': 0, 'e': 0, 'm': 1, 't': 0},\n",
       " 'kevin-werbach': {'b': 0, 'e': 0, 'm': 0, 't': 1},\n",
       " 'kim-kane': {'b': 0, 'e': 1, 'm': 0, 't': 0},\n",
       " 'knowmore-tv': {'b': 0, 'e': 1, 'm': 0, 't': 0},\n",
       " 'kristen-howerton': {'b': 0, 'e': 2, 'm': 0, 't': 0},\n",
       " 'kristie-christie': {'b': 0, 'e': 1, 'm': 0, 't': 0},\n",
       " 'kristin-rowefinkbeiner': {'b': 1, 'e': 0, 'm': 0, 't': 0},\n",
       " 'kristin-shaw': {'b': 0, 'e': 1, 'm': 0, 't': 0},\n",
       " 'larry-magid': {'b': 0, 'e': 0, 'm': 0, 't': 1},\n",
       " 'lars-hard': {'b': 0, 'e': 0, 'm': 0, 't': 1},\n",
       " 'laurence-j-kotlikoff': {'b': 1, 'e': 0, 'm': 0, 't': 0},\n",
       " 'leeen-chung': {'b': 0, 'e': 1, 'm': 0, 't': 0},\n",
       " 'lelia-nebeker': {'b': 0, 'e': 1, 'm': 0, 't': 0},\n",
       " 'leona-foxx': {'b': 0, 'e': 1, 'm': 0, 't': 0},\n",
       " 'linda-hallman': {'b': 1, 'e': 0, 'm': 0, 't': 0},\n",
       " 'linda-meric': {'b': 1, 'e': 0, 'm': 0, 't': 0},\n",
       " 'linda-p-fried': {'b': 0, 'e': 0, 'm': 1, 't': 0},\n",
       " 'lindsay-hill': {'b': 0, 'e': 0, 'm': 1, 't': 0},\n",
       " 'lisa-copeland': {'b': 0, 'e': 1, 'm': 0, 't': 0},\n",
       " 'lisa-kirchner': {'b': 1, 'e': 0, 'm': 0, 't': 0},\n",
       " 'liz-smith': {'b': 0, 'e': 1, 'm': 0, 't': 0},\n",
       " 'liza-long': {'b': 0, 'e': 0, 'm': 1, 't': 0},\n",
       " 'lorraine-roe': {'b': 0, 'e': 1, 'm': 0, 't': 0},\n",
       " 'louis-fantasia': {'b': 0, 'e': 1, 'm': 0, 't': 0},\n",
       " 'madonna-matta': {'b': 0, 'e': 1, 'm': 0, 't': 0},\n",
       " 'malkia-a-cyril': {'b': 0, 'e': 0, 'm': 0, 't': 1},\n",
       " 'marcia-greenberg': {'b': 1, 'e': 0, 'm': 0, 't': 0},\n",
       " 'margaris-advisory': {'b': 0, 'e': 0, 'm': 0, 't': 1},\n",
       " 'marie-marley': {'b': 0, 'e': 0, 'm': 1, 't': 0},\n",
       " 'marion-winik': {'b': 0, 'e': 1, 'm': 0, 't': 0},\n",
       " 'mark-brennan-rosenberg': {'b': 0, 'e': 1, 'm': 0, 't': 0},\n",
       " 'mark-carpowich': {'b': 0, 'e': 1, 'm': 0, 't': 0},\n",
       " 'mark-coker': {'b': 0, 'e': 0, 'm': 0, 't': 1},\n",
       " 'mark-steber': {'b': 1, 'e': 0, 'm': 0, 't': 0},\n",
       " 'mark-weinstein': {'b': 0, 'e': 0, 'm': 0, 't': 1},\n",
       " 'marshall-fine': {'b': 0, 'e': 3, 'm': 0, 't': 0},\n",
       " 'mary-ellen-harte': {'b': 0, 'e': 0, 'm': 0, 't': 2},\n",
       " 'matthew-dietrich': {'b': 1, 'e': 0, 'm': 0, 't': 0},\n",
       " 'matthew-ebert': {'b': 0, 'e': 0, 'm': 1, 't': 0},\n",
       " 'matthew-rose': {'b': 0, 'e': 0, 'm': 1, 't': 0},\n",
       " 'megan-mcdonough': {'b': 0, 'e': 1, 'm': 0, 't': 0},\n",
       " 'melissa-sher': {'b': 0, 'e': 0, 'm': 1, 't': 0},\n",
       " 'michael-brenner': {'b': 1, 'e': 0, 'm': 0, 't': 0},\n",
       " 'michael-darer': {'b': 0, 'e': 1, 'm': 0, 't': 0},\n",
       " 'michael-e-mann': {'b': 0, 'e': 0, 'm': 0, 't': 1},\n",
       " 'michael-f-jacobson': {'b': 0, 'e': 1, 'm': 0, 't': 0},\n",
       " 'michael-giltz': {'b': 0, 'e': 1, 'm': 0, 't': 0},\n",
       " 'michael-r-levin': {'b': 1, 'e': 0, 'm': 0, 't': 1},\n",
       " 'michel-d-kazatchkine': {'b': 0, 'e': 0, 'm': 1, 't': 0},\n",
       " 'michele-nealonwoods': {'b': 0, 'e': 0, 'm': 1, 't': 0},\n",
       " 'michelle-higginson': {'b': 0, 'e': 1, 'm': 0, 't': 0},\n",
       " 'mike-ragogna': {'b': 0, 'e': 1, 'm': 0, 't': 0},\n",
       " 'mitchell-warren': {'b': 0, 'e': 0, 'm': 1, 't': 0},\n",
       " 'molly-fosco': {'b': 0, 'e': 1, 'm': 0, 't': 0},\n",
       " 'monika-mitchell': {'b': 0, 'e': 0, 'm': 0, 't': 2},\n",
       " 'movie-review': {'b': 0, 'e': 6, 'm': 0, 't': 0},\n",
       " 'murali-balaji': {'b': 0, 'e': 1, 'm': 0, 't': 0},\n",
       " 'mutualart': {'b': 0, 'e': 1, 'm': 0, 't': 0},\n",
       " 'mybanktracker': {'b': 1, 'e': 0, 'm': 0, 't': 0},\n",
       " 'nancy-brown': {'b': 0, 'e': 0, 'm': 2, 't': 0},\n",
       " 'nancy-m-cappello': {'b': 0, 'e': 0, 'm': 1, 't': 0},\n",
       " 'natalie-pace': {'b': 0, 'e': 1, 'm': 0, 't': 0},\n",
       " 'natasha-starkell': {'b': 0, 'e': 0, 'm': 0, 't': 1},\n",
       " 'nathan-white': {'b': 0, 'e': 0, 'm': 0, 't': 1},\n",
       " 'news': {'b': 1591, 'e': 295, 'm': 208, 't': 318},\n",
       " 'nic-latouf': {'b': 0, 'e': 1, 'm': 0, 't': 0},\n",
       " 'noah-mallin': {'b': 1, 'e': 0, 'm': 0, 't': 0},\n",
       " 'opinion': {'b': 0, 'e': 3, 'm': 0, 't': 0},\n",
       " 'pastor-rick-henderson': {'b': 0, 'e': 2, 'm': 0, 't': 0},\n",
       " 'paul-klein': {'b': 0, 'e': 1, 'm': 0, 't': 0},\n",
       " 'paul-n-van-de-water': {'b': 2, 'e': 0, 'm': 0, 't': 0},\n",
       " 'paul-raushenbush': {'b': 0, 'e': 1, 'm': 0, 't': 0},\n",
       " 'peggy-drexler': {'b': 0, 'e': 1, 'm': 0, 't': 0},\n",
       " 'pete-dorogoff': {'b': 1, 'e': 0, 'm': 0, 't': 0},\n",
       " 'prasanna-ranganathan': {'b': 0, 'e': 1, 'm': 0, 't': 0},\n",
       " 'press': {'b': 0, 'e': 4, 'm': 0, 't': 0},\n",
       " 'rabbi-arthur-waskow': {'b': 0, 'e': 1, 'm': 0, 't': 0},\n",
       " 'rabbi-michael-bernstein': {'b': 0, 'e': 1, 'm': 0, 't': 0},\n",
       " 'rachel-braun-scherl': {'b': 0, 'e': 1, 'm': 0, 't': 0},\n",
       " 'randy-taran': {'b': 0, 'e': 1, 'm': 0, 't': 0},\n",
       " 'ravishly': {'b': 0, 'e': 1, 'm': 0, 't': 0},\n",
       " 'rebecca-abrahams': {'b': 0, 'e': 0, 'm': 0, 't': 1},\n",
       " 'reef-karim-do': {'b': 0, 'e': 1, 'm': 0, 't': 0},\n",
       " 'regina-weinreich': {'b': 0, 'e': 1, 'm': 0, 't': 0},\n",
       " 'rep-kirsten-gillibrand': {'b': 1, 'e': 0, 'm': 0, 't': 0},\n",
       " 'rep-mike-honda': {'b': 1, 'e': 0, 'm': 0, 't': 0},\n",
       " 'rep-paul-tonko': {'b': 0, 'e': 0, 'm': 0, 't': 1},\n",
       " 'rev-dr-susan-brooks-thistlethwaite': {'b': 0, 'e': 1, 'm': 0, 't': 0},\n",
       " 'rev-james-martin-sj': {'b': 0, 'e': 1, 'm': 0, 't': 0},\n",
       " 'richard-javad-heydarian': {'b': 1, 'e': 0, 'm': 0, 't': 0},\n",
       " 'rj-eskow': {'b': 3, 'e': 0, 'm': 0, 't': 0},\n",
       " 'robert-j-morgan': {'b': 0, 'e': 1, 'm': 0, 't': 0},\n",
       " 'robert-l-cavnar': {'b': 1, 'e': 0, 'm': 0, 't': 0},\n",
       " 'robert-scoble': {'b': 0, 'e': 0, 'm': 0, 't': 1},\n",
       " 'robin-raskin': {'b': 0, 'e': 1, 'm': 0, 't': 0},\n",
       " 'round-up': {'b': 0, 'e': 2, 'm': 0, 't': 0},\n",
       " 'sandip-roy': {'b': 0, 'e': 1, 'm': 0, 't': 0},\n",
       " 'sanjay-sanghoee': {'b': 0, 'e': 1, 'm': 0, 't': 0},\n",
       " 'sara-sutton-fell': {'b': 0, 'e': 1, 'm': 0, 't': 0},\n",
       " 'sarah-hodgson': {'b': 0, 'e': 0, 'm': 1, 't': 0},\n",
       " 'sciencetech': {'b': 18, 'e': 6, 'm': 28, 't': 192},\n",
       " 'scott-thill': {'b': 0, 'e': 0, 'm': 0, 't': 1},\n",
       " 'sean-cahill': {'b': 0, 'e': 0, 'm': 3, 't': 0},\n",
       " 'selena-coppock': {'b': 0, 'e': 1, 'm': 0, 't': 0},\n",
       " 'sheila-raju': {'b': 0, 'e': 0, 'm': 0, 't': 2},\n",
       " 'shelly-palmer': {'b': 0, 'e': 0, 'm': 0, 't': 1},\n",
       " 'shira-lazar': {'b': 0, 'e': 1, 'm': 0, 't': 0},\n",
       " 'sport': {'b': 0, 'e': 5, 'm': 4, 't': 1},\n",
       " 'stephaniemadsen': {'b': 0, 'e': 0, 'm': 1, 't': 0},\n",
       " 'stephen-balkam': {'b': 0, 'e': 0, 'm': 0, 't': 1},\n",
       " 'stephen-grant': {'b': 0, 'e': 1, 'm': 0, 't': 0},\n",
       " 'steve-mcswain': {'b': 0, 'e': 1, 'm': 0, 't': 0},\n",
       " 'steve-rhode': {'b': 1, 'e': 0, 'm': 0, 't': 0},\n",
       " 'steve-sipress': {'b': 0, 'e': 1, 'm': 0, 't': 0},\n",
       " 'steven-cohen': {'b': 1, 'e': 0, 'm': 0, 't': 0},\n",
       " 'steven-suskin': {'b': 0, 'e': 3, 'm': 0, 't': 0},\n",
       " 'story': {'b': 0, 'e': 1034, 'm': 8, 't': 4},\n",
       " 'susanne-mentzer': {'b': 0, 'e': 1, 'm': 0, 't': 0},\n",
       " 'tarun-wadhwa': {'b': 0, 'e': 0, 'm': 0, 't': 1},\n",
       " 'ted-danson': {'b': 0, 'e': 0, 'm': 0, 't': 1},\n",
       " 'terry-connelly': {'b': 1, 'e': 0, 'm': 0, 't': 0},\n",
       " 'terry-oneill': {'b': 1, 'e': 0, 'm': 0, 't': 0},\n",
       " 'the-': {'b': 0, 'e': 0, 'm': 1, 't': 0},\n",
       " 'the-b-team': {'b': 1, 'e': 0, 'm': 0, 't': 0},\n",
       " 'the-daily-meal': {'b': 1, 'e': 1, 'm': 0, 't': 0},\n",
       " 'the-european-magazine': {'b': 1, 'e': 0, 'm': 0, 't': 0},\n",
       " 'tim-profeta': {'b': 0, 'e': 0, 'm': 0, 't': 1},\n",
       " 'timothy-karr': {'b': 0, 'e': 0, 'm': 0, 't': 2},\n",
       " 'tom-conrad-': {'b': 0, 'e': 1, 'm': 0, 't': 0},\n",
       " 'tom-steyer': {'b': 0, 'e': 0, 'm': 0, 't': 1},\n",
       " 'tony-newman': {'b': 0, 'e': 1, 'm': 0, 't': 0},\n",
       " 'travel': {'b': 5, 'e': 6, 'm': 3, 't': 0},\n",
       " 'trip-van-noppen': {'b': 1, 'e': 0, 'm': 0, 't': 0},\n",
       " 'tvshowbiz': {'b': 1, 'e': 957, 'm': 3, 't': 0},\n",
       " 'ulli-appelbaum': {'b': 0, 'e': 1, 'm': 0, 't': 0},\n",
       " 'uloop': {'b': 0, 'e': 1, 'm': 0, 't': 0},\n",
       " 'vala-afshar': {'b': 0, 'e': 0, 'm': 0, 't': 1},\n",
       " 'vicki-larson': {'b': 0, 'e': 1, 'm': 0, 't': 0},\n",
       " 'victoria-oldridge': {'b': 0, 'e': 0, 'm': 0, 't': 1},\n",
       " 'video': {'b': 1, 'e': 10, 'm': 0, 't': 0},\n",
       " 'vishal-khetpal': {'b': 1, 'e': 0, 'm': 0, 't': 0},\n",
       " 'volker-kauder': {'b': 1, 'e': 0, 'm': 0, 't': 0},\n",
       " 'wendell-potter': {'b': 1, 'e': 0, 'm': 0, 't': 0},\n",
       " 'wendy-kd-selig': {'b': 0, 'e': 0, 'm': 2, 't': 0},\n",
       " 'wilborn-hampton': {'b': 0, 'e': 2, 'm': 0, 't': 0},\n",
       " 'will-bunch': {'b': 0, 'e': 1, 'm': 0, 't': 0},\n",
       " 'william-bradley': {'b': 0, 'e': 3, 'm': 0, 't': 0},\n",
       " 'william-kelly': {'b': 1, 'e': 0, 'm': 0, 't': 0},\n",
       " 'wires': {'b': 13, 'e': 52, 'm': 2, 't': 6},\n",
       " 'yuen-chan': {'b': 1, 'e': 0, 'm': 0, 't': 0},\n",
       " 'zaki-hasan': {'b': 0, 'e': 6, 'm': 0, 't': 0}}"
      ]
     },
     "execution_count": 25,
     "metadata": {},
     "output_type": "execute_result"
    }
   ],
   "source": [
    "directories = []\n",
    "directories_dic = {}\n",
    "for i, d in enumerate(np.vstack([train, valid])):\n",
    "  # print(i, d[2].lower().replace('//', '/').split('/')[2], d[4])\n",
    "  directories.append(d[2].lower().replace('//', '/').split('/')[2])\n",
    "  k  = d[2].lower().replace('//', '/').split('/')[2]\n",
    "  if k not in directories_dic.keys():\n",
    "    directories_dic[k] = {'b': 0, 't': 0, 'e': 0, 'm': 0}\n",
    "  directories_dic[k][d[4]] += 1\n",
    "(directories_dic)"
   ]
  },
  {
   "cell_type": "code",
   "execution_count": null,
   "metadata": {
    "colab": {
     "base_uri": "https://localhost:8080/",
     "height": 279
    },
    "executionInfo": {
     "elapsed": 18298,
     "status": "ok",
     "timestamp": 1645687216057,
     "user": {
      "displayName": "田中義規",
      "photoUrl": "https://lh3.googleusercontent.com/a/default-user=s64",
      "userId": "03358882541309422843"
     },
     "user_tz": -540
    },
    "id": "zg-xMdM4Heiz",
    "outputId": "9f0ac32e-2e8f-4304-a053-cf2771324342"
   },
   "outputs": [
    {
     "data": {
      "image/png": "[encoded data removed]",
      "text/plain": [
       "<Figure size 432x288 with 1 Axes>"
      ]
     },
     "metadata": {
      "needs_background": "light"
     },
     "output_type": "display_data"
    }
   ],
   "source": [
    "import matplotlib.pyplot as plt\n",
    "x = [1, 2, 3, 4] + np.arange(5, 100, 5).tolist()\n",
    "y = []\n",
    "for th in x:\n",
    "  cnt = 0\n",
    "  for d in set(directories):\n",
    "    if np.sum(np.array(directories)==d) >= th:\n",
    "      cnt += 1\n",
    "  y.append(cnt)\n",
    "plt.plot(x, y)\n",
    "plt.xticks(np.arange(0, 100, 5).tolist())\n",
    "plt.xlabel('frequency')\n",
    "plt.ylabel('num_cases')\n",
    "plt.grid()\n",
    "plt.show()"
   ]
  },
  {
   "cell_type": "markdown",
   "metadata": {
    "id": "C94EXRhjbz1f"
   },
   "source": [
    "横軸5付近から縦軸の減少量が落ち始める\n",
    "<br>\n",
    "出現数が10文字以下のものはotherとして扱う"
   ]
  },
  {
   "cell_type": "code",
   "execution_count": null,
   "metadata": {
    "colab": {
     "base_uri": "https://localhost:8080/"
    },
    "executionInfo": {
     "elapsed": 6,
     "status": "ok",
     "timestamp": 1645687216058,
     "user": {
      "displayName": "田中義規",
      "photoUrl": "https://lh3.googleusercontent.com/a/default-user=s64",
      "userId": "03358882541309422843"
     },
     "user_tz": -540
    },
    "id": "q2MhTw7MLoqs",
    "outputId": "068bd219-f696-4b1c-bc98-ae301deef05b"
   },
   "outputs": [
    {
     "name": "stdout",
     "output_type": "stream",
     "text": [
      "news {'b': 1591, 't': 318, 'e': 295, 'm': 208}\n",
      "2014 {'b': 292, 't': 332, 'e': 906, 'm': 253}\n",
      "ap {'b': 37, 't': 9, 'e': 3, 'm': 2}\n",
      "article {'b': 2858, 't': 343, 'e': 1126, 'm': 157}\n",
      "indiahome {'b': 2, 't': 4, 'e': 11, 'm': 0}\n",
      "sciencetech {'b': 18, 't': 192, 'e': 6, 'm': 28}\n",
      "in-depth {'b': 0, 't': 0, 'e': 55, 'm': 0}\n",
      "story {'b': 0, 't': 4, 'e': 1034, 'm': 8}\n",
      "health {'b': 0, 't': 0, 'e': 0, 'm': 80}\n",
      "wires {'b': 13, 't': 6, 'e': 52, 'm': 2}\n",
      "travel {'b': 5, 't': 0, 'e': 6, 'm': 3}\n",
      "articles {'b': 135, 't': 65, 'e': 24, 'm': 18}\n",
      "tvshowbiz {'b': 1, 't': 0, 'e': 957, 'm': 3}\n",
      "huff-wires {'b': 30, 't': 13, 'e': 32, 'm': 3}\n",
      "sport {'b': 0, 't': 1, 'e': 5, 'm': 4}\n",
      "video {'b': 1, 't': 0, 'e': 10, 'm': 0}\n",
      "femail {'b': 6, 't': 2, 'e': 38, 'm': 8}\n"
     ]
    }
   ],
   "source": [
    "th = 10\n",
    "dir_list = ['other']\n",
    "for dir in set(directories):\n",
    "  if np.sum(np.array(directories)==dir) >= th:\n",
    "    print(dir, directories_dic[dir])\n",
    "    dir_list.append(dir)"
   ]
  },
  {
   "cell_type": "markdown",
   "metadata": {
    "id": "B__L-FUKjK3x"
   },
   "source": [
    "### データの準備"
   ]
  },
  {
   "cell_type": "code",
   "execution_count": null,
   "metadata": {
    "id": "H-ombMK9Xf-l"
   },
   "outputs": [],
   "source": [
    "def get_dirs(urls):\n",
    "\n",
    "  global dir_list\n",
    "\n",
    "  dirs_ = []\n",
    "  for url in urls:\n",
    "    dir = url.lower().replace('//', '/').split('/')[2]\n",
    "    if dir in dir_list[1:]: # other以外\n",
    "      dirs_.append(dir)\n",
    "    else:\n",
    "      dirs_.append('other')\n",
    "  return dirs_"
   ]
  },
  {
   "cell_type": "code",
   "execution_count": null,
   "metadata": {
    "id": "o7s4L9zqT_No"
   },
   "outputs": [],
   "source": [
    "df_train = pd.DataFrame({'word_{}'.format(w): col for w, col in zip(vocab, tfidf_train.T)})\n",
    "df_valid= pd.DataFrame({'word_{}'.format(w): col for w, col in zip(vocab, tfidf_valid.T)})\n",
    "df_test = pd.DataFrame({'word_{}'.format(w): col for w, col in zip(vocab, tfidf_test.T)})\n",
    "\n",
    "df_train['publisher'] = train[:, 3]\n",
    "df_train['hostname_url'] = train[:, 6]\n",
    "df_train['directory'] = get_dirs(train[:, 2])\n",
    "df_valid['publisher'] = valid[:, 3]\n",
    "df_valid['hostname_url'] = valid[:, 6]\n",
    "df_valid['directory'] = get_dirs(valid[:, 2])\n",
    "df_test['publisher'] = test[:, 3]\n",
    "df_test['hostname_url'] = test[:, 6]\n",
    "df_test['directory'] = get_dirs(test[:, 2])"
   ]
  },
  {
   "cell_type": "markdown",
   "metadata": {
    "id": "vsV1P76Bgj-J"
   },
   "source": [
    "### one-hot encoding"
   ]
  },
  {
   "cell_type": "code",
   "execution_count": null,
   "metadata": {
    "colab": {
     "base_uri": "https://localhost:8080/"
    },
    "executionInfo": {
     "elapsed": 1336,
     "status": "ok",
     "timestamp": 1645687219393,
     "user": {
      "displayName": "田中義規",
      "photoUrl": "https://lh3.googleusercontent.com/a/default-user=s64",
      "userId": "03358882541309422843"
     },
     "user_tz": -540
    },
    "id": "uGTf0maUK8qb",
    "outputId": "b1e9e2e6-4275-4112-abdf-20d62f8f6225"
   },
   "outputs": [
    {
     "name": "stdout",
     "output_type": "stream",
     "text": [
      "(10672, 7418) (1334, 7418) (1334, 7418)\n"
     ]
    }
   ],
   "source": [
    "df = pd.concat([df_train, df_valid, df_test], axis=0)\n",
    "df = pd.get_dummies(df, columns=['publisher', 'hostname_url', 'directory'])\n",
    "\n",
    "idx1, idx2 = df_train.shape[0], df_train.shape[0] + df_valid.shape[0]\n",
    "df_train = df[:idx1].reset_index(drop=True)\n",
    "df_valid = df[idx1: idx2].reset_index(drop=True)\n",
    "df_test = df[idx2:].reset_index(drop=True)\n",
    "print(df_train.shape, df_valid.shape, df_test.shape)"
   ]
  },
  {
   "cell_type": "markdown",
   "metadata": {
    "id": "F5dQtBlzg9xx"
   },
   "source": [
    "### category(target)を追加し，feature.txtの保存"
   ]
  },
  {
   "cell_type": "code",
   "execution_count": null,
   "metadata": {
    "id": "M4NscJuzeYOr"
   },
   "outputs": [],
   "source": [
    "category_dic = {'b': 0, 't': 1, 'e': 2, 'm': 3}\n",
    "df_train['category'] = [category_dic[c] for c in train[:, 4]]\n",
    "df_valid['category'] = [category_dic[c] for c in valid[:, 4]]\n",
    "df_test['category'] = [category_dic[c] for c in test[:, 4]]"
   ]
  },
  {
   "cell_type": "code",
   "execution_count": null,
   "metadata": {
    "id": "U_nSxKj3hZFd"
   },
   "outputs": [],
   "source": [
    "!mkdir features"
   ]
  },
  {
   "cell_type": "code",
   "execution_count": null,
   "metadata": {
    "id": "CXl7fk8XT_VO"
   },
   "outputs": [],
   "source": [
    "for filename, _df in zip(['train_feature.txt', 'valid_feature.txt', 'test_feature.txt'], \n",
    "                         [df_train, df_valid, df_test]):\n",
    "  _df.to_csv('./features/' + filename, sep='\\t', index=False, header=False)"
   ]
  },
  {
   "cell_type": "code",
   "execution_count": null,
   "metadata": {
    "colab": {
     "base_uri": "https://localhost:8080/"
    },
    "executionInfo": {
     "elapsed": 27,
     "status": "ok",
     "timestamp": 1645687282000,
     "user": {
      "displayName": "田中義規",
      "photoUrl": "https://lh3.googleusercontent.com/a/default-user=s64",
      "userId": "03358882541309422843"
     },
     "user_tz": -540
    },
    "id": "alnN0B-DhwNz",
    "outputId": "a2aa5d46-1b49-49ad-92f5-b4a68f7481dc"
   },
   "outputs": [
    {
     "name": "stdout",
     "output_type": "stream",
     "text": [
      "379M\t./features\n"
     ]
    }
   ],
   "source": [
    "!du -shx ./features"
   ]
  },
  {
   "cell_type": "code",
   "execution_count": null,
   "metadata": {
    "colab": {
     "base_uri": "https://localhost:8080/"
    },
    "executionInfo": {
     "elapsed": 112853,
     "status": "ok",
     "timestamp": 1645687394848,
     "user": {
      "displayName": "田中義規",
      "photoUrl": "https://lh3.googleusercontent.com/a/default-user=s64",
      "userId": "03358882541309422843"
     },
     "user_tz": -540
    },
    "id": "br9MC2yAhz2r",
    "outputId": "9f486bd3-f98b-475b-e928-8bfacc206a46"
   },
   "outputs": [
    {
     "name": "stdout",
     "output_type": "stream",
     "text": [
      "./features/\n",
      "./features/valid_feature.txt\n",
      "./features/train_feature.txt\n",
      "./features/test_feature.txt\n"
     ]
    }
   ],
   "source": [
    "!tar -jcvf chap06_features.tar.bz2 ./features/"
   ]
  },
  {
   "cell_type": "code",
   "execution_count": null,
   "metadata": {
    "colab": {
     "base_uri": "https://localhost:8080/"
    },
    "executionInfo": {
     "elapsed": 17,
     "status": "ok",
     "timestamp": 1645687394849,
     "user": {
      "displayName": "田中義規",
      "photoUrl": "https://lh3.googleusercontent.com/a/default-user=s64",
      "userId": "03358882541309422843"
     },
     "user_tz": -540
    },
    "id": "6ne_DVG4io84",
    "outputId": "c5df4b6d-9f76-40cd-9c4c-3573db19827c"
   },
   "outputs": [
    {
     "name": "stdout",
     "output_type": "stream",
     "text": [
      "1.1M\tchap06_features.tar.bz2\n"
     ]
    }
   ],
   "source": [
    "!du -shx chap06_features.tar.bz2"
   ]
  },
  {
   "cell_type": "code",
   "execution_count": null,
   "metadata": {
    "id": "szWdXRiZhRE-"
   },
   "outputs": [],
   "source": [
    "!cp chap06_features.tar.bz2 './drive/MyDrive/100pon/data/'"
   ]
  },
  {
   "cell_type": "code",
   "execution_count": null,
   "metadata": {
    "id": "3taV81jChRHn"
   },
   "outputs": [],
   "source": []
  },
  {
   "cell_type": "code",
   "execution_count": null,
   "metadata": {
    "id": "9-fSw1G_hRKS"
   },
   "outputs": [],
   "source": []
  },
  {
   "cell_type": "markdown",
   "metadata": {
    "id": "wpjCisovflc6"
   },
   "source": [
    "## 52"
   ]
  },
  {
   "cell_type": "code",
   "execution_count": null,
   "metadata": {
    "id": "AGmv5H36T_af"
   },
   "outputs": [],
   "source": [
    "X, y = {}, {}\n",
    "X['train'], y['train'] = df_train.drop('category', axis=1).to_numpy(), df_train['category'].values\n",
    "X['valid'], y['valid'] = df_valid.drop('category', axis=1).to_numpy(), df_valid['category'].values\n",
    "X['test'], y['test'] = df_test.drop('category', axis=1).to_numpy(), df_test['category'].values"
   ]
  },
  {
   "cell_type": "code",
   "execution_count": null,
   "metadata": {
    "colab": {
     "base_uri": "https://localhost:8080/"
    },
    "executionInfo": {
     "elapsed": 53892,
     "status": "ok",
     "timestamp": 1645687449566,
     "user": {
      "displayName": "田中義規",
      "photoUrl": "https://lh3.googleusercontent.com/a/default-user=s64",
      "userId": "03358882541309422843"
     },
     "user_tz": -540
    },
    "id": "UOQcGgXof7O6",
    "outputId": "a5cea634-777d-4c16-e223-2b4b56ca60a4"
   },
   "outputs": [
    {
     "name": "stderr",
     "output_type": "stream",
     "text": [
      "/usr/local/lib/python3.7/dist-packages/sklearn/linear_model/_logistic.py:818: ConvergenceWarning: lbfgs failed to converge (status=1):\n",
      "STOP: TOTAL NO. of ITERATIONS REACHED LIMIT.\n",
      "\n",
      "Increase the number of iterations (max_iter) or scale the data as shown in:\n",
      "    https://scikit-learn.org/stable/modules/preprocessing.html\n",
      "Please also refer to the documentation for alternative solver options:\n",
      "    https://scikit-learn.org/stable/modules/linear_model.html#logistic-regression\n",
      "  extra_warning_msg=_LOGISTIC_SOLVER_CONVERGENCE_MSG,\n"
     ]
    }
   ],
   "source": [
    "from sklearn.linear_model import LogisticRegression\n",
    "\n",
    "clf = LogisticRegression(random_state=0).fit(X['train'], y['train'])"
   ]
  },
  {
   "cell_type": "markdown",
   "metadata": {
    "id": "NTDFNbBKIEdc"
   },
   "source": [
    "## 53"
   ]
  },
  {
   "cell_type": "code",
   "execution_count": null,
   "metadata": {
    "colab": {
     "base_uri": "https://localhost:8080/"
    },
    "executionInfo": {
     "elapsed": 380,
     "status": "ok",
     "timestamp": 1645687449942,
     "user": {
      "displayName": "田中義規",
      "photoUrl": "https://lh3.googleusercontent.com/a/default-user=s64",
      "userId": "03358882541309422843"
     },
     "user_tz": -540
    },
    "id": "jYYhzpwQII0V",
    "outputId": "e79122bd-7c9e-4387-e26d-f05a39dc7078"
   },
   "outputs": [
    {
     "name": "stdout",
     "output_type": "stream",
     "text": [
      "train:\n",
      "[[0.9363 0.031  0.02   0.0128]\n",
      " [0.5881 0.138  0.202  0.0719]\n",
      " [0.9479 0.0306 0.0117 0.0098]\n",
      " ...\n",
      " [0.0043 0.0045 0.986  0.0053]\n",
      " [0.0007 0.0022 0.9965 0.0006]\n",
      " [0.0008 0.0043 0.9874 0.0074]]\n",
      "\n",
      "valid:\n",
      "[[0.9275 0.024  0.0243 0.0242]\n",
      " [0.1251 0.0917 0.7342 0.0489]\n",
      " [0.0004 0.0038 0.9901 0.0057]\n",
      " ...\n",
      " [0.5387 0.0508 0.0207 0.3897]\n",
      " [0.2219 0.1595 0.5528 0.0658]\n",
      " [0.0006 0.0015 0.9974 0.0005]]\n",
      "\n",
      "test:\n",
      "[[0.904  0.0655 0.0161 0.0145]\n",
      " [0.0022 0.0074 0.9881 0.0023]\n",
      " [0.0954 0.6948 0.0515 0.1582]\n",
      " ...\n",
      " [0.9179 0.0308 0.0325 0.0188]\n",
      " [0.6316 0.1536 0.0795 0.1353]\n",
      " [0.0181 0.038  0.9254 0.0186]]\n",
      "\n"
     ]
    }
   ],
   "source": [
    "for k in ['train', 'valid', 'test']:\n",
    "  y_pred_proba = clf.predict_proba(X[k])\n",
    "  np.set_printoptions(precision=4, suppress=True)\n",
    "  print(k + ':')\n",
    "  print(y_pred_proba, end='\\n\\n')"
   ]
  },
  {
   "cell_type": "code",
   "execution_count": null,
   "metadata": {
    "id": "7o2fSoAWII5N"
   },
   "outputs": [],
   "source": []
  },
  {
   "cell_type": "markdown",
   "metadata": {
    "id": "yKcZB1Z0IHtV"
   },
   "source": [
    "## 54"
   ]
  },
  {
   "cell_type": "code",
   "execution_count": null,
   "metadata": {
    "id": "dQBt5meUQAPL"
   },
   "outputs": [],
   "source": [
    "def compute_accuracy(y_true, y_pred):\n",
    "  if (len(y_true) == 0) or (len(y_true) != len(y_pred)):\n",
    "    return False\n",
    "  correct = [y_tr == y_pr for y_tr, y_pr in zip(y_true, y_pred)]\n",
    "  return np.sum(correct) / len(y_true)"
   ]
  },
  {
   "cell_type": "code",
   "execution_count": null,
   "metadata": {
    "colab": {
     "base_uri": "https://localhost:8080/"
    },
    "executionInfo": {
     "elapsed": 706,
     "status": "ok",
     "timestamp": 1645687450644,
     "user": {
      "displayName": "田中義規",
      "photoUrl": "https://lh3.googleusercontent.com/a/default-user=s64",
      "userId": "03358882541309422843"
     },
     "user_tz": -540
    },
    "id": "ytU1RYurhH46",
    "outputId": "bc7231c1-e179-4c6b-959f-9dbb90aa911a"
   },
   "outputs": [
    {
     "name": "stdout",
     "output_type": "stream",
     "text": [
      "train:\t0.9426536731634183\n",
      "valid:\t0.8868065967016492\n",
      "test:\t0.8928035982008995\n"
     ]
    }
   ],
   "source": [
    "pred_labels = {}\n",
    "for k in ['train', 'valid', 'test']:\n",
    "  y_pred = clf.predict(X[k])\n",
    "  pred_labels[k] = y_pred\n",
    "  print(k + ':\\t' + str(compute_accuracy(y[k], y_pred)))"
   ]
  },
  {
   "cell_type": "code",
   "execution_count": null,
   "metadata": {
    "id": "fOW6d-M4FqOF"
   },
   "outputs": [],
   "source": []
  },
  {
   "cell_type": "markdown",
   "metadata": {
    "id": "YbdYkc7wF38d"
   },
   "source": [
    "## 55"
   ]
  },
  {
   "cell_type": "markdown",
   "metadata": {
    "id": "Uv9fUx58kVw3"
   },
   "source": [
    "混同行列"
   ]
  },
  {
   "cell_type": "code",
   "execution_count": null,
   "metadata": {
    "colab": {
     "base_uri": "https://localhost:8080/"
    },
    "executionInfo": {
     "elapsed": 13,
     "status": "ok",
     "timestamp": 1645687450645,
     "user": {
      "displayName": "田中義規",
      "photoUrl": "https://lh3.googleusercontent.com/a/default-user=s64",
      "userId": "03358882541309422843"
     },
     "user_tz": -540
    },
    "id": "I2qCfbTFF7Ls",
    "outputId": "87980bd1-5ad0-4030-fdda-40428cc679c9"
   },
   "outputs": [
    {
     "name": "stdout",
     "output_type": "stream",
     "text": [
      "train:\n",
      "[[4402   34   54    3]\n",
      " [ 173  977   78    2]\n",
      " [  89   10 4133    0]\n",
      " [  86   17   66  548]]\n",
      "\n",
      "valid:\n",
      "[[540   9  21   0]\n",
      " [ 33  86  16   2]\n",
      " [ 22   2 505   1]\n",
      " [ 24   1  20  52]]\n",
      "\n",
      "test:\n",
      "[[534  15  14   1]\n",
      " [ 38 102  15   2]\n",
      " [ 16   0 500   1]\n",
      " [ 22   2  17  55]]\n",
      "\n"
     ]
    }
   ],
   "source": [
    "from sklearn.metrics import confusion_matrix\n",
    "\n",
    "for k in ['train', 'valid', 'test']:\n",
    "  print(k + ':')\n",
    "  print(confusion_matrix(y[k], pred_labels[k]), end='\\n\\n')"
   ]
  },
  {
   "cell_type": "code",
   "execution_count": null,
   "metadata": {
    "id": "HB68f8LQRHcg"
   },
   "outputs": [],
   "source": []
  },
  {
   "cell_type": "markdown",
   "metadata": {
    "id": "13uUMPy9H6zy"
   },
   "source": [
    "## 56"
   ]
  },
  {
   "cell_type": "code",
   "execution_count": null,
   "metadata": {
    "colab": {
     "base_uri": "https://localhost:8080/",
     "height": 731
    },
    "executionInfo": {
     "elapsed": 387,
     "status": "ok",
     "timestamp": 1645687451026,
     "user": {
      "displayName": "田中義規",
      "photoUrl": "https://lh3.googleusercontent.com/a/default-user=s64",
      "userId": "03358882541309422843"
     },
     "user_tz": -540
    },
    "id": "CcpY-FbYF7oW",
    "outputId": "6d6585dd-c168-4d17-e55f-4d39ee620f51"
   },
   "outputs": [
    {
     "name": "stdout",
     "output_type": "stream",
     "text": [
      "train:\n"
     ]
    },
    {
     "data": {
      "text/html": [
       "\n",
       "  <div id=\"df-579ec551-9fcd-4d5b-858c-a7558c735251\">\n",
       "    <div class=\"colab-df-container\">\n",
       "      <div>\n",
       "<style scoped>\n",
       "    .dataframe tbody tr th:only-of-type {\n",
       "        vertical-align: middle;\n",
       "    }\n",
       "\n",
       "    .dataframe tbody tr th {\n",
       "        vertical-align: top;\n",
       "    }\n",
       "\n",
       "    .dataframe thead th {\n",
       "        text-align: right;\n",
       "    }\n",
       "</style>\n",
       "<table border=\"1\" class=\"dataframe\">\n",
       "  <thead>\n",
       "    <tr style=\"text-align: right;\">\n",
       "      <th></th>\n",
       "      <th>適合率</th>\n",
       "      <th>再現率</th>\n",
       "      <th>F1スコア</th>\n",
       "    </tr>\n",
       "  </thead>\n",
       "  <tbody>\n",
       "    <tr>\n",
       "      <th>b</th>\n",
       "      <td>0.926737</td>\n",
       "      <td>0.979746</td>\n",
       "      <td>0.952505</td>\n",
       "    </tr>\n",
       "    <tr>\n",
       "      <th>t</th>\n",
       "      <td>0.941233</td>\n",
       "      <td>0.794309</td>\n",
       "      <td>0.861552</td>\n",
       "    </tr>\n",
       "    <tr>\n",
       "      <th>e</th>\n",
       "      <td>0.954283</td>\n",
       "      <td>0.976607</td>\n",
       "      <td>0.965316</td>\n",
       "    </tr>\n",
       "    <tr>\n",
       "      <th>m</th>\n",
       "      <td>0.990958</td>\n",
       "      <td>0.764296</td>\n",
       "      <td>0.862992</td>\n",
       "    </tr>\n",
       "    <tr>\n",
       "      <th>micro</th>\n",
       "      <td>0.942654</td>\n",
       "      <td>0.942654</td>\n",
       "      <td>0.942654</td>\n",
       "    </tr>\n",
       "    <tr>\n",
       "      <th>macro</th>\n",
       "      <td>0.953303</td>\n",
       "      <td>0.878739</td>\n",
       "      <td>0.910591</td>\n",
       "    </tr>\n",
       "  </tbody>\n",
       "</table>\n",
       "</div>\n",
       "      <button class=\"colab-df-convert\" onclick=\"convertToInteractive('df-579ec551-9fcd-4d5b-858c-a7558c735251')\"\n",
       "              title=\"Convert this dataframe to an interactive table.\"\n",
       "              style=\"display:none;\">\n",
       "        \n",
       "  <svg xmlns=\"http://www.w3.org/2000/svg\" height=\"24px\"viewBox=\"0 0 24 24\"\n",
       "       width=\"24px\">\n",
       "    <path d=\"M0 0h24v24H0V0z\" fill=\"none\"/>\n",
       "    <path d=\"M18.56 5.44l.94 2.06.94-2.06 2.06-.94-2.06-.94-.94-2.06-.94 2.06-2.06.94zm-11 1L8.5 8.5l.94-2.06 2.06-.94-2.06-.94L8.5 2.5l-.94 2.06-2.06.94zm10 10l.94 2.06.94-2.06 2.06-.94-2.06-.94-.94-2.06-.94 2.06-2.06.94z\"/><path d=\"M17.41 7.96l-1.37-1.37c-.4-.4-.92-.59-1.43-.59-.52 0-1.04.2-1.43.59L10.3 9.45l-7.72 7.72c-.78.78-.78 2.05 0 2.83L4 21.41c.39.39.9.59 1.41.59.51 0 1.02-.2 1.41-.59l7.78-7.78 2.81-2.81c.8-.78.8-2.07 0-2.86zM5.41 20L4 18.59l7.72-7.72 1.47 1.35L5.41 20z\"/>\n",
       "  </svg>\n",
       "      </button>\n",
       "      \n",
       "  <style>\n",
       "    .colab-df-container {\n",
       "      display:flex;\n",
       "      flex-wrap:wrap;\n",
       "      gap: 12px;\n",
       "    }\n",
       "\n",
       "    .colab-df-convert {\n",
       "      background-color: #E8F0FE;\n",
       "      border: none;\n",
       "      border-radius: 50%;\n",
       "      cursor: pointer;\n",
       "      display: none;\n",
       "      fill: #1967D2;\n",
       "      height: 32px;\n",
       "      padding: 0 0 0 0;\n",
       "      width: 32px;\n",
       "    }\n",
       "\n",
       "    .colab-df-convert:hover {\n",
       "      background-color: #E2EBFA;\n",
       "      box-shadow: 0px 1px 2px rgba(60, 64, 67, 0.3), 0px 1px 3px 1px rgba(60, 64, 67, 0.15);\n",
       "      fill: #174EA6;\n",
       "    }\n",
       "\n",
       "    [theme=dark] .colab-df-convert {\n",
       "      background-color: #3B4455;\n",
       "      fill: #D2E3FC;\n",
       "    }\n",
       "\n",
       "    [theme=dark] .colab-df-convert:hover {\n",
       "      background-color: #434B5C;\n",
       "      box-shadow: 0px 1px 3px 1px rgba(0, 0, 0, 0.15);\n",
       "      filter: drop-shadow(0px 1px 2px rgba(0, 0, 0, 0.3));\n",
       "      fill: #FFFFFF;\n",
       "    }\n",
       "  </style>\n",
       "\n",
       "      <script>\n",
       "        const buttonEl =\n",
       "          document.querySelector('#df-579ec551-9fcd-4d5b-858c-a7558c735251 button.colab-df-convert');\n",
       "        buttonEl.style.display =\n",
       "          google.colab.kernel.accessAllowed ? 'block' : 'none';\n",
       "\n",
       "        async function convertToInteractive(key) {\n",
       "          const element = document.querySelector('#df-579ec551-9fcd-4d5b-858c-a7558c735251');\n",
       "          const dataTable =\n",
       "            await google.colab.kernel.invokeFunction('convertToInteractive',\n",
       "                                                     [key], {});\n",
       "          if (!dataTable) return;\n",
       "\n",
       "          const docLinkHtml = 'Like what you see? Visit the ' +\n",
       "            '<a target=\"_blank\" href=https://colab.research.google.com/notebooks/data_table.ipynb>data table notebook</a>'\n",
       "            + ' to learn more about interactive tables.';\n",
       "          element.innerHTML = '';\n",
       "          dataTable['output_type'] = 'display_data';\n",
       "          await google.colab.output.renderOutput(dataTable, element);\n",
       "          const docLink = document.createElement('div');\n",
       "          docLink.innerHTML = docLinkHtml;\n",
       "          element.appendChild(docLink);\n",
       "        }\n",
       "      </script>\n",
       "    </div>\n",
       "  </div>\n",
       "  "
      ],
      "text/plain": [
       "            適合率       再現率     F1スコア\n",
       "b      0.926737  0.979746  0.952505\n",
       "t      0.941233  0.794309  0.861552\n",
       "e      0.954283  0.976607  0.965316\n",
       "m      0.990958  0.764296  0.862992\n",
       "micro  0.942654  0.942654  0.942654\n",
       "macro  0.953303  0.878739  0.910591"
      ]
     },
     "metadata": {},
     "output_type": "display_data"
    },
    {
     "name": "stdout",
     "output_type": "stream",
     "text": [
      "valid:\n"
     ]
    },
    {
     "data": {
      "text/html": [
       "\n",
       "  <div id=\"df-c4afcd13-67a1-4ae9-be39-233803c1227b\">\n",
       "    <div class=\"colab-df-container\">\n",
       "      <div>\n",
       "<style scoped>\n",
       "    .dataframe tbody tr th:only-of-type {\n",
       "        vertical-align: middle;\n",
       "    }\n",
       "\n",
       "    .dataframe tbody tr th {\n",
       "        vertical-align: top;\n",
       "    }\n",
       "\n",
       "    .dataframe thead th {\n",
       "        text-align: right;\n",
       "    }\n",
       "</style>\n",
       "<table border=\"1\" class=\"dataframe\">\n",
       "  <thead>\n",
       "    <tr style=\"text-align: right;\">\n",
       "      <th></th>\n",
       "      <th>適合率</th>\n",
       "      <th>再現率</th>\n",
       "      <th>F1スコア</th>\n",
       "    </tr>\n",
       "  </thead>\n",
       "  <tbody>\n",
       "    <tr>\n",
       "      <th>b</th>\n",
       "      <td>0.872375</td>\n",
       "      <td>0.947368</td>\n",
       "      <td>0.908326</td>\n",
       "    </tr>\n",
       "    <tr>\n",
       "      <th>t</th>\n",
       "      <td>0.877551</td>\n",
       "      <td>0.627737</td>\n",
       "      <td>0.731915</td>\n",
       "    </tr>\n",
       "    <tr>\n",
       "      <th>e</th>\n",
       "      <td>0.898577</td>\n",
       "      <td>0.952830</td>\n",
       "      <td>0.924908</td>\n",
       "    </tr>\n",
       "    <tr>\n",
       "      <th>m</th>\n",
       "      <td>0.945455</td>\n",
       "      <td>0.536082</td>\n",
       "      <td>0.684211</td>\n",
       "    </tr>\n",
       "    <tr>\n",
       "      <th>micro</th>\n",
       "      <td>0.886807</td>\n",
       "      <td>0.886807</td>\n",
       "      <td>0.886807</td>\n",
       "    </tr>\n",
       "    <tr>\n",
       "      <th>macro</th>\n",
       "      <td>0.898489</td>\n",
       "      <td>0.766005</td>\n",
       "      <td>0.812340</td>\n",
       "    </tr>\n",
       "  </tbody>\n",
       "</table>\n",
       "</div>\n",
       "      <button class=\"colab-df-convert\" onclick=\"convertToInteractive('df-c4afcd13-67a1-4ae9-be39-233803c1227b')\"\n",
       "              title=\"Convert this dataframe to an interactive table.\"\n",
       "              style=\"display:none;\">\n",
       "        \n",
       "  <svg xmlns=\"http://www.w3.org/2000/svg\" height=\"24px\"viewBox=\"0 0 24 24\"\n",
       "       width=\"24px\">\n",
       "    <path d=\"M0 0h24v24H0V0z\" fill=\"none\"/>\n",
       "    <path d=\"M18.56 5.44l.94 2.06.94-2.06 2.06-.94-2.06-.94-.94-2.06-.94 2.06-2.06.94zm-11 1L8.5 8.5l.94-2.06 2.06-.94-2.06-.94L8.5 2.5l-.94 2.06-2.06.94zm10 10l.94 2.06.94-2.06 2.06-.94-2.06-.94-.94-2.06-.94 2.06-2.06.94z\"/><path d=\"M17.41 7.96l-1.37-1.37c-.4-.4-.92-.59-1.43-.59-.52 0-1.04.2-1.43.59L10.3 9.45l-7.72 7.72c-.78.78-.78 2.05 0 2.83L4 21.41c.39.39.9.59 1.41.59.51 0 1.02-.2 1.41-.59l7.78-7.78 2.81-2.81c.8-.78.8-2.07 0-2.86zM5.41 20L4 18.59l7.72-7.72 1.47 1.35L5.41 20z\"/>\n",
       "  </svg>\n",
       "      </button>\n",
       "      \n",
       "  <style>\n",
       "    .colab-df-container {\n",
       "      display:flex;\n",
       "      flex-wrap:wrap;\n",
       "      gap: 12px;\n",
       "    }\n",
       "\n",
       "    .colab-df-convert {\n",
       "      background-color: #E8F0FE;\n",
       "      border: none;\n",
       "      border-radius: 50%;\n",
       "      cursor: pointer;\n",
       "      display: none;\n",
       "      fill: #1967D2;\n",
       "      height: 32px;\n",
       "      padding: 0 0 0 0;\n",
       "      width: 32px;\n",
       "    }\n",
       "\n",
       "    .colab-df-convert:hover {\n",
       "      background-color: #E2EBFA;\n",
       "      box-shadow: 0px 1px 2px rgba(60, 64, 67, 0.3), 0px 1px 3px 1px rgba(60, 64, 67, 0.15);\n",
       "      fill: #174EA6;\n",
       "    }\n",
       "\n",
       "    [theme=dark] .colab-df-convert {\n",
       "      background-color: #3B4455;\n",
       "      fill: #D2E3FC;\n",
       "    }\n",
       "\n",
       "    [theme=dark] .colab-df-convert:hover {\n",
       "      background-color: #434B5C;\n",
       "      box-shadow: 0px 1px 3px 1px rgba(0, 0, 0, 0.15);\n",
       "      filter: drop-shadow(0px 1px 2px rgba(0, 0, 0, 0.3));\n",
       "      fill: #FFFFFF;\n",
       "    }\n",
       "  </style>\n",
       "\n",
       "      <script>\n",
       "        const buttonEl =\n",
       "          document.querySelector('#df-c4afcd13-67a1-4ae9-be39-233803c1227b button.colab-df-convert');\n",
       "        buttonEl.style.display =\n",
       "          google.colab.kernel.accessAllowed ? 'block' : 'none';\n",
       "\n",
       "        async function convertToInteractive(key) {\n",
       "          const element = document.querySelector('#df-c4afcd13-67a1-4ae9-be39-233803c1227b');\n",
       "          const dataTable =\n",
       "            await google.colab.kernel.invokeFunction('convertToInteractive',\n",
       "                                                     [key], {});\n",
       "          if (!dataTable) return;\n",
       "\n",
       "          const docLinkHtml = 'Like what you see? Visit the ' +\n",
       "            '<a target=\"_blank\" href=https://colab.research.google.com/notebooks/data_table.ipynb>data table notebook</a>'\n",
       "            + ' to learn more about interactive tables.';\n",
       "          element.innerHTML = '';\n",
       "          dataTable['output_type'] = 'display_data';\n",
       "          await google.colab.output.renderOutput(dataTable, element);\n",
       "          const docLink = document.createElement('div');\n",
       "          docLink.innerHTML = docLinkHtml;\n",
       "          element.appendChild(docLink);\n",
       "        }\n",
       "      </script>\n",
       "    </div>\n",
       "  </div>\n",
       "  "
      ],
      "text/plain": [
       "            適合率       再現率     F1スコア\n",
       "b      0.872375  0.947368  0.908326\n",
       "t      0.877551  0.627737  0.731915\n",
       "e      0.898577  0.952830  0.924908\n",
       "m      0.945455  0.536082  0.684211\n",
       "micro  0.886807  0.886807  0.886807\n",
       "macro  0.898489  0.766005  0.812340"
      ]
     },
     "metadata": {},
     "output_type": "display_data"
    },
    {
     "name": "stdout",
     "output_type": "stream",
     "text": [
      "test:\n"
     ]
    },
    {
     "data": {
      "text/html": [
       "\n",
       "  <div id=\"df-ce7ede19-9460-4c9e-aed7-436e2f350530\">\n",
       "    <div class=\"colab-df-container\">\n",
       "      <div>\n",
       "<style scoped>\n",
       "    .dataframe tbody tr th:only-of-type {\n",
       "        vertical-align: middle;\n",
       "    }\n",
       "\n",
       "    .dataframe tbody tr th {\n",
       "        vertical-align: top;\n",
       "    }\n",
       "\n",
       "    .dataframe thead th {\n",
       "        text-align: right;\n",
       "    }\n",
       "</style>\n",
       "<table border=\"1\" class=\"dataframe\">\n",
       "  <thead>\n",
       "    <tr style=\"text-align: right;\">\n",
       "      <th></th>\n",
       "      <th>適合率</th>\n",
       "      <th>再現率</th>\n",
       "      <th>F1スコア</th>\n",
       "    </tr>\n",
       "  </thead>\n",
       "  <tbody>\n",
       "    <tr>\n",
       "      <th>b</th>\n",
       "      <td>0.875410</td>\n",
       "      <td>0.946809</td>\n",
       "      <td>0.909710</td>\n",
       "    </tr>\n",
       "    <tr>\n",
       "      <th>t</th>\n",
       "      <td>0.857143</td>\n",
       "      <td>0.649682</td>\n",
       "      <td>0.739130</td>\n",
       "    </tr>\n",
       "    <tr>\n",
       "      <th>e</th>\n",
       "      <td>0.915751</td>\n",
       "      <td>0.967118</td>\n",
       "      <td>0.940734</td>\n",
       "    </tr>\n",
       "    <tr>\n",
       "      <th>m</th>\n",
       "      <td>0.932203</td>\n",
       "      <td>0.572917</td>\n",
       "      <td>0.709677</td>\n",
       "    </tr>\n",
       "    <tr>\n",
       "      <th>micro</th>\n",
       "      <td>0.892804</td>\n",
       "      <td>0.892804</td>\n",
       "      <td>0.892804</td>\n",
       "    </tr>\n",
       "    <tr>\n",
       "      <th>macro</th>\n",
       "      <td>0.895127</td>\n",
       "      <td>0.784131</td>\n",
       "      <td>0.824813</td>\n",
       "    </tr>\n",
       "  </tbody>\n",
       "</table>\n",
       "</div>\n",
       "      <button class=\"colab-df-convert\" onclick=\"convertToInteractive('df-ce7ede19-9460-4c9e-aed7-436e2f350530')\"\n",
       "              title=\"Convert this dataframe to an interactive table.\"\n",
       "              style=\"display:none;\">\n",
       "        \n",
       "  <svg xmlns=\"http://www.w3.org/2000/svg\" height=\"24px\"viewBox=\"0 0 24 24\"\n",
       "       width=\"24px\">\n",
       "    <path d=\"M0 0h24v24H0V0z\" fill=\"none\"/>\n",
       "    <path d=\"M18.56 5.44l.94 2.06.94-2.06 2.06-.94-2.06-.94-.94-2.06-.94 2.06-2.06.94zm-11 1L8.5 8.5l.94-2.06 2.06-.94-2.06-.94L8.5 2.5l-.94 2.06-2.06.94zm10 10l.94 2.06.94-2.06 2.06-.94-2.06-.94-.94-2.06-.94 2.06-2.06.94z\"/><path d=\"M17.41 7.96l-1.37-1.37c-.4-.4-.92-.59-1.43-.59-.52 0-1.04.2-1.43.59L10.3 9.45l-7.72 7.72c-.78.78-.78 2.05 0 2.83L4 21.41c.39.39.9.59 1.41.59.51 0 1.02-.2 1.41-.59l7.78-7.78 2.81-2.81c.8-.78.8-2.07 0-2.86zM5.41 20L4 18.59l7.72-7.72 1.47 1.35L5.41 20z\"/>\n",
       "  </svg>\n",
       "      </button>\n",
       "      \n",
       "  <style>\n",
       "    .colab-df-container {\n",
       "      display:flex;\n",
       "      flex-wrap:wrap;\n",
       "      gap: 12px;\n",
       "    }\n",
       "\n",
       "    .colab-df-convert {\n",
       "      background-color: #E8F0FE;\n",
       "      border: none;\n",
       "      border-radius: 50%;\n",
       "      cursor: pointer;\n",
       "      display: none;\n",
       "      fill: #1967D2;\n",
       "      height: 32px;\n",
       "      padding: 0 0 0 0;\n",
       "      width: 32px;\n",
       "    }\n",
       "\n",
       "    .colab-df-convert:hover {\n",
       "      background-color: #E2EBFA;\n",
       "      box-shadow: 0px 1px 2px rgba(60, 64, 67, 0.3), 0px 1px 3px 1px rgba(60, 64, 67, 0.15);\n",
       "      fill: #174EA6;\n",
       "    }\n",
       "\n",
       "    [theme=dark] .colab-df-convert {\n",
       "      background-color: #3B4455;\n",
       "      fill: #D2E3FC;\n",
       "    }\n",
       "\n",
       "    [theme=dark] .colab-df-convert:hover {\n",
       "      background-color: #434B5C;\n",
       "      box-shadow: 0px 1px 3px 1px rgba(0, 0, 0, 0.15);\n",
       "      filter: drop-shadow(0px 1px 2px rgba(0, 0, 0, 0.3));\n",
       "      fill: #FFFFFF;\n",
       "    }\n",
       "  </style>\n",
       "\n",
       "      <script>\n",
       "        const buttonEl =\n",
       "          document.querySelector('#df-ce7ede19-9460-4c9e-aed7-436e2f350530 button.colab-df-convert');\n",
       "        buttonEl.style.display =\n",
       "          google.colab.kernel.accessAllowed ? 'block' : 'none';\n",
       "\n",
       "        async function convertToInteractive(key) {\n",
       "          const element = document.querySelector('#df-ce7ede19-9460-4c9e-aed7-436e2f350530');\n",
       "          const dataTable =\n",
       "            await google.colab.kernel.invokeFunction('convertToInteractive',\n",
       "                                                     [key], {});\n",
       "          if (!dataTable) return;\n",
       "\n",
       "          const docLinkHtml = 'Like what you see? Visit the ' +\n",
       "            '<a target=\"_blank\" href=https://colab.research.google.com/notebooks/data_table.ipynb>data table notebook</a>'\n",
       "            + ' to learn more about interactive tables.';\n",
       "          element.innerHTML = '';\n",
       "          dataTable['output_type'] = 'display_data';\n",
       "          await google.colab.output.renderOutput(dataTable, element);\n",
       "          const docLink = document.createElement('div');\n",
       "          docLink.innerHTML = docLinkHtml;\n",
       "          element.appendChild(docLink);\n",
       "        }\n",
       "      </script>\n",
       "    </div>\n",
       "  </div>\n",
       "  "
      ],
      "text/plain": [
       "            適合率       再現率     F1スコア\n",
       "b      0.875410  0.946809  0.909710\n",
       "t      0.857143  0.649682  0.739130\n",
       "e      0.915751  0.967118  0.940734\n",
       "m      0.932203  0.572917  0.709677\n",
       "micro  0.892804  0.892804  0.892804\n",
       "macro  0.895127  0.784131  0.824813"
      ]
     },
     "metadata": {},
     "output_type": "display_data"
    }
   ],
   "source": [
    "from sklearn.metrics import precision_score, recall_score, f1_score\n",
    "\n",
    "for k in ['train', 'valid', 'test']:\n",
    "  res = []\n",
    "  print(k + ':')\n",
    "  res.append(precision_score(y[k], pred_labels[k], average=None).tolist() + \n",
    "             [precision_score(y[k], pred_labels[k], average='micro')] + \n",
    "             [precision_score(y[k], pred_labels[k], average='macro')])\n",
    "  res.append(recall_score(y[k], pred_labels[k], average=None).tolist() + \n",
    "             [recall_score(y[k], pred_labels[k], average='micro')] + \n",
    "             [recall_score(y[k], pred_labels[k], average='macro')])\n",
    "  res.append(f1_score(y[k], pred_labels[k], average=None).tolist() + \n",
    "             [f1_score(y[k], pred_labels[k], average='micro')] + \n",
    "             [f1_score(y[k], pred_labels[k], average='macro')])\n",
    "  display(pd.DataFrame(np.array(res).T, \n",
    "                       columns=['適合率', '再現率', 'F1スコア'], \n",
    "                       index = ['b', 't', 'e', 'm', 'micro', 'macro']))"
   ]
  },
  {
   "cell_type": "code",
   "execution_count": null,
   "metadata": {
    "id": "m8to5shJG8Ag"
   },
   "outputs": [],
   "source": []
  },
  {
   "cell_type": "markdown",
   "metadata": {
    "id": "8Hg1NA_WJZSs"
   },
   "source": [
    "## 57"
   ]
  },
  {
   "cell_type": "code",
   "execution_count": null,
   "metadata": {
    "colab": {
     "base_uri": "https://localhost:8080/"
    },
    "executionInfo": {
     "elapsed": 10,
     "status": "ok",
     "timestamp": 1645687451027,
     "user": {
      "displayName": "田中義規",
      "photoUrl": "https://lh3.googleusercontent.com/a/default-user=s64",
      "userId": "03358882541309422843"
     },
     "user_tz": -540
    },
    "id": "gp09Gc27WY7_",
    "outputId": "ee01eaeb-044e-4895-d51f-b0d9e4434b48"
   },
   "outputs": [
    {
     "name": "stdout",
     "output_type": "stream",
     "text": [
      "[[-0.106   1.2409 -0.0309 ... -0.8112 -0.4265  0.6301]\n",
      " [-0.1141 -0.2025 -0.3135 ... -1.1331 -0.25   -0.22  ]\n",
      " [-0.1102 -1.2393  0.0581 ...  2.756   0.9627  0.3783]\n",
      " [ 0.3303  0.2008  0.2863 ... -0.8117 -0.2861 -0.7885]]\n"
     ]
    }
   ],
   "source": [
    "print(clf.coef_)"
   ]
  },
  {
   "cell_type": "code",
   "execution_count": null,
   "metadata": {
    "colab": {
     "base_uri": "https://localhost:8080/",
     "height": 444
    },
    "executionInfo": {
     "elapsed": 9,
     "status": "ok",
     "timestamp": 1645687451028,
     "user": {
      "displayName": "田中義規",
      "photoUrl": "https://lh3.googleusercontent.com/a/default-user=s64",
      "userId": "03358882541309422843"
     },
     "user_tz": -540
    },
    "id": "vAVIIQZ3ZQrW",
    "outputId": "dc267555-9f3f-49a7-9434-985944a52f6c"
   },
   "outputs": [
    {
     "data": {
      "text/html": [
       "\n",
       "  <div id=\"df-85a2b11b-a14c-40c0-aea0-5648cdda7369\">\n",
       "    <div class=\"colab-df-container\">\n",
       "      <div>\n",
       "<style scoped>\n",
       "    .dataframe tbody tr th:only-of-type {\n",
       "        vertical-align: middle;\n",
       "    }\n",
       "\n",
       "    .dataframe tbody tr th {\n",
       "        vertical-align: top;\n",
       "    }\n",
       "\n",
       "    .dataframe thead th {\n",
       "        text-align: right;\n",
       "    }\n",
       "</style>\n",
       "<table border=\"1\" class=\"dataframe\">\n",
       "  <thead>\n",
       "    <tr style=\"text-align: right;\">\n",
       "      <th></th>\n",
       "      <th>b(business)_top</th>\n",
       "      <th>b(business)_bottom</th>\n",
       "      <th>t(science and technology)_top</th>\n",
       "      <th>t(science and technology)_bottom</th>\n",
       "      <th>e(entertainment)_top</th>\n",
       "      <th>e(entertainment)_bottom</th>\n",
       "      <th>m(health)_top</th>\n",
       "      <th>m(health)_bottom</th>\n",
       "    </tr>\n",
       "  </thead>\n",
       "  <tbody>\n",
       "    <tr>\n",
       "      <th>0</th>\n",
       "      <td>word_bank</td>\n",
       "      <td>word_ebola</td>\n",
       "      <td>word_google</td>\n",
       "      <td>word_stocks</td>\n",
       "      <td>directory_tvshowbiz</td>\n",
       "      <td>directory_sciencetech</td>\n",
       "      <td>word_ebola</td>\n",
       "      <td>word_facebook</td>\n",
       "    </tr>\n",
       "    <tr>\n",
       "      <th>1</th>\n",
       "      <td>word_obamacare</td>\n",
       "      <td>word_aereo</td>\n",
       "      <td>word_facebook</td>\n",
       "      <td>word_fed</td>\n",
       "      <td>word_cannes</td>\n",
       "      <td>word_google</td>\n",
       "      <td>word_fda</td>\n",
       "      <td>word_gm</td>\n",
       "    </tr>\n",
       "    <tr>\n",
       "      <th>2</th>\n",
       "      <td>word_fed</td>\n",
       "      <td>word_microsoft</td>\n",
       "      <td>word_apple</td>\n",
       "      <td>directory_tvshowbiz</td>\n",
       "      <td>word_film</td>\n",
       "      <td>word_study</td>\n",
       "      <td>word_study</td>\n",
       "      <td>word_google</td>\n",
       "    </tr>\n",
       "    <tr>\n",
       "      <th>3</th>\n",
       "      <td>word_stocks</td>\n",
       "      <td>word_apple</td>\n",
       "      <td>word_microsoft</td>\n",
       "      <td>word_day</td>\n",
       "      <td>word_thrones</td>\n",
       "      <td>word_climate</td>\n",
       "      <td>word_cancer</td>\n",
       "      <td>word_apple</td>\n",
       "    </tr>\n",
       "    <tr>\n",
       "      <th>4</th>\n",
       "      <td>word_ecb</td>\n",
       "      <td>word_google</td>\n",
       "      <td>word_climate</td>\n",
       "      <td>word_american</td>\n",
       "      <td>word_dies</td>\n",
       "      <td>word_facebook</td>\n",
       "      <td>word_mers</td>\n",
       "      <td>word_climate</td>\n",
       "    </tr>\n",
       "    <tr>\n",
       "      <th>5</th>\n",
       "      <td>word_ukraine</td>\n",
       "      <td>word_facebook</td>\n",
       "      <td>word_tesla</td>\n",
       "      <td>word_drug</td>\n",
       "      <td>word_box</td>\n",
       "      <td>word_obamacare</td>\n",
       "      <td>word_drug</td>\n",
       "      <td>word_ceo</td>\n",
       "    </tr>\n",
       "    <tr>\n",
       "      <th>6</th>\n",
       "      <td>word_china</td>\n",
       "      <td>word_samsung</td>\n",
       "      <td>word_gm</td>\n",
       "      <td>word_ecb</td>\n",
       "      <td>word_show</td>\n",
       "      <td>word_billion</td>\n",
       "      <td>directory_health</td>\n",
       "      <td>word_deal</td>\n",
       "    </tr>\n",
       "    <tr>\n",
       "      <th>7</th>\n",
       "      <td>word_oil</td>\n",
       "      <td>word_fda</td>\n",
       "      <td>word_fcc</td>\n",
       "      <td>word_ebola</td>\n",
       "      <td>word_aereo</td>\n",
       "      <td>word_us</td>\n",
       "      <td>word_cdc</td>\n",
       "      <td>word_twitter</td>\n",
       "    </tr>\n",
       "    <tr>\n",
       "      <th>8</th>\n",
       "      <td>word_euro</td>\n",
       "      <td>word_drug</td>\n",
       "      <td>word_nasa</td>\n",
       "      <td>word_cancer</td>\n",
       "      <td>word_kardashian</td>\n",
       "      <td>word_gm</td>\n",
       "      <td>word_health</td>\n",
       "      <td>directory_tvshowbiz</td>\n",
       "    </tr>\n",
       "    <tr>\n",
       "      <th>9</th>\n",
       "      <td>word_buy</td>\n",
       "      <td>word_mers</td>\n",
       "      <td>word_mobile</td>\n",
       "      <td>word_fda</td>\n",
       "      <td>word_kim</td>\n",
       "      <td>word_ceo</td>\n",
       "      <td>word_cases</td>\n",
       "      <td>word_billion</td>\n",
       "    </tr>\n",
       "  </tbody>\n",
       "</table>\n",
       "</div>\n",
       "      <button class=\"colab-df-convert\" onclick=\"convertToInteractive('df-85a2b11b-a14c-40c0-aea0-5648cdda7369')\"\n",
       "              title=\"Convert this dataframe to an interactive table.\"\n",
       "              style=\"display:none;\">\n",
       "        \n",
       "  <svg xmlns=\"http://www.w3.org/2000/svg\" height=\"24px\"viewBox=\"0 0 24 24\"\n",
       "       width=\"24px\">\n",
       "    <path d=\"M0 0h24v24H0V0z\" fill=\"none\"/>\n",
       "    <path d=\"M18.56 5.44l.94 2.06.94-2.06 2.06-.94-2.06-.94-.94-2.06-.94 2.06-2.06.94zm-11 1L8.5 8.5l.94-2.06 2.06-.94-2.06-.94L8.5 2.5l-.94 2.06-2.06.94zm10 10l.94 2.06.94-2.06 2.06-.94-2.06-.94-.94-2.06-.94 2.06-2.06.94z\"/><path d=\"M17.41 7.96l-1.37-1.37c-.4-.4-.92-.59-1.43-.59-.52 0-1.04.2-1.43.59L10.3 9.45l-7.72 7.72c-.78.78-.78 2.05 0 2.83L4 21.41c.39.39.9.59 1.41.59.51 0 1.02-.2 1.41-.59l7.78-7.78 2.81-2.81c.8-.78.8-2.07 0-2.86zM5.41 20L4 18.59l7.72-7.72 1.47 1.35L5.41 20z\"/>\n",
       "  </svg>\n",
       "      </button>\n",
       "      \n",
       "  <style>\n",
       "    .colab-df-container {\n",
       "      display:flex;\n",
       "      flex-wrap:wrap;\n",
       "      gap: 12px;\n",
       "    }\n",
       "\n",
       "    .colab-df-convert {\n",
       "      background-color: #E8F0FE;\n",
       "      border: none;\n",
       "      border-radius: 50%;\n",
       "      cursor: pointer;\n",
       "      display: none;\n",
       "      fill: #1967D2;\n",
       "      height: 32px;\n",
       "      padding: 0 0 0 0;\n",
       "      width: 32px;\n",
       "    }\n",
       "\n",
       "    .colab-df-convert:hover {\n",
       "      background-color: #E2EBFA;\n",
       "      box-shadow: 0px 1px 2px rgba(60, 64, 67, 0.3), 0px 1px 3px 1px rgba(60, 64, 67, 0.15);\n",
       "      fill: #174EA6;\n",
       "    }\n",
       "\n",
       "    [theme=dark] .colab-df-convert {\n",
       "      background-color: #3B4455;\n",
       "      fill: #D2E3FC;\n",
       "    }\n",
       "\n",
       "    [theme=dark] .colab-df-convert:hover {\n",
       "      background-color: #434B5C;\n",
       "      box-shadow: 0px 1px 3px 1px rgba(0, 0, 0, 0.15);\n",
       "      filter: drop-shadow(0px 1px 2px rgba(0, 0, 0, 0.3));\n",
       "      fill: #FFFFFF;\n",
       "    }\n",
       "  </style>\n",
       "\n",
       "      <script>\n",
       "        const buttonEl =\n",
       "          document.querySelector('#df-85a2b11b-a14c-40c0-aea0-5648cdda7369 button.colab-df-convert');\n",
       "        buttonEl.style.display =\n",
       "          google.colab.kernel.accessAllowed ? 'block' : 'none';\n",
       "\n",
       "        async function convertToInteractive(key) {\n",
       "          const element = document.querySelector('#df-85a2b11b-a14c-40c0-aea0-5648cdda7369');\n",
       "          const dataTable =\n",
       "            await google.colab.kernel.invokeFunction('convertToInteractive',\n",
       "                                                     [key], {});\n",
       "          if (!dataTable) return;\n",
       "\n",
       "          const docLinkHtml = 'Like what you see? Visit the ' +\n",
       "            '<a target=\"_blank\" href=https://colab.research.google.com/notebooks/data_table.ipynb>data table notebook</a>'\n",
       "            + ' to learn more about interactive tables.';\n",
       "          element.innerHTML = '';\n",
       "          dataTable['output_type'] = 'display_data';\n",
       "          await google.colab.output.renderOutput(dataTable, element);\n",
       "          const docLink = document.createElement('div');\n",
       "          docLink.innerHTML = docLinkHtml;\n",
       "          element.appendChild(docLink);\n",
       "        }\n",
       "      </script>\n",
       "    </div>\n",
       "  </div>\n",
       "  "
      ],
      "text/plain": [
       "  b(business)_top b(business)_bottom  ...     m(health)_top     m(health)_bottom\n",
       "0       word_bank         word_ebola  ...        word_ebola        word_facebook\n",
       "1  word_obamacare         word_aereo  ...          word_fda              word_gm\n",
       "2        word_fed     word_microsoft  ...        word_study          word_google\n",
       "3     word_stocks         word_apple  ...       word_cancer           word_apple\n",
       "4        word_ecb        word_google  ...         word_mers         word_climate\n",
       "5    word_ukraine      word_facebook  ...         word_drug             word_ceo\n",
       "6      word_china       word_samsung  ...  directory_health            word_deal\n",
       "7        word_oil           word_fda  ...          word_cdc         word_twitter\n",
       "8       word_euro          word_drug  ...       word_health  directory_tvshowbiz\n",
       "9        word_buy          word_mers  ...        word_cases         word_billion\n",
       "\n",
       "[10 rows x 8 columns]"
      ]
     },
     "execution_count": 46,
     "metadata": {},
     "output_type": "execute_result"
    }
   ],
   "source": [
    "df_coef_rank = pd.DataFrame()\n",
    "labels = ['b(business)', 't(science and technology)', 'e(entertainment)', 'm(health)']\n",
    "coef_rank = df_train.columns.values[:-1][np.argsort(clf.coef_, axis=1)]\n",
    "for i in range(4):\n",
    "  df_coef_rank[labels[i] + '_top'] = coef_rank[i][-10:][::-1]\n",
    "  df_coef_rank[labels[i] + '_bottom'] = coef_rank[i][:10]\n",
    "df_coef_rank"
   ]
  },
  {
   "cell_type": "code",
   "execution_count": null,
   "metadata": {
    "id": "egotMOGdG8IH"
   },
   "outputs": [],
   "source": []
  },
  {
   "cell_type": "markdown",
   "metadata": {
    "id": "Tvpj1pdZKaiJ"
   },
   "source": [
    "## 58"
   ]
  },
  {
   "cell_type": "code",
   "execution_count": null,
   "metadata": {
    "colab": {
     "base_uri": "https://localhost:8080/"
    },
    "executionInfo": {
     "elapsed": 3930184,
     "status": "ok",
     "timestamp": 1645691381206,
     "user": {
      "displayName": "田中義規",
      "photoUrl": "https://lh3.googleusercontent.com/a/default-user=s64",
      "userId": "03358882541309422843"
     },
     "user_tz": -540
    },
    "id": "ANtflEzSdCAm",
    "outputId": "63b71bf7-cbb4-413b-cbc2-54cf37b56602"
   },
   "outputs": [
    {
     "name": "stderr",
     "output_type": "stream",
     "text": [
      "/usr/local/lib/python3.7/dist-packages/sklearn/linear_model/_logistic.py:818: ConvergenceWarning: lbfgs failed to converge (status=1):\n",
      "STOP: TOTAL NO. of ITERATIONS REACHED LIMIT.\n",
      "\n",
      "Increase the number of iterations (max_iter) or scale the data as shown in:\n",
      "    https://scikit-learn.org/stable/modules/preprocessing.html\n",
      "Please also refer to the documentation for alternative solver options:\n",
      "    https://scikit-learn.org/stable/modules/linear_model.html#logistic-regression\n",
      "  extra_warning_msg=_LOGISTIC_SOLVER_CONVERGENCE_MSG,\n",
      "/usr/local/lib/python3.7/dist-packages/sklearn/linear_model/_logistic.py:818: ConvergenceWarning: lbfgs failed to converge (status=1):\n",
      "STOP: TOTAL NO. of ITERATIONS REACHED LIMIT.\n",
      "\n",
      "Increase the number of iterations (max_iter) or scale the data as shown in:\n",
      "    https://scikit-learn.org/stable/modules/preprocessing.html\n",
      "Please also refer to the documentation for alternative solver options:\n",
      "    https://scikit-learn.org/stable/modules/linear_model.html#logistic-regression\n",
      "  extra_warning_msg=_LOGISTIC_SOLVER_CONVERGENCE_MSG,\n",
      "/usr/local/lib/python3.7/dist-packages/sklearn/linear_model/_logistic.py:818: ConvergenceWarning: lbfgs failed to converge (status=1):\n",
      "STOP: TOTAL NO. of ITERATIONS REACHED LIMIT.\n",
      "\n",
      "Increase the number of iterations (max_iter) or scale the data as shown in:\n",
      "    https://scikit-learn.org/stable/modules/preprocessing.html\n",
      "Please also refer to the documentation for alternative solver options:\n",
      "    https://scikit-learn.org/stable/modules/linear_model.html#logistic-regression\n",
      "  extra_warning_msg=_LOGISTIC_SOLVER_CONVERGENCE_MSG,\n",
      "/usr/local/lib/python3.7/dist-packages/sklearn/linear_model/_logistic.py:818: ConvergenceWarning: lbfgs failed to converge (status=1):\n",
      "STOP: TOTAL NO. of ITERATIONS REACHED LIMIT.\n",
      "\n",
      "Increase the number of iterations (max_iter) or scale the data as shown in:\n",
      "    https://scikit-learn.org/stable/modules/preprocessing.html\n",
      "Please also refer to the documentation for alternative solver options:\n",
      "    https://scikit-learn.org/stable/modules/linear_model.html#logistic-regression\n",
      "  extra_warning_msg=_LOGISTIC_SOLVER_CONVERGENCE_MSG,\n"
     ]
    }
   ],
   "source": [
    "from sklearn.linear_model import LogisticRegression\n",
    "\n",
    "regularization_params = [10**i for i in range(-5, 10)]\n",
    "accuracy_ = {'train': [], 'valid': [], 'test': []}\n",
    "\n",
    "for C in regularization_params:\n",
    "  clf = LogisticRegression(random_state=0, C=C, max_iter=1000).fit(X['train'], y['train'])\n",
    "  for k in ['train', 'valid', 'test']:\n",
    "    y_pred = clf.predict(X[k])\n",
    "    accuracy_[k].append(compute_accuracy(y[k], y_pred))"
   ]
  },
  {
   "cell_type": "code",
   "execution_count": null,
   "metadata": {
    "colab": {
     "base_uri": "https://localhost:8080/",
     "height": 269
    },
    "executionInfo": {
     "elapsed": 963,
     "status": "ok",
     "timestamp": 1645691382155,
     "user": {
      "displayName": "田中義規",
      "photoUrl": "https://lh3.googleusercontent.com/a/default-user=s64",
      "userId": "03358882541309422843"
     },
     "user_tz": -540
    },
    "id": "2mOfe3DzfMRQ",
    "outputId": "e9d98ea9-fa35-4251-826d-520f14aa2d3c"
   },
   "outputs": [
    {
     "data": {
      "image/png": "[encoded data removed]",
      "text/plain": [
       "<Figure size 432x288 with 1 Axes>"
      ]
     },
     "metadata": {
      "needs_background": "light"
     },
     "output_type": "display_data"
    }
   ],
   "source": [
    "import matplotlib.pyplot as plt\n",
    "for k in ['train', 'valid', 'test']:\n",
    "  plt.plot(regularization_params, accuracy_[k], label=k)\n",
    "plt.xscale('log')\n",
    "plt.xticks(regularization_params)\n",
    "plt.grid()\n",
    "plt.legend()\n",
    "plt.show()"
   ]
  },
  {
   "cell_type": "code",
   "execution_count": null,
   "metadata": {
    "colab": {
     "base_uri": "https://localhost:8080/"
    },
    "executionInfo": {
     "elapsed": 5,
     "status": "ok",
     "timestamp": 1645691382156,
     "user": {
      "displayName": "田中義規",
      "photoUrl": "https://lh3.googleusercontent.com/a/default-user=s64",
      "userId": "03358882541309422843"
     },
     "user_tz": -540
    },
    "id": "fM_t7jnBeojp",
    "outputId": "905ad036-4368-48d5-e3b4-6f68202cca3f"
   },
   "outputs": [
    {
     "name": "stdout",
     "output_type": "stream",
     "text": [
      "最大値\n",
      "train: 0.9997188905547226\n",
      "valid: 0.9242878560719641\n",
      "test: 0.9152923538230885\n"
     ]
    }
   ],
   "source": [
    "print('最大値')\n",
    "for k in ['train', 'valid', 'test']:\n",
    "  print(k +': '+ str(np.max(accuracy_[k])))"
   ]
  },
  {
   "cell_type": "code",
   "execution_count": null,
   "metadata": {
    "id": "yON8wxx_KbcO"
   },
   "outputs": [],
   "source": []
  },
  {
   "cell_type": "markdown",
   "metadata": {
    "id": "PBw03yFJriv5"
   },
   "source": [
    "## 59"
   ]
  },
  {
   "cell_type": "markdown",
   "metadata": {
    "id": "0p7G47Fzrkkg"
   },
   "source": [
    "参考: <br> https://yolo-kiyoshi.com/2020/01/22/post-1588/<br>https://www.salesanalytics.co.jp/datascience/datascience073/"
   ]
  },
  {
   "cell_type": "code",
   "execution_count": null,
   "metadata": {
    "colab": {
     "base_uri": "https://localhost:8080/"
    },
    "executionInfo": {
     "elapsed": 11031,
     "status": "ok",
     "timestamp": 1645691393184,
     "user": {
      "displayName": "田中義規",
      "photoUrl": "https://lh3.googleusercontent.com/a/default-user=s64",
      "userId": "03358882541309422843"
     },
     "user_tz": -540
    },
    "id": "quSuoJqdKbek",
    "outputId": "4ba3fc45-466a-4ee2-fceb-58a5d6000089"
   },
   "outputs": [
    {
     "name": "stdout",
     "output_type": "stream",
     "text": [
      "Collecting optuna\n",
      "  Downloading optuna-2.10.0-py3-none-any.whl (308 kB)\n",
      "\u001b[K     |████████████████████████████████| 308 kB 16.3 MB/s \n",
      "\u001b[?25hCollecting colorlog\n",
      "  Downloading colorlog-6.6.0-py2.py3-none-any.whl (11 kB)\n",
      "Requirement already satisfied: numpy in /usr/local/lib/python3.7/dist-packages (from optuna) (1.21.5)\n",
      "Requirement already satisfied: scipy!=1.4.0 in /usr/local/lib/python3.7/dist-packages (from optuna) (1.4.1)\n",
      "Requirement already satisfied: tqdm in /usr/local/lib/python3.7/dist-packages (from optuna) (4.62.3)\n",
      "Requirement already satisfied: PyYAML in /usr/local/lib/python3.7/dist-packages (from optuna) (3.13)\n",
      "Requirement already satisfied: packaging>=20.0 in /usr/local/lib/python3.7/dist-packages (from optuna) (21.3)\n",
      "Requirement already satisfied: sqlalchemy>=1.1.0 in /usr/local/lib/python3.7/dist-packages (from optuna) (1.4.31)\n",
      "Collecting cliff\n",
      "  Downloading cliff-3.10.1-py3-none-any.whl (81 kB)\n",
      "\u001b[K     |████████████████████████████████| 81 kB 7.3 MB/s \n",
      "\u001b[?25hCollecting cmaes>=0.8.2\n",
      "  Downloading cmaes-0.8.2-py3-none-any.whl (15 kB)\n",
      "Collecting alembic\n",
      "  Downloading alembic-1.7.6-py3-none-any.whl (210 kB)\n",
      "\u001b[K     |████████████████████████████████| 210 kB 22.6 MB/s \n",
      "\u001b[?25hRequirement already satisfied: pyparsing!=3.0.5,>=2.0.2 in /usr/local/lib/python3.7/dist-packages (from packaging>=20.0->optuna) (3.0.7)\n",
      "Requirement already satisfied: importlib-metadata in /usr/local/lib/python3.7/dist-packages (from sqlalchemy>=1.1.0->optuna) (4.11.1)\n",
      "Requirement already satisfied: greenlet!=0.4.17 in /usr/local/lib/python3.7/dist-packages (from sqlalchemy>=1.1.0->optuna) (1.1.2)\n",
      "Requirement already satisfied: importlib-resources in /usr/local/lib/python3.7/dist-packages (from alembic->optuna) (5.4.0)\n",
      "Collecting Mako\n",
      "  Downloading Mako-1.1.6-py2.py3-none-any.whl (75 kB)\n",
      "\u001b[K     |████████████████████████████████| 75 kB 3.2 MB/s \n",
      "\u001b[?25hRequirement already satisfied: PrettyTable>=0.7.2 in /usr/local/lib/python3.7/dist-packages (from cliff->optuna) (3.1.1)\n",
      "Collecting stevedore>=2.0.1\n",
      "  Downloading stevedore-3.5.0-py3-none-any.whl (49 kB)\n",
      "\u001b[K     |████████████████████████████████| 49 kB 4.7 MB/s \n",
      "\u001b[?25hCollecting autopage>=0.4.0\n",
      "  Downloading autopage-0.5.0-py3-none-any.whl (29 kB)\n",
      "Collecting cmd2>=1.0.0\n",
      "  Downloading cmd2-2.4.0-py3-none-any.whl (150 kB)\n",
      "\u001b[K     |████████████████████████████████| 150 kB 49.3 MB/s \n",
      "\u001b[?25hCollecting pbr!=2.1.0,>=2.0.0\n",
      "  Downloading pbr-5.8.1-py2.py3-none-any.whl (113 kB)\n",
      "\u001b[K     |████████████████████████████████| 113 kB 38.1 MB/s \n",
      "\u001b[?25hRequirement already satisfied: wcwidth>=0.1.7 in /usr/local/lib/python3.7/dist-packages (from cmd2>=1.0.0->cliff->optuna) (0.2.5)\n",
      "Requirement already satisfied: attrs>=16.3.0 in /usr/local/lib/python3.7/dist-packages (from cmd2>=1.0.0->cliff->optuna) (21.4.0)\n",
      "Collecting pyperclip>=1.6\n",
      "  Downloading pyperclip-1.8.2.tar.gz (20 kB)\n",
      "Requirement already satisfied: typing-extensions in /usr/local/lib/python3.7/dist-packages (from cmd2>=1.0.0->cliff->optuna) (3.10.0.2)\n",
      "Requirement already satisfied: zipp>=0.5 in /usr/local/lib/python3.7/dist-packages (from importlib-metadata->sqlalchemy>=1.1.0->optuna) (3.7.0)\n",
      "Requirement already satisfied: MarkupSafe>=0.9.2 in /usr/local/lib/python3.7/dist-packages (from Mako->alembic->optuna) (2.0.1)\n",
      "Building wheels for collected packages: pyperclip\n",
      "  Building wheel for pyperclip (setup.py) ... \u001b[?25l\u001b[?25hdone\n",
      "  Created wheel for pyperclip: filename=pyperclip-1.8.2-py3-none-any.whl size=11137 sha256=cf315da06af0094ca880acfe31c40e7a27c0528edbe11f7bf374f57293440b4f\n",
      "  Stored in directory: /root/.cache/pip/wheels/9f/18/84/8f69f8b08169c7bae2dde6bd7daf0c19fca8c8e500ee620a28\n",
      "Successfully built pyperclip\n",
      "Installing collected packages: pyperclip, pbr, stevedore, Mako, cmd2, autopage, colorlog, cmaes, cliff, alembic, optuna\n",
      "Successfully installed Mako-1.1.6 alembic-1.7.6 autopage-0.5.0 cliff-3.10.1 cmaes-0.8.2 cmd2-2.4.0 colorlog-6.6.0 optuna-2.10.0 pbr-5.8.1 pyperclip-1.8.2 stevedore-3.5.0\n"
     ]
    }
   ],
   "source": [
    "!pip install optuna"
   ]
  },
  {
   "cell_type": "code",
   "execution_count": null,
   "metadata": {
    "id": "Me9xU1_isTza"
   },
   "outputs": [],
   "source": [
    "import optuna\n",
    "from sklearn.model_selection import StratifiedKFold, cross_validate"
   ]
  },
  {
   "cell_type": "code",
   "execution_count": null,
   "metadata": {
    "id": "CBJJJBxSruWS"
   },
   "outputs": [],
   "source": [
    "def objective(trial):\n",
    "\n",
    "    global X, y\n",
    "    regularization_c = trial.suggest_float('C', 0.01, 100)\n",
    "    \n",
    "    clf = LogisticRegression(C=regularization_c,\n",
    "                             random_state=0,\n",
    "                             max_iter=1000)\n",
    "    \n",
    "    \n",
    "    kf = StratifiedKFold(n_splits=5, shuffle=True, random_state=0)\n",
    "    scores = cross_validate(clf, X=X['train'], y=y['train'], cv=kf)\n",
    "    return scores['test_score'].mean()"
   ]
  },
  {
   "cell_type": "code",
   "execution_count": null,
   "metadata": {
    "colab": {
     "base_uri": "https://localhost:8080/"
    },
    "executionInfo": {
     "elapsed": 8495170,
     "status": "ok",
     "timestamp": 1645699890122,
     "user": {
      "displayName": "田中義規",
      "photoUrl": "https://lh3.googleusercontent.com/a/default-user=s64",
      "userId": "03358882541309422843"
     },
     "user_tz": -540
    },
    "id": "_S6zAy16ruZq",
    "outputId": "7b981ac1-fca0-45bd-806b-31c7bdc5d6be"
   },
   "outputs": [
    {
     "name": "stderr",
     "output_type": "stream",
     "text": [
      "\u001b[32m[I 2022-02-24 08:29:55,360]\u001b[0m A new study created in memory with name: no-name-3506bc1c-ecae-4905-8f5b-305c0acf3f97\u001b[0m\n",
      "\u001b[32m[I 2022-02-24 08:44:43,808]\u001b[0m Trial 0 finished with value: 0.9122940942782078 and parameters: {'C': 15.997664661108692}. Best is trial 0 with value: 0.9122940942782078.\u001b[0m\n",
      "\u001b[32m[I 2022-02-24 08:58:36,318]\u001b[0m Trial 1 finished with value: 0.9124814918054736 and parameters: {'C': 16.150361543476624}. Best is trial 1 with value: 0.9124814918054736.\u001b[0m\n",
      "\u001b[32m[I 2022-02-24 09:12:06,232]\u001b[0m Trial 2 finished with value: 0.9122940064836296 and parameters: {'C': 15.008526009950492}. Best is trial 1 with value: 0.9124814918054736.\u001b[0m\n",
      "\u001b[32m[I 2022-02-24 09:28:03,895]\u001b[0m Trial 3 finished with value: 0.9136995976813452 and parameters: {'C': 42.46640749133517}. Best is trial 3 with value: 0.9136995976813452.\u001b[0m\n",
      "\u001b[32m[I 2022-02-24 09:41:34,994]\u001b[0m Trial 4 finished with value: 0.9123876394013287 and parameters: {'C': 14.364973910524272}. Best is trial 3 with value: 0.9136995976813452.\u001b[0m\n",
      "\u001b[32m[I 2022-02-24 09:59:40,641]\u001b[0m Trial 5 finished with value: 0.9148238950503613 and parameters: {'C': 81.07087077760207}. Best is trial 5 with value: 0.9148238950503613.\u001b[0m\n",
      "\u001b[32m[I 2022-02-24 10:15:46,606]\u001b[0m Trial 6 finished with value: 0.9136058769690678 and parameters: {'C': 40.708158813812524}. Best is trial 5 with value: 0.9148238950503613.\u001b[0m\n",
      "\u001b[32m[I 2022-02-24 10:31:40,737]\u001b[0m Trial 7 finished with value: 0.9136995976813452 and parameters: {'C': 38.262429944898095}. Best is trial 5 with value: 0.9148238950503613.\u001b[0m\n",
      "\u001b[32m[I 2022-02-24 10:48:51,533]\u001b[0m Trial 8 finished with value: 0.9144490999958297 and parameters: {'C': 68.91668961728779}. Best is trial 5 with value: 0.9148238950503613.\u001b[0m\n",
      "\u001b[32m[I 2022-02-24 10:51:30,387]\u001b[0m Trial 9 finished with value: 0.7767066936781319 and parameters: {'C': 0.09878257842991894}. Best is trial 5 with value: 0.9148238950503613.\u001b[0m\n"
     ]
    },
    {
     "name": "stdout",
     "output_type": "stream",
     "text": [
      "{'C': 81.07087077760207}\n",
      "0.9148238950503613\n"
     ]
    }
   ],
   "source": [
    "study = optuna.create_study(direction='maximize')\n",
    "study.optimize(objective, n_trials=10)\n",
    "print(study.best_params)\n",
    "print(study.best_value)\n",
    "lr_best_param = study.best_params"
   ]
  },
  {
   "cell_type": "code",
   "execution_count": null,
   "metadata": {
    "id": "4mMvxSBHEaQu"
   },
   "outputs": [],
   "source": [
    "clf = LogisticRegression(random_state=0, max_iter=1000, C=lr_best_param['C']).fit(X['train'], y['train'])"
   ]
  },
  {
   "cell_type": "code",
   "execution_count": null,
   "metadata": {
    "colab": {
     "base_uri": "https://localhost:8080/"
    },
    "executionInfo": {
     "elapsed": 553,
     "status": "ok",
     "timestamp": 1645700182298,
     "user": {
      "displayName": "田中義規",
      "photoUrl": "https://lh3.googleusercontent.com/a/default-user=s64",
      "userId": "03358882541309422843"
     },
     "user_tz": -540
    },
    "id": "eLC4kW0aEaQ0",
    "outputId": "f554ee68-f117-44a2-ffeb-2ca6c323411e"
   },
   "outputs": [
    {
     "name": "stdout",
     "output_type": "stream",
     "text": [
      "train:\t0.9996251874062968\n",
      "valid:\t0.9190404797601199\n",
      "test:\t0.9160419790104948\n"
     ]
    }
   ],
   "source": [
    "for k in ['train', 'valid', 'test']:\n",
    "  y_pred = clf.predict(X[k])\n",
    "  print(k + ':\\t' + str(compute_accuracy(y[k], y_pred)))"
   ]
  },
  {
   "cell_type": "code",
   "execution_count": null,
   "metadata": {
    "id": "rlf0IPJdKbqg"
   },
   "outputs": [],
   "source": []
  }
 ],
 "metadata": {
  "colab": {
   "authorship_tag": "ABX9TyMKokGyy8/Nw36ltncwa9AV",
   "collapsed_sections": [],
   "mount_file_id": "12ob2YqGLRI4W1sUAznqYW_ITQnOU01V3",
   "name": "50-59.ipynb",
   "provenance": []
  },
  "kernelspec": {
   "display_name": "Python 3 (ipykernel)",
   "language": "python",
   "name": "python3"
  },
  "language_info": {
   "codemirror_mode": {
    "name": "ipython",
    "version": 3
   },
   "file_extension": ".py",
   "mimetype": "text/x-python",
   "name": "python",
   "nbconvert_exporter": "python",
   "pygments_lexer": "ipython3",
   "version": "3.9.7"
  }
 },
 "nbformat": 4,
 "nbformat_minor": 4
}
