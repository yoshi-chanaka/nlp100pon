{
 "cells": [
  {
   "cell_type": "markdown",
   "metadata": {
    "id": "-a8UzV0efqni"
   },
   "source": [
    "## 00"
   ]
  },
  {
   "cell_type": "code",
   "execution_count": 1,
   "metadata": {
    "colab": {
     "base_uri": "https://localhost:8080/"
    },
    "executionInfo": {
     "elapsed": 570,
     "status": "ok",
     "timestamp": 1615067288235,
     "user": {
      "displayName": "田中義規",
      "photoUrl": "",
      "userId": "03358882541309422843"
     },
     "user_tz": -540
    },
    "id": "nKSl66TWfmIa",
    "outputId": "80e7e554-2a89-43e6-90e1-b2139a9b5aef"
   },
   "outputs": [
    {
     "name": "stdout",
     "output_type": "stream",
     "text": [
      "desserts\n"
     ]
    }
   ],
   "source": [
    "text = 'stressed'\n",
    "text_reversed = text[::-1]\n",
    "print(text_reversed)"
   ]
  },
  {
   "cell_type": "code",
   "execution_count": null,
   "metadata": {},
   "outputs": [],
   "source": []
  },
  {
   "cell_type": "markdown",
   "metadata": {
    "id": "t2lhD0OXgOnN"
   },
   "source": [
    "## 01\n"
   ]
  },
  {
   "cell_type": "code",
   "execution_count": 2,
   "metadata": {
    "colab": {
     "base_uri": "https://localhost:8080/"
    },
    "executionInfo": {
     "elapsed": 5,
     "status": "ok",
     "timestamp": 1647874615138,
     "user": {
      "displayName": "田中義規",
      "photoUrl": "https://lh3.googleusercontent.com/a/default-user=s64",
      "userId": "03358882541309422843"
     },
     "user_tz": -540
    },
    "id": "5R5gZDXJgPci",
    "outputId": "43f5f347-b2b2-4a15-d55b-d719589553b7"
   },
   "outputs": [
    {
     "name": "stdout",
     "output_type": "stream",
     "text": [
      "パトカー\n"
     ]
    }
   ],
   "source": [
    "text = 'パタトクカシーー'\n",
    "new_text = ''.join([c for i, c in enumerate(list(text)) if i % 2 == 0])\n",
    "print(new_text)"
   ]
  },
  {
   "cell_type": "code",
   "execution_count": null,
   "metadata": {
    "id": "2RzZ-V1Gg91c"
   },
   "outputs": [],
   "source": []
  },
  {
   "cell_type": "markdown",
   "metadata": {
    "id": "iZHE-d_7hioX"
   },
   "source": [
    "## 02"
   ]
  },
  {
   "cell_type": "code",
   "execution_count": 3,
   "metadata": {
    "colab": {
     "base_uri": "https://localhost:8080/"
    },
    "executionInfo": {
     "elapsed": 505,
     "status": "ok",
     "timestamp": 1615067578618,
     "user": {
      "displayName": "田中義規",
      "photoUrl": "",
      "userId": "03358882541309422843"
     },
     "user_tz": -540
    },
    "id": "8tj3bjXfhe4L",
    "outputId": "5a254edd-1b45-42b2-a45b-928796d634a0"
   },
   "outputs": [
    {
     "name": "stdout",
     "output_type": "stream",
     "text": [
      "パタトクカシーー\n"
     ]
    }
   ],
   "source": [
    "text1 = 'パトカー'\n",
    "text2 = 'タクシー'\n",
    "new_text = ''\n",
    "\n",
    "for char1, char2 in zip(text1, text2):\n",
    "    new_text += (char1 + char2)\n",
    "print(new_text)"
   ]
  },
  {
   "cell_type": "code",
   "execution_count": null,
   "metadata": {
    "id": "Jlxxv6k7h37g"
   },
   "outputs": [],
   "source": []
  },
  {
   "cell_type": "markdown",
   "metadata": {
    "id": "TFmqS9_Yh8D0"
   },
   "source": [
    "## 03"
   ]
  },
  {
   "cell_type": "code",
   "execution_count": 4,
   "metadata": {
    "colab": {
     "base_uri": "https://localhost:8080/"
    },
    "executionInfo": {
     "elapsed": 538,
     "status": "ok",
     "timestamp": 1615067938016,
     "user": {
      "displayName": "田中義規",
      "photoUrl": "",
      "userId": "03358882541309422843"
     },
     "user_tz": -540
    },
    "id": "Udttz7qhh46l",
    "outputId": "83fc0f86-040f-4fee-f4b1-b148eeeb33b3"
   },
   "outputs": [
    {
     "name": "stdout",
     "output_type": "stream",
     "text": [
      "[3, 1, 4, 1, 5, 9, 2, 6, 5, 3, 5, 8, 9, 7, 9]\n"
     ]
    }
   ],
   "source": [
    "import re\n",
    "\n",
    "text = 'Now I need a drink, alcoholic of course, after the heavy lectures involving quantum mechanics.'\n",
    "new_text = re.sub('[,\\.]', '', text)\n",
    "words = new_text.split(' ')\n",
    "words_length = [len(w) for w in words]\n",
    "print(words_length)"
   ]
  },
  {
   "cell_type": "code",
   "execution_count": null,
   "metadata": {
    "id": "_yW3SXZ6h8xC"
   },
   "outputs": [],
   "source": []
  },
  {
   "cell_type": "markdown",
   "metadata": {
    "id": "bm6KaJnIySR6"
   },
   "source": [
    "## 04"
   ]
  },
  {
   "cell_type": "code",
   "execution_count": 5,
   "metadata": {
    "colab": {
     "base_uri": "https://localhost:8080/"
    },
    "executionInfo": {
     "elapsed": 536,
     "status": "ok",
     "timestamp": 1615072411065,
     "user": {
      "displayName": "田中義規",
      "photoUrl": "",
      "userId": "03358882541309422843"
     },
     "user_tz": -540
    },
    "id": "udHROWexyThW",
    "outputId": "7742b862-a5b5-431e-e817-cfb11c94b87e"
   },
   "outputs": [
    {
     "name": "stdout",
     "output_type": "stream",
     "text": [
      "{'H': 0, 'He': 1, 'Li': 2, 'Be': 3, 'B': 4, 'C': 5, 'N': 6, 'O': 7, 'F': 8, 'Ne': 9, 'Na': 10, 'Mi': 11, 'Al': 12, 'Si': 13, 'P': 14, 'S': 15, 'Cl': 16, 'Ar': 17, 'K': 18, 'Ca': 19}\n"
     ]
    }
   ],
   "source": [
    "text = 'Hi He Lied Because Boron Could Not Oxidize Fluorine. New Nations Might Also Sign Peace Security Clause. Arthur King Can.'\n",
    "exception_idx = [0,  4,  5,  6,  7,  8, 14, 15, 18]\n",
    "words = text.split(' ')\n",
    "res_dict = {}\n",
    "for w in words:\n",
    "    if len(res_dict) in exception_idx:\n",
    "        res_dict[w[0]] = len(res_dict)\n",
    "    else:\n",
    "        res_dict[w[:2]] = len(res_dict)\n",
    "print(res_dict)"
   ]
  },
  {
   "cell_type": "code",
   "execution_count": null,
   "metadata": {
    "id": "r7oeXMktyn1A"
   },
   "outputs": [],
   "source": []
  },
  {
   "cell_type": "markdown",
   "metadata": {
    "id": "VUpJNdFZjR_l"
   },
   "source": [
    "## 05"
   ]
  },
  {
   "cell_type": "code",
   "execution_count": 6,
   "metadata": {
    "id": "17S0g9uOjR2a"
   },
   "outputs": [],
   "source": [
    "import re\n",
    "\n",
    "def char_ngram(text, n):\n",
    "    ngram = []\n",
    "    for i in range(len(text)-n+1):\n",
    "        if text[i: i+n] not in ngram:\n",
    "            ngram.append(text[i: i+n])\n",
    "    return ngram\n",
    "\n",
    "def word_ngram(text, n):\n",
    "    ngram = []\n",
    "    new_text = re.sub('[,\\.]', '', text)\n",
    "    words = new_text.split(' ')\n",
    "    for i in range(len(words[:-1])):\n",
    "        ngram.append(words[i] + ' ' + words[i+1])\n",
    "    return ngram"
   ]
  },
  {
   "cell_type": "code",
   "execution_count": 7,
   "metadata": {
    "colab": {
     "base_uri": "https://localhost:8080/"
    },
    "executionInfo": {
     "elapsed": 650,
     "status": "ok",
     "timestamp": 1615071598416,
     "user": {
      "displayName": "田中義規",
      "photoUrl": "",
      "userId": "03358882541309422843"
     },
     "user_tz": -540
    },
    "id": "gjyN1hLojRfH",
    "outputId": "b0639fbc-3014-4ece-8c4a-2679c6cbda18"
   },
   "outputs": [
    {
     "name": "stdout",
     "output_type": "stream",
     "text": [
      "['I ', ' a', 'am', 'm ', 'an', 'n ', ' N', 'NL', 'LP', 'Pe', 'er']\n",
      "['I am', 'am an', 'an NLPer']\n"
     ]
    }
   ],
   "source": [
    "text = 'I am an NLPer'\n",
    "print(char_ngram(text=text, n=2))\n",
    "print(word_ngram(text=text, n=2))"
   ]
  },
  {
   "cell_type": "code",
   "execution_count": null,
   "metadata": {},
   "outputs": [],
   "source": []
  },
  {
   "cell_type": "markdown",
   "metadata": {
    "id": "RQRR_j6fs4_f"
   },
   "source": [
    "## 06\n"
   ]
  },
  {
   "cell_type": "code",
   "execution_count": 8,
   "metadata": {
    "colab": {
     "base_uri": "https://localhost:8080/"
    },
    "executionInfo": {
     "elapsed": 589,
     "status": "ok",
     "timestamp": 1615071599500,
     "user": {
      "displayName": "田中義規",
      "photoUrl": "",
      "userId": "03358882541309422843"
     },
     "user_tz": -540
    },
    "id": "LXvBZYMHjRiw",
    "outputId": "9466103a-9fe9-45d4-d2a1-573ff582a431"
   },
   "outputs": [
    {
     "name": "stdout",
     "output_type": "stream",
     "text": [
      "和集合: {'di', 'gr', 'se', 'ar', 'is', 'ad', 'ap', 'pa', 'ph', 'ra', 'ag'}\n",
      "積集合: {'ra', 'ar', 'ap', 'pa'}\n",
      "差集合: {'di', 'se', 'is', 'ad'}\n"
     ]
    }
   ],
   "source": [
    "text1 = 'paraparaparadise'\n",
    "text2 = 'paragraph'\n",
    "\n",
    "bigram1 = set(char_ngram(text=text1, n=2))\n",
    "bigram2 = set(char_ngram(text=text2, n=2))\n",
    "\n",
    "or_list = bigram1 | bigram2 # 和集合\n",
    "and_list = bigram1 & bigram2 # 積集合\n",
    "diff_list = bigram1 - bigram2 # 差集合\n",
    "print(f'和集合: {or_list}\\n積集合: {and_list}\\n差集合: {diff_list}')"
   ]
  },
  {
   "cell_type": "code",
   "execution_count": 9,
   "metadata": {
    "colab": {
     "base_uri": "https://localhost:8080/"
    },
    "executionInfo": {
     "elapsed": 335,
     "status": "ok",
     "timestamp": 1615071734838,
     "user": {
      "displayName": "田中義規",
      "photoUrl": "",
      "userId": "03358882541309422843"
     },
     "user_tz": -540
    },
    "id": "-oDgt33-xpj4",
    "outputId": "ddc31fba-5fd1-408e-a545-12cf25415870"
   },
   "outputs": [
    {
     "name": "stdout",
     "output_type": "stream",
     "text": [
      "True\n",
      "False\n"
     ]
    }
   ],
   "source": [
    "print('se' in bigram1)\n",
    "print('se' in bigram2)"
   ]
  },
  {
   "cell_type": "code",
   "execution_count": null,
   "metadata": {
    "id": "k1aBdwt_jRn8"
   },
   "outputs": [],
   "source": []
  },
  {
   "cell_type": "markdown",
   "metadata": {
    "id": "s_h3PSmVxQ1s"
   },
   "source": [
    "## 07"
   ]
  },
  {
   "cell_type": "code",
   "execution_count": 10,
   "metadata": {
    "id": "3SVidwsQjRqg"
   },
   "outputs": [],
   "source": [
    "def make_sentence(x, y, z):\n",
    "  return f'{x}時の{y}は{z}'"
   ]
  },
  {
   "cell_type": "code",
   "execution_count": 11,
   "metadata": {
    "colab": {
     "base_uri": "https://localhost:8080/",
     "height": 35
    },
    "executionInfo": {
     "elapsed": 525,
     "status": "ok",
     "timestamp": 1615071801208,
     "user": {
      "displayName": "田中義規",
      "photoUrl": "",
      "userId": "03358882541309422843"
     },
     "user_tz": -540
    },
    "id": "0erNTO4Sx4Xc",
    "outputId": "14b140f7-24bf-4664-e352-895cfabbb0c1"
   },
   "outputs": [
    {
     "data": {
      "text/plain": [
       "'12時の気温は22.4'"
      ]
     },
     "execution_count": 11,
     "metadata": {},
     "output_type": "execute_result"
    }
   ],
   "source": [
    "make_sentence(x=12, y='気温', z=22.4)"
   ]
  },
  {
   "cell_type": "code",
   "execution_count": null,
   "metadata": {
    "id": "7uhtPLW3x-1J"
   },
   "outputs": [],
   "source": []
  },
  {
   "cell_type": "markdown",
   "metadata": {
    "id": "6JhCWEAKyAX1"
   },
   "source": [
    "## 08"
   ]
  },
  {
   "cell_type": "code",
   "execution_count": 12,
   "metadata": {
    "colab": {
     "base_uri": "https://localhost:8080/"
    },
    "executionInfo": {
     "elapsed": 570,
     "status": "ok",
     "timestamp": 1615074165573,
     "user": {
      "displayName": "田中義規",
      "photoUrl": "",
      "userId": "03358882541309422843"
     },
     "user_tz": -540
    },
    "id": "eRXQpuWMyA4F",
    "outputId": "d4e285bc-055e-405c-ddc0-f409fe3f7ecc"
   },
   "outputs": [
    {
     "name": "stdout",
     "output_type": "stream",
     "text": [
      "97\n",
      "a\n"
     ]
    }
   ],
   "source": [
    "print(ord('a'))\n",
    "print(chr(97))"
   ]
  },
  {
   "cell_type": "code",
   "execution_count": 13,
   "metadata": {
    "id": "qzdg705k5hgM"
   },
   "outputs": [],
   "source": [
    "def cipher(input_text):\n",
    "    cipher_text = ''\n",
    "    for c in input_text:\n",
    "        if c.islower():\n",
    "            cipher_text += str(219 - ord(c))\n",
    "        else:\n",
    "            cipher_text += c\n",
    "    return cipher_text"
   ]
  },
  {
   "cell_type": "code",
   "execution_count": 14,
   "metadata": {
    "colab": {
     "base_uri": "https://localhost:8080/",
     "height": 70
    },
    "executionInfo": {
     "elapsed": 608,
     "status": "ok",
     "timestamp": 1615074144146,
     "user": {
      "displayName": "田中義規",
      "photoUrl": "",
      "userId": "03358882541309422843"
     },
     "user_tz": -540
    },
    "id": "BcvwXumoyA63",
    "outputId": "f5063063-8183-441b-fd8e-e2306ecac662"
   },
   "outputs": [
    {
     "name": "stdout",
     "output_type": "stream",
     "text": [
      "H114 H118 L114118119 B118120122102104118 B108105108109 C108102111119 N108103 O9911411911497118 F111102108105114109118. N118100 N122103114108109104 M114116115103 A111104108 S114116109 P118122120118 S11812010210511410398 C111122102104118. A105103115102105 K114109116 C122109.\n"
     ]
    }
   ],
   "source": [
    "text = 'Hi He Lied Because Boron Could Not Oxidize Fluorine. New Nations Might Also Sign Peace Security Clause. Arthur King Can.'\n",
    "print(cipher(text))"
   ]
  },
  {
   "cell_type": "code",
   "execution_count": null,
   "metadata": {},
   "outputs": [],
   "source": []
  },
  {
   "cell_type": "markdown",
   "metadata": {
    "id": "kIjUcZ8L01M0"
   },
   "source": [
    "## 09"
   ]
  },
  {
   "cell_type": "code",
   "execution_count": 15,
   "metadata": {
    "colab": {
     "base_uri": "https://localhost:8080/"
    },
    "executionInfo": {
     "elapsed": 664,
     "status": "ok",
     "timestamp": 1615073495910,
     "user": {
      "displayName": "田中義規",
      "photoUrl": "",
      "userId": "03358882541309422843"
     },
     "user_tz": -540
    },
    "id": "pDpjrcPOyA9h",
    "outputId": "4cf65708-fc39-497c-d739-f8623d237599"
   },
   "outputs": [
    {
     "name": "stdout",
     "output_type": "stream",
     "text": [
      "I cnuodl't bveeile that I cluod alclauty uertnsnadd what I was rdneiag : the paemnehonl pweor of the hmuan mind .\n"
     ]
    }
   ],
   "source": [
    "import random\n",
    "\n",
    "sentence = \"I couldn't believe that I could actually understand what I was reading : the phenomenal power of the human mind .\"\n",
    "words_in_sentence = sentence.split(' ')\n",
    "shuffle_sentence = ''\n",
    "\n",
    "for word in words_in_sentence:\n",
    "    if len(word) <= 4:\n",
    "        shuffle_sentence += (word + ' ')\n",
    "    else:\n",
    "        w_fragment = list(word[1:-1])\n",
    "        random.shuffle(w_fragment)\n",
    "        shuffle_sentence += (word[0] + ''.join(w_fragment) + word[-1] + ' ')\n",
    "    \n",
    "shuffle_sentence = shuffle_sentence.strip()\n",
    "print(shuffle_sentence)"
   ]
  },
  {
   "cell_type": "code",
   "execution_count": null,
   "metadata": {},
   "outputs": [],
   "source": []
  }
 ],
 "metadata": {
  "colab": {
   "authorship_tag": "ABX9TyOAV5/QUBEK+tyaq79CDvy+",
   "collapsed_sections": [],
   "name": "00-09.ipynb",
   "provenance": []
  },
  "kernelspec": {
   "display_name": "Python 3 (ipykernel)",
   "language": "python",
   "name": "python3"
  },
  "language_info": {
   "codemirror_mode": {
    "name": "ipython",
    "version": 3
   },
   "file_extension": ".py",
   "mimetype": "text/x-python",
   "name": "python",
   "nbconvert_exporter": "python",
   "pygments_lexer": "ipython3",
   "version": "3.9.7"
  }
 },
 "nbformat": 4,
 "nbformat_minor": 4
}
