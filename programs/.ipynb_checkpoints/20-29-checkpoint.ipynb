{
 "cells": [
  {
   "cell_type": "markdown",
   "metadata": {
    "id": "l_qV-VEotPMV"
   },
   "source": [
    "## 20"
   ]
  },
  {
   "cell_type": "code",
   "execution_count": 7,
   "metadata": {},
   "outputs": [
    {
     "data": {
      "text/plain": [
       "'{\"title\": \"エジプト\", \"text\": \"{{otheruses|主に現代のエジプト・アラブ共和国|古代|古代エジプト}}\\\\n{{基礎情報 国\\\\n|略名 =エジプト\\\\n|漢字書き=埃及\\\\n'"
      ]
     },
     "execution_count": 7,
     "metadata": {},
     "output_type": "execute_result"
    }
   ],
   "source": [
    "filename = '../data/jawiki-country.json'\n",
    "f = open(filename, 'r', encoding='utf-8')\n",
    "lines = f.readlines()\n",
    "lines[0][:100]"
   ]
  },
  {
   "cell_type": "code",
   "execution_count": null,
   "metadata": {},
   "outputs": [],
   "source": []
  },
  {
   "cell_type": "code",
   "execution_count": 1,
   "metadata": {
    "colab": {
     "base_uri": "https://localhost:8080/"
    },
    "executionInfo": {
     "elapsed": 6,
     "status": "ok",
     "timestamp": 1644645139362,
     "user": {
      "displayName": "田中義規",
      "photoUrl": "https://lh3.googleusercontent.com/a/default-user=s64",
      "userId": "03358882541309422843"
     },
     "user_tz": -540
    },
    "id": "7EWPGpu4tb5W",
    "outputId": "d8f065d9-ee60-4a69-9eea-0c628aca1fb9"
   },
   "outputs": [
    {
     "name": "stdout",
     "output_type": "stream",
     "text": [
      "248 248\n"
     ]
    }
   ],
   "source": [
    "import json\n",
    "\n",
    "filename = '../data/jawiki-country.json'\n",
    "f = open(filename, 'r', encoding='utf-8')\n",
    "line = f.readline()\n",
    "\n",
    "titles, texts = [], []\n",
    "while line:\n",
    "    d = json.loads(line)\n",
    "    titles.append(d['title'])\n",
    "    texts.append(d['text'])\n",
    "    if d['title'] == 'イギリス':\n",
    "        text = d['text']\n",
    "    line = f.readline()\n",
    "f.close()\n",
    "print(len(titles), len(texts))"
   ]
  },
  {
   "cell_type": "code",
   "execution_count": 4,
   "metadata": {
    "colab": {
     "base_uri": "https://localhost:8080/",
     "height": 1000
    },
    "executionInfo": {
     "elapsed": 594,
     "status": "ok",
     "timestamp": 1644645139953,
     "user": {
      "displayName": "田中義規",
      "photoUrl": "https://lh3.googleusercontent.com/a/default-user=s64",
      "userId": "03358882541309422843"
     },
     "user_tz": -540
    },
    "id": "JyxV4c6jvSoq",
    "outputId": "de1e2d83-adde-4a24-c22e-35aa64a5a6c1"
   },
   "outputs": [
    {
     "data": {
      "text/plain": [
       "'{{redirect|UK}}\\n{{redirect|英国|春秋時代の諸侯国|英 (春秋)}}\\n{{Otheruses|ヨーロッパの国|長崎県・熊本県の郷土料理|いぎりす}}\\n{{基礎情報 国\\n|略名'"
      ]
     },
     "execution_count": 4,
     "metadata": {},
     "output_type": "execute_result"
    }
   ],
   "source": [
    "text[:100]"
   ]
  },
  {
   "cell_type": "markdown",
   "metadata": {
    "id": "dL_HR1vjUQt7"
   },
   "source": [
    "## 21"
   ]
  },
  {
   "cell_type": "code",
   "execution_count": null,
   "metadata": {
    "colab": {
     "base_uri": "https://localhost:8080/"
    },
    "executionInfo": {
     "elapsed": 25,
     "status": "ok",
     "timestamp": 1644645139953,
     "user": {
      "displayName": "田中義規",
      "photoUrl": "https://lh3.googleusercontent.com/a/default-user=s64",
      "userId": "03358882541309422843"
     },
     "user_tz": -540
    },
    "id": "6mvTW2Py_rUe",
    "outputId": "dd56a93c-1c5c-4296-95b2-a5bdc6787715"
   },
   "outputs": [],
   "source": [
    "import re\n",
    "res = re.findall(r'\\[\\[Category.*\\]\\]', text)\n",
    "for r in res:\n",
    "    print(r)"
   ]
  },
  {
   "cell_type": "markdown",
   "metadata": {
    "id": "FHeFGLyI--2s"
   },
   "source": [
    "## 22"
   ]
  },
  {
   "cell_type": "code",
   "execution_count": null,
   "metadata": {
    "colab": {
     "base_uri": "https://localhost:8080/"
    },
    "executionInfo": {
     "elapsed": 21,
     "status": "ok",
     "timestamp": 1644645139954,
     "user": {
      "displayName": "田中義規",
      "photoUrl": "https://lh3.googleusercontent.com/a/default-user=s64",
      "userId": "03358882541309422843"
     },
     "user_tz": -540
    },
    "id": "RKDa1yqLrxWh",
    "outputId": "2ce4fccc-20d4-4a3d-f898-7fe43d16b90d"
   },
   "outputs": [],
   "source": [
    "import re\n",
    "res = re.findall(r'\\[\\[Category.*\\]\\]', text)\n",
    "for r in res:\n",
    "    print(r[11:-2])"
   ]
  },
  {
   "cell_type": "markdown",
   "metadata": {
    "id": "CuZZ3Cji_H06"
   },
   "source": [
    "## 23"
   ]
  },
  {
   "cell_type": "code",
   "execution_count": null,
   "metadata": {
    "colab": {
     "base_uri": "https://localhost:8080/"
    },
    "executionInfo": {
     "elapsed": 19,
     "status": "ok",
     "timestamp": 1644645139955,
     "user": {
      "displayName": "田中義規",
      "photoUrl": "https://lh3.googleusercontent.com/a/default-user=s64",
      "userId": "03358882541309422843"
     },
     "user_tz": -540
    },
    "id": "Kq-LbQPCrxZc",
    "outputId": "97fad54d-f258-433a-db58-6e3f36b6e96f"
   },
   "outputs": [],
   "source": [
    "import re\n",
    "res = re.findall(r'==.*==', text)\n",
    "for r in res:\n",
    "    r = r.replace(' ', '')\n",
    "    print(r.replace('=', '') + ' : ' + str(r.count('=')//2 - 1))"
   ]
  },
  {
   "cell_type": "code",
   "execution_count": null,
   "metadata": {
    "id": "spIUXz_6rxb4"
   },
   "outputs": [],
   "source": []
  },
  {
   "cell_type": "markdown",
   "metadata": {
    "id": "RzWFBWXSDbRs"
   },
   "source": [
    "## 24"
   ]
  },
  {
   "cell_type": "code",
   "execution_count": null,
   "metadata": {
    "colab": {
     "base_uri": "https://localhost:8080/"
    },
    "executionInfo": {
     "elapsed": 17,
     "status": "ok",
     "timestamp": 1644645139956,
     "user": {
      "displayName": "田中義規",
      "photoUrl": "https://lh3.googleusercontent.com/a/default-user=s64",
      "userId": "03358882541309422843"
     },
     "user_tz": -540
    },
    "id": "vAZ1tDjYL8Og",
    "outputId": "09d0c3bf-1812-4e26-cc7c-dadc5bcd6e0a"
   },
   "outputs": [],
   "source": [
    "import re\n",
    "res = re.findall(r'\\[\\[ファイル:.*\\]\\]', text)\n",
    "for r in res:\n",
    "    print(r[2:-2].split('|')[0][5:].replace(' ', '_'))"
   ]
  },
  {
   "cell_type": "code",
   "execution_count": null,
   "metadata": {
    "id": "b5Gvy8FwDGB8"
   },
   "outputs": [],
   "source": []
  },
  {
   "cell_type": "code",
   "execution_count": null,
   "metadata": {
    "id": "Fp5EWRNTDJJX"
   },
   "outputs": [],
   "source": []
  },
  {
   "cell_type": "markdown",
   "metadata": {
    "id": "-umh4N7PNI_z"
   },
   "source": [
    "## 25"
   ]
  },
  {
   "cell_type": "code",
   "execution_count": null,
   "metadata": {
    "executionInfo": {
     "elapsed": 252,
     "status": "ok",
     "timestamp": 1644652883934,
     "user": {
      "displayName": "田中義規",
      "photoUrl": "https://lh3.googleusercontent.com/a/default-user=s64",
      "userId": "03358882541309422843"
     },
     "user_tz": -540
    },
    "id": "rQjh6nBENJhI"
   },
   "outputs": [],
   "source": [
    "basic_info = ''\n",
    "cnt = 0\n",
    "for txt in text.split('\\n'):\n",
    "    if len(re.findall(r'{{基礎情報.*', txt)) or cnt:\n",
    "        for t in re.findall(r'<ref[^<]*', txt):\n",
    "            txt = txt.replace(t, '')\n",
    "        basic_info += txt\n",
    "        cnt += txt.count('{')\n",
    "        cnt -= txt.count('}')\n",
    "        if cnt == 0:\n",
    "            break\n",
    "        else:\n",
    "            basic_info += '\\n'\n",
    "basic_info = basic_info[2:-2]\n",
    "basic_info_list = [info[1:] for info in re.findall(r'(\\|.*=.[^\\|]*)\\n', basic_info)]"
   ]
  },
  {
   "cell_type": "code",
   "execution_count": null,
   "metadata": {
    "colab": {
     "base_uri": "https://localhost:8080/"
    },
    "executionInfo": {
     "elapsed": 3,
     "status": "ok",
     "timestamp": 1644652888122,
     "user": {
      "displayName": "田中義規",
      "photoUrl": "https://lh3.googleusercontent.com/a/default-user=s64",
      "userId": "03358882541309422843"
     },
     "user_tz": -540
    },
    "id": "rfdnRM9r7oV6",
    "outputId": "a62dba79-187d-436d-dde3-9e629ff15d19"
   },
   "outputs": [],
   "source": [
    "basic_info_list "
   ]
  },
  {
   "cell_type": "code",
   "execution_count": null,
   "metadata": {
    "executionInfo": {
     "elapsed": 268,
     "status": "ok",
     "timestamp": 1644652890885,
     "user": {
      "displayName": "田中義規",
      "photoUrl": "https://lh3.googleusercontent.com/a/default-user=s64",
      "userId": "03358882541309422843"
     },
     "user_tz": -540
    },
    "id": "3Qq7rJ9IjI5j"
   },
   "outputs": [],
   "source": [
    "def show_dic(_dic):\n",
    "    for key in _dic.keys():\n",
    "        print(key + ' : ', _dic[key])"
   ]
  },
  {
   "cell_type": "code",
   "execution_count": null,
   "metadata": {
    "colab": {
     "base_uri": "https://localhost:8080/"
    },
    "executionInfo": {
     "elapsed": 5,
     "status": "ok",
     "timestamp": 1644652899463,
     "user": {
      "displayName": "田中義規",
      "photoUrl": "https://lh3.googleusercontent.com/a/default-user=s64",
      "userId": "03358882541309422843"
     },
     "user_tz": -540
    },
    "id": "NJoP5Qivd-hg",
    "outputId": "5b188f5d-bbf2-4926-f339-91a735fef0ea"
   },
   "outputs": [],
   "source": [
    "basic_info_dic = {}\n",
    "for info in basic_info_list:\n",
    "    info_list = info.split('=')\n",
    "    basic_info_dic[info_list[0].strip()] = '='.join(info_list[1:]).strip()\n",
    "show_dic(basic_info_dic)"
   ]
  },
  {
   "cell_type": "code",
   "execution_count": null,
   "metadata": {
    "id": "h_d3epb-NKI4"
   },
   "outputs": [],
   "source": []
  },
  {
   "cell_type": "markdown",
   "metadata": {
    "id": "4mIktfXliJ-_"
   },
   "source": [
    "## 26, 27, 28"
   ]
  },
  {
   "cell_type": "code",
   "execution_count": null,
   "metadata": {
    "executionInfo": {
     "elapsed": 250,
     "status": "ok",
     "timestamp": 1644652902008,
     "user": {
      "displayName": "田中義規",
      "photoUrl": "https://lh3.googleusercontent.com/a/default-user=s64",
      "userId": "03358882541309422843"
     },
     "user_tz": -540
    },
    "id": "jVmX4BCBr8R1"
   },
   "outputs": [],
   "source": [
    "def processing_markup(text):\n",
    "    # 強調マークアップの除去(26)\n",
    "    for t in re.findall(r\"(''*[^']*''*)\", text):\n",
    "        text = text.replace(t, t.replace(\"'\", ''))  # [[記事名|表示文字]]\n",
    "  \n",
    "  # 内部リンクの除去(27)\n",
    "  for t in re.findall(r'(\\[\\[[^\\[\\]]*\\]\\])', text):\n",
    "    t_p = t[2:-2].split('|')\n",
    "    if len(t_p) == 1:\n",
    "      text = text.replace(t, t_p[0])\n",
    "    else:\n",
    "      text = text.replace(t, '|'.join(t_p[1:]))  # [[記事名|表示文字]]\n",
    "\n",
    "  for t in set(re.findall(r\"(<[^<>]*>)\", text)):\n",
    "    text = text.replace(t, '')\n",
    "  \n",
    "  for t in re.findall(r'(\\[http.?://[^\\[\\]]*\\])', text):\n",
    "    text = text.replace(t, '')\n",
    "    \n",
    "  text = text.replace('{{0}}', '')\n",
    "  \n",
    "  return text"
   ]
  },
  {
   "cell_type": "code",
   "execution_count": null,
   "metadata": {
    "executionInfo": {
     "elapsed": 240,
     "status": "ok",
     "timestamp": 1644653101556,
     "user": {
      "displayName": "田中義規",
      "photoUrl": "https://lh3.googleusercontent.com/a/default-user=s64",
      "userId": "03358882541309422843"
     },
     "user_tz": -540
    },
    "id": "fqyXph9zsfSN"
   },
   "outputs": [],
   "source": [
    "basic_info = ''\n",
    "cnt = 0\n",
    "for txt in text.split('\\n'):\n",
    "  if len(re.findall(r'{{基礎情報.*', txt)) or cnt:\n",
    "    for t in re.findall(r'<ref[^<]*', txt):\n",
    "      txt = txt.replace(t, '')\n",
    "    basic_info += txt\n",
    "    cnt += txt.count('{')\n",
    "    cnt -= txt.count('}')\n",
    "    if cnt == 0:\n",
    "      break\n",
    "    else:\n",
    "      basic_info += '\\n'\n",
    "basic_info = basic_info[2:-2]\n",
    "basic_info = processing_markup(basic_info)\n",
    "basic_info_list = [info[1:] for info in re.findall(r'(\\|.*=.[^\\|]*)\\n', basic_info)]"
   ]
  },
  {
   "cell_type": "code",
   "execution_count": null,
   "metadata": {
    "colab": {
     "base_uri": "https://localhost:8080/"
    },
    "executionInfo": {
     "elapsed": 2,
     "status": "ok",
     "timestamp": 1644653101885,
     "user": {
      "displayName": "田中義規",
      "photoUrl": "https://lh3.googleusercontent.com/a/default-user=s64",
      "userId": "03358882541309422843"
     },
     "user_tz": -540
    },
    "id": "feooLq0HiPCC",
    "outputId": "902d1ccc-896a-4a35-edca-2f1ba2217fc8"
   },
   "outputs": [],
   "source": [
    "basic_info_dic = {}\n",
    "for info in basic_info_list:\n",
    "  info_list = info.split('=')\n",
    "  basic_info_dic[info_list[0].strip()] = '='.join(info_list[1:]).strip()\n",
    "show_dic(basic_info_dic)"
   ]
  },
  {
   "cell_type": "code",
   "execution_count": null,
   "metadata": {
    "id": "0C6YZApbiPKS"
   },
   "outputs": [],
   "source": []
  },
  {
   "cell_type": "markdown",
   "metadata": {
    "id": "dr5HVvK1_t5q"
   },
   "source": [
    "## 29"
   ]
  },
  {
   "cell_type": "markdown",
   "metadata": {
    "id": "WxrWVRkNBhiw"
   },
   "source": [
    "https://www.mediawiki.org/wiki/API:Imageinfo"
   ]
  },
  {
   "cell_type": "code",
   "execution_count": null,
   "metadata": {
    "colab": {
     "base_uri": "https://localhost:8080/"
    },
    "executionInfo": {
     "elapsed": 378,
     "status": "ok",
     "timestamp": 1644654343882,
     "user": {
      "displayName": "田中義規",
      "photoUrl": "https://lh3.googleusercontent.com/a/default-user=s64",
      "userId": "03358882541309422843"
     },
     "user_tz": -540
    },
    "id": "gMcrmvoxNKLD",
    "outputId": "66a88ec4-e5c9-4f13-8645-ac5106be9010"
   },
   "outputs": [],
   "source": [
    "import requests\n",
    "import json\n",
    "\n",
    "api = 'https://www.mediawiki.org/w/api.php'\n",
    "\n",
    "image_filename = basic_info_dic['国旗画像'].replace(' ', '_')\n",
    "\n",
    "PARAMS = {\n",
    "    \"action\": \"query\",\n",
    "    \"format\": \"json\",\n",
    "    \"prop\": \"imageinfo\",\n",
    "    \"titles\": \"File:\"+image_filename,\n",
    "    \"iiprop\": \"url\"\n",
    "}\n",
    "\n",
    "S = requests.Session()\n",
    "\n",
    "R = S.get(url=api, params=PARAMS)\n",
    "DATA = R.json()\n",
    "\n",
    "PAGES = DATA[\"query\"][\"pages\"]\n",
    "\n",
    "for k, v in PAGES.items():\n",
    "    print(v[\"title\"] + \" is uploaded by User:\" + v[\"imageinfo\"][0][\"url\"])"
   ]
  },
  {
   "cell_type": "code",
   "execution_count": null,
   "metadata": {
    "id": "q1mNKOKt_rnd"
   },
   "outputs": [],
   "source": []
  }
 ],
 "metadata": {
  "colab": {
   "authorship_tag": "ABX9TyM2uqAtem1HxdQHQh8F5aEd",
   "collapsed_sections": [],
   "name": "20-29_20220204.ipynb",
   "provenance": []
  },
  "kernelspec": {
   "display_name": "Python 3 (ipykernel)",
   "language": "python",
   "name": "python3"
  },
  "language_info": {
   "codemirror_mode": {
    "name": "ipython",
    "version": 3
   },
   "file_extension": ".py",
   "mimetype": "text/x-python",
   "name": "python",
   "nbconvert_exporter": "python",
   "pygments_lexer": "ipython3",
   "version": "3.9.7"
  }
 },
 "nbformat": 4,
 "nbformat_minor": 4
}
