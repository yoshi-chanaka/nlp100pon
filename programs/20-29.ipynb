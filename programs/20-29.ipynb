{
 "cells": [
  {
   "cell_type": "markdown",
   "metadata": {
    "id": "l_qV-VEotPMV"
   },
   "source": [
    "## 20"
   ]
  },
  {
   "cell_type": "code",
   "execution_count": 2,
   "metadata": {},
   "outputs": [
    {
     "name": "stdout",
     "output_type": "stream",
     "text": [
      "{\"title\": \"エジプト\", \"text\": \"{{otheruses|主に現代のエジプト・アラブ共和国|古代|古代エジプト}}\\n{{基礎情報 国\\n|略名 =エジプト\\n|漢字書き=埃及\\n\n",
      "\n",
      "<class 'str'>\n",
      "<class 'dict'> dict_keys(['title', 'text'])\n"
     ]
    }
   ],
   "source": [
    "# 1行目を取り出す\n",
    "import json\n",
    "\n",
    "path = '../data/jawiki-country.json'\n",
    "with open(path, 'r', encoding='utf-8') as f:\n",
    "    line = f.readline().strip()\n",
    "    json_loaded_line = json.loads(line)\n",
    "    print(line[:100], end='\\n\\n')\n",
    "\n",
    "    print(type(line))\n",
    "    print(type(json_loaded_line), json_loaded_line.keys())\n",
    "\n",
    "\"\"\"\n",
    "{\"title\": \"エジプト\", \"text\": \"{{otheruses|主に現代のエジプト・アラブ共和国|古代|古代エジプト}}\\n{{基礎情報 国\\n|略名 =エジプト\\n|漢字書き=埃及\\n\n",
    "\n",
    "<class 'str'>\n",
    "<class 'dict'> dict_keys(['title', 'text'])\n",
    "\"\"\""
   ]
  },
  {
   "cell_type": "code",
   "execution_count": 3,
   "metadata": {
    "colab": {
     "base_uri": "https://localhost:8080/"
    },
    "executionInfo": {
     "elapsed": 6,
     "status": "ok",
     "timestamp": 1644645139362,
     "user": {
      "displayName": "田中義規",
      "photoUrl": "https://lh3.googleusercontent.com/a/default-user=s64",
      "userId": "03358882541309422843"
     },
     "user_tz": -540
    },
    "id": "7EWPGpu4tb5W",
    "outputId": "d8f065d9-ee60-4a69-9eea-0c628aca1fb9"
   },
   "outputs": [
    {
     "name": "stdout",
     "output_type": "stream",
     "text": [
      "<class 'dict'> 248\n"
     ]
    }
   ],
   "source": [
    "import json\n",
    "\n",
    "jawiki_articles_dict = {}\n",
    "\n",
    "path = '../data/jawiki-country.json'\n",
    "f = open(path, 'r', encoding='utf-8')\n",
    "line = f.readline().strip()\n",
    "while line:\n",
    "    json_loaded_line = json.loads(line)\n",
    "    title, text = json_loaded_line['title'], json_loaded_line['text']\n",
    "    jawiki_articles_dict[title] = text\n",
    "    line = f.readline().strip()\n",
    "f.close()\n",
    "\n",
    "print(type(jawiki_articles_dict), len(jawiki_articles_dict)) # <class 'dict'> 248"
   ]
  },
  {
   "cell_type": "code",
   "execution_count": 4,
   "metadata": {
    "colab": {
     "base_uri": "https://localhost:8080/",
     "height": 1000
    },
    "executionInfo": {
     "elapsed": 594,
     "status": "ok",
     "timestamp": 1644645139953,
     "user": {
      "displayName": "田中義規",
      "photoUrl": "https://lh3.googleusercontent.com/a/default-user=s64",
      "userId": "03358882541309422843"
     },
     "user_tz": -540
    },
    "id": "JyxV4c6jvSoq",
    "outputId": "de1e2d83-adde-4a24-c22e-35aa64a5a6c1"
   },
   "outputs": [
    {
     "name": "stdout",
     "output_type": "stream",
     "text": [
      "{{redirect|UK}}\n",
      "{{redirect|英国|春秋時代の諸侯国|英 (春秋)}}\n",
      "{{Otheruses|ヨーロッパの国|長崎県・熊本県の郷土料理|いぎりす}}\n",
      "{{基礎情報 国\n",
      "|略名  =イギリス\n",
      "|日本語国名 = グレートブリテン及び北アイルランド連合王国\n",
      "|公式国名 = {{lang|en|United Kingdom of Great Britain and Northern Ireland}}<ref>英語以外での正式国名:<br />\n",
      "*{{lang|gd|An Rìoghachd Aonaichte na Breatainn Mhòr agus Eirinn mu Thuath}}（[[スコットランド・ゲール語]]）\n",
      "*{{lang|cy|Teyrnas Gyfunol Prydain Fawr a Gogledd Iwerddon}}（[[ウェールズ語]]）\n",
      "*{{lang|ga|Ríocht Aontaithe na Breataine Móire agus Tuaisceart na hÉireann}}（[[アイルランド語]]）\n",
      "*{{lang|kw|An Rywvaneth Unys a Vreten Veur hag Iwerdhon Glédh}}（[[コーンウォール語]]）\n",
      "*{{lang|sco|Unitit Kinrick o Great Breetain an Northren Ireland}}（[[スコットランド語]]）\n",
      "**{{lang|sco|Claught Kängrick o Docht Brätain an Norlin Airlann}}、{{lang|sco|Unitet Kängdom o Great Brittain an Norlin Airlann}}（アルスター・スコットランド語）</ref>\n",
      "|国旗画像 = Flag of the United Kingdom.svg\n",
      "|国章画像 = [[ファイル:Royal Coat of Arms of the United Kingdom.svg|85px|イギリスの国章]]\n",
      "|国章リンク =（[[イギリスの国章|国章]]）\n",
      "|標語 = {{lang|fr|[[Dieu et mon droit]]}}<br />（[[フランス語]]:[[Die\n"
     ]
    }
   ],
   "source": [
    "# 2.6 名前のフォーマットで情報を伝える\n",
    "# イギリスの記事本文は本Notebookで最後まで使うので，大文字で変数名を定義\n",
    "UK_ARTICLE_TEXT = jawiki_articles_dict['イギリス']\n",
    "print(UK_ARTICLE_TEXT[:1000])\n",
    "\"\"\"\n",
    "{{redirect|UK}}\n",
    "{{redirect|英国|春秋時代の諸侯国|英 (春秋)}}\n",
    "{{Otheruses|ヨーロッパの国|長崎県・熊本県の郷土料理|いぎりす}}\n",
    "{{基礎情報 国\n",
    "|略名  =イギリス\n",
    "|日本語国名 = グレートブリテン及び北アイルランド連合王国\n",
    "|公式国名 = {{lang|en|United Kingdom of Great Britain and Northern Ireland}}<ref>英語以外での正式国名:<br />\n",
    "*{{lang|gd|An Rìoghachd Aonaichte na Breatainn Mhòr agus Eirinn mu Thuath}}（[[スコットランド・ゲール語]]）\n",
    "*{{lang|cy|Teyrnas Gyfunol Prydain Fawr a Gogledd Iwerddon}}（[[ウェールズ語]]）\n",
    "*{{lang|ga|Ríocht Aontaithe na Breataine Móire agus Tuaisceart na hÉireann}}（[[アイルランド語]]）\n",
    "*{{lang|kw|An Rywvaneth Unys a Vreten Veur hag Iwerdhon Glédh}}（[[コーンウォール語]]）\n",
    "*{{lang|sco|Unitit Kinrick o Great Breetain an Northren Ireland}}（[[スコットランド語]]）\n",
    "**{{lang|sco|Claught Kängrick o Docht Brätain an Norlin Airlann}}、{{lang|sco|Unitet Kängdom o Great Brittain an Norlin Airlann}}（アルスター・スコットランド語）</ref>\n",
    "|国旗画像 = Flag of the United Kingdom.svg\n",
    "|国章画像 = [[ファイル:Royal Coat of Arms of the United Kingdom.svg|85px|イギリスの国章]]\n",
    "|国章リンク =（[[イギリスの国章|国章]]）\n",
    "|標語 = {{lang|fr|[[Dieu et mon droit]]}}<br />（[[フランス語]]:[[Die\n",
    "\"\"\""
   ]
  },
  {
   "cell_type": "markdown",
   "metadata": {
    "id": "dL_HR1vjUQt7"
   },
   "source": [
    "## 21"
   ]
  },
  {
   "cell_type": "code",
   "execution_count": 5,
   "metadata": {},
   "outputs": [
    {
     "name": "stdout",
     "output_type": "stream",
     "text": [
      "[[Category:イギリス|*]]\n",
      "[[Category:イギリス連邦加盟国]]\n",
      "[[Category:英連邦王国|*]]\n",
      "[[Category:G8加盟国]]\n",
      "[[Category:欧州連合加盟国|元]]\n",
      "[[Category:海洋国家]]\n",
      "[[Category:現存する君主国]]\n",
      "[[Category:島国]]\n",
      "[[Category:1801年に成立した国家・領域]]\n"
     ]
    }
   ],
   "source": [
    "import re\n",
    "\n",
    "# 8.1 説明変数：\n",
    "# reのモジュールに入力するpatternは複雑になりそうなので，一度変数patternとして定義\n",
    "pattern = r'.*\\[\\[Category:.*\\]\\].*'\n",
    "lines_extracted = re.findall(pattern, UK_ARTICLE_TEXT)\n",
    "for line in lines_extracted:\n",
    "    print(line)\n",
    "\"\"\"\n",
    "[[Category:イギリス|*]]\n",
    "[[Category:イギリス連邦加盟国]]\n",
    "[[Category:英連邦王国|*]]\n",
    "[[Category:G8加盟国]]\n",
    "[[Category:欧州連合加盟国|元]]\n",
    "[[Category:海洋国家]]\n",
    "[[Category:現存する君主国]]\n",
    "[[Category:島国]]\n",
    "[[Category:1801年に成立した国家・領域]]\n",
    "\"\"\""
   ]
  },
  {
   "cell_type": "markdown",
   "metadata": {
    "id": "FHeFGLyI--2s"
   },
   "source": [
    "## 22"
   ]
  },
  {
   "cell_type": "code",
   "execution_count": 6,
   "metadata": {},
   "outputs": [
    {
     "name": "stdout",
     "output_type": "stream",
     "text": [
      "イギリス\n",
      "イギリス連邦加盟国\n",
      "英連邦王国\n",
      "G8加盟国\n",
      "欧州連合加盟国\n",
      "海洋国家\n",
      "現存する君主国\n",
      "島国\n",
      "1801年に成立した国家・領域\n"
     ]
    }
   ],
   "source": [
    "# 6.6 コードの意図を書く\n",
    "import re\n",
    "\n",
    "# [[Category:*]]の\"*\"の部分を取り出したい\n",
    "# 縦棒がある場合は，これより左の部分を取り出す\n",
    "pattern = r'\\[\\[Category:([^\\|\\]]+)\\|?.*\\]\\]'\n",
    "category_names = re.findall(pattern, UK_ARTICLE_TEXT)\n",
    "for categ in category_names:\n",
    "    print(categ)\n",
    "\"\"\"\n",
    "イギリス\n",
    "イギリス連邦加盟国\n",
    "英連邦王国\n",
    "G8加盟国\n",
    "欧州連合加盟国\n",
    "海洋国家\n",
    "現存する君主国\n",
    "島国\n",
    "1801年に成立した国家・領域\n",
    "\"\"\""
   ]
  },
  {
   "cell_type": "markdown",
   "metadata": {
    "id": "CuZZ3Cji_H06"
   },
   "source": [
    "## 23"
   ]
  },
  {
   "cell_type": "code",
   "execution_count": 7,
   "metadata": {
    "colab": {
     "base_uri": "https://localhost:8080/"
    },
    "executionInfo": {
     "elapsed": 19,
     "status": "ok",
     "timestamp": 1644645139955,
     "user": {
      "displayName": "田中義規",
      "photoUrl": "https://lh3.googleusercontent.com/a/default-user=s64",
      "userId": "03358882541309422843"
     },
     "user_tz": -540
    },
    "id": "Kq-LbQPCrxZc",
    "outputId": "97fad54d-f258-433a-db58-6e3f36b6e96f"
   },
   "outputs": [
    {
     "name": "stdout",
     "output_type": "stream",
     "text": [
      "['==国名==', '==歴史==', '==地理==', '===主要都市===', '===気候===', '==政治==', '===元首===', '===法===', '===内政===', '===地方行政区分===']\n",
      "55\n",
      "国名 : 1\n",
      "歴史 : 1\n",
      "地理 : 1\n",
      "主要都市 : 2\n",
      "気候 : 2\n",
      "政治 : 1\n",
      "元首 : 2\n",
      "法 : 2\n",
      "内政 : 2\n",
      "地方行政区分 : 2\n"
     ]
    }
   ],
   "source": [
    "import re\n",
    "\n",
    "# 8.1 説明変数：\n",
    "# for section in re.findall(r'==.+==', UK_ARTICLE_TEXT):とせずに一度変数に代入\n",
    "sections_in_article = re.findall(r'==.+==', UK_ARTICLE_TEXT)\n",
    "section_dict = {}\n",
    "print(sections_in_article[:10])\n",
    "\n",
    "for section in sections_in_article:\n",
    "\n",
    "    sct_symbol = re.match(r'=+', section).group()\n",
    "    name = section.replace('=', '').strip()\n",
    "    level = len(sct_symbol) - 1 # mが\"==\"ならセクションレベルは1,\"====\"ならば3\n",
    "\n",
    "    section_dict[name] = level\n",
    "\n",
    "print(len(section_dict))\n",
    "for name, level in list(section_dict.items())[:10]:\n",
    "    print('{} : {}'.format(name, level))\n",
    "\n",
    "\"\"\"\n",
    "['==国名==', '==歴史==', '==地理==', '===主要都市===', '===気候===', '==政治==', '===元首===', '===法===', '===内政===', '===地方行政区分===']\n",
    "55\n",
    "国名 : 1\n",
    "歴史 : 1\n",
    "地理 : 1\n",
    "主要都市 : 2\n",
    "気候 : 2\n",
    "政治 : 1\n",
    "元首 : 2\n",
    "法 : 2\n",
    "内政 : 2\n",
    "地方行政区分 : 2\n",
    "\"\"\""
   ]
  },
  {
   "cell_type": "markdown",
   "metadata": {
    "id": "RzWFBWXSDbRs"
   },
   "source": [
    "## 24"
   ]
  },
  {
   "cell_type": "code",
   "execution_count": 8,
   "metadata": {
    "colab": {
     "base_uri": "https://localhost:8080/"
    },
    "executionInfo": {
     "elapsed": 17,
     "status": "ok",
     "timestamp": 1644645139956,
     "user": {
      "displayName": "田中義規",
      "photoUrl": "https://lh3.googleusercontent.com/a/default-user=s64",
      "userId": "03358882541309422843"
     },
     "user_tz": -540
    },
    "id": "vAZ1tDjYL8Og",
    "outputId": "09d0c3bf-1812-4e26-cc7c-dadc5bcd6e0a"
   },
   "outputs": [
    {
     "name": "stdout",
     "output_type": "stream",
     "text": [
      "Royal_Coat_of_Arms_of_the_United_Kingdom.svg\n",
      "United_States_Navy_Band_-_God_Save_the_Queen.ogg\n",
      "Descriptio_Prime_Tabulae_Europae.jpg\n",
      "Lenepveu,_Jeanne_d'Arc_au_siège_d'Orléans.jpg\n",
      "London.bankofengland.arp.jpg\n",
      "Battle_of_Waterloo_1815.PNG\n",
      "Uk_topo_en.jpg\n",
      "BenNevis2005.jpg\n",
      "Population_density_UK_2011_census.png\n",
      "2019_Greenwich_Peninsula_&_Canary_Wharf.jpg\n",
      "Leeds_CBD_at_night.jpg\n",
      "Palace_of_Westminster,_London_-_Feb_2007.jpg\n",
      "Scotland_Parliament_Holyrood.jpg\n",
      "Donald_Trump_and_Theresa_May_(33998675310)_(cropped).jpg\n",
      "Soldiers_Trooping_the_Colour,_16th_June_2007.jpg\n",
      "City_of_London_skyline_from_London_City_Hall_-_Oct_2008.jpg\n",
      "Oil_platform_in_the_North_SeaPros.jpg\n",
      "Eurostar_at_St_Pancras_Jan_2008.jpg\n",
      "Heathrow_Terminal_5C_Iwelumo-1.jpg\n",
      "UKpop.svg\n",
      "Anglospeak.svg\n",
      "Royal_Aberdeen_Children's_Hospital.jpg\n",
      "CHANDOS3.jpg\n",
      "The_Fabs.JPG\n",
      "Wembley_Stadium,_illuminated.jpg\n"
     ]
    }
   ],
   "source": [
    "import re\n",
    "\n",
    "# 6.5 入出力のコーナーケースの実例を使う\n",
    "# [[ファイル:...]]の部分からファイル名のみを抽出して，ファイル名のスペースを_(アンダーバー)に置換したい\n",
    "# |国章画像 = [[ファイル:Royal Coat of Arms of the United Kingdom.svg|85px|イギリスの国章]]\n",
    "# => Royal_Coat_of_Arms_of_the_United_Kingdom.svg\n",
    "# patternは問21と同様\n",
    "pattern = r'\\[\\[ファイル:([^\\|\\]]+)\\|?.*\\]\\]'\n",
    "mediafile_names = re.findall(pattern, UK_ARTICLE_TEXT)\n",
    "for media in mediafile_names:\n",
    "    print(media.replace(' ', '_'))\n",
    "\"\"\"\n",
    "Royal_Coat_of_Arms_of_the_United_Kingdom.svg\n",
    "United_States_Navy_Band_-_God_Save_the_Queen.ogg\n",
    "Descriptio_Prime_Tabulae_Europae.jpg\n",
    "Lenepveu,_Jeanne_d'Arc_au_siège_d'Orléans.jpg\n",
    "London.bankofengland.arp.jpg\n",
    "Battle_of_Waterloo_1815.PNG\n",
    "Uk_topo_en.jpg\n",
    "BenNevis2005.jpg\n",
    "Population_density_UK_2011_census.png\n",
    "2019_Greenwich_Peninsula_&_Canary_Wharf.jpg\n",
    "Leeds_CBD_at_night.jpg\n",
    "Palace_of_Westminster,_London_-_Feb_2007.jpg\n",
    "Scotland_Parliament_Holyrood.jpg\n",
    "Donald_Trump_and_Theresa_May_(33998675310)_(cropped).jpg\n",
    "Soldiers_Trooping_the_Colour,_16th_June_2007.jpg\n",
    "City_of_London_skyline_from_London_City_Hall_-_Oct_2008.jpg\n",
    "Oil_platform_in_the_North_SeaPros.jpg\n",
    "Eurostar_at_St_Pancras_Jan_2008.jpg\n",
    "Heathrow_Terminal_5C_Iwelumo-1.jpg\n",
    "UKpop.svg\n",
    "Anglospeak.svg\n",
    "Royal_Aberdeen_Children's_Hospital.jpg\n",
    "CHANDOS3.jpg\n",
    "The_Fabs.JPG\n",
    "Wembley_Stadium,_illuminated.jpg\n",
    "\"\"\""
   ]
  },
  {
   "cell_type": "code",
   "execution_count": null,
   "metadata": {
    "id": "Fp5EWRNTDJJX"
   },
   "outputs": [],
   "source": []
  },
  {
   "cell_type": "markdown",
   "metadata": {
    "id": "-umh4N7PNI_z"
   },
   "source": [
    "## 25"
   ]
  },
  {
   "cell_type": "code",
   "execution_count": 9,
   "metadata": {},
   "outputs": [
    {
     "name": "stdout",
     "output_type": "stream",
     "text": [
      "{{基礎情報 国\n",
      "|略名  =イギリス\n",
      "|日本語国名 = グレートブリテン及び北アイルランド連合王国\n",
      "|公式国名 = {{lang|en|United Kingdom of Great Britain and Northern Ireland}}<ref>英語以外での正式国名:<br />*{{lang|gd|An Rìoghachd Aonaichte na Breatainn Mhòr agus Eirinn mu Thuath}}（[[スコットランド・ゲール語]]）*{{lang|cy|Teyrnas Gyfunol Prydain Fawr a Gogledd Iwerddon}}（[[ウェールズ語]]）*{{lang|ga|Ríocht Aontaithe na Breataine Móire agus Tuaisceart na hÉireann}}（[[アイルランド語]]）*{{lang|kw|An Rywvaneth Unys a Vreten Veur hag Iwerdhon Glédh}}（[[コーンウォール語]]）*{{lang|sco|Unitit Kinrick o Great Breetain an Northren Ireland}}（[[スコットランド語]]）**{{lang|sco|Claught Kängrick o Docht Brätain an Norlin Airlann}}、{{lang|sco|Unitet Kängdom o Great Brittain an Norlin Airlann}}（アルスター・スコットランド語）</ref>\n",
      "|国旗画像 = Flag of the United Kingdom.svg\n",
      "|国章画像 = [[ファイル:Royal Coat of Arms of the United Kingdom.svg|85px|イギリスの国章]]\n",
      "|国章リンク =（[[イギリスの国章|国章]]）\n",
      "|標語 = {{lang|fr|[[Dieu et mon droit]]}}<br />（[[フランス語]]:[[Dieu et mon droit|神と我が権利]]）\n",
      "|国歌 = [[女王陛下万歳|{{lang|en|God Save the Queen}}]]{{en icon}}<br />''神よ女\n"
     ]
    }
   ],
   "source": [
    "# 6.6 コードの意図を書く\n",
    "\"\"\"\n",
    "{{基礎情報 国\n",
    "    ...\n",
    "}}\n",
    "の部分を取り出す\n",
    "\"\"\"\n",
    "pattern = r'^\\{\\{基礎情報 国.*^\\}\\}'\n",
    "# MULTILINE：複数行に対してそれぞれ検索．\"^\"が各行にマッチする．\n",
    "# DOTALL：\".\"(ドット)が改行マークにもマッチする．基礎情報が複数行に渡っているので抽出するために必要\n",
    "basic_info = re.findall(pattern, UK_ARTICLE_TEXT, flags=re.MULTILINE | re.DOTALL)[0]\n",
    "basic_info = re.sub(r'\\n\\*', r'*', basic_info) # （refタグだが）公式国名が複数の行に分かれているので一行に\n",
    "print(basic_info[:1000])\n",
    "\"\"\"\n",
    "{{基礎情報 国\n",
    "|略名  =イギリス\n",
    "|日本語国名 = グレートブリテン及び北アイルランド連合王国\n",
    "|公式国名 = {{lang|en|United Kingdom of Great Britain and Northern Ireland}}<ref>英語以外での正式国名:<br />*{{lang|gd|An Rìoghachd Aonaichte na Breatainn Mhòr agus Eirinn mu Thuath}}（[[スコットランド・ゲール語]]）*{{lang|cy|Teyrnas Gyfunol Prydain Fawr a Gogledd Iwerddon}}（[[ウェールズ語]]）*{{lang|ga|Ríocht Aontaithe na Breataine Móire agus Tuaisceart na hÉireann}}（[[アイルランド語]]）*{{lang|kw|An Rywvaneth Unys a Vreten Veur hag Iwerdhon Glédh}}（[[コーンウォール語]]）*{{lang|sco|Unitit Kinrick o Great Breetain an Northren Ireland}}（[[スコットランド語]]）**{{lang|sco|Claught Kängrick o Docht Brätain an Norlin Airlann}}、{{lang|sco|Unitet Kängdom o Great Brittain an Norlin Airlann}}（アルスター・スコットランド語）</ref>\n",
    "|国旗画像 = Flag of the United Kingdom.svg\n",
    "|国章画像 = [[ファイル:Royal Coat of Arms of the United Kingdom.svg|85px|イギリスの国章]]\n",
    "|国章リンク =（[[イギリスの国章|国章]]）\n",
    "|標語 = {{lang|fr|[[Dieu et mon droit]]}}<br />（[[フランス語]]:[[Dieu et mon droit|神と我が権利]]）\n",
    "|国歌 = [[女王陛下万歳|{{lang|en|God Save the Queen}}]]{{en icon}}<br />''神よ女\n",
    "\"\"\""
   ]
  },
  {
   "cell_type": "code",
   "execution_count": 10,
   "metadata": {},
   "outputs": [
    {
     "name": "stdout",
     "output_type": "stream",
     "text": [
      "略名\tイギリス\n",
      "日本語国名\tグレートブリテン及び北アイルランド連合王国\n",
      "公式国名\t{{lang|en|United Kingdom of Great Britain and Northern Ireland}}<ref>英語以外での正式国名:<br />*{{lang|gd|An Rìoghachd Aonaichte na Breatainn Mhòr agus Eirinn mu Thuath}}（[[スコットランド・ゲール語]]）*{{lang|cy|Teyrnas Gyfunol Prydain Fawr a Gogledd Iwerddon}}（[[ウェールズ語]]）*{{lang|ga|Ríocht Aontaithe na Breataine Móire agus Tuaisceart na hÉireann}}（[[アイルランド語]]）*{{lang|kw|An Rywvaneth Unys a Vreten Veur hag Iwerdhon Glédh}}（[[コーンウォール語]]）*{{lang|sco|Unitit Kinrick o Great Breetain an Northren Ireland}}（[[スコットランド語]]）**{{lang|sco|Claught Kängrick o Docht Brätain an Norlin Airlann}}、{{lang|sco|Unitet Kängdom o Great Brittain an Norlin Airlann}}（アルスター・スコットランド語）</ref>\n",
      "国旗画像\tFlag of the United Kingdom.svg\n",
      "国章画像\t[[ファイル:Royal Coat of Arms of the United Kingdom.svg|85px|イギリスの国章]]\n",
      "国章リンク\t（[[イギリスの国章|国章]]）\n",
      "標語\t{{lang|fr|[[Dieu et mon droit]]}}<br />（[[フランス語]]:[[Dieu et mon droit|神と我が権利]]）\n",
      "国歌\t[[女王陛下万歳|{{lang|en|God Save the Queen}}]]{{en icon}}<br />''神よ女王を護り賜え''<br />{{center|[[ファイル:United States Navy Band - God Save the Queen.ogg]]}}\n",
      "地図画像\tEurope-UK.svg\n",
      "位置画像\tUnited Kingdom (+overseas territories) in the World (+Antarctica claims).svg\n",
      "公用語\t[[英語]]\n",
      "首都\t[[ロンドン]]（事実上）\n",
      "最大都市\tロンドン\n",
      "元首等肩書\t[[イギリスの君主|女王]]\n",
      "元首等氏名\t[[エリザベス2世]]\n",
      "首相等肩書\t[[イギリスの首相|首相]]\n",
      "首相等氏名\t[[ボリス・ジョンソン]]\n",
      "他元首等肩書1\t[[貴族院 (イギリス)|貴族院議長]]\n",
      "他元首等氏名1\t[[:en:Norman Fowler, Baron Fowler|ノーマン・ファウラー]]\n",
      "他元首等肩書2\t[[庶民院 (イギリス)|庶民院議長]]\n",
      "他元首等氏名2\t{{仮リンク|リンゼイ・ホイル|en|Lindsay Hoyle}}\n",
      "他元首等肩書3\t[[連合王国最高裁判所|最高裁判所長官]]\n",
      "他元首等氏名3\t[[:en:Brenda Hale, Baroness Hale of Richmond|ブレンダ・ヘイル]]\n",
      "面積順位\t76\n",
      "面積大きさ\t1 E11\n",
      "面積値\t244,820\n",
      "水面積率\t1.3%\n",
      "人口統計年\t2018\n",
      "人口順位\t22\n",
      "人口大きさ\t1 E7\n",
      "人口値\t6643万5600<ref>{{Cite web|url=https://www.ons.gov.uk/peoplepopulationandcommunity/populationandmigration/populationestimates|title=Population estimates - Office for National Statistics|accessdate=2019-06-26|date=2019-06-26}}</ref>\n",
      "人口密度値\t271\n",
      "GDP統計年元\t2012\n",
      "GDP値元\t1兆5478億<ref name=\"imf-statistics-gdp\">[http://www.imf.org/external/pubs/ft/weo/2012/02/weodata/weorept.aspx?pr.x=70&pr.y=13&sy=2010&ey=2012&scsm=1&ssd=1&sort=country&ds=.&br=1&c=112&s=NGDP%2CNGDPD%2CPPPGDP%2CPPPPC&grp=0&a=IMF>Data and Statistics>World Economic Outlook Databases>By Countrise>United Kingdom]</ref>\n",
      "GDP統計年MER\t2012\n",
      "GDP順位MER\t6\n",
      "GDP値MER\t2兆4337億<ref name=\"imf-statistics-gdp\" />\n",
      "GDP統計年\t2012\n",
      "GDP順位\t6\n",
      "GDP値\t2兆3162億<ref name=\"imf-statistics-gdp\" />\n",
      "GDP/人\t36,727<ref name=\"imf-statistics-gdp\" />\n",
      "建国形態\t建国\n",
      "確立形態1\t[[イングランド王国]]／[[スコットランド王国]]<br />（両国とも[[合同法 (1707年)|1707年合同法]]まで）\n",
      "確立年月日1\t927年／843年\n",
      "確立形態2\t[[グレートブリテン王国]]成立<br />（1707年合同法）\n",
      "確立年月日2\t1707年{{0}}5月{{0}}1日\n",
      "確立形態3\t[[グレートブリテン及びアイルランド連合王国]]成立<br />（[[合同法 (1800年)|1800年合同法]]）\n",
      "確立年月日3\t1801年{{0}}1月{{0}}1日\n",
      "確立形態4\t現在の国号「'''グレートブリテン及び北アイルランド連合王国'''」に変更\n",
      "確立年月日4\t1927年{{0}}4月12日\n",
      "通貨\t[[スターリング・ポンド|UKポンド]] (£)\n",
      "通貨コード\tGBP\n",
      "時間帯\t±0\n",
      "夏時間\t+1\n",
      "ISO 3166-1\tGB / GBR\n",
      "ccTLD\t[[.uk]] / [[.gb]]<ref>使用は.ukに比べ圧倒的少数。</ref>\n",
      "国際電話番号\t44\n",
      "注記\t<references/>\n"
     ]
    }
   ],
   "source": [
    "basic_info_dict = {}\n",
    "# 先頭が縦棒\"|\"になっている行を取り出す\n",
    "pattern = r'^\\|(.*)'\n",
    "lines_basic_info = re.findall(pattern, basic_info, flags=re.MULTILINE)\n",
    "for info_line in lines_basic_info:\n",
    "    field, val = info_line.split('=', 1)\n",
    "    basic_info_dict[field.strip()] = val.strip()\n",
    "\n",
    "path = '../materials/chap3_basic_templates.txt'\n",
    "with open(path, 'w', encoding='utf-8') as f:\n",
    "    for field, val in basic_info_dict.items():\n",
    "        print('{}\\t{}'.format(field, val))\n",
    "        f.write('{}\\t{}\\n'.format(field, val))\n",
    "\"\"\"\n",
    "略名\tイギリス\n",
    "日本語国名\tグレートブリテン及び北アイルランド連合王国\n",
    "公式国名\t{{lang|en|United Kingdom of Great Britain and Northern Ireland}}<ref>英語以外での正式国名:<br />*{{lang|gd|An Rìoghachd Aonaichte na Breatainn Mhòr agus Eirinn mu Thuath}}（[[スコットランド・ゲール語]]）*{{lang|cy|Teyrnas Gyfunol Prydain Fawr a Gogledd Iwerddon}}（[[ウェールズ語]]）*{{lang|ga|Ríocht Aontaithe na Breataine Móire agus Tuaisceart na hÉireann}}（[[アイルランド語]]）*{{lang|kw|An Rywvaneth Unys a Vreten Veur hag Iwerdhon Glédh}}（[[コーンウォール語]]）*{{lang|sco|Unitit Kinrick o Great Breetain an Northren Ireland}}（[[スコットランド語]]）**{{lang|sco|Claught Kängrick o Docht Brätain an Norlin Airlann}}、{{lang|sco|Unitet Kängdom o Great Brittain an Norlin Airlann}}（アルスター・スコットランド語）</ref>\n",
    "国旗画像\tFlag of the United Kingdom.svg\n",
    "国章画像\t[[ファイル:Royal Coat of Arms of the United Kingdom.svg|85px|イギリスの国章]]\n",
    "国章リンク\t（[[イギリスの国章|国章]]）\n",
    "標語\t{{lang|fr|[[Dieu et mon droit]]}}<br />（[[フランス語]]:[[Dieu et mon droit|神と我が権利]]）\n",
    "国歌\t[[女王陛下万歳|{{lang|en|God Save the Queen}}]]{{en icon}}<br />''神よ女王を護り賜え''<br />{{center|[[ファイル:United States Navy Band - God Save the Queen.ogg]]}}\n",
    "地図画像\tEurope-UK.svg\n",
    "位置画像\tUnited Kingdom (+overseas territories) in the World (+Antarctica claims).svg\n",
    "公用語\t[[英語]]\n",
    "首都\t[[ロンドン]]（事実上）\n",
    "最大都市\tロンドン\n",
    "元首等肩書\t[[イギリスの君主|女王]]\n",
    "元首等氏名\t[[エリザベス2世]]\n",
    "首相等肩書\t[[イギリスの首相|首相]]\n",
    "首相等氏名\t[[ボリス・ジョンソン]]\n",
    "他元首等肩書1\t[[貴族院 (イギリス)|貴族院議長]]\n",
    "他元首等氏名1\t[[:en:Norman Fowler, Baron Fowler|ノーマン・ファウラー]]\n",
    "他元首等肩書2\t[[庶民院 (イギリス)|庶民院議長]]\n",
    "他元首等氏名2\t{{仮リンク|リンゼイ・ホイル|en|Lindsay Hoyle}}\n",
    "他元首等肩書3\t[[連合王国最高裁判所|最高裁判所長官]]\n",
    "他元首等氏名3\t[[:en:Brenda Hale, Baroness Hale of Richmond|ブレンダ・ヘイル]]\n",
    "面積順位\t76\n",
    "面積大きさ\t1 E11\n",
    "...\n",
    "ISO 3166-1\tGB / GBR\n",
    "ccTLD\t[[.uk]] / [[.gb]]<ref>使用は.ukに比べ圧倒的少数。</ref>\n",
    "国際電話番号\t44\n",
    "注記\t<references/>\n",
    "\"\"\""
   ]
  },
  {
   "cell_type": "code",
   "execution_count": null,
   "metadata": {
    "id": "h_d3epb-NKI4"
   },
   "outputs": [],
   "source": []
  },
  {
   "cell_type": "markdown",
   "metadata": {},
   "source": [
    "## 26"
   ]
  },
  {
   "cell_type": "markdown",
   "metadata": {},
   "source": [
    "* https://ja.wikipedia.org/wiki/Help:%E6%97%A9%E8%A6%8B%E8%A1%A8\n",
    "* https://wpdocs.osdn.jp/%E3%83%98%E3%83%AB%E3%83%97:Wiki_%E3%83%9E%E3%83%BC%E3%82%AF%E3%82%A2%E3%83%83%E3%83%97%E6%97%A9%E8%A6%8B%E8%A1%A8"
   ]
  },
  {
   "cell_type": "code",
   "execution_count": 11,
   "metadata": {},
   "outputs": [
    {
     "name": "stdout",
     "output_type": "stream",
     "text": [
      "国歌\t[[女王陛下万歳|{{lang|en|God Save the Queen}}]]{{en icon}}<br />''神よ女王を護り賜え''<br />{{center|[[ファイル:United States Navy Band - God Save the Queen.ogg]]}}\n",
      "確立形態4\t現在の国号「'''グレートブリテン及び北アイルランド連合王国'''」に変更\n"
     ]
    }
   ],
   "source": [
    "for field, val in basic_info_dict.items():\n",
    "    if \"''\" in val:\n",
    "        print('{}\\t{}'.format(field, val))\n",
    "\"\"\"\n",
    "国歌\t[[女王陛下万歳|{{lang|en|God Save the Queen}}]]{{en icon}}<br />''神よ女王を護り賜え''<br />{{center|[[ファイル:United States Navy Band - God Save the Queen.ogg]]}}\n",
    "確立形態4\t現在の国号「'''グレートブリテン及び北アイルランド連合王国'''」に変更\n",
    "\"\"\""
   ]
  },
  {
   "cell_type": "code",
   "execution_count": 12,
   "metadata": {},
   "outputs": [
    {
     "name": "stdout",
     "output_type": "stream",
     "text": [
      "国歌\t[[女王陛下万歳|{{lang|en|God Save the Queen}}]]{{en icon}}<br />神よ女王を護り賜え<br />{{center|[[ファイル:United States Navy Band - God Save the Queen.ogg]]}}\n",
      "確立形態4\t現在の国号「グレートブリテン及び北アイルランド連合王国」に変更\n"
     ]
    }
   ],
   "source": [
    "# 2.4 名前に情報を追加する：何に使うpatternなのかわかるようにする\n",
    "# 6.6 コードの意図を書く\n",
    "\"\"\"\n",
    "強調マークアップ使用例：\n",
    "    現在の国号「'''グレートブリテン及び北アイルランド連合王国'''」に変更\n",
    "''弱い強調'', '''強調''', \t'''''強い強調'''''\n",
    "\"\"\"\n",
    "\n",
    "basic_info_dict_emphasis = {}\n",
    "\n",
    "split_info_pattern   = r'^\\|(.*)'\n",
    "emphasis_pattern     = r\"''+\"\n",
    "lines_basic_info     = re.findall(split_info_pattern, basic_info, flags=re.MULTILINE)\n",
    "for info_line in lines_basic_info:\n",
    "    field, val = info_line.split('=', 1)\n",
    "    # 強調マークアップの削除\n",
    "    val = re.sub(emphasis_pattern, '', val)\n",
    "    basic_info_dict_emphasis[field.strip()] = val.strip()\n",
    "\n",
    "for field, val in basic_info_dict.items():\n",
    "    if \"''\" in val:\n",
    "        print('{}\\t{}'.format(field, basic_info_dict_emphasis[field]))\n",
    "\"\"\"\n",
    "国歌\t[[女王陛下万歳|{{lang|en|God Save the Queen}}]]{{en icon}}<br />神よ女王を護り賜え<br />{{center|[[ファイル:United States Navy Band - God Save the Queen.ogg]]}}\n",
    "確立形態4\t現在の国号「グレートブリテン及び北アイルランド連合王国」に変更\n",
    "\"\"\""
   ]
  },
  {
   "cell_type": "code",
   "execution_count": null,
   "metadata": {},
   "outputs": [],
   "source": []
  },
  {
   "cell_type": "markdown",
   "metadata": {},
   "source": [
    "## 27"
   ]
  },
  {
   "cell_type": "code",
   "execution_count": 13,
   "metadata": {},
   "outputs": [
    {
     "name": "stdout",
     "output_type": "stream",
     "text": [
      "公式国名\t{{lang|en|United Kingdom of Great Britain and Northern Ireland}}<ref>英語以外での正式国名:<br />*{{lang|gd|An Rìoghachd Aonaichte na Breatainn Mhòr agus Eirinn mu Thuath}}（[[スコットランド・ゲール語]]）*{{lang|cy|Teyrnas Gyfunol Prydain Fawr a Gogledd Iwerddon}}（[[ウェールズ語]]）*{{lang|ga|Ríocht Aontaithe na Breataine Móire agus Tuaisceart na hÉireann}}（[[アイルランド語]]）*{{lang|kw|An Rywvaneth Unys a Vreten Veur hag Iwerdhon Glédh}}（[[コーンウォール語]]）*{{lang|sco|Unitit Kinrick o Great Breetain an Northren Ireland}}（[[スコットランド語]]）**{{lang|sco|Claught Kängrick o Docht Brätain an Norlin Airlann}}、{{lang|sco|Unitet Kängdom o Great Brittain an Norlin Airlann}}（アルスター・スコットランド語）</ref>\n",
      "国章画像\t[[ファイル:Royal Coat of Arms of the United Kingdom.svg|85px|イギリスの国章]]\n",
      "標語\t{{lang|fr|[[Dieu et mon droit]]}}<br />（[[フランス語]]:[[Dieu et mon droit|神と我が権利]]）\n",
      "国歌\t[[女王陛下万歳|{{lang|en|God Save the Queen}}]]{{en icon}}<br />''神よ女王を護り賜え''<br />{{center|[[ファイル:United States Navy Band - God Save the Queen.ogg]]}}\n",
      "他元首等氏名1\t[[:en:Norman Fowler, Baron Fowler|ノーマン・ファウラー]]\n",
      "他元首等氏名3\t[[:en:Brenda Hale, Baroness Hale of Richmond|ブレンダ・ヘイル]]\n"
     ]
    }
   ],
   "source": [
    "for field, val in basic_info_dict.items():\n",
    "    if \"[[\" in val and '|' in val and ':' in val:\n",
    "        print('{}\\t{}'.format(field, val))\n",
    "\"\"\"\n",
    "公式国名\t{{lang|en|United Kingdom of Great Britain and Northern Ireland}}<ref>英語以外での正式国名:<br />*{{lang|gd|An Rìoghachd Aonaichte na Breatainn Mhòr agus Eirinn mu Thuath}}（[[スコットランド・ゲール語]]）*{{lang|cy|Teyrnas Gyfunol Prydain Fawr a Gogledd Iwerddon}}（[[ウェールズ語]]）*{{lang|ga|Ríocht Aontaithe na Breataine Móire agus Tuaisceart na hÉireann}}（[[アイルランド語]]）*{{lang|kw|An Rywvaneth Unys a Vreten Veur hag Iwerdhon Glédh}}（[[コーンウォール語]]）*{{lang|sco|Unitit Kinrick o Great Breetain an Northren Ireland}}（[[スコットランド語]]）**{{lang|sco|Claught Kängrick o Docht Brätain an Norlin Airlann}}、{{lang|sco|Unitet Kängdom o Great Brittain an Norlin Airlann}}（アルスター・スコットランド語）</ref>\n",
    "国章画像\t[[ファイル:Royal Coat of Arms of the United Kingdom.svg|85px|イギリスの国章]]\n",
    "標語\t{{lang|fr|[[Dieu et mon droit]]}}<br />（[[フランス語]]:[[Dieu et mon droit|神と我が権利]]）\n",
    "国歌\t[[女王陛下万歳|{{lang|en|God Save the Queen}}]]{{en icon}}<br />''神よ女王を護り賜え''<br />{{center|[[ファイル:United States Navy Band - God Save the Queen.ogg]]}}\n",
    "他元首等氏名1\t[[:en:Norman Fowler, Baron Fowler|ノーマン・ファウラー]]\n",
    "他元首等氏名3\t[[:en:Brenda Hale, Baroness Hale of Richmond|ブレンダ・ヘイル]]\n",
    "\"\"\""
   ]
  },
  {
   "cell_type": "code",
   "execution_count": 14,
   "metadata": {},
   "outputs": [
    {
     "name": "stdout",
     "output_type": "stream",
     "text": [
      "{{lang|en|United Kingdom of Great Britain and Northern Ireland}}<ref>英語以外での正式国名:<br />*{{lang|gd|An Rìoghachd Aonaichte na Breatainn Mhòr agus Eirinn mu Thuath}}（[[スコットランド・ゲール語]]）*{{lang|cy|Teyrnas Gyfunol Prydain Fawr a Gogledd Iwerddon}}（[[ウェールズ語]]）*{{lang|ga|Ríocht Aontaithe na Breataine Móire agus Tuaisceart na hÉireann}}（[[アイルランド語]]）*{{lang|kw|An Rywvaneth Unys a Vreten Veur hag Iwerdhon Glédh}}（[[コーンウォール語]]）*{{lang|sco|Unitit Kinrick o Great Breetain an Northren Ireland}}（[[スコットランド語]]）**{{lang|sco|Claught Kängrick o Docht Brätain an Norlin Airlann}}、{{lang|sco|Unitet Kängdom o Great Brittain an Norlin Airlann}}（アルスター・スコットランド語）</ref>\n",
      "------------------------------\n",
      "{{lang|en|United Kingdom of Great Britain and Northern Ireland}}<ref>英語以外での正式国名:<br />*{{lang|gd|An Rìoghachd Aonaichte na Breatainn Mhòr agus Eirinn mu Thuath}}（スコットランド・ゲール語）*{{lang|cy|Teyrnas Gyfunol Prydain Fawr a Gogledd Iwerddon}}（ウェールズ語）*{{lang|ga|Ríocht Aontaithe na Breataine Móire agus Tuaisceart na hÉireann}}（アイルランド語）*{{lang|kw|An Rywvaneth Unys a Vreten Veur hag Iwerdhon Glédh}}（コーンウォール語）*{{lang|sco|Unitit Kinrick o Great Breetain an Northren Ireland}}（スコットランド語）**{{lang|sco|Claught Kängrick o Docht Brätain an Norlin Airlann}}、{{lang|sco|Unitet Kängdom o Great Brittain an Norlin Airlann}}（アルスター・スコットランド語）</ref>\n",
      "\n",
      "[[ファイル:Royal Coat of Arms of the United Kingdom.svg|85px|イギリスの国章]]\n",
      "------------------------------\n",
      "Royal Coat of Arms of the United Kingdom.svg\n",
      "\n",
      "{{lang|fr|[[Dieu et mon droit]]}}<br />（[[フランス語]]:[[Dieu et mon droit|神と我が権利]]）\n",
      "------------------------------\n",
      "{{lang|fr|Dieu et mon droit}}<br />（フランス語:Dieu et mon droit）\n",
      "\n",
      "[[女王陛下万歳|{{lang|en|God Save the Queen}}]]{{en icon}}<br />''神よ女王を護り賜え''<br />{{center|[[ファイル:United States Navy Band - God Save the Queen.ogg]]}}\n",
      "------------------------------\n",
      "女王陛下万歳{{en icon}}<br />神よ女王を護り賜え<br />{{center|United States Navy Band - God Save the Queen.ogg}}\n",
      "\n",
      "[[:en:Norman Fowler, Baron Fowler|ノーマン・ファウラー]]\n",
      "------------------------------\n",
      "Norman Fowler, Baron Fowler\n",
      "\n",
      "[[:en:Brenda Hale, Baroness Hale of Richmond|ブレンダ・ヘイル]]\n",
      "------------------------------\n",
      "Brenda Hale, Baroness Hale of Richmond\n",
      "\n"
     ]
    }
   ],
   "source": [
    "# 2.4 名前に情報を追加する：何に使うpatternなのかわかるようにする\n",
    "# 6.6 コードの意図を書く\n",
    "\"\"\"\n",
    "内部リンク：[[テンプレートタグ]]\n",
    "[[テンプレートタグ|リンクテキスト]]や\n",
    "[[テンプレートタグ#節名]]はタグのみ\n",
    "[[:en:英語版のページ名]]や[[Category:MediaWiki]]も消すことにする\n",
    "\"\"\"\n",
    "\n",
    "basic_info_dict_emphasis_link = {}\n",
    "\n",
    "split_info_pattern      = r'^\\|(.*)'\n",
    "emphasis_pattern        = r\"''+\"\n",
    "interlink_pattern       = r'\\[\\[[^\\]]+\\]\\]'\n",
    "interlink_tag_pattern   = r'(?<=\\[\\[)[^|]+(?=\\|?.*\\]\\])' # r'\\[\\[([^\\]\\|]+)\\|?.*\\]\\]'\n",
    "\n",
    "lines_basic_info = re.findall(split_info_pattern, basic_info, flags=re.MULTILINE)\n",
    "for info_line in lines_basic_info:\n",
    "    field, val = info_line.split('=', 1)\n",
    "\n",
    "    # 強調マークアップの削除\n",
    "    val = re.sub(emphasis_pattern, '', val)\n",
    "    # 内部リンクの削除\n",
    "    # 二重角括弧でくくられた部分を抽出して，そこからその内容のみを取り出す\n",
    "    interlink_list = re.findall(interlink_pattern, val)\n",
    "    for old_string in interlink_list:\n",
    "        interlink = re.sub(r'[^\\[]+:', '', old_string) # ファイル名:等を除く\n",
    "        extracted_tag_list = re.findall(interlink_tag_pattern, interlink)\n",
    "        for new_string in extracted_tag_list:\n",
    "            val = val.replace(old_string, new_string)\n",
    "\n",
    "    basic_info_dict_emphasis_link[field.strip()] = val.strip()\n",
    "\n",
    "\n",
    "for field, val in basic_info_dict.items():\n",
    "    if \"[[\" in val and '|' in val and ':' in val:\n",
    "        print('{}\\n{}\\n{}\\n'.format(basic_info_dict[field],\n",
    "                                    '-'*30,\n",
    "                                    basic_info_dict_emphasis_link[field]))\n",
    "\"\"\"\n",
    "{{lang|en|United Kingdom of Great Britain and Northern Ireland}}<ref>英語以外での正式国名:<br />*{{lang|gd|An Rìoghachd Aonaichte na Breatainn Mhòr agus Eirinn mu Thuath}}（[[スコットランド・ゲール語]]）*{{lang|cy|Teyrnas Gyfunol Prydain Fawr a Gogledd Iwerddon}}（[[ウェールズ語]]）*{{lang|ga|Ríocht Aontaithe na Breataine Móire agus Tuaisceart na hÉireann}}（[[アイルランド語]]）*{{lang|kw|An Rywvaneth Unys a Vreten Veur hag Iwerdhon Glédh}}（[[コーンウォール語]]）*{{lang|sco|Unitit Kinrick o Great Breetain an Northren Ireland}}（[[スコットランド語]]）**{{lang|sco|Claught Kängrick o Docht Brätain an Norlin Airlann}}、{{lang|sco|Unitet Kängdom o Great Brittain an Norlin Airlann}}（アルスター・スコットランド語）</ref>\n",
    "------------------------------\n",
    "{{lang|en|United Kingdom of Great Britain and Northern Ireland}}<ref>英語以外での正式国名:<br />*{{lang|gd|An Rìoghachd Aonaichte na Breatainn Mhòr agus Eirinn mu Thuath}}（スコットランド・ゲール語）*{{lang|cy|Teyrnas Gyfunol Prydain Fawr a Gogledd Iwerddon}}（ウェールズ語）*{{lang|ga|Ríocht Aontaithe na Breataine Móire agus Tuaisceart na hÉireann}}（アイルランド語）*{{lang|kw|An Rywvaneth Unys a Vreten Veur hag Iwerdhon Glédh}}（コーンウォール語）*{{lang|sco|Unitit Kinrick o Great Breetain an Northren Ireland}}（スコットランド語）**{{lang|sco|Claught Kängrick o Docht Brätain an Norlin Airlann}}、{{lang|sco|Unitet Kängdom o Great Brittain an Norlin Airlann}}（アルスター・スコットランド語）</ref>\n",
    "\n",
    "[[ファイル:Royal Coat of Arms of the United Kingdom.svg|85px|イギリスの国章]]\n",
    "------------------------------\n",
    "Royal Coat of Arms of the United Kingdom.svg\n",
    "\n",
    "{{lang|fr|[[Dieu et mon droit]]}}<br />（[[フランス語]]:[[Dieu et mon droit|神と我が権利]]）\n",
    "------------------------------\n",
    "{{lang|fr|Dieu et mon droit}}<br />（フランス語:Dieu et mon droit）\n",
    "\n",
    "[[女王陛下万歳|{{lang|en|God Save the Queen}}]]{{en icon}}<br />''神よ女王を護り賜え''<br />{{center|[[ファイル:United States Navy Band - God Save the Queen.ogg]]}}\n",
    "------------------------------\n",
    "女王陛下万歳{{en icon}}<br />神よ女王を護り賜え<br />{{center|United States Navy Band - God Save the Queen.ogg}}\n",
    "\n",
    "[[:en:Norman Fowler, Baron Fowler|ノーマン・ファウラー]]\n",
    "------------------------------\n",
    "Norman Fowler, Baron Fowler\n",
    "\n",
    "[[:en:Brenda Hale, Baroness Hale of Richmond|ブレンダ・ヘイル]]\n",
    "------------------------------\n",
    "Brenda Hale, Baroness Hale of Richmond\n",
    "\"\"\""
   ]
  },
  {
   "cell_type": "code",
   "execution_count": null,
   "metadata": {},
   "outputs": [],
   "source": []
  },
  {
   "cell_type": "markdown",
   "metadata": {
    "id": "4mIktfXliJ-_"
   },
   "source": [
    "## 28"
   ]
  },
  {
   "cell_type": "markdown",
   "metadata": {},
   "source": [
    "* https://ja.wikipedia.org/wiki/Help:%E6%97%A9%E8%A6%8B%E8%A1%A8\n",
    "* https://wpdocs.osdn.jp/%E3%83%98%E3%83%AB%E3%83%97:Wiki_%E3%83%9E%E3%83%BC%E3%82%AF%E3%82%A2%E3%83%83%E3%83%97%E6%97%A9%E8%A6%8B%E8%A1%A8\n",
    "* 【保存版】正規表現でエスケープが必要な文字一覧表\n",
    "https://qiita.com/katsukii/items/1c1550f064b4686c04d4"
   ]
  },
  {
   "cell_type": "code",
   "execution_count": 18,
   "metadata": {},
   "outputs": [],
   "source": [
    "# 8.1 説明変数：複雑な正規表現のパターンは変数を定義\n",
    "# 6.6 コードの意図を書く\n",
    "# 4.7 コードを「段落」に分割する\n",
    "\n",
    "def RemoveMarkups(input_text):\n",
    "\n",
    "    processed_text = input_text.strip()\n",
    "\n",
    "    # 強調マークアップの削除\n",
    "    emphasis_pattern        = r\"''+\"\n",
    "    processed_text = re.sub(emphasis_pattern, '', processed_text)\n",
    "\n",
    "    # 内部リンクの削除\n",
    "    # 二重角括弧でくくられた部分を抽出して，そこからその内容のみを取り出す\n",
    "    interlink_pattern       = r'\\[\\[[^\\]]+\\]\\]'\n",
    "    interlink_tag_pattern   = r'(?<=\\[\\[)[^|]+(?=\\|?.*\\]\\])'\n",
    "    interlink_list = re.findall(interlink_pattern, processed_text)\n",
    "    for old_string in interlink_list:\n",
    "        interlink           = re.sub(r'[^\\[]+:', '', old_string) # ファイル名:等を除く\n",
    "        extracted_tag_list  = re.findall(interlink_tag_pattern, interlink)\n",
    "        for new_string in extracted_tag_list:\n",
    "            processed_text = processed_text.replace(old_string, new_string)\n",
    "\n",
    "    # refの削除\n",
    "    # 例：2兆4337億<ref name=\"imf-statistics-gdp\" /> => 2兆4337億\n",
    "    ref_pattern = r'<ref.+?<\\/ref>'\n",
    "    processed_text = re.sub(ref_pattern, '', processed_text)\n",
    "\n",
    "    # 桁数を揃えるための，見えない数字の0（\"{{0}}\"）を除去\n",
    "    # 例：1927年{{0}}4月12日 => 1927年4月12日\n",
    "    processed_text = re.sub(r'\\{\\{0\\}\\}', '', processed_text)\n",
    "\n",
    "    # <br />タグ（採番を崩さずに複数行書く）をスラッシュに変換\n",
    "    # 例：グレートブリテン王国成立<br />（1707年合同法）=> グレートブリテン王国成立（1707年合同法）\n",
    "    processed_text = re.sub(r'<br \\/>', '/', processed_text)\n",
    "\n",
    "    # テンプレート{{lang:...}}から内容のみ抽出\n",
    "    # 例：{{lang|fr|Dieu et mon droit}}　=> Dieu et mon droit\n",
    "    # https://ja.wikibooks.org/wiki/%E3%83%86%E3%83%B3%E3%83%97%E3%83%AC%E3%83%BC%E3%83%88:Lang\n",
    "    lang_pattern    = r'\\{\\{lang\\|.+?\\}\\}'\n",
    "    extract_pattern = r'(?<=\\{\\{).+?(?=\\}\\})'\n",
    "    lang_templates_list = re.findall(lang_pattern, processed_text)\n",
    "    for old_string in lang_templates_list:\n",
    "        lang_content    = re.search(extract_pattern, old_string).group()\n",
    "        new_string      = lang_content.split('|')[2]\n",
    "        processed_text  = processed_text.replace(old_string, new_string)\n",
    "\n",
    "    # 仮リンク{{仮リンク|...}}から日本語版項目名のみ抽出\n",
    "    # 例：{{仮リンク|リンゼイ・ホイル|en|Lindsay Hoyle}} => リンゼイ・ホイル\n",
    "    # https://ja.wikipedia.org/wiki/Template:%E4%BB%AE%E3%83%AA%E3%83%B3%E3%82%AF\n",
    "    tentative_pattern   = r'\\{\\{仮リンク\\|.+?\\}\\}'\n",
    "    extract_pattern     = r'(?<=\\{\\{仮リンク\\|)[^\\|\\}]+?(?=\\|.*\\}\\})'\n",
    "    tentative_link_list = re.findall(tentative_pattern, processed_text)\n",
    "    for old_string in tentative_link_list:\n",
    "        new_string = re.search(extract_pattern, old_string).group()\n",
    "        processed_text  = processed_text.replace(old_string, new_string)\n",
    "\n",
    "    # 言語コードを示すアイコンを除去\n",
    "    # 例：{{en icon}}\n",
    "    # https://ja.wikipedia.org/wiki/Category:%E8%A8%80%E8%AA%9E%E3%82%A2%E3%82%A4%E3%82%B3%E3%83%B3\n",
    "    icon_pattern = r'\\{\\{[a-zA-Z]{2,3} icon\\}\\}'\n",
    "    processed_text = re.sub(icon_pattern, '', processed_text)\n",
    "\n",
    "    # centerテンプレートから内容を抽出\n",
    "    # 例：{{center|United States Navy Band - God Save the Queen.ogg}} => United States Navy Band - God Save the Queen.ogg\n",
    "    # https://ja.wikisource.org/wiki/%E3%83%86%E3%83%B3%E3%83%97%E3%83%AC%E3%83%BC%E3%83%88:Center\n",
    "    center_pattern  = r'\\{\\{center\\|.+?\\}\\}'\n",
    "    extract_pattern = r'(?<=\\{\\{center\\|)[^\\|\\}]+?(?=\\}\\})'\n",
    "    center_template_list = re.findall(center_pattern, processed_text)\n",
    "    for old_string in center_template_list:\n",
    "        new_string = re.search(extract_pattern, old_string).group()\n",
    "        processed_text  = processed_text.replace(old_string, new_string)\n",
    "\n",
    "    return processed_text.strip()"
   ]
  },
  {
   "cell_type": "code",
   "execution_count": 19,
   "metadata": {},
   "outputs": [],
   "source": [
    "processed_basic_info_dict = {}\n",
    "\n",
    "split_info_pattern      = r'^\\|(.*)'\n",
    "lines_basic_info = re.findall(split_info_pattern, basic_info, flags=re.MULTILINE)\n",
    "for info_line in lines_basic_info:\n",
    "    field, val = info_line.split('=', 1)\n",
    "    val = RemoveMarkups(val)\n",
    "    processed_basic_info_dict[field.strip()] = val.strip()\n",
    "\n",
    "path = '../materials/chap3_basic_templates_processed.txt'\n",
    "with open(path, 'w', encoding='utf-8') as f:\n",
    "    for field, val in basic_info_dict.items():\n",
    "        f.write('{}\\n{}\\n\\n'.format(basic_info_dict[field], processed_basic_info_dict[field]))\n"
   ]
  },
  {
   "cell_type": "code",
   "execution_count": 20,
   "metadata": {
    "id": "0C6YZApbiPKS"
   },
   "outputs": [
    {
     "name": "stdout",
     "output_type": "stream",
     "text": [
      "略名\tイギリス\n",
      "日本語国名\tグレートブリテン及び北アイルランド連合王国\n",
      "公式国名\tUnited Kingdom of Great Britain and Northern Ireland\n",
      "国旗画像\tFlag of the United Kingdom.svg\n",
      "国章画像\tRoyal Coat of Arms of the United Kingdom.svg\n",
      "国章リンク\t（イギリスの国章）\n",
      "標語\tDieu et mon droit/（フランス語:Dieu et mon droit）\n",
      "国歌\t女王陛下万歳/神よ女王を護り賜え/United States Navy Band - God Save the Queen.ogg\n",
      "地図画像\tEurope-UK.svg\n",
      "位置画像\tUnited Kingdom (+overseas territories) in the World (+Antarctica claims).svg\n",
      "公用語\t英語\n",
      "首都\tロンドン（事実上）\n",
      "最大都市\tロンドン\n",
      "元首等肩書\tイギリスの君主\n",
      "元首等氏名\tエリザベス2世\n",
      "首相等肩書\tイギリスの首相\n",
      "首相等氏名\tボリス・ジョンソン\n",
      "他元首等肩書1\t貴族院 (イギリス)\n",
      "他元首等氏名1\tNorman Fowler, Baron Fowler\n",
      "他元首等肩書2\t庶民院 (イギリス)\n",
      "他元首等氏名2\tリンゼイ・ホイル\n",
      "他元首等肩書3\t連合王国最高裁判所\n",
      "他元首等氏名3\tBrenda Hale, Baroness Hale of Richmond\n",
      "面積順位\t76\n",
      "面積大きさ\t1 E11\n",
      "面積値\t244,820\n",
      "水面積率\t1.3%\n",
      "人口統計年\t2018\n",
      "人口順位\t22\n",
      "人口大きさ\t1 E7\n",
      "人口値\t6643万5600\n",
      "人口密度値\t271\n",
      "GDP統計年元\t2012\n",
      "GDP値元\t1兆5478億\n",
      "GDP統計年MER\t2012\n",
      "GDP順位MER\t6\n",
      "GDP値MER\t2兆4337億<ref name=\"imf-statistics-gdp\" />\n",
      "GDP統計年\t2012\n",
      "GDP順位\t6\n",
      "GDP値\t2兆3162億<ref name=\"imf-statistics-gdp\" />\n",
      "GDP/人\t36,727<ref name=\"imf-statistics-gdp\" />\n",
      "建国形態\t建国\n",
      "確立形態1\tイングランド王国／スコットランド王国/（両国とも合同法 (1707年)まで）\n",
      "確立年月日1\t927年／843年\n",
      "確立形態2\tグレートブリテン王国成立/（1707年合同法）\n",
      "確立年月日2\t1707年5月1日\n",
      "確立形態3\tグレートブリテン及びアイルランド連合王国成立/（合同法 (1800年)）\n",
      "確立年月日3\t1801年1月1日\n",
      "確立形態4\t現在の国号「グレートブリテン及び北アイルランド連合王国」に変更\n",
      "確立年月日4\t1927年4月12日\n",
      "通貨\tスターリング・ポンド (£)\n",
      "通貨コード\tGBP\n",
      "時間帯\t±0\n",
      "夏時間\t+1\n",
      "ISO 3166-1\tGB / GBR\n",
      "ccTLD\t.uk / .gb\n",
      "国際電話番号\t44\n",
      "注記\t<references/>\n"
     ]
    }
   ],
   "source": [
    "for field, val in processed_basic_info_dict.items():\n",
    "    print('{}\\t{}'.format(field, val))\n",
    "\"\"\"\n",
    "略名\tイギリス\n",
    "日本語国名\tグレートブリテン及び北アイルランド連合王国\n",
    "公式国名\tUnited Kingdom of Great Britain and Northern Ireland\n",
    "国旗画像\tFlag of the United Kingdom.svg\n",
    "国章画像\tRoyal Coat of Arms of the United Kingdom.svg\n",
    "国章リンク\t（イギリスの国章）\n",
    "標語\tDieu et mon droit/（フランス語:Dieu et mon droit）\n",
    "国歌\t女王陛下万歳/神よ女王を護り賜え/United States Navy Band - God Save the Queen.ogg\n",
    "地図画像\tEurope-UK.svg\n",
    "位置画像\tUnited Kingdom (+overseas territories) in the World (+Antarctica claims).svg\n",
    "公用語\t英語\n",
    "首都\tロンドン（事実上）\n",
    "最大都市\tロンドン\n",
    "元首等肩書\tイギリスの君主\n",
    "元首等氏名\tエリザベス2世\n",
    "首相等肩書\tイギリスの首相\n",
    "首相等氏名\tボリス・ジョンソン\n",
    "他元首等肩書1\t貴族院 (イギリス)\n",
    "他元首等氏名1\tNorman Fowler, Baron Fowler\n",
    "他元首等肩書2\t庶民院 (イギリス)\n",
    "他元首等氏名2\tリンゼイ・ホイル\n",
    "他元首等肩書3\t連合王国最高裁判所\n",
    "他元首等氏名3\tBrenda Hale, Baroness Hale of Richmond\n",
    "面積順位\t76\n",
    "面積大きさ\t1 E11\n",
    "...\n",
    "ISO 3166-1\tGB / GBR\n",
    "ccTLD\t.uk / .gb\n",
    "国際電話番号\t44\n",
    "注記\t<references/>\n",
    "\"\"\""
   ]
  },
  {
   "cell_type": "markdown",
   "metadata": {
    "id": "dr5HVvK1_t5q"
   },
   "source": [
    "## 29"
   ]
  },
  {
   "cell_type": "markdown",
   "metadata": {
    "id": "WxrWVRkNBhiw"
   },
   "source": [
    "https://www.mediawiki.org/wiki/API:Imageinfo"
   ]
  },
  {
   "cell_type": "code",
   "execution_count": 21,
   "metadata": {
    "colab": {
     "base_uri": "https://localhost:8080/"
    },
    "executionInfo": {
     "elapsed": 378,
     "status": "ok",
     "timestamp": 1644654343882,
     "user": {
      "displayName": "田中義規",
      "photoUrl": "https://lh3.googleusercontent.com/a/default-user=s64",
      "userId": "03358882541309422843"
     },
     "user_tz": -540
    },
    "id": "gMcrmvoxNKLD",
    "outputId": "66a88ec4-e5c9-4f13-8645-ac5106be9010"
   },
   "outputs": [
    {
     "name": "stdout",
     "output_type": "stream",
     "text": [
      "File:Flag of the United Kingdom.svg is uploaded by User: https://upload.wikimedia.org/wikipedia/commons/a/ae/Flag_of_the_United_Kingdom.svg\n"
     ]
    }
   ],
   "source": [
    "# 4.4 縦の線をまっすぐにする\n",
    "import requests\n",
    "import json\n",
    "\n",
    "api = 'https://www.mediawiki.org/w/api.php'\n",
    "\n",
    "image_filename = processed_basic_info_dict['国旗画像'].replace(' ', '_')\n",
    "\n",
    "PARAMS = {\n",
    "    \"action\"    : \"query\",\n",
    "    \"format\"    : \"json\",\n",
    "    \"prop\"      : \"imageinfo\",\n",
    "    \"titles\"    : \"File:\" + image_filename,\n",
    "    \"iiprop\"    : \"url\"\n",
    "}\n",
    "\n",
    "proxies = {\n",
    "    'http'  : 'http://proxy.uec.ac.jp:8080',\n",
    "    'https' : 'http://proxy.uec.ac.jp:8080',\n",
    "}\n",
    "\n",
    "S = requests.Session()\n",
    "\n",
    "R = S.get(url=api, params=PARAMS, proxies=proxies)\n",
    "DATA = R.json()\n",
    "\n",
    "PAGES = DATA[\"query\"][\"pages\"]\n",
    "\n",
    "for k, v in PAGES.items():\n",
    "    print(v[\"title\"] + \" is uploaded by User: \" + v[\"imageinfo\"][0][\"url\"])\n",
    "\n",
    "# File:Flag of the United Kingdom.svg is uploaded by User: https://upload.wikimedia.org/wikipedia/commons/a/ae/Flag_of_the_United_Kingdom.svg"
   ]
  },
  {
   "cell_type": "code",
   "execution_count": null,
   "metadata": {
    "id": "q1mNKOKt_rnd"
   },
   "outputs": [],
   "source": []
  }
 ],
 "metadata": {
  "colab": {
   "authorship_tag": "ABX9TyM2uqAtem1HxdQHQh8F5aEd",
   "collapsed_sections": [],
   "name": "20-29_20220204.ipynb",
   "provenance": []
  },
  "interpreter": {
   "hash": "82ed002fa2d4956f5c6aec99bcefe0f73a9f79882f3c9e2319b14958a5896ac5"
  },
  "kernelspec": {
   "display_name": "Python 3.9.10 64-bit",
   "language": "python",
   "name": "python3"
  },
  "language_info": {
   "codemirror_mode": {
    "name": "ipython",
    "version": 3
   },
   "file_extension": ".py",
   "mimetype": "text/x-python",
   "name": "python",
   "nbconvert_exporter": "python",
   "pygments_lexer": "ipython3",
   "version": "3.9.10"
  }
 },
 "nbformat": 4,
 "nbformat_minor": 4
}
