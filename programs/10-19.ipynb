{
 "cells": [
  {
   "cell_type": "markdown",
   "metadata": {},
   "source": [
    "データ: https://nlp100.github.io/data/popular-names.txt"
   ]
  },
  {
   "cell_type": "code",
   "execution_count": 23,
   "metadata": {
    "colab": {
     "base_uri": "https://localhost:8080/",
     "height": 423
    },
    "executionInfo": {
     "elapsed": 10,
     "status": "ok",
     "timestamp": 1644385240497,
     "user": {
      "displayName": "田中義規",
      "photoUrl": "https://lh3.googleusercontent.com/a/default-user=s64",
      "userId": "03358882541309422843"
     },
     "user_tz": -540
    },
    "id": "5z6lZXKwSMIk",
    "outputId": "976af3d2-b74b-4797-db29-16a7be0ed316"
   },
   "outputs": [
    {
     "data": {
      "text/html": [
       "<div>\n",
       "<style scoped>\n",
       "    .dataframe tbody tr th:only-of-type {\n",
       "        vertical-align: middle;\n",
       "    }\n",
       "\n",
       "    .dataframe tbody tr th {\n",
       "        vertical-align: top;\n",
       "    }\n",
       "\n",
       "    .dataframe thead th {\n",
       "        text-align: right;\n",
       "    }\n",
       "</style>\n",
       "<table border=\"1\" class=\"dataframe\">\n",
       "  <thead>\n",
       "    <tr style=\"text-align: right;\">\n",
       "      <th></th>\n",
       "      <th>name</th>\n",
       "      <th>sex</th>\n",
       "      <th>number</th>\n",
       "      <th>year</th>\n",
       "    </tr>\n",
       "  </thead>\n",
       "  <tbody>\n",
       "    <tr>\n",
       "      <th>0</th>\n",
       "      <td>Mary</td>\n",
       "      <td>F</td>\n",
       "      <td>7065</td>\n",
       "      <td>1880</td>\n",
       "    </tr>\n",
       "    <tr>\n",
       "      <th>1</th>\n",
       "      <td>Anna</td>\n",
       "      <td>F</td>\n",
       "      <td>2604</td>\n",
       "      <td>1880</td>\n",
       "    </tr>\n",
       "    <tr>\n",
       "      <th>2</th>\n",
       "      <td>Emma</td>\n",
       "      <td>F</td>\n",
       "      <td>2003</td>\n",
       "      <td>1880</td>\n",
       "    </tr>\n",
       "    <tr>\n",
       "      <th>3</th>\n",
       "      <td>Elizabeth</td>\n",
       "      <td>F</td>\n",
       "      <td>1939</td>\n",
       "      <td>1880</td>\n",
       "    </tr>\n",
       "    <tr>\n",
       "      <th>4</th>\n",
       "      <td>Minnie</td>\n",
       "      <td>F</td>\n",
       "      <td>1746</td>\n",
       "      <td>1880</td>\n",
       "    </tr>\n",
       "  </tbody>\n",
       "</table>\n",
       "</div>"
      ],
      "text/plain": [
       "        name sex  number  year\n",
       "0       Mary   F    7065  1880\n",
       "1       Anna   F    2604  1880\n",
       "2       Emma   F    2003  1880\n",
       "3  Elizabeth   F    1939  1880\n",
       "4     Minnie   F    1746  1880"
      ]
     },
     "metadata": {},
     "output_type": "display_data"
    },
    {
     "name": "stdout",
     "output_type": "stream",
     "text": [
      "(2780, 4)\n"
     ]
    }
   ],
   "source": [
    "import pandas as pd\n",
    "\n",
    "df = pd.read_table('../data/popular-names.txt', header=None, sep='\\t', names=['name', 'sex', 'number', 'year'])\n",
    "display(df.head())\n",
    "print(df.shape)"
   ]
  },
  {
   "cell_type": "code",
   "execution_count": 24,
   "metadata": {},
   "outputs": [],
   "source": [
    "def PrintHeadLines(filenames, n=5):\n",
    "    f = open(filenames, 'r')\n",
    "    line = f.readline()\n",
    "    for i in range(n):\n",
    "        print(line.strip())\n",
    "        line = f.readline()\n",
    "    f.close()"
   ]
  },
  {
   "cell_type": "markdown",
   "metadata": {
    "id": "tr5je7wCTPU2"
   },
   "source": [
    "## 10"
   ]
  },
  {
   "cell_type": "code",
   "execution_count": 25,
   "metadata": {},
   "outputs": [
    {
     "name": "stdout",
     "output_type": "stream",
     "text": [
      "2780\n"
     ]
    }
   ],
   "source": [
    "# 8.1 説明変数：openの引数に直接書かずにfilenameを一度宣言する\n",
    "path = '../materials/popular-names.txt'\n",
    "with open(path, 'r') as f:\n",
    "    lines = f.read().strip().split('\\n')\n",
    "print(len(lines)) # 2780\n",
    "# 確認：wc -l ./popular-names.txt\n",
    "# wcコマンド　行数，単語数，バイト数を表示する．-lオプションで行数のみ"
   ]
  },
  {
   "cell_type": "code",
   "execution_count": 26,
   "metadata": {},
   "outputs": [
    {
     "name": "stdout",
     "output_type": "stream",
     "text": [
      "Mary F 7065 1880\n",
      "Anna F 2604 1880\n",
      "Emma F 2003 1880\n",
      "Elizabeth F 1939 1880\n",
      "Minnie F 1746 1880\n"
     ]
    },
    {
     "data": {
      "text/plain": [
       "'\\nMary\\tF\\t7065\\t1880\\nAnna\\tF\\t2604\\t1880\\nEmma\\tF\\t2003\\t1880\\nElizabeth\\tF\\t1939\\t1880\\nMinnie\\tF\\t1746\\t1880\\n'"
      ]
     },
     "execution_count": 26,
     "metadata": {},
     "output_type": "execute_result"
    }
   ],
   "source": [
    "PrintHeadLines(filenames='../materials/popular-names.txt')\n",
    "\"\"\"\n",
    "Mary\tF\t7065\t1880\n",
    "Anna\tF\t2604\t1880\n",
    "Emma\tF\t2003\t1880\n",
    "Elizabeth\tF\t1939\t1880\n",
    "Minnie\tF\t1746\t1880\n",
    "\"\"\""
   ]
  },
  {
   "cell_type": "markdown",
   "metadata": {
    "id": "7eE1c9RAUsoi"
   },
   "source": [
    "## 11"
   ]
  },
  {
   "cell_type": "code",
   "execution_count": 27,
   "metadata": {},
   "outputs": [
    {
     "name": "stdout",
     "output_type": "stream",
     "text": [
      "Mary F 7065 1880\n",
      "Anna F 2604 1880\n",
      "Emma F 2003 1880\n",
      "Elizabeth F 1939 1880\n",
      "Minnie F 1746 1880\n"
     ]
    },
    {
     "data": {
      "text/plain": [
       "'\\nMary F 7065 1880\\nAnna F 2604 1880\\nEmma F 2003 1880\\nElizabeth F 1939 1880\\nMinnie F 1746 1880\\n'"
      ]
     },
     "execution_count": 27,
     "metadata": {},
     "output_type": "execute_result"
    }
   ],
   "source": [
    "# 11章：1度に1つのことを：1行ずつ読み込んで別ファイルに書き込むのではなく，\n",
    "# 一度すべて読み込んでからファイルに書き込む\n",
    "path = '../materials/popular-names.txt'\n",
    "with open(path, 'r') as f:\n",
    "    lines = f.read().strip().split('\\n')\n",
    "\n",
    "f = open(path, 'w')\n",
    "for line in lines:\n",
    "    line = line.replace('\\t', ' ')\n",
    "    f.write(line + '\\n')\n",
    "f.close()\n",
    "PrintHeadLines(path)\n",
    "\"\"\"\n",
    "Mary F 7065 1880\n",
    "Anna F 2604 1880\n",
    "Emma F 2003 1880\n",
    "Elizabeth F 1939 1880\n",
    "Minnie F 1746 1880\n",
    "\"\"\"\n",
    "# 確認：sed -i 's/\\t/ /g' ./popular-names.txt\n",
    "# sedコマンド：削除，置換　\n",
    "# s/置換対象の文字列/置換する文字列/g\n",
    "# sコマンド > 正規表現で置換　gフラグ > すべての文字列を置換\n",
    "# -i ファイルを直接編集"
   ]
  },
  {
   "cell_type": "code",
   "execution_count": null,
   "metadata": {
    "executionInfo": {
     "elapsed": 3,
     "status": "ok",
     "timestamp": 1644385241397,
     "user": {
      "displayName": "田中義規",
      "photoUrl": "https://lh3.googleusercontent.com/a/default-user=s64",
      "userId": "03358882541309422843"
     },
     "user_tz": -540
    },
    "id": "77m3cedaUA1W"
   },
   "outputs": [],
   "source": []
  },
  {
   "cell_type": "markdown",
   "metadata": {
    "id": "vIPhLWX0U1FC"
   },
   "source": [
    "## 12"
   ]
  },
  {
   "cell_type": "code",
   "execution_count": 28,
   "metadata": {
    "executionInfo": {
     "elapsed": 2,
     "status": "ok",
     "timestamp": 1644385244476,
     "user": {
      "displayName": "田中義規",
      "photoUrl": "https://lh3.googleusercontent.com/a/default-user=s64",
      "userId": "03358882541309422843"
     },
     "user_tz": -540
    },
    "id": "l8Oq8dXIUA39"
   },
   "outputs": [],
   "source": [
    "# 4.7 コードを段落に分割する\n",
    "# ファイルを開く，書き込む，閉じるでそれぞれ段落を作っている\n",
    "\n",
    "f = open('../materials/popular-names.txt', 'r')\n",
    "f1 = open('../materials/col1.txt', 'w')\n",
    "f2 = open('../materials/col2.txt', 'w')\n",
    "\n",
    "line = f.readline()\n",
    "while line:\n",
    "    splitted = line.split(' ')\n",
    "    f1.write(splitted[0] + '\\n')\n",
    "    f2.write(splitted[1] + '\\n')\n",
    "    line = f.readline()\n",
    "    \n",
    "f.close()\n",
    "f1.close()\n",
    "f2.close()"
   ]
  },
  {
   "cell_type": "code",
   "execution_count": 29,
   "metadata": {
    "colab": {
     "base_uri": "https://localhost:8080/"
    },
    "executionInfo": {
     "elapsed": 8,
     "status": "ok",
     "timestamp": 1644385245400,
     "user": {
      "displayName": "田中義規",
      "photoUrl": "https://lh3.googleusercontent.com/a/default-user=s64",
      "userId": "03358882541309422843"
     },
     "user_tz": -540
    },
    "id": "8W-ay5_-mCa8",
    "outputId": "b868dce1-d015-4979-8508-74ac2b1101e1"
   },
   "outputs": [
    {
     "name": "stdout",
     "output_type": "stream",
     "text": [
      "Mary\n",
      "Anna\n",
      "Emma\n",
      "Elizabeth\n",
      "Minnie\n"
     ]
    },
    {
     "data": {
      "text/plain": [
       "'\\nMary\\nAnna\\nEmma\\nElizabeth\\nMinnie\\n'"
      ]
     },
     "execution_count": 29,
     "metadata": {},
     "output_type": "execute_result"
    }
   ],
   "source": [
    "PrintHeadLines('../materials/col1.txt')\n",
    "\"\"\"\n",
    "Mary\n",
    "Anna\n",
    "Emma\n",
    "Elizabeth\n",
    "Minnie\n",
    "\"\"\"\n",
    "# 確認：cut -d ' ' -f 1 ./popular-names.txt > ./col1.txt\n",
    "# cutコマンド：入力の一部を切り出す\n",
    "# -d 区切り文字\n",
    "# -f 出力番号（1と指定すれば区切った文字列の1つ目）\n",
    "# > 出力先"
   ]
  },
  {
   "cell_type": "code",
   "execution_count": 30,
   "metadata": {},
   "outputs": [
    {
     "name": "stdout",
     "output_type": "stream",
     "text": [
      "F\n",
      "F\n",
      "F\n",
      "F\n",
      "F\n"
     ]
    },
    {
     "data": {
      "text/plain": [
       "'\\nF\\nF\\nF\\nF\\nF\\n'"
      ]
     },
     "execution_count": 30,
     "metadata": {},
     "output_type": "execute_result"
    }
   ],
   "source": [
    "PrintHeadLines('../materials/col2.txt')\n",
    "\"\"\"\n",
    "F\n",
    "F\n",
    "F\n",
    "F\n",
    "F\n",
    "\"\"\"\n",
    "# 確認：cut -d ' ' -f 2 ./popular-names.txt > ./col2.txt"
   ]
  },
  {
   "cell_type": "code",
   "execution_count": null,
   "metadata": {
    "executionInfo": {
     "elapsed": 2,
     "status": "ok",
     "timestamp": 1644385245704,
     "user": {
      "displayName": "田中義規",
      "photoUrl": "https://lh3.googleusercontent.com/a/default-user=s64",
      "userId": "03358882541309422843"
     },
     "user_tz": -540
    },
    "id": "4hbNKV63VtgK"
   },
   "outputs": [],
   "source": []
  },
  {
   "cell_type": "markdown",
   "metadata": {
    "id": "xd1HJt8eLOGX"
   },
   "source": [
    "## 13"
   ]
  },
  {
   "cell_type": "code",
   "execution_count": 31,
   "metadata": {
    "executionInfo": {
     "elapsed": 3,
     "status": "ok",
     "timestamp": 1644385246000,
     "user": {
      "displayName": "田中義規",
      "photoUrl": "https://lh3.googleusercontent.com/a/default-user=s64",
      "userId": "03358882541309422843"
     },
     "user_tz": -540
    },
    "id": "_Va5ZyD4Vu3H"
   },
   "outputs": [
    {
     "name": "stdout",
     "output_type": "stream",
     "text": [
      "Mary\tF\n",
      "Anna\tF\n",
      "Emma\tF\n",
      "Elizabeth\tF\n",
      "Minnie\tF\n"
     ]
    },
    {
     "data": {
      "text/plain": [
       "'\\nMary\\tF\\nAnna\\tF\\nEmma\\tF\\nElizabeth\\tF\\nMinnie\\tF\\n'"
      ]
     },
     "execution_count": 31,
     "metadata": {},
     "output_type": "execute_result"
    }
   ],
   "source": [
    "# 4.7 コードを段落に分割する\n",
    "# ファイルを開く，書き込む，閉じるでそれぞれ段落を作っている\n",
    "\n",
    "f = open('../materials/merge.txt', 'w')\n",
    "f1 = open('../materials/col1.txt', 'r')\n",
    "f2 = open('../materials/col2.txt', 'r')\n",
    "\n",
    "line1 = f1.readline().strip()\n",
    "line2 = f2.readline().strip()\n",
    "while line1 and line2:\n",
    "    f.write(line1 + '\\t' + line2 + '\\n')\n",
    "    line1 = f1.readline().strip()\n",
    "    line2 = f2.readline().strip()\n",
    "\n",
    "f.close()\n",
    "f1.close()\n",
    "f2.close()\n",
    "PrintHeadLines('../materials/merge.txt')\n",
    "\"\"\"\n",
    "Mary\tF\n",
    "Anna\tF\n",
    "Emma\tF\n",
    "Elizabeth\tF\n",
    "Minnie\tF\n",
    "\"\"\"\n",
    "# 確認：paste -d '\\t' col1.txt col2.txt > merge.txt\n",
    "# pasteコマンド：ファイルを行単位で連結\n",
    "# -d 区切り文字"
   ]
  },
  {
   "cell_type": "code",
   "execution_count": null,
   "metadata": {
    "executionInfo": {
     "elapsed": 4,
     "status": "ok",
     "timestamp": 1644385248250,
     "user": {
      "displayName": "田中義規",
      "photoUrl": "https://lh3.googleusercontent.com/a/default-user=s64",
      "userId": "03358882541309422843"
     },
     "user_tz": -540
    },
    "id": "ohglEiuzVu55"
   },
   "outputs": [],
   "source": []
  },
  {
   "cell_type": "markdown",
   "metadata": {
    "id": "ohBwkxZvWm6p"
   },
   "source": [
    "## 14"
   ]
  },
  {
   "cell_type": "code",
   "execution_count": 32,
   "metadata": {
    "colab": {
     "base_uri": "https://localhost:8080/"
    },
    "executionInfo": {
     "elapsed": 2107,
     "status": "ok",
     "timestamp": 1644385250785,
     "user": {
      "displayName": "田中義規",
      "photoUrl": "https://lh3.googleusercontent.com/a/default-user=s64",
      "userId": "03358882541309422843"
     },
     "user_tz": -540
    },
    "id": "S8Fyp2rtWlfi",
    "outputId": "49f407a3-fd25-4846-add4-0e109aaeee37"
   },
   "outputs": [
    {
     "name": "stdin",
     "output_type": "stream",
     "text": [
      "Number of Lines:  10\n"
     ]
    },
    {
     "name": "stdout",
     "output_type": "stream",
     "text": [
      "Mary F 7065 1880\n",
      "Anna F 2604 1880\n",
      "Emma F 2003 1880\n",
      "Elizabeth F 1939 1880\n",
      "Minnie F 1746 1880\n",
      "Margaret F 1578 1880\n",
      "Ida F 1472 1880\n",
      "Alice F 1414 1880\n",
      "Bertha F 1320 1880\n",
      "Sarah F 1288 1880\n"
     ]
    },
    {
     "data": {
      "text/plain": [
       "'\\nNumber of Lines:  10\\nMary F 7065 1880\\nAnna F 2604 1880\\nEmma F 2003 1880\\nElizabeth F 1939 1880\\nMinnie F 1746 1880\\nMargaret F 1578 1880\\nIda F 1472 1880\\nAlice F 1414 1880\\nBertha F 1320 1880\\nSarah F 1288 1880\\n'"
      ]
     },
     "execution_count": 32,
     "metadata": {},
     "output_type": "execute_result"
    }
   ],
   "source": [
    "# 5.2 自分の考えを記録する\n",
    "n = int(input('Number of Lines: ')) # FIXME: 数値以外を入力された場合にエラー\n",
    "PrintHeadLines('../materials/popular-names.txt', n=n)\n",
    "\"\"\"\n",
    "Number of Lines:  10\n",
    "Mary F 7065 1880\n",
    "Anna F 2604 1880\n",
    "Emma F 2003 1880\n",
    "Elizabeth F 1939 1880\n",
    "Minnie F 1746 1880\n",
    "Margaret F 1578 1880\n",
    "Ida F 1472 1880\n",
    "Alice F 1414 1880\n",
    "Bertha F 1320 1880\n",
    "Sarah F 1288 1880\n",
    "\"\"\"\n",
    "# 確認：head -n 10 popular-names.txt"
   ]
  },
  {
   "cell_type": "code",
   "execution_count": null,
   "metadata": {
    "executionInfo": {
     "elapsed": 5,
     "status": "ok",
     "timestamp": 1644385251115,
     "user": {
      "displayName": "田中義規",
      "photoUrl": "https://lh3.googleusercontent.com/a/default-user=s64",
      "userId": "03358882541309422843"
     },
     "user_tz": -540
    },
    "id": "lt17uqO2WllU"
   },
   "outputs": [],
   "source": []
  },
  {
   "cell_type": "markdown",
   "metadata": {
    "id": "UrcNa8aHYp_j"
   },
   "source": [
    "## 15"
   ]
  },
  {
   "cell_type": "code",
   "execution_count": 33,
   "metadata": {},
   "outputs": [
    {
     "name": "stdin",
     "output_type": "stream",
     "text": [
      "Number of Lines:  10\n"
     ]
    },
    {
     "name": "stdout",
     "output_type": "stream",
     "text": [
      "Liam M 19837 2018\n",
      "Noah M 18267 2018\n",
      "William M 14516 2018\n",
      "James M 13525 2018\n",
      "Oliver M 13389 2018\n",
      "Benjamin M 13381 2018\n",
      "Elijah M 12886 2018\n",
      "Lucas M 12585 2018\n",
      "Mason M 12435 2018\n",
      "Logan M 12352 2018\n"
     ]
    },
    {
     "data": {
      "text/plain": [
       "'\\nNumber of Lines:  10\\nLiam M 19837 2018\\nNoah M 18267 2018\\nWilliam M 14516 2018\\nJames M 13525 2018\\nOliver M 13389 2018\\nBenjamin M 13381 2018\\nElijah M 12886 2018\\nLucas M 12585 2018\\nMason M 12435 2018\\nLogan M 12352 2018\\n'"
      ]
     },
     "execution_count": 33,
     "metadata": {},
     "output_type": "execute_result"
    }
   ],
   "source": [
    "# 5.2 自分の考えを記録する\n",
    "n = int(input('Number of Lines: ')) # FIXME: 数値以外を入力された場合にエラー\n",
    "with open('../materials/popular-names.txt', 'r') as f:\n",
    "    lines = f.read().strip().split('\\n')\n",
    "\n",
    "for line in lines[int((-1) * n):]:\n",
    "    print(line)\n",
    "\"\"\"\n",
    "Number of Lines:  10\n",
    "Liam M 19837 2018\n",
    "Noah M 18267 2018\n",
    "William M 14516 2018\n",
    "James M 13525 2018\n",
    "Oliver M 13389 2018\n",
    "Benjamin M 13381 2018\n",
    "Elijah M 12886 2018\n",
    "Lucas M 12585 2018\n",
    "Mason M 12435 2018\n",
    "Logan M 12352 2018\n",
    "\"\"\"\n",
    "# 確認：tail -n 10 popular-names.txt"
   ]
  },
  {
   "cell_type": "code",
   "execution_count": null,
   "metadata": {
    "executionInfo": {
     "elapsed": 2,
     "status": "ok",
     "timestamp": 1644385258878,
     "user": {
      "displayName": "田中義規",
      "photoUrl": "https://lh3.googleusercontent.com/a/default-user=s64",
      "userId": "03358882541309422843"
     },
     "user_tz": -540
    },
    "id": "crCqFovaVu80"
   },
   "outputs": [],
   "source": []
  },
  {
   "cell_type": "markdown",
   "metadata": {
    "id": "HqRS7_6saeTd"
   },
   "source": [
    "## 16"
   ]
  },
  {
   "cell_type": "code",
   "execution_count": 34,
   "metadata": {
    "colab": {
     "base_uri": "https://localhost:8080/"
    },
    "executionInfo": {
     "elapsed": 1825,
     "status": "ok",
     "timestamp": 1644385261444,
     "user": {
      "displayName": "田中義規",
      "photoUrl": "https://lh3.googleusercontent.com/a/default-user=s64",
      "userId": "03358882541309422843"
     },
     "user_tz": -540
    },
    "id": "IVhgSbaRadiI",
    "outputId": "b25859f7-218e-4dd8-9bba-09b3bc79de00"
   },
   "outputs": [
    {
     "name": "stdin",
     "output_type": "stream",
     "text": [
      "Number of divisions:  10\n"
     ]
    }
   ],
   "source": [
    "path = '../materials/popular-names.txt'\n",
    "with open(path, 'r') as f:\n",
    "    lines = f.read().strip().split('\\n')\n",
    "num_all_lines = len(lines)\n",
    "\n",
    "num_splits = int(input('Number of divisions: '))\n",
    "num_lines = num_all_lines // n\n",
    "for file_number in range(num_splits):\n",
    "    # 8.1 説明変数：openの引数に直接書かずにfilenameを一度宣言する\n",
    "    filename = '../materials/div{:04}.txt'.format(file_number)\n",
    "    fo = open(filename, 'w')\n",
    "    idx_begin = file_number * num_lines\n",
    "    for line in lines[idx_begin : idx_begin + num_lines]:\n",
    "        fo.write(line + '\\n')\n",
    "    fo.close()"
   ]
  },
  {
   "cell_type": "code",
   "execution_count": 35,
   "metadata": {
    "colab": {
     "base_uri": "https://localhost:8080/"
    },
    "executionInfo": {
     "elapsed": 341,
     "status": "ok",
     "timestamp": 1644385262684,
     "user": {
      "displayName": "田中義規",
      "photoUrl": "https://lh3.googleusercontent.com/a/default-user=s64",
      "userId": "03358882541309422843"
     },
     "user_tz": -540
    },
    "id": "q78XACQZadqS",
    "outputId": "2ae4a6e1-1565-4f6f-b7a2-ec1e79f5309a"
   },
   "outputs": [
    {
     "name": "stdout",
     "output_type": "stream",
     "text": [
      "278\t../materials/div0000.txt\n",
      "278\t../materials/div0001.txt\n",
      "278\t../materials/div0002.txt\n",
      "278\t../materials/div0003.txt\n",
      "278\t../materials/div0004.txt\n",
      "278\t../materials/div0005.txt\n",
      "278\t../materials/div0006.txt\n",
      "278\t../materials/div0007.txt\n",
      "278\t../materials/div0008.txt\n",
      "278\t../materials/div0009.txt\n"
     ]
    },
    {
     "data": {
      "text/plain": [
       "\"\\n確認\\nnum_lines=`echo ${val}|cat popular-names.txt | wc -l`\\nsize=$((num_lines/10))\\nsplit -d -l ${size} --additional-suffix='.txt' ./popular-names.txt 'div'\\n\""
      ]
     },
     "execution_count": 35,
     "metadata": {},
     "output_type": "execute_result"
    }
   ],
   "source": [
    "for file_number in range(num_splits):\n",
    "    filename = '../materials/div{:04}.txt'.format(file_number)\n",
    "    with open(filename, 'r') as f:\n",
    "        lines = f.read().strip().split('\\n')\n",
    "    print('{}\\t{}'.format(len(lines), filename))\n",
    "\n",
    "\"\"\"\n",
    "278\t../materials/div0000.txt\n",
    "278\t../materials/div0001.txt\n",
    "278\t../materials/div0002.txt\n",
    "278\t../materials/div0003.txt\n",
    "278\t../materials/div0004.txt\n",
    "278\t../materials/div0005.txt\n",
    "278\t../materials/div0006.txt\n",
    "278\t../materials/div0007.txt\n",
    "278\t../materials/div0008.txt\n",
    "278\t../materials/div0009.txt\n",
    "\"\"\"\n",
    "\n",
    "\"\"\"\n",
    "確認\n",
    "num_lines=$(cat popular-names.txt | wc -l)\n",
    "size=$((num_lines/10))\n",
    "split -d -l ${size} --additional-suffix='.txt' ./popular-names.txt 'div'\n",
    "\"\"\"\n",
    "# splitコマンド：ファイルの分割\n",
    "# -d 接尾辞が数字になる（0000, 0001, ...）\n",
    "# -l 行数\n",
    "# --additional-suffix ファイル名の後ろにつける文字列\n",
    "# 入力ファイル，接頭辞\n",
    "# catコマンド：ファイルの内容を表示"
   ]
  },
  {
   "cell_type": "code",
   "execution_count": null,
   "metadata": {
    "executionInfo": {
     "elapsed": 2,
     "status": "ok",
     "timestamp": 1644385265848,
     "user": {
      "displayName": "田中義規",
      "photoUrl": "https://lh3.googleusercontent.com/a/default-user=s64",
      "userId": "03358882541309422843"
     },
     "user_tz": -540
    },
    "id": "LpRdC0hckvwk"
   },
   "outputs": [],
   "source": []
  },
  {
   "cell_type": "markdown",
   "metadata": {
    "id": "NgU7RPu0lim6"
   },
   "source": [
    "## 17"
   ]
  },
  {
   "cell_type": "code",
   "execution_count": 36,
   "metadata": {
    "colab": {
     "base_uri": "https://localhost:8080/"
    },
    "executionInfo": {
     "elapsed": 7,
     "status": "ok",
     "timestamp": 1644385266119,
     "user": {
      "displayName": "田中義規",
      "photoUrl": "https://lh3.googleusercontent.com/a/default-user=s64",
      "userId": "03358882541309422843"
     },
     "user_tz": -540
    },
    "id": "V_3WTtBflhPM",
    "outputId": "a28211dc-b1b6-40f6-b586-3bd21087b8d5"
   },
   "outputs": [
    {
     "name": "stdout",
     "output_type": "stream",
     "text": [
      "136\n",
      "['Abigail', 'Aiden', 'Alexander', 'Alexis', 'Alice', 'Amanda', 'Amelia', 'Amy', 'Andrew', 'Angela']\n"
     ]
    },
    {
     "data": {
      "text/plain": [
       "\"\\n確認：\\ncut -d ' ' -f 1 ./popular-names.txt > ./col1_uniq.txt\\nsort -u ./col1_uniq.txt -o ./col1_uniq.txt\\nuniq ./col1_uniq.txt\\n\""
      ]
     },
     "execution_count": 36,
     "metadata": {},
     "output_type": "execute_result"
    }
   ],
   "source": [
    "# 8.1 説明変数：openの引数に直接書かずにfilenameを一度宣言する\n",
    "path = '../materials/popular-names.txt'\n",
    "with open(path, 'r') as f:\n",
    "    lines = f.read().strip().split('\\n')\n",
    "names = [line.split()[0] for line in lines]\n",
    "uniq_names = list(set(names))\n",
    "uniq_names.sort()\n",
    "print(len(uniq_names)) # 136\n",
    "print(uniq_names[:10]) # ['Abigail', 'Aiden', 'Alexander', 'Alexis', 'Alice', 'Amanda', 'Amelia', 'Amy', 'Andrew', 'Angela']\n",
    "\"\"\"\n",
    "確認：\n",
    "cut -d ' ' -f 1 ./popular-names.txt > ./col1_uniq.txt\n",
    "sort ./col1_uniq.txt -o ./col1_uniq.txt\n",
    "uniq ./col1_uniq.txt\n",
    "\"\"\"\n",
    "# sortコマンド：行の並び替え\n",
    "# uniqコマンド：重複行の除去"
   ]
  },
  {
   "cell_type": "code",
   "execution_count": null,
   "metadata": {
    "id": "f2E--7TRlhcV"
   },
   "outputs": [],
   "source": []
  },
  {
   "cell_type": "markdown",
   "metadata": {
    "id": "LO_yQgkX5YbS"
   },
   "source": [
    "## 18"
   ]
  },
  {
   "cell_type": "code",
   "execution_count": 37,
   "metadata": {
    "executionInfo": {
     "elapsed": 340,
     "status": "ok",
     "timestamp": 1644385273588,
     "user": {
      "displayName": "田中義規",
      "photoUrl": "https://lh3.googleusercontent.com/a/default-user=s64",
      "userId": "03358882541309422843"
     },
     "user_tz": -540
    },
    "id": "X4myEJ40lhfD"
   },
   "outputs": [
    {
     "name": "stdout",
     "output_type": "stream",
     "text": [
      "Linda F 99689 1947\n",
      "Linda F 96211 1948\n",
      "James M 94757 1947\n",
      "Michael M 92704 1957\n",
      "Robert M 91640 1947\n"
     ]
    },
    {
     "data": {
      "text/plain": [
       "'\\nLinda F 99689 1947\\nLinda F 96211 1948\\nJames M 94757 1947\\nMichael M 92704 1957\\nRobert M 91640 1947\\n'"
      ]
     },
     "execution_count": 37,
     "metadata": {},
     "output_type": "execute_result"
    }
   ],
   "source": [
    "# 8.1 説明変数：openの引数に直接書かずにfilenameを一度宣言する\n",
    "# 2.4 名前に情報を追加：拡張子，in/out\n",
    "txt_input_path = '../materials/popular-names.txt' # スペース区切り\n",
    "csv_output_path = '../materials/popular-names.csv'\n",
    "fi = open(txt_path, 'r')\n",
    "fo = open(csv_path, 'w')\n",
    "line = fi.readline()\n",
    "while line:\n",
    "    splitted = line.strip().split()\n",
    "    fo.write(','.join(splitted) + '\\n')\n",
    "    line = fi.readline()\n",
    "fi.close()\n",
    "fo.close()\n",
    "\n",
    "df = pd.read_csv('../materials/popular-names.csv', names=['name', 'sex', 'number', 'year'])\n",
    "df_sorted = df.sort_values('number', ascending=False) # 3カラム目のnumberでsort\n",
    "output_path = '../materials/sorted_data.txt'\n",
    "f = open(output_path, 'w')\n",
    "for row in df_sorted.to_numpy().astype('str'):\n",
    "    f.write(' '.join(row) + '\\n')\n",
    "f.close()\n",
    "PrintHeadLines('../materials/sorted_data.txt')\n",
    "\"\"\"\n",
    "Linda F 99689 1947\n",
    "Linda F 96211 1948\n",
    "James M 94757 1947\n",
    "Michael M 92704 1957\n",
    "Robert M 91640 1947\n",
    "\"\"\"\n",
    "# 確認：sort -g -r -t ' ' -k3 ./popular-names.txt\n",
    "# -g 文字列ではなく数値とみてソートする\n",
    "# -r 逆順\n",
    "# -t 区切り文字（空白文字がデフォルト）\n",
    "# -k3 3列目をsort"
   ]
  },
  {
   "cell_type": "code",
   "execution_count": null,
   "metadata": {
    "id": "8lrHSjya--J4"
   },
   "outputs": [],
   "source": []
  },
  {
   "cell_type": "markdown",
   "metadata": {
    "id": "M19MWVYfA62s"
   },
   "source": [
    "## 19"
   ]
  },
  {
   "cell_type": "code",
   "execution_count": 38,
   "metadata": {},
   "outputs": [
    {
     "name": "stdout",
     "output_type": "stream",
     "text": [
      "James 118\n",
      "William 111\n",
      "Robert 108\n",
      "John 108\n",
      "Mary 92\n",
      "Charles 75\n",
      "Michael 74\n",
      "Elizabeth 73\n",
      "Joseph 70\n",
      "Margaret 60\n"
     ]
    },
    {
     "data": {
      "text/plain": [
       "\"\\n確認：\\ncut -d ' ' -f 1 ./popular-names.txt > ./col1_uniq.txt\\nsort ./col1_uniq.txt | uniq -c | sort -nr\\n\""
      ]
     },
     "execution_count": 38,
     "metadata": {},
     "output_type": "execute_result"
    }
   ],
   "source": [
    "# 8.1 説明変数：openの引数に直接書かずにfilenameを一度宣言する\n",
    "# 2.4 名前に情報を追加：\n",
    "df = pd.read_csv('../materials/popular-names.csv', names=['name', 'sex', 'number', 'year'])\n",
    "df_count = df[['name', 'year']].groupby('name').count()\n",
    "df_count_sorted = df_count.rename(columns = {'year': 'count'}).sort_values('count', ascending=False)\n",
    "names, counts = list(df_count_sorted.index), df_count_sorted.to_numpy().flatten().tolist()\n",
    "\n",
    "num_print = 10\n",
    "for name, count in zip(names[:num_print], counts[:num_print]):\n",
    "    print(name, count)\n",
    "    \n",
    "\"\"\"\n",
    "James 118\n",
    "William 111\n",
    "Robert 108\n",
    "John 108\n",
    "Mary 92\n",
    "Charles 75\n",
    "Michael 74\n",
    "Elizabeth 73\n",
    "Joseph 70\n",
    "Margaret 60\n",
    "\"\"\"\n",
    "\n",
    "\"\"\"\n",
    "確認：\n",
    "cut -d ' ' -f 1 ./popular-names.txt > ./col1_uniq.txt\n",
    "sort ./col1_uniq.txt | uniq -c | sort -nr\n",
    "\"\"\"\n",
    "# sortして重複行を連続させる > uniq -c で出現回数を出力 > 出現回数でsort"
   ]
  },
  {
   "cell_type": "code",
   "execution_count": null,
   "metadata": {},
   "outputs": [],
   "source": []
  }
 ],
 "metadata": {
  "colab": {
   "authorship_tag": "ABX9TyPzBO7R0DOAzZ/e2cwqgl9x",
   "collapsed_sections": [],
   "name": "10-19_20210310.ipynb",
   "provenance": []
  },
  "kernelspec": {
   "display_name": "Python 3 (ipykernel)",
   "language": "python",
   "name": "python3"
  },
  "language_info": {
   "codemirror_mode": {
    "name": "ipython",
    "version": 3
   },
   "file_extension": ".py",
   "mimetype": "text/x-python",
   "name": "python",
   "nbconvert_exporter": "python",
   "pygments_lexer": "ipython3",
   "version": "3.9.7"
  }
 },
 "nbformat": 4,
 "nbformat_minor": 4
}
